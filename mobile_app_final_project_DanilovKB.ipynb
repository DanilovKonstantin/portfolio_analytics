{
 "cells": [
  {
   "cell_type": "markdown",
   "id": "fc75cc10",
   "metadata": {},
   "source": [
    "# Searching for directions for development of the \"unnecessary things\" application"
   ]
  },
  {
   "cell_type": "markdown",
   "id": "782499c7",
   "metadata": {},
   "source": [
    "1. [Open data](#start)\n",
    "2. [Preprocessing ](#preprocessing)\n",
    "    *[2.1 delete duplicates](#del_dublicates)\n",
    "    *[2.2 cheking for gaps](#gap)\n",
    "    *[2.3 if possible, correct or remove gaps](#del_gap)\n",
    "    *[2.4 merge all type search](#search)\n",
    "    *[2.5 merge contacts_show and show_contacts](#contacts_show)\n",
    "    *[2.6 check the composition for compliance with the description](#chek)\n",
    "3. [User behavior research](#research)\n",
    "    *[3.1 retention rate research](#retention)\n",
    "    *[3.2 research time spent in the application ](#time)\n",
    "    *[3.3 research of action frequency](#frequency)\n",
    "    *[3.4  research of conversion to target action — view contacts](#conversion)\n",
    "    *[Conclusions about general user behavior](#fist_conclusion)\n",
    "4. [Segmentation by day of the week](#segment)\n",
    "5. [For each group, calculate metrics:]\n",
    "     *[retention rate](#retantion_segment)\n",
    "     *[conversion to target action — view contacts](#conversion_segment)\n",
    "     *[Conclusions about groups](#second_conclusion)\n",
    "6. [Statistical hypothesis testing](#hypotheses)\n",
    "     *[conversion on weekends is equal to conversion on weekdays]\n",
    "7. [Conclusion](#general_conclusion)\n",
    "\n",
    "\n"
   ]
  },
  {
   "cell_type": "markdown",
   "id": "df36a541",
   "metadata": {},
   "source": [
    "*[Presentation].(https://disk.yandex.ru/i/d4OAn2wlO2AK_Q)"
   ]
  },
  {
   "cell_type": "code",
   "execution_count": 1,
   "id": "ba81132e",
   "metadata": {},
   "outputs": [],
   "source": [
    "\n",
    "import pandas as pd #  importing the pandas library\n",
    "import datetime as dt #  importing the data and time library\n",
    "import numpy as np #  importing the numpy library\n",
    "import matplotlib.pyplot as plt #  importing library for plotting grafs\n",
    "import scipy.stats as stats #  importing  library for statistic research\n",
    "#import scipy.stats as st\n",
    "from statsmodels.stats.proportion import proportions_ztest\n",
    "import math as mth# importing the math library\n",
    "from time import strftime # importing the time library\n",
    "import seaborn as sns # importing the seaborn library for quick plotting"
   ]
  },
  {
   "cell_type": "markdown",
   "id": "903e177b",
   "metadata": {},
   "source": [
    "##  Open the data file and review the general information. <a id=\"start\"></a> "
   ]
  },
  {
   "cell_type": "code",
   "execution_count": 2,
   "id": "45fe5633",
   "metadata": {},
   "outputs": [],
   "source": [
    "#загружаем данные\n",
    "try:\n",
    "    data = pd.read_csv('https:/.../mobile_dataset.csv') # open net link\n",
    "except:\n",
    "    data = pd.read_csv('mobile_dataset.csv', sep=',') #open local file\n"
   ]
  },
  {
   "cell_type": "code",
   "execution_count": 3,
   "id": "fc7fd510",
   "metadata": {},
   "outputs": [
    {
     "name": "stdout",
     "output_type": "stream",
     "text": [
      "<class 'pandas.core.frame.DataFrame'>\n",
      "RangeIndex: 74197 entries, 0 to 74196\n",
      "Data columns (total 3 columns):\n",
      " #   Column      Non-Null Count  Dtype \n",
      "---  ------      --------------  ----- \n",
      " 0   event.time  74197 non-null  object\n",
      " 1   event.name  74197 non-null  object\n",
      " 2   user.id     74197 non-null  object\n",
      "dtypes: object(3)\n",
      "memory usage: 1.7+ MB\n"
     ]
    }
   ],
   "source": [
    "data.info() # show gaeneral information"
   ]
  },
  {
   "cell_type": "code",
   "execution_count": 4,
   "id": "04af73d7",
   "metadata": {},
   "outputs": [
    {
     "data": {
      "text/html": [
       "<div>\n",
       "<style scoped>\n",
       "    .dataframe tbody tr th:only-of-type {\n",
       "        vertical-align: middle;\n",
       "    }\n",
       "\n",
       "    .dataframe tbody tr th {\n",
       "        vertical-align: top;\n",
       "    }\n",
       "\n",
       "    .dataframe thead th {\n",
       "        text-align: right;\n",
       "    }\n",
       "</style>\n",
       "<table border=\"1\" class=\"dataframe\">\n",
       "  <thead>\n",
       "    <tr style=\"text-align: right;\">\n",
       "      <th></th>\n",
       "      <th>event.time</th>\n",
       "      <th>event.name</th>\n",
       "      <th>user.id</th>\n",
       "    </tr>\n",
       "  </thead>\n",
       "  <tbody>\n",
       "    <tr>\n",
       "      <th>0</th>\n",
       "      <td>2019-10-07 00:00:00.431357</td>\n",
       "      <td>advert_open</td>\n",
       "      <td>020292ab-89bc-4156-9acf-68bc2783f894</td>\n",
       "    </tr>\n",
       "    <tr>\n",
       "      <th>1</th>\n",
       "      <td>2019-10-07 00:00:01.236320</td>\n",
       "      <td>tips_show</td>\n",
       "      <td>020292ab-89bc-4156-9acf-68bc2783f894</td>\n",
       "    </tr>\n",
       "    <tr>\n",
       "      <th>2</th>\n",
       "      <td>2019-10-07 00:00:02.245341</td>\n",
       "      <td>tips_show</td>\n",
       "      <td>cf7eda61-9349-469f-ac27-e5b6f5ec475c</td>\n",
       "    </tr>\n",
       "    <tr>\n",
       "      <th>3</th>\n",
       "      <td>2019-10-07 00:00:07.039334</td>\n",
       "      <td>tips_show</td>\n",
       "      <td>020292ab-89bc-4156-9acf-68bc2783f894</td>\n",
       "    </tr>\n",
       "    <tr>\n",
       "      <th>4</th>\n",
       "      <td>2019-10-07 00:00:56.319813</td>\n",
       "      <td>advert_open</td>\n",
       "      <td>cf7eda61-9349-469f-ac27-e5b6f5ec475c</td>\n",
       "    </tr>\n",
       "  </tbody>\n",
       "</table>\n",
       "</div>"
      ],
      "text/plain": [
       "                   event.time   event.name  \\\n",
       "0  2019-10-07 00:00:00.431357  advert_open   \n",
       "1  2019-10-07 00:00:01.236320    tips_show   \n",
       "2  2019-10-07 00:00:02.245341    tips_show   \n",
       "3  2019-10-07 00:00:07.039334    tips_show   \n",
       "4  2019-10-07 00:00:56.319813  advert_open   \n",
       "\n",
       "                                user.id  \n",
       "0  020292ab-89bc-4156-9acf-68bc2783f894  \n",
       "1  020292ab-89bc-4156-9acf-68bc2783f894  \n",
       "2  cf7eda61-9349-469f-ac27-e5b6f5ec475c  \n",
       "3  020292ab-89bc-4156-9acf-68bc2783f894  \n",
       "4  cf7eda61-9349-469f-ac27-e5b6f5ec475c  "
      ]
     },
     "execution_count": 4,
     "metadata": {},
     "output_type": "execute_result"
    }
   ],
   "source": [
    "data.head() #show top 5 lines"
   ]
  },
  {
   "cell_type": "code",
   "execution_count": 5,
   "id": "504dd713",
   "metadata": {},
   "outputs": [
    {
     "name": "stdout",
     "output_type": "stream",
     "text": [
      "<class 'pandas.core.frame.DataFrame'>\n",
      "RangeIndex: 4293 entries, 0 to 4292\n",
      "Data columns (total 2 columns):\n",
      " #   Column  Non-Null Count  Dtype \n",
      "---  ------  --------------  ----- \n",
      " 0   userId  4293 non-null   object\n",
      " 1   source  4293 non-null   object\n",
      "dtypes: object(2)\n",
      "memory usage: 67.2+ KB\n"
     ]
    }
   ],
   "source": [
    "try:\n",
    "    sources = pd.read_csv('https:// ... ')\n",
    "except:\n",
    "    sources = pd.read_csv('mobile_soures.csv')\n",
    "sources.info()"
   ]
  },
  {
   "cell_type": "code",
   "execution_count": 6,
   "id": "fcd9ece8",
   "metadata": {
    "scrolled": true
   },
   "outputs": [
    {
     "data": {
      "text/html": [
       "<div>\n",
       "<style scoped>\n",
       "    .dataframe tbody tr th:only-of-type {\n",
       "        vertical-align: middle;\n",
       "    }\n",
       "\n",
       "    .dataframe tbody tr th {\n",
       "        vertical-align: top;\n",
       "    }\n",
       "\n",
       "    .dataframe thead th {\n",
       "        text-align: right;\n",
       "    }\n",
       "</style>\n",
       "<table border=\"1\" class=\"dataframe\">\n",
       "  <thead>\n",
       "    <tr style=\"text-align: right;\">\n",
       "      <th></th>\n",
       "      <th>userId</th>\n",
       "      <th>source</th>\n",
       "    </tr>\n",
       "  </thead>\n",
       "  <tbody>\n",
       "    <tr>\n",
       "      <th>0</th>\n",
       "      <td>020292ab-89bc-4156-9acf-68bc2783f894</td>\n",
       "      <td>other</td>\n",
       "    </tr>\n",
       "    <tr>\n",
       "      <th>1</th>\n",
       "      <td>cf7eda61-9349-469f-ac27-e5b6f5ec475c</td>\n",
       "      <td>yandex</td>\n",
       "    </tr>\n",
       "    <tr>\n",
       "      <th>2</th>\n",
       "      <td>8c356c42-3ba9-4cb6-80b8-3f868d0192c3</td>\n",
       "      <td>yandex</td>\n",
       "    </tr>\n",
       "    <tr>\n",
       "      <th>3</th>\n",
       "      <td>d9b06b47-0f36-419b-bbb0-3533e582a6cb</td>\n",
       "      <td>other</td>\n",
       "    </tr>\n",
       "    <tr>\n",
       "      <th>4</th>\n",
       "      <td>f32e1e2a-3027-4693-b793-b7b3ff274439</td>\n",
       "      <td>google</td>\n",
       "    </tr>\n",
       "  </tbody>\n",
       "</table>\n",
       "</div>"
      ],
      "text/plain": [
       "                                 userId  source\n",
       "0  020292ab-89bc-4156-9acf-68bc2783f894   other\n",
       "1  cf7eda61-9349-469f-ac27-e5b6f5ec475c  yandex\n",
       "2  8c356c42-3ba9-4cb6-80b8-3f868d0192c3  yandex\n",
       "3  d9b06b47-0f36-419b-bbb0-3533e582a6cb   other\n",
       "4  f32e1e2a-3027-4693-b793-b7b3ff274439  google"
      ]
     },
     "execution_count": 6,
     "metadata": {},
     "output_type": "execute_result"
    }
   ],
   "source": [
    "sources.head() #show top 5 lines\n"
   ]
  },
  {
   "cell_type": "markdown",
   "id": "44725e99",
   "metadata": {},
   "source": [
    "## 2. Preprocessing <a id=\"preprocessing\"></a> "
   ]
  },
  {
   "cell_type": "code",
   "execution_count": 7,
   "id": "4a02a69f",
   "metadata": {},
   "outputs": [
    {
     "data": {
      "text/html": [
       "<div>\n",
       "<style scoped>\n",
       "    .dataframe tbody tr th:only-of-type {\n",
       "        vertical-align: middle;\n",
       "    }\n",
       "\n",
       "    .dataframe tbody tr th {\n",
       "        vertical-align: top;\n",
       "    }\n",
       "\n",
       "    .dataframe thead th {\n",
       "        text-align: right;\n",
       "    }\n",
       "</style>\n",
       "<table border=\"1\" class=\"dataframe\">\n",
       "  <thead>\n",
       "    <tr style=\"text-align: right;\">\n",
       "      <th></th>\n",
       "      <th>time</th>\n",
       "      <th>event</th>\n",
       "      <th>id</th>\n",
       "    </tr>\n",
       "  </thead>\n",
       "  <tbody>\n",
       "    <tr>\n",
       "      <th>0</th>\n",
       "      <td>2019-10-07 00:00:00.431357</td>\n",
       "      <td>advert_open</td>\n",
       "      <td>020292ab-89bc-4156-9acf-68bc2783f894</td>\n",
       "    </tr>\n",
       "    <tr>\n",
       "      <th>1</th>\n",
       "      <td>2019-10-07 00:00:01.236320</td>\n",
       "      <td>tips_show</td>\n",
       "      <td>020292ab-89bc-4156-9acf-68bc2783f894</td>\n",
       "    </tr>\n",
       "    <tr>\n",
       "      <th>2</th>\n",
       "      <td>2019-10-07 00:00:02.245341</td>\n",
       "      <td>tips_show</td>\n",
       "      <td>cf7eda61-9349-469f-ac27-e5b6f5ec475c</td>\n",
       "    </tr>\n",
       "    <tr>\n",
       "      <th>3</th>\n",
       "      <td>2019-10-07 00:00:07.039334</td>\n",
       "      <td>tips_show</td>\n",
       "      <td>020292ab-89bc-4156-9acf-68bc2783f894</td>\n",
       "    </tr>\n",
       "    <tr>\n",
       "      <th>4</th>\n",
       "      <td>2019-10-07 00:00:56.319813</td>\n",
       "      <td>advert_open</td>\n",
       "      <td>cf7eda61-9349-469f-ac27-e5b6f5ec475c</td>\n",
       "    </tr>\n",
       "  </tbody>\n",
       "</table>\n",
       "</div>"
      ],
      "text/plain": [
       "                         time        event  \\\n",
       "0  2019-10-07 00:00:00.431357  advert_open   \n",
       "1  2019-10-07 00:00:01.236320    tips_show   \n",
       "2  2019-10-07 00:00:02.245341    tips_show   \n",
       "3  2019-10-07 00:00:07.039334    tips_show   \n",
       "4  2019-10-07 00:00:56.319813  advert_open   \n",
       "\n",
       "                                     id  \n",
       "0  020292ab-89bc-4156-9acf-68bc2783f894  \n",
       "1  020292ab-89bc-4156-9acf-68bc2783f894  \n",
       "2  cf7eda61-9349-469f-ac27-e5b6f5ec475c  \n",
       "3  020292ab-89bc-4156-9acf-68bc2783f894  \n",
       "4  cf7eda61-9349-469f-ac27-e5b6f5ec475c  "
      ]
     },
     "execution_count": 7,
     "metadata": {},
     "output_type": "execute_result"
    }
   ],
   "source": [
    "# rename the column names to simpler ones\n",
    "data.columns = ['time', 'event', 'id']\n",
    "data.head()"
   ]
  },
  {
   "cell_type": "code",
   "execution_count": 8,
   "id": "4d7414f7",
   "metadata": {},
   "outputs": [
    {
     "data": {
      "text/html": [
       "<div>\n",
       "<style scoped>\n",
       "    .dataframe tbody tr th:only-of-type {\n",
       "        vertical-align: middle;\n",
       "    }\n",
       "\n",
       "    .dataframe tbody tr th {\n",
       "        vertical-align: top;\n",
       "    }\n",
       "\n",
       "    .dataframe thead th {\n",
       "        text-align: right;\n",
       "    }\n",
       "</style>\n",
       "<table border=\"1\" class=\"dataframe\">\n",
       "  <thead>\n",
       "    <tr style=\"text-align: right;\">\n",
       "      <th></th>\n",
       "      <th>id</th>\n",
       "      <th>source</th>\n",
       "    </tr>\n",
       "  </thead>\n",
       "  <tbody>\n",
       "    <tr>\n",
       "      <th>0</th>\n",
       "      <td>020292ab-89bc-4156-9acf-68bc2783f894</td>\n",
       "      <td>other</td>\n",
       "    </tr>\n",
       "    <tr>\n",
       "      <th>1</th>\n",
       "      <td>cf7eda61-9349-469f-ac27-e5b6f5ec475c</td>\n",
       "      <td>yandex</td>\n",
       "    </tr>\n",
       "    <tr>\n",
       "      <th>2</th>\n",
       "      <td>8c356c42-3ba9-4cb6-80b8-3f868d0192c3</td>\n",
       "      <td>yandex</td>\n",
       "    </tr>\n",
       "    <tr>\n",
       "      <th>3</th>\n",
       "      <td>d9b06b47-0f36-419b-bbb0-3533e582a6cb</td>\n",
       "      <td>other</td>\n",
       "    </tr>\n",
       "    <tr>\n",
       "      <th>4</th>\n",
       "      <td>f32e1e2a-3027-4693-b793-b7b3ff274439</td>\n",
       "      <td>google</td>\n",
       "    </tr>\n",
       "  </tbody>\n",
       "</table>\n",
       "</div>"
      ],
      "text/plain": [
       "                                     id  source\n",
       "0  020292ab-89bc-4156-9acf-68bc2783f894   other\n",
       "1  cf7eda61-9349-469f-ac27-e5b6f5ec475c  yandex\n",
       "2  8c356c42-3ba9-4cb6-80b8-3f868d0192c3  yandex\n",
       "3  d9b06b47-0f36-419b-bbb0-3533e582a6cb   other\n",
       "4  f32e1e2a-3027-4693-b793-b7b3ff274439  google"
      ]
     },
     "execution_count": 8,
     "metadata": {},
     "output_type": "execute_result"
    }
   ],
   "source": [
    "# rename the column names to simpler ones\n",
    "sources.columns = ['id','source']\n",
    "sources.head()"
   ]
  },
  {
   "cell_type": "code",
   "execution_count": 9,
   "id": "6218dbc4",
   "metadata": {},
   "outputs": [
    {
     "data": {
      "text/html": [
       "<div>\n",
       "<style scoped>\n",
       "    .dataframe tbody tr th:only-of-type {\n",
       "        vertical-align: middle;\n",
       "    }\n",
       "\n",
       "    .dataframe tbody tr th {\n",
       "        vertical-align: top;\n",
       "    }\n",
       "\n",
       "    .dataframe thead th {\n",
       "        text-align: right;\n",
       "    }\n",
       "</style>\n",
       "<table border=\"1\" class=\"dataframe\">\n",
       "  <thead>\n",
       "    <tr style=\"text-align: right;\">\n",
       "      <th></th>\n",
       "      <th>time</th>\n",
       "      <th>event</th>\n",
       "      <th>id</th>\n",
       "    </tr>\n",
       "  </thead>\n",
       "  <tbody>\n",
       "    <tr>\n",
       "      <th>count</th>\n",
       "      <td>74197</td>\n",
       "      <td>74197</td>\n",
       "      <td>74197</td>\n",
       "    </tr>\n",
       "    <tr>\n",
       "      <th>unique</th>\n",
       "      <td>74197</td>\n",
       "      <td>16</td>\n",
       "      <td>4293</td>\n",
       "    </tr>\n",
       "    <tr>\n",
       "      <th>top</th>\n",
       "      <td>2019-10-07 00:00:00.431357</td>\n",
       "      <td>tips_show</td>\n",
       "      <td>cb36854f-570a-41f4-baa8-36680b396370</td>\n",
       "    </tr>\n",
       "    <tr>\n",
       "      <th>freq</th>\n",
       "      <td>1</td>\n",
       "      <td>40055</td>\n",
       "      <td>478</td>\n",
       "    </tr>\n",
       "  </tbody>\n",
       "</table>\n",
       "</div>"
      ],
      "text/plain": [
       "                              time      event  \\\n",
       "count                        74197      74197   \n",
       "unique                       74197         16   \n",
       "top     2019-10-07 00:00:00.431357  tips_show   \n",
       "freq                             1      40055   \n",
       "\n",
       "                                          id  \n",
       "count                                  74197  \n",
       "unique                                  4293  \n",
       "top     cb36854f-570a-41f4-baa8-36680b396370  \n",
       "freq                                     478  "
      ]
     },
     "execution_count": 9,
     "metadata": {},
     "output_type": "execute_result"
    }
   ],
   "source": [
    "#composition of the tdata\n",
    "data.describe()"
   ]
  },
  {
   "cell_type": "code",
   "execution_count": 10,
   "id": "b88ec193",
   "metadata": {},
   "outputs": [
    {
     "data": {
      "text/html": [
       "<div>\n",
       "<style scoped>\n",
       "    .dataframe tbody tr th:only-of-type {\n",
       "        vertical-align: middle;\n",
       "    }\n",
       "\n",
       "    .dataframe tbody tr th {\n",
       "        vertical-align: top;\n",
       "    }\n",
       "\n",
       "    .dataframe thead th {\n",
       "        text-align: right;\n",
       "    }\n",
       "</style>\n",
       "<table border=\"1\" class=\"dataframe\">\n",
       "  <thead>\n",
       "    <tr style=\"text-align: right;\">\n",
       "      <th></th>\n",
       "      <th>id</th>\n",
       "      <th>source</th>\n",
       "    </tr>\n",
       "  </thead>\n",
       "  <tbody>\n",
       "    <tr>\n",
       "      <th>count</th>\n",
       "      <td>4293</td>\n",
       "      <td>4293</td>\n",
       "    </tr>\n",
       "    <tr>\n",
       "      <th>unique</th>\n",
       "      <td>4293</td>\n",
       "      <td>3</td>\n",
       "    </tr>\n",
       "    <tr>\n",
       "      <th>top</th>\n",
       "      <td>020292ab-89bc-4156-9acf-68bc2783f894</td>\n",
       "      <td>yandex</td>\n",
       "    </tr>\n",
       "    <tr>\n",
       "      <th>freq</th>\n",
       "      <td>1</td>\n",
       "      <td>1934</td>\n",
       "    </tr>\n",
       "  </tbody>\n",
       "</table>\n",
       "</div>"
      ],
      "text/plain": [
       "                                          id  source\n",
       "count                                   4293    4293\n",
       "unique                                  4293       3\n",
       "top     020292ab-89bc-4156-9acf-68bc2783f894  yandex\n",
       "freq                                       1    1934"
      ]
     },
     "execution_count": 10,
     "metadata": {},
     "output_type": "execute_result"
    }
   ],
   "source": [
    "#composition of the sources\n",
    "sources.describe()"
   ]
  },
  {
   "cell_type": "code",
   "execution_count": 11,
   "id": "15e312b3",
   "metadata": {},
   "outputs": [
    {
     "name": "stdout",
     "output_type": "stream",
     "text": [
      "<class 'pandas.core.frame.DataFrame'>\n",
      "RangeIndex: 74197 entries, 0 to 74196\n",
      "Data columns (total 3 columns):\n",
      " #   Column  Non-Null Count  Dtype         \n",
      "---  ------  --------------  -----         \n",
      " 0   time    74197 non-null  datetime64[ns]\n",
      " 1   event   74197 non-null  object        \n",
      " 2   id      74197 non-null  object        \n",
      "dtypes: datetime64[ns](1), object(2)\n",
      "memory usage: 1.7+ MB\n"
     ]
    }
   ],
   "source": [
    "# change format of columns time to datetime поменяем формат солбца времени на datetime\n",
    "data['time'] = pd.to_datetime(data['time'])\n",
    "data.info()"
   ]
  },
  {
   "cell_type": "code",
   "execution_count": 12,
   "id": "037ddf1e",
   "metadata": {},
   "outputs": [
    {
     "data": {
      "text/plain": [
       "Timestamp('2019-11-03 23:58:12.532487')"
      ]
     },
     "execution_count": 12,
     "metadata": {},
     "output_type": "execute_result"
    }
   ],
   "source": [
    "# max time\n",
    "data['time'].max()"
   ]
  },
  {
   "cell_type": "code",
   "execution_count": 13,
   "id": "b0aafaba",
   "metadata": {},
   "outputs": [
    {
     "data": {
      "text/plain": [
       "Timestamp('2019-10-07 00:00:00.431357')"
      ]
     },
     "execution_count": 13,
     "metadata": {},
     "output_type": "execute_result"
    }
   ],
   "source": [
    "# min time\n",
    "data['time'].min()"
   ]
  },
  {
   "cell_type": "markdown",
   "id": "29d0b714",
   "metadata": {},
   "source": [
    "Most likely there are no gaps. The number of ids in both files is the same. The dataset contains data for the period from 7.10 to 3.11"
   ]
  },
  {
   "cell_type": "markdown",
   "id": "cf593321",
   "metadata": {},
   "source": [
    "### 2.1 dell duplicates <a id=\"del_dublicates\"></a> "
   ]
  },
  {
   "cell_type": "code",
   "execution_count": 14,
   "id": "dcca8858",
   "metadata": {},
   "outputs": [],
   "source": [
    "data['event'] = data['event'].str.lower() # change register to lower"
   ]
  },
  {
   "cell_type": "code",
   "execution_count": 15,
   "id": "5883611f",
   "metadata": {},
   "outputs": [
    {
     "data": {
      "text/plain": [
       "0"
      ]
     },
     "execution_count": 15,
     "metadata": {},
     "output_type": "execute_result"
    }
   ],
   "source": [
    "# cheking for duplicates in data\n",
    "data.duplicated().sum()"
   ]
  },
  {
   "cell_type": "code",
   "execution_count": 16,
   "id": "27df9127",
   "metadata": {},
   "outputs": [
    {
     "data": {
      "text/plain": [
       "0"
      ]
     },
     "execution_count": 16,
     "metadata": {},
     "output_type": "execute_result"
    }
   ],
   "source": [
    "# cheking for duplicates in sources\n",
    "sources.duplicated().sum()"
   ]
  },
  {
   "cell_type": "markdown",
   "id": "8ea8a73b",
   "metadata": {},
   "source": [
    "There are no gaps"
   ]
  },
  {
   "cell_type": "markdown",
   "id": "ec1684d0",
   "metadata": {},
   "source": [
    "### 2.2 cheking for the gaps and null<a id=\"gap\"></a> "
   ]
  },
  {
   "cell_type": "code",
   "execution_count": 17,
   "id": "4d5232ed",
   "metadata": {},
   "outputs": [
    {
     "data": {
      "text/plain": [
       "time     0\n",
       "event    0\n",
       "id       0\n",
       "dtype: int64"
      ]
     },
     "execution_count": 17,
     "metadata": {},
     "output_type": "execute_result"
    }
   ],
   "source": [
    "data.isna().sum() #cheking for gaps in data"
   ]
  },
  {
   "cell_type": "code",
   "execution_count": 18,
   "id": "c29267a0",
   "metadata": {},
   "outputs": [
    {
     "data": {
      "text/plain": [
       "id        0\n",
       "source    0\n",
       "dtype: int64"
      ]
     },
     "execution_count": 18,
     "metadata": {},
     "output_type": "execute_result"
    }
   ],
   "source": [
    "sources.isna().sum() #cheking for gaps in sources"
   ]
  },
  {
   "cell_type": "code",
   "execution_count": 19,
   "id": "a2fff3d0",
   "metadata": {},
   "outputs": [
    {
     "data": {
      "text/plain": [
       "time     0\n",
       "event    0\n",
       "id       0\n",
       "dtype: int64"
      ]
     },
     "execution_count": 19,
     "metadata": {},
     "output_type": "execute_result"
    }
   ],
   "source": [
    "#cheking for null in data\n",
    "data.isnull().sum()"
   ]
  },
  {
   "cell_type": "code",
   "execution_count": 20,
   "id": "eecfbc68",
   "metadata": {},
   "outputs": [
    {
     "data": {
      "text/plain": [
       "id        0\n",
       "source    0\n",
       "dtype: int64"
      ]
     },
     "execution_count": 20,
     "metadata": {},
     "output_type": "execute_result"
    }
   ],
   "source": [
    "#cheking for null in sources\n",
    "sources.isnull().sum()"
   ]
  },
  {
   "cell_type": "markdown",
   "id": "605e5c94",
   "metadata": {},
   "source": [
    "There are no gaps and null"
   ]
  },
  {
   "cell_type": "markdown",
   "id": "7de4da62",
   "metadata": {},
   "source": [
    "### 2.3 If possible, we will correct or remove gaps<a id=\"del_gap\"></a> "
   ]
  },
  {
   "cell_type": "markdown",
   "id": "89070f0c",
   "metadata": {},
   "source": [
    "### 2.4 merge all search<a id=\"search\"></a> "
   ]
  },
  {
   "cell_type": "code",
   "execution_count": 21,
   "id": "f4b2f85b",
   "metadata": {},
   "outputs": [],
   "source": [
    "data['event'] = data['event'].replace(regex=['search_\\d'], value='search')"
   ]
  },
  {
   "cell_type": "markdown",
   "id": "a4c01b47",
   "metadata": {},
   "source": [
    "### 2.5 merge contacts_show и show_contacts<a id=\"contacts_show\"></a> "
   ]
  },
  {
   "cell_type": "code",
   "execution_count": 22,
   "id": "08c241c2",
   "metadata": {},
   "outputs": [],
   "source": [
    "data['event'] = data['event'].replace('show_contacts', 'contacts_show')"
   ]
  },
  {
   "cell_type": "markdown",
   "id": "9a7dd0a1",
   "metadata": {},
   "source": [
    "### 2.6 check the composition for compliance with the description<a id=\"chek\"></a> "
   ]
  },
  {
   "cell_type": "code",
   "execution_count": 23,
   "id": "bccd01b8",
   "metadata": {},
   "outputs": [
    {
     "data": {
      "text/plain": [
       "array(['advert_open', 'tips_show', 'map', 'contacts_show', 'search',\n",
       "       'tips_click', 'photos_show', 'favorites_add', 'contacts_call'],\n",
       "      dtype=object)"
      ]
     },
     "execution_count": 23,
     "metadata": {},
     "output_type": "execute_result"
    }
   ],
   "source": [
    "#show unique events\n",
    "data['event'].unique()"
   ]
  },
  {
   "cell_type": "code",
   "execution_count": 24,
   "id": "e9066018",
   "metadata": {},
   "outputs": [
    {
     "data": {
      "text/plain": [
       "array(['other', 'yandex', 'google'], dtype=object)"
      ]
     },
     "execution_count": 24,
     "metadata": {},
     "output_type": "execute_result"
    }
   ],
   "source": [
    "#how uique sources\n",
    "sources['source'].unique()"
   ]
  },
  {
   "cell_type": "markdown",
   "id": "ba5f658f",
   "metadata": {},
   "source": [
    "data corresponds to description"
   ]
  },
  {
   "cell_type": "markdown",
   "id": "7d293609",
   "metadata": {},
   "source": [
    "## 3. User behavior research<a id=\"research\"></a> "
   ]
  },
  {
   "cell_type": "markdown",
   "id": "b3c7bcbe",
   "metadata": {},
   "source": [
    "### 3.1 retention rate researche <a id=\"retention\"></a>"
   ]
  },
  {
   "cell_type": "code",
   "execution_count": 25,
   "id": "69542a77",
   "metadata": {},
   "outputs": [
    {
     "data": {
      "text/html": [
       "<div>\n",
       "<style scoped>\n",
       "    .dataframe tbody tr th:only-of-type {\n",
       "        vertical-align: middle;\n",
       "    }\n",
       "\n",
       "    .dataframe tbody tr th {\n",
       "        vertical-align: top;\n",
       "    }\n",
       "\n",
       "    .dataframe thead th {\n",
       "        text-align: right;\n",
       "    }\n",
       "</style>\n",
       "<table border=\"1\" class=\"dataframe\">\n",
       "  <thead>\n",
       "    <tr style=\"text-align: right;\">\n",
       "      <th></th>\n",
       "      <th>time</th>\n",
       "      <th>event</th>\n",
       "      <th>id</th>\n",
       "    </tr>\n",
       "  </thead>\n",
       "  <tbody>\n",
       "    <tr>\n",
       "      <th>805</th>\n",
       "      <td>2019-10-07 13:39:45.989359</td>\n",
       "      <td>tips_show</td>\n",
       "      <td>0001b1d5-b74a-4cbf-aeb0-7df5947bf349</td>\n",
       "    </tr>\n",
       "    <tr>\n",
       "      <th>806</th>\n",
       "      <td>2019-10-07 13:40:31.052909</td>\n",
       "      <td>tips_show</td>\n",
       "      <td>0001b1d5-b74a-4cbf-aeb0-7df5947bf349</td>\n",
       "    </tr>\n",
       "    <tr>\n",
       "      <th>809</th>\n",
       "      <td>2019-10-07 13:41:05.722489</td>\n",
       "      <td>tips_show</td>\n",
       "      <td>0001b1d5-b74a-4cbf-aeb0-7df5947bf349</td>\n",
       "    </tr>\n",
       "    <tr>\n",
       "      <th>820</th>\n",
       "      <td>2019-10-07 13:43:20.735461</td>\n",
       "      <td>tips_show</td>\n",
       "      <td>0001b1d5-b74a-4cbf-aeb0-7df5947bf349</td>\n",
       "    </tr>\n",
       "    <tr>\n",
       "      <th>830</th>\n",
       "      <td>2019-10-07 13:45:30.917502</td>\n",
       "      <td>tips_show</td>\n",
       "      <td>0001b1d5-b74a-4cbf-aeb0-7df5947bf349</td>\n",
       "    </tr>\n",
       "  </tbody>\n",
       "</table>\n",
       "</div>"
      ],
      "text/plain": [
       "                          time      event  \\\n",
       "805 2019-10-07 13:39:45.989359  tips_show   \n",
       "806 2019-10-07 13:40:31.052909  tips_show   \n",
       "809 2019-10-07 13:41:05.722489  tips_show   \n",
       "820 2019-10-07 13:43:20.735461  tips_show   \n",
       "830 2019-10-07 13:45:30.917502  tips_show   \n",
       "\n",
       "                                       id  \n",
       "805  0001b1d5-b74a-4cbf-aeb0-7df5947bf349  \n",
       "806  0001b1d5-b74a-4cbf-aeb0-7df5947bf349  \n",
       "809  0001b1d5-b74a-4cbf-aeb0-7df5947bf349  \n",
       "820  0001b1d5-b74a-4cbf-aeb0-7df5947bf349  \n",
       "830  0001b1d5-b74a-4cbf-aeb0-7df5947bf349  "
      ]
     },
     "execution_count": 25,
     "metadata": {},
     "output_type": "execute_result"
    }
   ],
   "source": [
    "data = data.sort_values(['id', 'time']) # sort data on id and time\n",
    "data.head()"
   ]
  },
  {
   "cell_type": "code",
   "execution_count": 26,
   "id": "635c6408",
   "metadata": {},
   "outputs": [
    {
     "data": {
      "text/html": [
       "<div>\n",
       "<style scoped>\n",
       "    .dataframe tbody tr th:only-of-type {\n",
       "        vertical-align: middle;\n",
       "    }\n",
       "\n",
       "    .dataframe tbody tr th {\n",
       "        vertical-align: top;\n",
       "    }\n",
       "\n",
       "    .dataframe thead th {\n",
       "        text-align: right;\n",
       "    }\n",
       "</style>\n",
       "<table border=\"1\" class=\"dataframe\">\n",
       "  <thead>\n",
       "    <tr style=\"text-align: right;\">\n",
       "      <th></th>\n",
       "      <th>dif</th>\n",
       "    </tr>\n",
       "  </thead>\n",
       "  <tbody>\n",
       "    <tr>\n",
       "      <th>806</th>\n",
       "      <td>0 days 00:00:45.063550</td>\n",
       "    </tr>\n",
       "    <tr>\n",
       "      <th>809</th>\n",
       "      <td>0 days 00:00:34.669580</td>\n",
       "    </tr>\n",
       "    <tr>\n",
       "      <th>820</th>\n",
       "      <td>0 days 00:02:15.012972</td>\n",
       "    </tr>\n",
       "    <tr>\n",
       "      <th>830</th>\n",
       "      <td>0 days 00:02:10.182041</td>\n",
       "    </tr>\n",
       "    <tr>\n",
       "      <th>831</th>\n",
       "      <td>0 days 00:00:12.294838</td>\n",
       "    </tr>\n",
       "  </tbody>\n",
       "</table>\n",
       "</div>"
      ],
      "text/plain": [
       "                       dif\n",
       "806 0 days 00:00:45.063550\n",
       "809 0 days 00:00:34.669580\n",
       "820 0 days 00:02:15.012972\n",
       "830 0 days 00:02:10.182041\n",
       "831 0 days 00:00:12.294838"
      ]
     },
     "execution_count": 26,
     "metadata": {},
     "output_type": "execute_result"
    }
   ],
   "source": [
    "#time difference between actions in raw data\n",
    "dif = data.groupby('id')['time'].diff().to_frame (name='dif')\n",
    "\n",
    "dif = dif.iloc[1:] # show only data. first line is 0\n",
    "dif.head()"
   ]
  },
  {
   "cell_type": "code",
   "execution_count": 27,
   "id": "07eb433b",
   "metadata": {},
   "outputs": [
    {
     "data": {
      "text/html": [
       "<div>\n",
       "<style scoped>\n",
       "    .dataframe tbody tr th:only-of-type {\n",
       "        vertical-align: middle;\n",
       "    }\n",
       "\n",
       "    .dataframe tbody tr th {\n",
       "        vertical-align: top;\n",
       "    }\n",
       "\n",
       "    .dataframe thead th {\n",
       "        text-align: right;\n",
       "    }\n",
       "</style>\n",
       "<table border=\"1\" class=\"dataframe\">\n",
       "  <thead>\n",
       "    <tr style=\"text-align: right;\">\n",
       "      <th></th>\n",
       "      <th>dif</th>\n",
       "    </tr>\n",
       "  </thead>\n",
       "  <tbody>\n",
       "    <tr>\n",
       "      <th>count</th>\n",
       "      <td>69904</td>\n",
       "    </tr>\n",
       "    <tr>\n",
       "      <th>mean</th>\n",
       "      <td>0 days 03:53:01.169952121</td>\n",
       "    </tr>\n",
       "    <tr>\n",
       "      <th>std</th>\n",
       "      <td>1 days 01:32:57.259354294</td>\n",
       "    </tr>\n",
       "    <tr>\n",
       "      <th>min</th>\n",
       "      <td>0 days 00:00:00.000001</td>\n",
       "    </tr>\n",
       "    <tr>\n",
       "      <th>25%</th>\n",
       "      <td>0 days 00:00:23.594245250</td>\n",
       "    </tr>\n",
       "    <tr>\n",
       "      <th>50%</th>\n",
       "      <td>0 days 00:01:10.535313</td>\n",
       "    </tr>\n",
       "    <tr>\n",
       "      <th>75%</th>\n",
       "      <td>0 days 00:03:00.300498750</td>\n",
       "    </tr>\n",
       "    <tr>\n",
       "      <th>max</th>\n",
       "      <td>26 days 13:49:54.853516</td>\n",
       "    </tr>\n",
       "  </tbody>\n",
       "</table>\n",
       "</div>"
      ],
      "text/plain": [
       "                             dif\n",
       "count                      69904\n",
       "mean   0 days 03:53:01.169952121\n",
       "std    1 days 01:32:57.259354294\n",
       "min       0 days 00:00:00.000001\n",
       "25%    0 days 00:00:23.594245250\n",
       "50%       0 days 00:01:10.535313\n",
       "75%    0 days 00:03:00.300498750\n",
       "max      26 days 13:49:54.853516"
      ]
     },
     "execution_count": 27,
     "metadata": {},
     "output_type": "execute_result"
    }
   ],
   "source": [
    "dif.describe() # stat description by dif"
   ]
  },
  {
   "cell_type": "markdown",
   "id": "cd52afc7",
   "metadata": {},
   "source": [
    "<div class=\"alert alert-info\">  In raw data, the vast majority of actions will take about a minute. Moreover, the average period between actions is almost 4 hours. It can be assumed that the break between actions within sessions rarely exceeds 10 minutes. The true value lies somewhere between 10 minutes and 4 hours. For most situations, 30 minutes is probably correct. </div> "
   ]
  },
  {
   "cell_type": "code",
   "execution_count": 28,
   "id": "66acd7f9",
   "metadata": {},
   "outputs": [
    {
     "data": {
      "text/html": [
       "<div>\n",
       "<style scoped>\n",
       "    .dataframe tbody tr th:only-of-type {\n",
       "        vertical-align: middle;\n",
       "    }\n",
       "\n",
       "    .dataframe tbody tr th {\n",
       "        vertical-align: top;\n",
       "    }\n",
       "\n",
       "    .dataframe thead th {\n",
       "        text-align: right;\n",
       "    }\n",
       "</style>\n",
       "<table border=\"1\" class=\"dataframe\">\n",
       "  <thead>\n",
       "    <tr style=\"text-align: right;\">\n",
       "      <th></th>\n",
       "      <th>time</th>\n",
       "      <th>event</th>\n",
       "      <th>id</th>\n",
       "      <th>session_id</th>\n",
       "    </tr>\n",
       "  </thead>\n",
       "  <tbody>\n",
       "    <tr>\n",
       "      <th>805</th>\n",
       "      <td>2019-10-07 13:39:45.989359</td>\n",
       "      <td>tips_show</td>\n",
       "      <td>0001b1d5-b74a-4cbf-aeb0-7df5947bf349</td>\n",
       "      <td>1</td>\n",
       "    </tr>\n",
       "    <tr>\n",
       "      <th>806</th>\n",
       "      <td>2019-10-07 13:40:31.052909</td>\n",
       "      <td>tips_show</td>\n",
       "      <td>0001b1d5-b74a-4cbf-aeb0-7df5947bf349</td>\n",
       "      <td>1</td>\n",
       "    </tr>\n",
       "    <tr>\n",
       "      <th>809</th>\n",
       "      <td>2019-10-07 13:41:05.722489</td>\n",
       "      <td>tips_show</td>\n",
       "      <td>0001b1d5-b74a-4cbf-aeb0-7df5947bf349</td>\n",
       "      <td>1</td>\n",
       "    </tr>\n",
       "    <tr>\n",
       "      <th>820</th>\n",
       "      <td>2019-10-07 13:43:20.735461</td>\n",
       "      <td>tips_show</td>\n",
       "      <td>0001b1d5-b74a-4cbf-aeb0-7df5947bf349</td>\n",
       "      <td>1</td>\n",
       "    </tr>\n",
       "    <tr>\n",
       "      <th>830</th>\n",
       "      <td>2019-10-07 13:45:30.917502</td>\n",
       "      <td>tips_show</td>\n",
       "      <td>0001b1d5-b74a-4cbf-aeb0-7df5947bf349</td>\n",
       "      <td>1</td>\n",
       "    </tr>\n",
       "    <tr>\n",
       "      <th>...</th>\n",
       "      <td>...</td>\n",
       "      <td>...</td>\n",
       "      <td>...</td>\n",
       "      <td>...</td>\n",
       "    </tr>\n",
       "    <tr>\n",
       "      <th>72584</th>\n",
       "      <td>2019-11-03 15:51:23.959572</td>\n",
       "      <td>tips_show</td>\n",
       "      <td>fffb9e79-b927-4dbb-9b48-7fd09b23a62b</td>\n",
       "      <td>10368</td>\n",
       "    </tr>\n",
       "    <tr>\n",
       "      <th>72589</th>\n",
       "      <td>2019-11-03 15:51:57.899997</td>\n",
       "      <td>contacts_show</td>\n",
       "      <td>fffb9e79-b927-4dbb-9b48-7fd09b23a62b</td>\n",
       "      <td>10368</td>\n",
       "    </tr>\n",
       "    <tr>\n",
       "      <th>72684</th>\n",
       "      <td>2019-11-03 16:07:40.932077</td>\n",
       "      <td>tips_show</td>\n",
       "      <td>fffb9e79-b927-4dbb-9b48-7fd09b23a62b</td>\n",
       "      <td>10368</td>\n",
       "    </tr>\n",
       "    <tr>\n",
       "      <th>72688</th>\n",
       "      <td>2019-11-03 16:08:18.202734</td>\n",
       "      <td>tips_show</td>\n",
       "      <td>fffb9e79-b927-4dbb-9b48-7fd09b23a62b</td>\n",
       "      <td>10368</td>\n",
       "    </tr>\n",
       "    <tr>\n",
       "      <th>72689</th>\n",
       "      <td>2019-11-03 16:08:25.388712</td>\n",
       "      <td>tips_show</td>\n",
       "      <td>fffb9e79-b927-4dbb-9b48-7fd09b23a62b</td>\n",
       "      <td>10368</td>\n",
       "    </tr>\n",
       "  </tbody>\n",
       "</table>\n",
       "<p>74197 rows × 4 columns</p>\n",
       "</div>"
      ],
      "text/plain": [
       "                            time          event  \\\n",
       "805   2019-10-07 13:39:45.989359      tips_show   \n",
       "806   2019-10-07 13:40:31.052909      tips_show   \n",
       "809   2019-10-07 13:41:05.722489      tips_show   \n",
       "820   2019-10-07 13:43:20.735461      tips_show   \n",
       "830   2019-10-07 13:45:30.917502      tips_show   \n",
       "...                          ...            ...   \n",
       "72584 2019-11-03 15:51:23.959572      tips_show   \n",
       "72589 2019-11-03 15:51:57.899997  contacts_show   \n",
       "72684 2019-11-03 16:07:40.932077      tips_show   \n",
       "72688 2019-11-03 16:08:18.202734      tips_show   \n",
       "72689 2019-11-03 16:08:25.388712      tips_show   \n",
       "\n",
       "                                         id  session_id  \n",
       "805    0001b1d5-b74a-4cbf-aeb0-7df5947bf349           1  \n",
       "806    0001b1d5-b74a-4cbf-aeb0-7df5947bf349           1  \n",
       "809    0001b1d5-b74a-4cbf-aeb0-7df5947bf349           1  \n",
       "820    0001b1d5-b74a-4cbf-aeb0-7df5947bf349           1  \n",
       "830    0001b1d5-b74a-4cbf-aeb0-7df5947bf349           1  \n",
       "...                                     ...         ...  \n",
       "72584  fffb9e79-b927-4dbb-9b48-7fd09b23a62b       10368  \n",
       "72589  fffb9e79-b927-4dbb-9b48-7fd09b23a62b       10368  \n",
       "72684  fffb9e79-b927-4dbb-9b48-7fd09b23a62b       10368  \n",
       "72688  fffb9e79-b927-4dbb-9b48-7fd09b23a62b       10368  \n",
       "72689  fffb9e79-b927-4dbb-9b48-7fd09b23a62b       10368  \n",
       "\n",
       "[74197 rows x 4 columns]"
      ]
     },
     "execution_count": 28,
     "metadata": {},
     "output_type": "execute_result"
    }
   ],
   "source": [
    "# group the dataset  by users and time spent in the application with a difference of 30 minutes\n",
    "g = (data.groupby('id')['time'].diff() > pd.Timedelta('30Min')).cumsum()\n",
    "#create a column with the session ID\n",
    "data['session_id'] = data.groupby(['id', g], sort=False).ngroup() + 1\n",
    "data"
   ]
  },
  {
   "cell_type": "code",
   "execution_count": 29,
   "id": "8d188647",
   "metadata": {},
   "outputs": [
    {
     "data": {
      "text/html": [
       "<div>\n",
       "<style scoped>\n",
       "    .dataframe tbody tr th:only-of-type {\n",
       "        vertical-align: middle;\n",
       "    }\n",
       "\n",
       "    .dataframe tbody tr th {\n",
       "        vertical-align: top;\n",
       "    }\n",
       "\n",
       "    .dataframe thead th {\n",
       "        text-align: right;\n",
       "    }\n",
       "</style>\n",
       "<table border=\"1\" class=\"dataframe\">\n",
       "  <thead>\n",
       "    <tr style=\"text-align: right;\">\n",
       "      <th></th>\n",
       "      <th>id</th>\n",
       "      <th>signup</th>\n",
       "    </tr>\n",
       "  </thead>\n",
       "  <tbody>\n",
       "    <tr>\n",
       "      <th>0</th>\n",
       "      <td>0001b1d5-b74a-4cbf-aeb0-7df5947bf349</td>\n",
       "      <td>2019-10-07</td>\n",
       "    </tr>\n",
       "    <tr>\n",
       "      <th>1</th>\n",
       "      <td>00157779-810c-4498-9e05-a1e9e3cedf93</td>\n",
       "      <td>2019-10-19</td>\n",
       "    </tr>\n",
       "    <tr>\n",
       "      <th>2</th>\n",
       "      <td>00463033-5717-4bf1-91b4-09183923b9df</td>\n",
       "      <td>2019-11-01</td>\n",
       "    </tr>\n",
       "    <tr>\n",
       "      <th>3</th>\n",
       "      <td>004690c3-5a84-4bb7-a8af-e0c8f8fca64e</td>\n",
       "      <td>2019-10-18</td>\n",
       "    </tr>\n",
       "    <tr>\n",
       "      <th>4</th>\n",
       "      <td>00551e79-152e-4441-9cf7-565d7eb04090</td>\n",
       "      <td>2019-10-25</td>\n",
       "    </tr>\n",
       "    <tr>\n",
       "      <th>...</th>\n",
       "      <td>...</td>\n",
       "      <td>...</td>\n",
       "    </tr>\n",
       "    <tr>\n",
       "      <th>4288</th>\n",
       "      <td>ffab8d8a-30bb-424a-a3ab-0b63ebbf7b07</td>\n",
       "      <td>2019-10-13</td>\n",
       "    </tr>\n",
       "    <tr>\n",
       "      <th>4289</th>\n",
       "      <td>ffc01466-fdb1-4460-ae94-e800f52eb136</td>\n",
       "      <td>2019-10-07</td>\n",
       "    </tr>\n",
       "    <tr>\n",
       "      <th>4290</th>\n",
       "      <td>ffcf50d9-293c-4254-8243-4890b030b238</td>\n",
       "      <td>2019-10-23</td>\n",
       "    </tr>\n",
       "    <tr>\n",
       "      <th>4291</th>\n",
       "      <td>ffe68f10-e48e-470e-be9b-eeb93128ff1a</td>\n",
       "      <td>2019-10-21</td>\n",
       "    </tr>\n",
       "    <tr>\n",
       "      <th>4292</th>\n",
       "      <td>fffb9e79-b927-4dbb-9b48-7fd09b23a62b</td>\n",
       "      <td>2019-10-12</td>\n",
       "    </tr>\n",
       "  </tbody>\n",
       "</table>\n",
       "<p>4293 rows × 2 columns</p>\n",
       "</div>"
      ],
      "text/plain": [
       "                                        id      signup\n",
       "0     0001b1d5-b74a-4cbf-aeb0-7df5947bf349  2019-10-07\n",
       "1     00157779-810c-4498-9e05-a1e9e3cedf93  2019-10-19\n",
       "2     00463033-5717-4bf1-91b4-09183923b9df  2019-11-01\n",
       "3     004690c3-5a84-4bb7-a8af-e0c8f8fca64e  2019-10-18\n",
       "4     00551e79-152e-4441-9cf7-565d7eb04090  2019-10-25\n",
       "...                                    ...         ...\n",
       "4288  ffab8d8a-30bb-424a-a3ab-0b63ebbf7b07  2019-10-13\n",
       "4289  ffc01466-fdb1-4460-ae94-e800f52eb136  2019-10-07\n",
       "4290  ffcf50d9-293c-4254-8243-4890b030b238  2019-10-23\n",
       "4291  ffe68f10-e48e-470e-be9b-eeb93128ff1a  2019-10-21\n",
       "4292  fffb9e79-b927-4dbb-9b48-7fd09b23a62b  2019-10-12\n",
       "\n",
       "[4293 rows x 2 columns]"
      ]
     },
     "execution_count": 29,
     "metadata": {},
     "output_type": "execute_result"
    }
   ],
   "source": [
    "#create a table with the date of first activity for each user\n",
    "first_ts = data.groupby('id').agg({'time': 'first'}).rename(columns={'time':'signup'}).reset_index()\n",
    "# change type to date\n",
    "first_ts['signup']=first_ts['signup'].dt.date\n",
    "first_ts # show table"
   ]
  },
  {
   "cell_type": "code",
   "execution_count": 30,
   "id": "06da5085",
   "metadata": {},
   "outputs": [],
   "source": [
    "#merge tables to add columns with first action\n",
    "data = data.merge(first_ts, left_on='id', right_on='id')"
   ]
  },
  {
   "cell_type": "code",
   "execution_count": 31,
   "id": "d9b8971f",
   "metadata": {},
   "outputs": [
    {
     "data": {
      "text/html": [
       "<div>\n",
       "<style scoped>\n",
       "    .dataframe tbody tr th:only-of-type {\n",
       "        vertical-align: middle;\n",
       "    }\n",
       "\n",
       "    .dataframe tbody tr th {\n",
       "        vertical-align: top;\n",
       "    }\n",
       "\n",
       "    .dataframe thead th {\n",
       "        text-align: right;\n",
       "    }\n",
       "</style>\n",
       "<table border=\"1\" class=\"dataframe\">\n",
       "  <thead>\n",
       "    <tr style=\"text-align: right;\">\n",
       "      <th></th>\n",
       "      <th>time</th>\n",
       "      <th>event</th>\n",
       "      <th>id</th>\n",
       "      <th>session_id</th>\n",
       "      <th>signup</th>\n",
       "      <th>ref_date</th>\n",
       "    </tr>\n",
       "  </thead>\n",
       "  <tbody>\n",
       "    <tr>\n",
       "      <th>0</th>\n",
       "      <td>2019-10-07 13:39:45.989359</td>\n",
       "      <td>tips_show</td>\n",
       "      <td>0001b1d5-b74a-4cbf-aeb0-7df5947bf349</td>\n",
       "      <td>1</td>\n",
       "      <td>2019-10-07</td>\n",
       "      <td>2019-10-07</td>\n",
       "    </tr>\n",
       "    <tr>\n",
       "      <th>1</th>\n",
       "      <td>2019-10-07 13:40:31.052909</td>\n",
       "      <td>tips_show</td>\n",
       "      <td>0001b1d5-b74a-4cbf-aeb0-7df5947bf349</td>\n",
       "      <td>1</td>\n",
       "      <td>2019-10-07</td>\n",
       "      <td>2019-10-07</td>\n",
       "    </tr>\n",
       "    <tr>\n",
       "      <th>2</th>\n",
       "      <td>2019-10-07 13:41:05.722489</td>\n",
       "      <td>tips_show</td>\n",
       "      <td>0001b1d5-b74a-4cbf-aeb0-7df5947bf349</td>\n",
       "      <td>1</td>\n",
       "      <td>2019-10-07</td>\n",
       "      <td>2019-10-07</td>\n",
       "    </tr>\n",
       "    <tr>\n",
       "      <th>3</th>\n",
       "      <td>2019-10-07 13:43:20.735461</td>\n",
       "      <td>tips_show</td>\n",
       "      <td>0001b1d5-b74a-4cbf-aeb0-7df5947bf349</td>\n",
       "      <td>1</td>\n",
       "      <td>2019-10-07</td>\n",
       "      <td>2019-10-07</td>\n",
       "    </tr>\n",
       "    <tr>\n",
       "      <th>4</th>\n",
       "      <td>2019-10-07 13:45:30.917502</td>\n",
       "      <td>tips_show</td>\n",
       "      <td>0001b1d5-b74a-4cbf-aeb0-7df5947bf349</td>\n",
       "      <td>1</td>\n",
       "      <td>2019-10-07</td>\n",
       "      <td>2019-10-07</td>\n",
       "    </tr>\n",
       "  </tbody>\n",
       "</table>\n",
       "</div>"
      ],
      "text/plain": [
       "                        time      event                                    id  \\\n",
       "0 2019-10-07 13:39:45.989359  tips_show  0001b1d5-b74a-4cbf-aeb0-7df5947bf349   \n",
       "1 2019-10-07 13:40:31.052909  tips_show  0001b1d5-b74a-4cbf-aeb0-7df5947bf349   \n",
       "2 2019-10-07 13:41:05.722489  tips_show  0001b1d5-b74a-4cbf-aeb0-7df5947bf349   \n",
       "3 2019-10-07 13:43:20.735461  tips_show  0001b1d5-b74a-4cbf-aeb0-7df5947bf349   \n",
       "4 2019-10-07 13:45:30.917502  tips_show  0001b1d5-b74a-4cbf-aeb0-7df5947bf349   \n",
       "\n",
       "   session_id      signup    ref_date  \n",
       "0           1  2019-10-07  2019-10-07  \n",
       "1           1  2019-10-07  2019-10-07  \n",
       "2           1  2019-10-07  2019-10-07  \n",
       "3           1  2019-10-07  2019-10-07  \n",
       "4           1  2019-10-07  2019-10-07  "
      ]
     },
     "execution_count": 31,
     "metadata": {},
     "output_type": "execute_result"
    }
   ],
   "source": [
    "#create column with date of action\n",
    "data['ref_date'] = data['time'].dt.date\n",
    "data.head()"
   ]
  },
  {
   "cell_type": "code",
   "execution_count": 32,
   "id": "684d5e42",
   "metadata": {},
   "outputs": [
    {
     "data": {
      "text/plain": [
       "1     44161\n",
       "2      5933\n",
       "3      3141\n",
       "4      2561\n",
       "5      1939\n",
       "6      1803\n",
       "8      1795\n",
       "9      1564\n",
       "7      1543\n",
       "11     1207\n",
       "12     1138\n",
       "14      994\n",
       "10      949\n",
       "15      833\n",
       "16      795\n",
       "13      626\n",
       "17      513\n",
       "18      453\n",
       "19      413\n",
       "20      326\n",
       "23      325\n",
       "22      305\n",
       "25      207\n",
       "26      196\n",
       "24      178\n",
       "21      147\n",
       "28       97\n",
       "27       55\n",
       "Name: seniority, dtype: int64"
      ]
     },
     "execution_count": 32,
     "metadata": {},
     "output_type": "execute_result"
    }
   ],
   "source": [
    "#difference between of action and first action\n",
    "data['seniority'] = (data['ref_date'] - data['signup']).dt.days + 1\n",
    "# number of unique events\n",
    "data['seniority'].value_counts()"
   ]
  },
  {
   "cell_type": "code",
   "execution_count": 33,
   "id": "597cbec6",
   "metadata": {},
   "outputs": [
    {
     "data": {
      "text/html": [
       "<div>\n",
       "<style scoped>\n",
       "    .dataframe tbody tr th:only-of-type {\n",
       "        vertical-align: middle;\n",
       "    }\n",
       "\n",
       "    .dataframe tbody tr th {\n",
       "        vertical-align: top;\n",
       "    }\n",
       "\n",
       "    .dataframe thead th {\n",
       "        text-align: right;\n",
       "    }\n",
       "</style>\n",
       "<table border=\"1\" class=\"dataframe\">\n",
       "  <thead>\n",
       "    <tr style=\"text-align: right;\">\n",
       "      <th></th>\n",
       "      <th>signup</th>\n",
       "      <th>seniority</th>\n",
       "      <th>id</th>\n",
       "    </tr>\n",
       "  </thead>\n",
       "  <tbody>\n",
       "    <tr>\n",
       "      <th>0</th>\n",
       "      <td>2019-10-07</td>\n",
       "      <td>1</td>\n",
       "      <td>2545</td>\n",
       "    </tr>\n",
       "    <tr>\n",
       "      <th>1</th>\n",
       "      <td>2019-10-07</td>\n",
       "      <td>2</td>\n",
       "      <td>453</td>\n",
       "    </tr>\n",
       "    <tr>\n",
       "      <th>2</th>\n",
       "      <td>2019-10-07</td>\n",
       "      <td>3</td>\n",
       "      <td>201</td>\n",
       "    </tr>\n",
       "    <tr>\n",
       "      <th>3</th>\n",
       "      <td>2019-10-07</td>\n",
       "      <td>4</td>\n",
       "      <td>190</td>\n",
       "    </tr>\n",
       "    <tr>\n",
       "      <th>4</th>\n",
       "      <td>2019-10-07</td>\n",
       "      <td>5</td>\n",
       "      <td>87</td>\n",
       "    </tr>\n",
       "    <tr>\n",
       "      <th>...</th>\n",
       "      <td>...</td>\n",
       "      <td>...</td>\n",
       "      <td>...</td>\n",
       "    </tr>\n",
       "    <tr>\n",
       "      <th>399</th>\n",
       "      <td>2019-11-01</td>\n",
       "      <td>2</td>\n",
       "      <td>252</td>\n",
       "    </tr>\n",
       "    <tr>\n",
       "      <th>400</th>\n",
       "      <td>2019-11-01</td>\n",
       "      <td>3</td>\n",
       "      <td>94</td>\n",
       "    </tr>\n",
       "    <tr>\n",
       "      <th>401</th>\n",
       "      <td>2019-11-02</td>\n",
       "      <td>1</td>\n",
       "      <td>811</td>\n",
       "    </tr>\n",
       "    <tr>\n",
       "      <th>402</th>\n",
       "      <td>2019-11-02</td>\n",
       "      <td>2</td>\n",
       "      <td>129</td>\n",
       "    </tr>\n",
       "    <tr>\n",
       "      <th>403</th>\n",
       "      <td>2019-11-03</td>\n",
       "      <td>1</td>\n",
       "      <td>1542</td>\n",
       "    </tr>\n",
       "  </tbody>\n",
       "</table>\n",
       "<p>404 rows × 3 columns</p>\n",
       "</div>"
      ],
      "text/plain": [
       "         signup  seniority    id\n",
       "0    2019-10-07          1  2545\n",
       "1    2019-10-07          2   453\n",
       "2    2019-10-07          3   201\n",
       "3    2019-10-07          4   190\n",
       "4    2019-10-07          5    87\n",
       "..          ...        ...   ...\n",
       "399  2019-11-01          2   252\n",
       "400  2019-11-01          3    94\n",
       "401  2019-11-02          1   811\n",
       "402  2019-11-02          2   129\n",
       "403  2019-11-03          1  1542\n",
       "\n",
       "[404 rows x 3 columns]"
      ]
     },
     "execution_count": 33,
     "metadata": {},
     "output_type": "execute_result"
    }
   ],
   "source": [
    "#group on first action and \"life\" of the client\n",
    "group = data.groupby(['signup', 'seniority'])\n",
    "# size of cohort for each duration of lif of the clientаем \n",
    "cohort_data = group['id'].size().reset_index()\n",
    "cohort_data"
   ]
  },
  {
   "cell_type": "code",
   "execution_count": 34,
   "id": "18efa4f4",
   "metadata": {},
   "outputs": [
    {
     "data": {
      "text/html": [
       "<div>\n",
       "<style scoped>\n",
       "    .dataframe tbody tr th:only-of-type {\n",
       "        vertical-align: middle;\n",
       "    }\n",
       "\n",
       "    .dataframe tbody tr th {\n",
       "        vertical-align: top;\n",
       "    }\n",
       "\n",
       "    .dataframe thead th {\n",
       "        text-align: right;\n",
       "    }\n",
       "</style>\n",
       "<table border=\"1\" class=\"dataframe\">\n",
       "  <thead>\n",
       "    <tr style=\"text-align: right;\">\n",
       "      <th>seniority</th>\n",
       "      <th>1</th>\n",
       "      <th>2</th>\n",
       "      <th>3</th>\n",
       "      <th>4</th>\n",
       "      <th>5</th>\n",
       "      <th>6</th>\n",
       "      <th>7</th>\n",
       "      <th>8</th>\n",
       "      <th>9</th>\n",
       "      <th>10</th>\n",
       "      <th>...</th>\n",
       "      <th>19</th>\n",
       "      <th>20</th>\n",
       "      <th>21</th>\n",
       "      <th>22</th>\n",
       "      <th>23</th>\n",
       "      <th>24</th>\n",
       "      <th>25</th>\n",
       "      <th>26</th>\n",
       "      <th>27</th>\n",
       "      <th>28</th>\n",
       "    </tr>\n",
       "    <tr>\n",
       "      <th>signup</th>\n",
       "      <th></th>\n",
       "      <th></th>\n",
       "      <th></th>\n",
       "      <th></th>\n",
       "      <th></th>\n",
       "      <th></th>\n",
       "      <th></th>\n",
       "      <th></th>\n",
       "      <th></th>\n",
       "      <th></th>\n",
       "      <th></th>\n",
       "      <th></th>\n",
       "      <th></th>\n",
       "      <th></th>\n",
       "      <th></th>\n",
       "      <th></th>\n",
       "      <th></th>\n",
       "      <th></th>\n",
       "      <th></th>\n",
       "      <th></th>\n",
       "      <th></th>\n",
       "    </tr>\n",
       "  </thead>\n",
       "  <tbody>\n",
       "    <tr>\n",
       "      <th>2019-10-07</th>\n",
       "      <td>2545.0</td>\n",
       "      <td>453.0</td>\n",
       "      <td>201.0</td>\n",
       "      <td>190.0</td>\n",
       "      <td>87.0</td>\n",
       "      <td>90.0</td>\n",
       "      <td>103.0</td>\n",
       "      <td>119.0</td>\n",
       "      <td>61.0</td>\n",
       "      <td>88.0</td>\n",
       "      <td>...</td>\n",
       "      <td>29.0</td>\n",
       "      <td>119.0</td>\n",
       "      <td>8.0</td>\n",
       "      <td>109.0</td>\n",
       "      <td>144.0</td>\n",
       "      <td>66.0</td>\n",
       "      <td>80.0</td>\n",
       "      <td>140.0</td>\n",
       "      <td>11.0</td>\n",
       "      <td>97.0</td>\n",
       "    </tr>\n",
       "    <tr>\n",
       "      <th>2019-10-08</th>\n",
       "      <td>2046.0</td>\n",
       "      <td>249.0</td>\n",
       "      <td>176.0</td>\n",
       "      <td>134.0</td>\n",
       "      <td>19.0</td>\n",
       "      <td>48.0</td>\n",
       "      <td>77.0</td>\n",
       "      <td>65.0</td>\n",
       "      <td>87.0</td>\n",
       "      <td>66.0</td>\n",
       "      <td>...</td>\n",
       "      <td>17.0</td>\n",
       "      <td>34.0</td>\n",
       "      <td>38.0</td>\n",
       "      <td>6.0</td>\n",
       "      <td>14.0</td>\n",
       "      <td>28.0</td>\n",
       "      <td>97.0</td>\n",
       "      <td>17.0</td>\n",
       "      <td>44.0</td>\n",
       "      <td>NaN</td>\n",
       "    </tr>\n",
       "    <tr>\n",
       "      <th>2019-10-09</th>\n",
       "      <td>1577.0</td>\n",
       "      <td>113.0</td>\n",
       "      <td>147.0</td>\n",
       "      <td>30.0</td>\n",
       "      <td>27.0</td>\n",
       "      <td>68.0</td>\n",
       "      <td>56.0</td>\n",
       "      <td>61.0</td>\n",
       "      <td>96.0</td>\n",
       "      <td>95.0</td>\n",
       "      <td>...</td>\n",
       "      <td>2.0</td>\n",
       "      <td>25.0</td>\n",
       "      <td>33.0</td>\n",
       "      <td>38.0</td>\n",
       "      <td>25.0</td>\n",
       "      <td>47.0</td>\n",
       "      <td>17.0</td>\n",
       "      <td>39.0</td>\n",
       "      <td>NaN</td>\n",
       "      <td>NaN</td>\n",
       "    </tr>\n",
       "    <tr>\n",
       "      <th>2019-10-10</th>\n",
       "      <td>1764.0</td>\n",
       "      <td>320.0</td>\n",
       "      <td>105.0</td>\n",
       "      <td>121.0</td>\n",
       "      <td>225.0</td>\n",
       "      <td>178.0</td>\n",
       "      <td>92.0</td>\n",
       "      <td>86.0</td>\n",
       "      <td>101.0</td>\n",
       "      <td>68.0</td>\n",
       "      <td>...</td>\n",
       "      <td>32.0</td>\n",
       "      <td>27.0</td>\n",
       "      <td>18.0</td>\n",
       "      <td>17.0</td>\n",
       "      <td>29.0</td>\n",
       "      <td>13.0</td>\n",
       "      <td>13.0</td>\n",
       "      <td>NaN</td>\n",
       "      <td>NaN</td>\n",
       "      <td>NaN</td>\n",
       "    </tr>\n",
       "    <tr>\n",
       "      <th>2019-10-11</th>\n",
       "      <td>1342.0</td>\n",
       "      <td>142.0</td>\n",
       "      <td>79.0</td>\n",
       "      <td>101.0</td>\n",
       "      <td>91.0</td>\n",
       "      <td>67.0</td>\n",
       "      <td>41.0</td>\n",
       "      <td>38.0</td>\n",
       "      <td>5.0</td>\n",
       "      <td>NaN</td>\n",
       "      <td>...</td>\n",
       "      <td>173.0</td>\n",
       "      <td>87.0</td>\n",
       "      <td>21.0</td>\n",
       "      <td>31.0</td>\n",
       "      <td>30.0</td>\n",
       "      <td>24.0</td>\n",
       "      <td>NaN</td>\n",
       "      <td>NaN</td>\n",
       "      <td>NaN</td>\n",
       "      <td>NaN</td>\n",
       "    </tr>\n",
       "    <tr>\n",
       "      <th>2019-10-12</th>\n",
       "      <td>1457.0</td>\n",
       "      <td>481.0</td>\n",
       "      <td>105.0</td>\n",
       "      <td>66.0</td>\n",
       "      <td>69.0</td>\n",
       "      <td>101.0</td>\n",
       "      <td>129.0</td>\n",
       "      <td>82.0</td>\n",
       "      <td>74.0</td>\n",
       "      <td>26.0</td>\n",
       "      <td>...</td>\n",
       "      <td>11.0</td>\n",
       "      <td>12.0</td>\n",
       "      <td>3.0</td>\n",
       "      <td>73.0</td>\n",
       "      <td>83.0</td>\n",
       "      <td>NaN</td>\n",
       "      <td>NaN</td>\n",
       "      <td>NaN</td>\n",
       "      <td>NaN</td>\n",
       "      <td>NaN</td>\n",
       "    </tr>\n",
       "    <tr>\n",
       "      <th>2019-10-13</th>\n",
       "      <td>1776.0</td>\n",
       "      <td>240.0</td>\n",
       "      <td>107.0</td>\n",
       "      <td>86.0</td>\n",
       "      <td>94.0</td>\n",
       "      <td>66.0</td>\n",
       "      <td>24.0</td>\n",
       "      <td>42.0</td>\n",
       "      <td>31.0</td>\n",
       "      <td>49.0</td>\n",
       "      <td>...</td>\n",
       "      <td>72.0</td>\n",
       "      <td>11.0</td>\n",
       "      <td>8.0</td>\n",
       "      <td>31.0</td>\n",
       "      <td>NaN</td>\n",
       "      <td>NaN</td>\n",
       "      <td>NaN</td>\n",
       "      <td>NaN</td>\n",
       "      <td>NaN</td>\n",
       "      <td>NaN</td>\n",
       "    </tr>\n",
       "    <tr>\n",
       "      <th>2019-10-14</th>\n",
       "      <td>2099.0</td>\n",
       "      <td>203.0</td>\n",
       "      <td>99.0</td>\n",
       "      <td>116.0</td>\n",
       "      <td>105.0</td>\n",
       "      <td>142.0</td>\n",
       "      <td>105.0</td>\n",
       "      <td>66.0</td>\n",
       "      <td>67.0</td>\n",
       "      <td>53.0</td>\n",
       "      <td>...</td>\n",
       "      <td>9.0</td>\n",
       "      <td>1.0</td>\n",
       "      <td>18.0</td>\n",
       "      <td>NaN</td>\n",
       "      <td>NaN</td>\n",
       "      <td>NaN</td>\n",
       "      <td>NaN</td>\n",
       "      <td>NaN</td>\n",
       "      <td>NaN</td>\n",
       "      <td>NaN</td>\n",
       "    </tr>\n",
       "    <tr>\n",
       "      <th>2019-10-15</th>\n",
       "      <td>1895.0</td>\n",
       "      <td>283.0</td>\n",
       "      <td>111.0</td>\n",
       "      <td>119.0</td>\n",
       "      <td>60.0</td>\n",
       "      <td>127.0</td>\n",
       "      <td>46.0</td>\n",
       "      <td>64.0</td>\n",
       "      <td>88.0</td>\n",
       "      <td>48.0</td>\n",
       "      <td>...</td>\n",
       "      <td>31.0</td>\n",
       "      <td>10.0</td>\n",
       "      <td>NaN</td>\n",
       "      <td>NaN</td>\n",
       "      <td>NaN</td>\n",
       "      <td>NaN</td>\n",
       "      <td>NaN</td>\n",
       "      <td>NaN</td>\n",
       "      <td>NaN</td>\n",
       "      <td>NaN</td>\n",
       "    </tr>\n",
       "    <tr>\n",
       "      <th>2019-10-16</th>\n",
       "      <td>1798.0</td>\n",
       "      <td>223.0</td>\n",
       "      <td>176.0</td>\n",
       "      <td>34.0</td>\n",
       "      <td>37.0</td>\n",
       "      <td>69.0</td>\n",
       "      <td>47.0</td>\n",
       "      <td>126.0</td>\n",
       "      <td>136.0</td>\n",
       "      <td>43.0</td>\n",
       "      <td>...</td>\n",
       "      <td>37.0</td>\n",
       "      <td>NaN</td>\n",
       "      <td>NaN</td>\n",
       "      <td>NaN</td>\n",
       "      <td>NaN</td>\n",
       "      <td>NaN</td>\n",
       "      <td>NaN</td>\n",
       "      <td>NaN</td>\n",
       "      <td>NaN</td>\n",
       "      <td>NaN</td>\n",
       "    </tr>\n",
       "    <tr>\n",
       "      <th>2019-10-17</th>\n",
       "      <td>1532.0</td>\n",
       "      <td>290.0</td>\n",
       "      <td>102.0</td>\n",
       "      <td>118.0</td>\n",
       "      <td>63.0</td>\n",
       "      <td>98.0</td>\n",
       "      <td>182.0</td>\n",
       "      <td>68.0</td>\n",
       "      <td>41.0</td>\n",
       "      <td>91.0</td>\n",
       "      <td>...</td>\n",
       "      <td>NaN</td>\n",
       "      <td>NaN</td>\n",
       "      <td>NaN</td>\n",
       "      <td>NaN</td>\n",
       "      <td>NaN</td>\n",
       "      <td>NaN</td>\n",
       "      <td>NaN</td>\n",
       "      <td>NaN</td>\n",
       "      <td>NaN</td>\n",
       "      <td>NaN</td>\n",
       "    </tr>\n",
       "    <tr>\n",
       "      <th>2019-10-18</th>\n",
       "      <td>1466.0</td>\n",
       "      <td>139.0</td>\n",
       "      <td>116.0</td>\n",
       "      <td>74.0</td>\n",
       "      <td>116.0</td>\n",
       "      <td>108.0</td>\n",
       "      <td>153.0</td>\n",
       "      <td>64.0</td>\n",
       "      <td>196.0</td>\n",
       "      <td>88.0</td>\n",
       "      <td>...</td>\n",
       "      <td>NaN</td>\n",
       "      <td>NaN</td>\n",
       "      <td>NaN</td>\n",
       "      <td>NaN</td>\n",
       "      <td>NaN</td>\n",
       "      <td>NaN</td>\n",
       "      <td>NaN</td>\n",
       "      <td>NaN</td>\n",
       "      <td>NaN</td>\n",
       "      <td>NaN</td>\n",
       "    </tr>\n",
       "    <tr>\n",
       "      <th>2019-10-19</th>\n",
       "      <td>1552.0</td>\n",
       "      <td>140.0</td>\n",
       "      <td>156.0</td>\n",
       "      <td>67.0</td>\n",
       "      <td>38.0</td>\n",
       "      <td>58.0</td>\n",
       "      <td>29.0</td>\n",
       "      <td>131.0</td>\n",
       "      <td>62.0</td>\n",
       "      <td>38.0</td>\n",
       "      <td>...</td>\n",
       "      <td>NaN</td>\n",
       "      <td>NaN</td>\n",
       "      <td>NaN</td>\n",
       "      <td>NaN</td>\n",
       "      <td>NaN</td>\n",
       "      <td>NaN</td>\n",
       "      <td>NaN</td>\n",
       "      <td>NaN</td>\n",
       "      <td>NaN</td>\n",
       "      <td>NaN</td>\n",
       "    </tr>\n",
       "    <tr>\n",
       "      <th>2019-10-20</th>\n",
       "      <td>1237.0</td>\n",
       "      <td>169.0</td>\n",
       "      <td>114.0</td>\n",
       "      <td>122.0</td>\n",
       "      <td>80.0</td>\n",
       "      <td>61.0</td>\n",
       "      <td>52.0</td>\n",
       "      <td>60.0</td>\n",
       "      <td>26.0</td>\n",
       "      <td>6.0</td>\n",
       "      <td>...</td>\n",
       "      <td>NaN</td>\n",
       "      <td>NaN</td>\n",
       "      <td>NaN</td>\n",
       "      <td>NaN</td>\n",
       "      <td>NaN</td>\n",
       "      <td>NaN</td>\n",
       "      <td>NaN</td>\n",
       "      <td>NaN</td>\n",
       "      <td>NaN</td>\n",
       "      <td>NaN</td>\n",
       "    </tr>\n",
       "    <tr>\n",
       "      <th>2019-10-21</th>\n",
       "      <td>1693.0</td>\n",
       "      <td>108.0</td>\n",
       "      <td>169.0</td>\n",
       "      <td>130.0</td>\n",
       "      <td>104.0</td>\n",
       "      <td>56.0</td>\n",
       "      <td>28.0</td>\n",
       "      <td>137.0</td>\n",
       "      <td>72.0</td>\n",
       "      <td>22.0</td>\n",
       "      <td>...</td>\n",
       "      <td>NaN</td>\n",
       "      <td>NaN</td>\n",
       "      <td>NaN</td>\n",
       "      <td>NaN</td>\n",
       "      <td>NaN</td>\n",
       "      <td>NaN</td>\n",
       "      <td>NaN</td>\n",
       "      <td>NaN</td>\n",
       "      <td>NaN</td>\n",
       "      <td>NaN</td>\n",
       "    </tr>\n",
       "    <tr>\n",
       "      <th>2019-10-22</th>\n",
       "      <td>1475.0</td>\n",
       "      <td>120.0</td>\n",
       "      <td>163.0</td>\n",
       "      <td>103.0</td>\n",
       "      <td>155.0</td>\n",
       "      <td>37.0</td>\n",
       "      <td>89.0</td>\n",
       "      <td>149.0</td>\n",
       "      <td>91.0</td>\n",
       "      <td>53.0</td>\n",
       "      <td>...</td>\n",
       "      <td>NaN</td>\n",
       "      <td>NaN</td>\n",
       "      <td>NaN</td>\n",
       "      <td>NaN</td>\n",
       "      <td>NaN</td>\n",
       "      <td>NaN</td>\n",
       "      <td>NaN</td>\n",
       "      <td>NaN</td>\n",
       "      <td>NaN</td>\n",
       "      <td>NaN</td>\n",
       "    </tr>\n",
       "    <tr>\n",
       "      <th>2019-10-23</th>\n",
       "      <td>1778.0</td>\n",
       "      <td>219.0</td>\n",
       "      <td>114.0</td>\n",
       "      <td>69.0</td>\n",
       "      <td>32.0</td>\n",
       "      <td>99.0</td>\n",
       "      <td>41.0</td>\n",
       "      <td>120.0</td>\n",
       "      <td>58.0</td>\n",
       "      <td>30.0</td>\n",
       "      <td>...</td>\n",
       "      <td>NaN</td>\n",
       "      <td>NaN</td>\n",
       "      <td>NaN</td>\n",
       "      <td>NaN</td>\n",
       "      <td>NaN</td>\n",
       "      <td>NaN</td>\n",
       "      <td>NaN</td>\n",
       "      <td>NaN</td>\n",
       "      <td>NaN</td>\n",
       "      <td>NaN</td>\n",
       "    </tr>\n",
       "    <tr>\n",
       "      <th>2019-10-24</th>\n",
       "      <td>1606.0</td>\n",
       "      <td>178.0</td>\n",
       "      <td>144.0</td>\n",
       "      <td>107.0</td>\n",
       "      <td>33.0</td>\n",
       "      <td>50.0</td>\n",
       "      <td>64.0</td>\n",
       "      <td>36.0</td>\n",
       "      <td>101.0</td>\n",
       "      <td>21.0</td>\n",
       "      <td>...</td>\n",
       "      <td>NaN</td>\n",
       "      <td>NaN</td>\n",
       "      <td>NaN</td>\n",
       "      <td>NaN</td>\n",
       "      <td>NaN</td>\n",
       "      <td>NaN</td>\n",
       "      <td>NaN</td>\n",
       "      <td>NaN</td>\n",
       "      <td>NaN</td>\n",
       "      <td>NaN</td>\n",
       "    </tr>\n",
       "    <tr>\n",
       "      <th>2019-10-25</th>\n",
       "      <td>1447.0</td>\n",
       "      <td>182.0</td>\n",
       "      <td>108.0</td>\n",
       "      <td>132.0</td>\n",
       "      <td>100.0</td>\n",
       "      <td>47.0</td>\n",
       "      <td>84.0</td>\n",
       "      <td>95.0</td>\n",
       "      <td>57.0</td>\n",
       "      <td>64.0</td>\n",
       "      <td>...</td>\n",
       "      <td>NaN</td>\n",
       "      <td>NaN</td>\n",
       "      <td>NaN</td>\n",
       "      <td>NaN</td>\n",
       "      <td>NaN</td>\n",
       "      <td>NaN</td>\n",
       "      <td>NaN</td>\n",
       "      <td>NaN</td>\n",
       "      <td>NaN</td>\n",
       "      <td>NaN</td>\n",
       "    </tr>\n",
       "    <tr>\n",
       "      <th>2019-10-26</th>\n",
       "      <td>1581.0</td>\n",
       "      <td>341.0</td>\n",
       "      <td>92.0</td>\n",
       "      <td>102.0</td>\n",
       "      <td>150.0</td>\n",
       "      <td>77.0</td>\n",
       "      <td>38.0</td>\n",
       "      <td>45.0</td>\n",
       "      <td>114.0</td>\n",
       "      <td>NaN</td>\n",
       "      <td>...</td>\n",
       "      <td>NaN</td>\n",
       "      <td>NaN</td>\n",
       "      <td>NaN</td>\n",
       "      <td>NaN</td>\n",
       "      <td>NaN</td>\n",
       "      <td>NaN</td>\n",
       "      <td>NaN</td>\n",
       "      <td>NaN</td>\n",
       "      <td>NaN</td>\n",
       "      <td>NaN</td>\n",
       "    </tr>\n",
       "    <tr>\n",
       "      <th>2019-10-27</th>\n",
       "      <td>1619.0</td>\n",
       "      <td>113.0</td>\n",
       "      <td>46.0</td>\n",
       "      <td>115.0</td>\n",
       "      <td>81.0</td>\n",
       "      <td>110.0</td>\n",
       "      <td>46.0</td>\n",
       "      <td>141.0</td>\n",
       "      <td>NaN</td>\n",
       "      <td>NaN</td>\n",
       "      <td>...</td>\n",
       "      <td>NaN</td>\n",
       "      <td>NaN</td>\n",
       "      <td>NaN</td>\n",
       "      <td>NaN</td>\n",
       "      <td>NaN</td>\n",
       "      <td>NaN</td>\n",
       "      <td>NaN</td>\n",
       "      <td>NaN</td>\n",
       "      <td>NaN</td>\n",
       "      <td>NaN</td>\n",
       "    </tr>\n",
       "    <tr>\n",
       "      <th>2019-10-28</th>\n",
       "      <td>1585.0</td>\n",
       "      <td>220.0</td>\n",
       "      <td>147.0</td>\n",
       "      <td>172.0</td>\n",
       "      <td>45.0</td>\n",
       "      <td>16.0</td>\n",
       "      <td>17.0</td>\n",
       "      <td>NaN</td>\n",
       "      <td>NaN</td>\n",
       "      <td>NaN</td>\n",
       "      <td>...</td>\n",
       "      <td>NaN</td>\n",
       "      <td>NaN</td>\n",
       "      <td>NaN</td>\n",
       "      <td>NaN</td>\n",
       "      <td>NaN</td>\n",
       "      <td>NaN</td>\n",
       "      <td>NaN</td>\n",
       "      <td>NaN</td>\n",
       "      <td>NaN</td>\n",
       "      <td>NaN</td>\n",
       "    </tr>\n",
       "    <tr>\n",
       "      <th>2019-10-29</th>\n",
       "      <td>1429.0</td>\n",
       "      <td>207.0</td>\n",
       "      <td>114.0</td>\n",
       "      <td>108.0</td>\n",
       "      <td>95.0</td>\n",
       "      <td>30.0</td>\n",
       "      <td>NaN</td>\n",
       "      <td>NaN</td>\n",
       "      <td>NaN</td>\n",
       "      <td>NaN</td>\n",
       "      <td>...</td>\n",
       "      <td>NaN</td>\n",
       "      <td>NaN</td>\n",
       "      <td>NaN</td>\n",
       "      <td>NaN</td>\n",
       "      <td>NaN</td>\n",
       "      <td>NaN</td>\n",
       "      <td>NaN</td>\n",
       "      <td>NaN</td>\n",
       "      <td>NaN</td>\n",
       "      <td>NaN</td>\n",
       "    </tr>\n",
       "    <tr>\n",
       "      <th>2019-10-30</th>\n",
       "      <td>1327.0</td>\n",
       "      <td>279.0</td>\n",
       "      <td>106.0</td>\n",
       "      <td>49.0</td>\n",
       "      <td>33.0</td>\n",
       "      <td>NaN</td>\n",
       "      <td>NaN</td>\n",
       "      <td>NaN</td>\n",
       "      <td>NaN</td>\n",
       "      <td>NaN</td>\n",
       "      <td>...</td>\n",
       "      <td>NaN</td>\n",
       "      <td>NaN</td>\n",
       "      <td>NaN</td>\n",
       "      <td>NaN</td>\n",
       "      <td>NaN</td>\n",
       "      <td>NaN</td>\n",
       "      <td>NaN</td>\n",
       "      <td>NaN</td>\n",
       "      <td>NaN</td>\n",
       "      <td>NaN</td>\n",
       "    </tr>\n",
       "    <tr>\n",
       "      <th>2019-10-31</th>\n",
       "      <td>1238.0</td>\n",
       "      <td>140.0</td>\n",
       "      <td>50.0</td>\n",
       "      <td>96.0</td>\n",
       "      <td>NaN</td>\n",
       "      <td>NaN</td>\n",
       "      <td>NaN</td>\n",
       "      <td>NaN</td>\n",
       "      <td>NaN</td>\n",
       "      <td>NaN</td>\n",
       "      <td>...</td>\n",
       "      <td>NaN</td>\n",
       "      <td>NaN</td>\n",
       "      <td>NaN</td>\n",
       "      <td>NaN</td>\n",
       "      <td>NaN</td>\n",
       "      <td>NaN</td>\n",
       "      <td>NaN</td>\n",
       "      <td>NaN</td>\n",
       "      <td>NaN</td>\n",
       "      <td>NaN</td>\n",
       "    </tr>\n",
       "    <tr>\n",
       "      <th>2019-11-01</th>\n",
       "      <td>944.0</td>\n",
       "      <td>252.0</td>\n",
       "      <td>94.0</td>\n",
       "      <td>NaN</td>\n",
       "      <td>NaN</td>\n",
       "      <td>NaN</td>\n",
       "      <td>NaN</td>\n",
       "      <td>NaN</td>\n",
       "      <td>NaN</td>\n",
       "      <td>NaN</td>\n",
       "      <td>...</td>\n",
       "      <td>NaN</td>\n",
       "      <td>NaN</td>\n",
       "      <td>NaN</td>\n",
       "      <td>NaN</td>\n",
       "      <td>NaN</td>\n",
       "      <td>NaN</td>\n",
       "      <td>NaN</td>\n",
       "      <td>NaN</td>\n",
       "      <td>NaN</td>\n",
       "      <td>NaN</td>\n",
       "    </tr>\n",
       "    <tr>\n",
       "      <th>2019-11-02</th>\n",
       "      <td>811.0</td>\n",
       "      <td>129.0</td>\n",
       "      <td>NaN</td>\n",
       "      <td>NaN</td>\n",
       "      <td>NaN</td>\n",
       "      <td>NaN</td>\n",
       "      <td>NaN</td>\n",
       "      <td>NaN</td>\n",
       "      <td>NaN</td>\n",
       "      <td>NaN</td>\n",
       "      <td>...</td>\n",
       "      <td>NaN</td>\n",
       "      <td>NaN</td>\n",
       "      <td>NaN</td>\n",
       "      <td>NaN</td>\n",
       "      <td>NaN</td>\n",
       "      <td>NaN</td>\n",
       "      <td>NaN</td>\n",
       "      <td>NaN</td>\n",
       "      <td>NaN</td>\n",
       "      <td>NaN</td>\n",
       "    </tr>\n",
       "    <tr>\n",
       "      <th>2019-11-03</th>\n",
       "      <td>1542.0</td>\n",
       "      <td>NaN</td>\n",
       "      <td>NaN</td>\n",
       "      <td>NaN</td>\n",
       "      <td>NaN</td>\n",
       "      <td>NaN</td>\n",
       "      <td>NaN</td>\n",
       "      <td>NaN</td>\n",
       "      <td>NaN</td>\n",
       "      <td>NaN</td>\n",
       "      <td>...</td>\n",
       "      <td>NaN</td>\n",
       "      <td>NaN</td>\n",
       "      <td>NaN</td>\n",
       "      <td>NaN</td>\n",
       "      <td>NaN</td>\n",
       "      <td>NaN</td>\n",
       "      <td>NaN</td>\n",
       "      <td>NaN</td>\n",
       "      <td>NaN</td>\n",
       "      <td>NaN</td>\n",
       "    </tr>\n",
       "  </tbody>\n",
       "</table>\n",
       "<p>28 rows × 28 columns</p>\n",
       "</div>"
      ],
      "text/plain": [
       "seniority       1      2      3      4      5      6      7      8      9   \\\n",
       "signup                                                                       \n",
       "2019-10-07  2545.0  453.0  201.0  190.0   87.0   90.0  103.0  119.0   61.0   \n",
       "2019-10-08  2046.0  249.0  176.0  134.0   19.0   48.0   77.0   65.0   87.0   \n",
       "2019-10-09  1577.0  113.0  147.0   30.0   27.0   68.0   56.0   61.0   96.0   \n",
       "2019-10-10  1764.0  320.0  105.0  121.0  225.0  178.0   92.0   86.0  101.0   \n",
       "2019-10-11  1342.0  142.0   79.0  101.0   91.0   67.0   41.0   38.0    5.0   \n",
       "2019-10-12  1457.0  481.0  105.0   66.0   69.0  101.0  129.0   82.0   74.0   \n",
       "2019-10-13  1776.0  240.0  107.0   86.0   94.0   66.0   24.0   42.0   31.0   \n",
       "2019-10-14  2099.0  203.0   99.0  116.0  105.0  142.0  105.0   66.0   67.0   \n",
       "2019-10-15  1895.0  283.0  111.0  119.0   60.0  127.0   46.0   64.0   88.0   \n",
       "2019-10-16  1798.0  223.0  176.0   34.0   37.0   69.0   47.0  126.0  136.0   \n",
       "2019-10-17  1532.0  290.0  102.0  118.0   63.0   98.0  182.0   68.0   41.0   \n",
       "2019-10-18  1466.0  139.0  116.0   74.0  116.0  108.0  153.0   64.0  196.0   \n",
       "2019-10-19  1552.0  140.0  156.0   67.0   38.0   58.0   29.0  131.0   62.0   \n",
       "2019-10-20  1237.0  169.0  114.0  122.0   80.0   61.0   52.0   60.0   26.0   \n",
       "2019-10-21  1693.0  108.0  169.0  130.0  104.0   56.0   28.0  137.0   72.0   \n",
       "2019-10-22  1475.0  120.0  163.0  103.0  155.0   37.0   89.0  149.0   91.0   \n",
       "2019-10-23  1778.0  219.0  114.0   69.0   32.0   99.0   41.0  120.0   58.0   \n",
       "2019-10-24  1606.0  178.0  144.0  107.0   33.0   50.0   64.0   36.0  101.0   \n",
       "2019-10-25  1447.0  182.0  108.0  132.0  100.0   47.0   84.0   95.0   57.0   \n",
       "2019-10-26  1581.0  341.0   92.0  102.0  150.0   77.0   38.0   45.0  114.0   \n",
       "2019-10-27  1619.0  113.0   46.0  115.0   81.0  110.0   46.0  141.0    NaN   \n",
       "2019-10-28  1585.0  220.0  147.0  172.0   45.0   16.0   17.0    NaN    NaN   \n",
       "2019-10-29  1429.0  207.0  114.0  108.0   95.0   30.0    NaN    NaN    NaN   \n",
       "2019-10-30  1327.0  279.0  106.0   49.0   33.0    NaN    NaN    NaN    NaN   \n",
       "2019-10-31  1238.0  140.0   50.0   96.0    NaN    NaN    NaN    NaN    NaN   \n",
       "2019-11-01   944.0  252.0   94.0    NaN    NaN    NaN    NaN    NaN    NaN   \n",
       "2019-11-02   811.0  129.0    NaN    NaN    NaN    NaN    NaN    NaN    NaN   \n",
       "2019-11-03  1542.0    NaN    NaN    NaN    NaN    NaN    NaN    NaN    NaN   \n",
       "\n",
       "seniority     10  ...     19     20    21     22     23    24    25     26  \\\n",
       "signup            ...                                                        \n",
       "2019-10-07  88.0  ...   29.0  119.0   8.0  109.0  144.0  66.0  80.0  140.0   \n",
       "2019-10-08  66.0  ...   17.0   34.0  38.0    6.0   14.0  28.0  97.0   17.0   \n",
       "2019-10-09  95.0  ...    2.0   25.0  33.0   38.0   25.0  47.0  17.0   39.0   \n",
       "2019-10-10  68.0  ...   32.0   27.0  18.0   17.0   29.0  13.0  13.0    NaN   \n",
       "2019-10-11   NaN  ...  173.0   87.0  21.0   31.0   30.0  24.0   NaN    NaN   \n",
       "2019-10-12  26.0  ...   11.0   12.0   3.0   73.0   83.0   NaN   NaN    NaN   \n",
       "2019-10-13  49.0  ...   72.0   11.0   8.0   31.0    NaN   NaN   NaN    NaN   \n",
       "2019-10-14  53.0  ...    9.0    1.0  18.0    NaN    NaN   NaN   NaN    NaN   \n",
       "2019-10-15  48.0  ...   31.0   10.0   NaN    NaN    NaN   NaN   NaN    NaN   \n",
       "2019-10-16  43.0  ...   37.0    NaN   NaN    NaN    NaN   NaN   NaN    NaN   \n",
       "2019-10-17  91.0  ...    NaN    NaN   NaN    NaN    NaN   NaN   NaN    NaN   \n",
       "2019-10-18  88.0  ...    NaN    NaN   NaN    NaN    NaN   NaN   NaN    NaN   \n",
       "2019-10-19  38.0  ...    NaN    NaN   NaN    NaN    NaN   NaN   NaN    NaN   \n",
       "2019-10-20   6.0  ...    NaN    NaN   NaN    NaN    NaN   NaN   NaN    NaN   \n",
       "2019-10-21  22.0  ...    NaN    NaN   NaN    NaN    NaN   NaN   NaN    NaN   \n",
       "2019-10-22  53.0  ...    NaN    NaN   NaN    NaN    NaN   NaN   NaN    NaN   \n",
       "2019-10-23  30.0  ...    NaN    NaN   NaN    NaN    NaN   NaN   NaN    NaN   \n",
       "2019-10-24  21.0  ...    NaN    NaN   NaN    NaN    NaN   NaN   NaN    NaN   \n",
       "2019-10-25  64.0  ...    NaN    NaN   NaN    NaN    NaN   NaN   NaN    NaN   \n",
       "2019-10-26   NaN  ...    NaN    NaN   NaN    NaN    NaN   NaN   NaN    NaN   \n",
       "2019-10-27   NaN  ...    NaN    NaN   NaN    NaN    NaN   NaN   NaN    NaN   \n",
       "2019-10-28   NaN  ...    NaN    NaN   NaN    NaN    NaN   NaN   NaN    NaN   \n",
       "2019-10-29   NaN  ...    NaN    NaN   NaN    NaN    NaN   NaN   NaN    NaN   \n",
       "2019-10-30   NaN  ...    NaN    NaN   NaN    NaN    NaN   NaN   NaN    NaN   \n",
       "2019-10-31   NaN  ...    NaN    NaN   NaN    NaN    NaN   NaN   NaN    NaN   \n",
       "2019-11-01   NaN  ...    NaN    NaN   NaN    NaN    NaN   NaN   NaN    NaN   \n",
       "2019-11-02   NaN  ...    NaN    NaN   NaN    NaN    NaN   NaN   NaN    NaN   \n",
       "2019-11-03   NaN  ...    NaN    NaN   NaN    NaN    NaN   NaN   NaN    NaN   \n",
       "\n",
       "seniority     27    28  \n",
       "signup                  \n",
       "2019-10-07  11.0  97.0  \n",
       "2019-10-08  44.0   NaN  \n",
       "2019-10-09   NaN   NaN  \n",
       "2019-10-10   NaN   NaN  \n",
       "2019-10-11   NaN   NaN  \n",
       "2019-10-12   NaN   NaN  \n",
       "2019-10-13   NaN   NaN  \n",
       "2019-10-14   NaN   NaN  \n",
       "2019-10-15   NaN   NaN  \n",
       "2019-10-16   NaN   NaN  \n",
       "2019-10-17   NaN   NaN  \n",
       "2019-10-18   NaN   NaN  \n",
       "2019-10-19   NaN   NaN  \n",
       "2019-10-20   NaN   NaN  \n",
       "2019-10-21   NaN   NaN  \n",
       "2019-10-22   NaN   NaN  \n",
       "2019-10-23   NaN   NaN  \n",
       "2019-10-24   NaN   NaN  \n",
       "2019-10-25   NaN   NaN  \n",
       "2019-10-26   NaN   NaN  \n",
       "2019-10-27   NaN   NaN  \n",
       "2019-10-28   NaN   NaN  \n",
       "2019-10-29   NaN   NaN  \n",
       "2019-10-30   NaN   NaN  \n",
       "2019-10-31   NaN   NaN  \n",
       "2019-11-01   NaN   NaN  \n",
       "2019-11-02   NaN   NaN  \n",
       "2019-11-03   NaN   NaN  \n",
       "\n",
       "[28 rows x 28 columns]"
      ]
     },
     "execution_count": 34,
     "metadata": {},
     "output_type": "execute_result"
    }
   ],
   "source": [
    "# pivot table of signup and life time\n",
    "cohort_counts = cohort_data.pivot(index='signup', columns='seniority', values='id')\n",
    "cohort_counts"
   ]
  },
  {
   "cell_type": "code",
   "execution_count": 35,
   "id": "9e06c2f2",
   "metadata": {},
   "outputs": [
    {
     "data": {
      "text/plain": [
       "21"
      ]
     },
     "execution_count": 35,
     "metadata": {},
     "output_type": "execute_result"
    }
   ],
   "source": [
    "# max data with reghard of 7 day horizont \n",
    "max_data = len(cohort_counts[1])-7\n",
    "max_data\n"
   ]
  },
  {
   "cell_type": "code",
   "execution_count": 36,
   "id": "77bae86e",
   "metadata": {},
   "outputs": [
    {
     "data": {
      "text/html": [
       "<div>\n",
       "<style scoped>\n",
       "    .dataframe tbody tr th:only-of-type {\n",
       "        vertical-align: middle;\n",
       "    }\n",
       "\n",
       "    .dataframe tbody tr th {\n",
       "        vertical-align: top;\n",
       "    }\n",
       "\n",
       "    .dataframe thead th {\n",
       "        text-align: right;\n",
       "    }\n",
       "</style>\n",
       "<table border=\"1\" class=\"dataframe\">\n",
       "  <thead>\n",
       "    <tr style=\"text-align: right;\">\n",
       "      <th>seniority</th>\n",
       "      <th>2</th>\n",
       "      <th>3</th>\n",
       "      <th>4</th>\n",
       "      <th>5</th>\n",
       "      <th>6</th>\n",
       "      <th>7</th>\n",
       "    </tr>\n",
       "    <tr>\n",
       "      <th>signup</th>\n",
       "      <th></th>\n",
       "      <th></th>\n",
       "      <th></th>\n",
       "      <th></th>\n",
       "      <th></th>\n",
       "      <th></th>\n",
       "    </tr>\n",
       "  </thead>\n",
       "  <tbody>\n",
       "    <tr>\n",
       "      <th>2019-10-07</th>\n",
       "      <td>453.0</td>\n",
       "      <td>201.0</td>\n",
       "      <td>190.0</td>\n",
       "      <td>87.0</td>\n",
       "      <td>90.0</td>\n",
       "      <td>103.0</td>\n",
       "    </tr>\n",
       "    <tr>\n",
       "      <th>2019-10-08</th>\n",
       "      <td>249.0</td>\n",
       "      <td>176.0</td>\n",
       "      <td>134.0</td>\n",
       "      <td>19.0</td>\n",
       "      <td>48.0</td>\n",
       "      <td>77.0</td>\n",
       "    </tr>\n",
       "    <tr>\n",
       "      <th>2019-10-09</th>\n",
       "      <td>113.0</td>\n",
       "      <td>147.0</td>\n",
       "      <td>30.0</td>\n",
       "      <td>27.0</td>\n",
       "      <td>68.0</td>\n",
       "      <td>56.0</td>\n",
       "    </tr>\n",
       "    <tr>\n",
       "      <th>2019-10-10</th>\n",
       "      <td>320.0</td>\n",
       "      <td>105.0</td>\n",
       "      <td>121.0</td>\n",
       "      <td>225.0</td>\n",
       "      <td>178.0</td>\n",
       "      <td>92.0</td>\n",
       "    </tr>\n",
       "    <tr>\n",
       "      <th>2019-10-11</th>\n",
       "      <td>142.0</td>\n",
       "      <td>79.0</td>\n",
       "      <td>101.0</td>\n",
       "      <td>91.0</td>\n",
       "      <td>67.0</td>\n",
       "      <td>41.0</td>\n",
       "    </tr>\n",
       "    <tr>\n",
       "      <th>2019-10-12</th>\n",
       "      <td>481.0</td>\n",
       "      <td>105.0</td>\n",
       "      <td>66.0</td>\n",
       "      <td>69.0</td>\n",
       "      <td>101.0</td>\n",
       "      <td>129.0</td>\n",
       "    </tr>\n",
       "    <tr>\n",
       "      <th>2019-10-13</th>\n",
       "      <td>240.0</td>\n",
       "      <td>107.0</td>\n",
       "      <td>86.0</td>\n",
       "      <td>94.0</td>\n",
       "      <td>66.0</td>\n",
       "      <td>24.0</td>\n",
       "    </tr>\n",
       "    <tr>\n",
       "      <th>2019-10-14</th>\n",
       "      <td>203.0</td>\n",
       "      <td>99.0</td>\n",
       "      <td>116.0</td>\n",
       "      <td>105.0</td>\n",
       "      <td>142.0</td>\n",
       "      <td>105.0</td>\n",
       "    </tr>\n",
       "    <tr>\n",
       "      <th>2019-10-15</th>\n",
       "      <td>283.0</td>\n",
       "      <td>111.0</td>\n",
       "      <td>119.0</td>\n",
       "      <td>60.0</td>\n",
       "      <td>127.0</td>\n",
       "      <td>46.0</td>\n",
       "    </tr>\n",
       "    <tr>\n",
       "      <th>2019-10-16</th>\n",
       "      <td>223.0</td>\n",
       "      <td>176.0</td>\n",
       "      <td>34.0</td>\n",
       "      <td>37.0</td>\n",
       "      <td>69.0</td>\n",
       "      <td>47.0</td>\n",
       "    </tr>\n",
       "    <tr>\n",
       "      <th>2019-10-17</th>\n",
       "      <td>290.0</td>\n",
       "      <td>102.0</td>\n",
       "      <td>118.0</td>\n",
       "      <td>63.0</td>\n",
       "      <td>98.0</td>\n",
       "      <td>182.0</td>\n",
       "    </tr>\n",
       "    <tr>\n",
       "      <th>2019-10-18</th>\n",
       "      <td>139.0</td>\n",
       "      <td>116.0</td>\n",
       "      <td>74.0</td>\n",
       "      <td>116.0</td>\n",
       "      <td>108.0</td>\n",
       "      <td>153.0</td>\n",
       "    </tr>\n",
       "    <tr>\n",
       "      <th>2019-10-19</th>\n",
       "      <td>140.0</td>\n",
       "      <td>156.0</td>\n",
       "      <td>67.0</td>\n",
       "      <td>38.0</td>\n",
       "      <td>58.0</td>\n",
       "      <td>29.0</td>\n",
       "    </tr>\n",
       "    <tr>\n",
       "      <th>2019-10-20</th>\n",
       "      <td>169.0</td>\n",
       "      <td>114.0</td>\n",
       "      <td>122.0</td>\n",
       "      <td>80.0</td>\n",
       "      <td>61.0</td>\n",
       "      <td>52.0</td>\n",
       "    </tr>\n",
       "    <tr>\n",
       "      <th>2019-10-21</th>\n",
       "      <td>108.0</td>\n",
       "      <td>169.0</td>\n",
       "      <td>130.0</td>\n",
       "      <td>104.0</td>\n",
       "      <td>56.0</td>\n",
       "      <td>28.0</td>\n",
       "    </tr>\n",
       "    <tr>\n",
       "      <th>2019-10-22</th>\n",
       "      <td>120.0</td>\n",
       "      <td>163.0</td>\n",
       "      <td>103.0</td>\n",
       "      <td>155.0</td>\n",
       "      <td>37.0</td>\n",
       "      <td>89.0</td>\n",
       "    </tr>\n",
       "    <tr>\n",
       "      <th>2019-10-23</th>\n",
       "      <td>219.0</td>\n",
       "      <td>114.0</td>\n",
       "      <td>69.0</td>\n",
       "      <td>32.0</td>\n",
       "      <td>99.0</td>\n",
       "      <td>41.0</td>\n",
       "    </tr>\n",
       "    <tr>\n",
       "      <th>2019-10-24</th>\n",
       "      <td>178.0</td>\n",
       "      <td>144.0</td>\n",
       "      <td>107.0</td>\n",
       "      <td>33.0</td>\n",
       "      <td>50.0</td>\n",
       "      <td>64.0</td>\n",
       "    </tr>\n",
       "    <tr>\n",
       "      <th>2019-10-25</th>\n",
       "      <td>182.0</td>\n",
       "      <td>108.0</td>\n",
       "      <td>132.0</td>\n",
       "      <td>100.0</td>\n",
       "      <td>47.0</td>\n",
       "      <td>84.0</td>\n",
       "    </tr>\n",
       "    <tr>\n",
       "      <th>2019-10-26</th>\n",
       "      <td>341.0</td>\n",
       "      <td>92.0</td>\n",
       "      <td>102.0</td>\n",
       "      <td>150.0</td>\n",
       "      <td>77.0</td>\n",
       "      <td>38.0</td>\n",
       "    </tr>\n",
       "    <tr>\n",
       "      <th>2019-10-27</th>\n",
       "      <td>113.0</td>\n",
       "      <td>46.0</td>\n",
       "      <td>115.0</td>\n",
       "      <td>81.0</td>\n",
       "      <td>110.0</td>\n",
       "      <td>46.0</td>\n",
       "    </tr>\n",
       "  </tbody>\n",
       "</table>\n",
       "</div>"
      ],
      "text/plain": [
       "seniority       2      3      4      5      6      7\n",
       "signup                                              \n",
       "2019-10-07  453.0  201.0  190.0   87.0   90.0  103.0\n",
       "2019-10-08  249.0  176.0  134.0   19.0   48.0   77.0\n",
       "2019-10-09  113.0  147.0   30.0   27.0   68.0   56.0\n",
       "2019-10-10  320.0  105.0  121.0  225.0  178.0   92.0\n",
       "2019-10-11  142.0   79.0  101.0   91.0   67.0   41.0\n",
       "2019-10-12  481.0  105.0   66.0   69.0  101.0  129.0\n",
       "2019-10-13  240.0  107.0   86.0   94.0   66.0   24.0\n",
       "2019-10-14  203.0   99.0  116.0  105.0  142.0  105.0\n",
       "2019-10-15  283.0  111.0  119.0   60.0  127.0   46.0\n",
       "2019-10-16  223.0  176.0   34.0   37.0   69.0   47.0\n",
       "2019-10-17  290.0  102.0  118.0   63.0   98.0  182.0\n",
       "2019-10-18  139.0  116.0   74.0  116.0  108.0  153.0\n",
       "2019-10-19  140.0  156.0   67.0   38.0   58.0   29.0\n",
       "2019-10-20  169.0  114.0  122.0   80.0   61.0   52.0\n",
       "2019-10-21  108.0  169.0  130.0  104.0   56.0   28.0\n",
       "2019-10-22  120.0  163.0  103.0  155.0   37.0   89.0\n",
       "2019-10-23  219.0  114.0   69.0   32.0   99.0   41.0\n",
       "2019-10-24  178.0  144.0  107.0   33.0   50.0   64.0\n",
       "2019-10-25  182.0  108.0  132.0  100.0   47.0   84.0\n",
       "2019-10-26  341.0   92.0  102.0  150.0   77.0   38.0\n",
       "2019-10-27  113.0   46.0  115.0   81.0  110.0   46.0"
      ]
     },
     "execution_count": 36,
     "metadata": {},
     "output_type": "execute_result"
    }
   ],
   "source": [
    "# cohort with hotisont 7 day\n",
    "cohort_counts_group = cohort_counts.iloc[0:max_data,1:7]\n",
    "cohort_counts_group"
   ]
  },
  {
   "cell_type": "code",
   "execution_count": 37,
   "id": "20357c6d",
   "metadata": {},
   "outputs": [
    {
     "data": {
      "text/html": [
       "<div>\n",
       "<style scoped>\n",
       "    .dataframe tbody tr th:only-of-type {\n",
       "        vertical-align: middle;\n",
       "    }\n",
       "\n",
       "    .dataframe tbody tr th {\n",
       "        vertical-align: top;\n",
       "    }\n",
       "\n",
       "    .dataframe thead th {\n",
       "        text-align: right;\n",
       "    }\n",
       "</style>\n",
       "<table border=\"1\" class=\"dataframe\">\n",
       "  <thead>\n",
       "    <tr style=\"text-align: right;\">\n",
       "      <th>seniority</th>\n",
       "      <th>1</th>\n",
       "      <th>2</th>\n",
       "      <th>3</th>\n",
       "      <th>4</th>\n",
       "      <th>5</th>\n",
       "      <th>6</th>\n",
       "      <th>7</th>\n",
       "      <th>8</th>\n",
       "      <th>9</th>\n",
       "      <th>10</th>\n",
       "      <th>...</th>\n",
       "      <th>19</th>\n",
       "      <th>20</th>\n",
       "      <th>21</th>\n",
       "      <th>22</th>\n",
       "      <th>23</th>\n",
       "      <th>24</th>\n",
       "      <th>25</th>\n",
       "      <th>26</th>\n",
       "      <th>27</th>\n",
       "      <th>28</th>\n",
       "    </tr>\n",
       "    <tr>\n",
       "      <th>signup</th>\n",
       "      <th></th>\n",
       "      <th></th>\n",
       "      <th></th>\n",
       "      <th></th>\n",
       "      <th></th>\n",
       "      <th></th>\n",
       "      <th></th>\n",
       "      <th></th>\n",
       "      <th></th>\n",
       "      <th></th>\n",
       "      <th></th>\n",
       "      <th></th>\n",
       "      <th></th>\n",
       "      <th></th>\n",
       "      <th></th>\n",
       "      <th></th>\n",
       "      <th></th>\n",
       "      <th></th>\n",
       "      <th></th>\n",
       "      <th></th>\n",
       "      <th></th>\n",
       "    </tr>\n",
       "  </thead>\n",
       "  <tbody>\n",
       "    <tr>\n",
       "      <th>2019-10-07</th>\n",
       "      <td>1.0</td>\n",
       "      <td>0.178</td>\n",
       "      <td>0.079</td>\n",
       "      <td>0.075</td>\n",
       "      <td>0.034</td>\n",
       "      <td>0.035</td>\n",
       "      <td>0.040</td>\n",
       "      <td>0.047</td>\n",
       "      <td>0.024</td>\n",
       "      <td>0.035</td>\n",
       "      <td>...</td>\n",
       "      <td>0.011</td>\n",
       "      <td>0.047</td>\n",
       "      <td>0.003</td>\n",
       "      <td>0.043</td>\n",
       "      <td>0.057</td>\n",
       "      <td>0.026</td>\n",
       "      <td>0.031</td>\n",
       "      <td>0.055</td>\n",
       "      <td>0.004</td>\n",
       "      <td>0.038</td>\n",
       "    </tr>\n",
       "    <tr>\n",
       "      <th>2019-10-08</th>\n",
       "      <td>1.0</td>\n",
       "      <td>0.122</td>\n",
       "      <td>0.086</td>\n",
       "      <td>0.065</td>\n",
       "      <td>0.009</td>\n",
       "      <td>0.023</td>\n",
       "      <td>0.038</td>\n",
       "      <td>0.032</td>\n",
       "      <td>0.043</td>\n",
       "      <td>0.032</td>\n",
       "      <td>...</td>\n",
       "      <td>0.008</td>\n",
       "      <td>0.017</td>\n",
       "      <td>0.019</td>\n",
       "      <td>0.003</td>\n",
       "      <td>0.007</td>\n",
       "      <td>0.014</td>\n",
       "      <td>0.047</td>\n",
       "      <td>0.008</td>\n",
       "      <td>0.022</td>\n",
       "      <td>NaN</td>\n",
       "    </tr>\n",
       "    <tr>\n",
       "      <th>2019-10-09</th>\n",
       "      <td>1.0</td>\n",
       "      <td>0.072</td>\n",
       "      <td>0.093</td>\n",
       "      <td>0.019</td>\n",
       "      <td>0.017</td>\n",
       "      <td>0.043</td>\n",
       "      <td>0.036</td>\n",
       "      <td>0.039</td>\n",
       "      <td>0.061</td>\n",
       "      <td>0.060</td>\n",
       "      <td>...</td>\n",
       "      <td>0.001</td>\n",
       "      <td>0.016</td>\n",
       "      <td>0.021</td>\n",
       "      <td>0.024</td>\n",
       "      <td>0.016</td>\n",
       "      <td>0.030</td>\n",
       "      <td>0.011</td>\n",
       "      <td>0.025</td>\n",
       "      <td>NaN</td>\n",
       "      <td>NaN</td>\n",
       "    </tr>\n",
       "    <tr>\n",
       "      <th>2019-10-10</th>\n",
       "      <td>1.0</td>\n",
       "      <td>0.181</td>\n",
       "      <td>0.060</td>\n",
       "      <td>0.069</td>\n",
       "      <td>0.128</td>\n",
       "      <td>0.101</td>\n",
       "      <td>0.052</td>\n",
       "      <td>0.049</td>\n",
       "      <td>0.057</td>\n",
       "      <td>0.039</td>\n",
       "      <td>...</td>\n",
       "      <td>0.018</td>\n",
       "      <td>0.015</td>\n",
       "      <td>0.010</td>\n",
       "      <td>0.010</td>\n",
       "      <td>0.016</td>\n",
       "      <td>0.007</td>\n",
       "      <td>0.007</td>\n",
       "      <td>NaN</td>\n",
       "      <td>NaN</td>\n",
       "      <td>NaN</td>\n",
       "    </tr>\n",
       "    <tr>\n",
       "      <th>2019-10-11</th>\n",
       "      <td>1.0</td>\n",
       "      <td>0.106</td>\n",
       "      <td>0.059</td>\n",
       "      <td>0.075</td>\n",
       "      <td>0.068</td>\n",
       "      <td>0.050</td>\n",
       "      <td>0.031</td>\n",
       "      <td>0.028</td>\n",
       "      <td>0.004</td>\n",
       "      <td>NaN</td>\n",
       "      <td>...</td>\n",
       "      <td>0.129</td>\n",
       "      <td>0.065</td>\n",
       "      <td>0.016</td>\n",
       "      <td>0.023</td>\n",
       "      <td>0.022</td>\n",
       "      <td>0.018</td>\n",
       "      <td>NaN</td>\n",
       "      <td>NaN</td>\n",
       "      <td>NaN</td>\n",
       "      <td>NaN</td>\n",
       "    </tr>\n",
       "    <tr>\n",
       "      <th>2019-10-12</th>\n",
       "      <td>1.0</td>\n",
       "      <td>0.330</td>\n",
       "      <td>0.072</td>\n",
       "      <td>0.045</td>\n",
       "      <td>0.047</td>\n",
       "      <td>0.069</td>\n",
       "      <td>0.089</td>\n",
       "      <td>0.056</td>\n",
       "      <td>0.051</td>\n",
       "      <td>0.018</td>\n",
       "      <td>...</td>\n",
       "      <td>0.008</td>\n",
       "      <td>0.008</td>\n",
       "      <td>0.002</td>\n",
       "      <td>0.050</td>\n",
       "      <td>0.057</td>\n",
       "      <td>NaN</td>\n",
       "      <td>NaN</td>\n",
       "      <td>NaN</td>\n",
       "      <td>NaN</td>\n",
       "      <td>NaN</td>\n",
       "    </tr>\n",
       "    <tr>\n",
       "      <th>2019-10-13</th>\n",
       "      <td>1.0</td>\n",
       "      <td>0.135</td>\n",
       "      <td>0.060</td>\n",
       "      <td>0.048</td>\n",
       "      <td>0.053</td>\n",
       "      <td>0.037</td>\n",
       "      <td>0.014</td>\n",
       "      <td>0.024</td>\n",
       "      <td>0.017</td>\n",
       "      <td>0.028</td>\n",
       "      <td>...</td>\n",
       "      <td>0.041</td>\n",
       "      <td>0.006</td>\n",
       "      <td>0.005</td>\n",
       "      <td>0.017</td>\n",
       "      <td>NaN</td>\n",
       "      <td>NaN</td>\n",
       "      <td>NaN</td>\n",
       "      <td>NaN</td>\n",
       "      <td>NaN</td>\n",
       "      <td>NaN</td>\n",
       "    </tr>\n",
       "    <tr>\n",
       "      <th>2019-10-14</th>\n",
       "      <td>1.0</td>\n",
       "      <td>0.097</td>\n",
       "      <td>0.047</td>\n",
       "      <td>0.055</td>\n",
       "      <td>0.050</td>\n",
       "      <td>0.068</td>\n",
       "      <td>0.050</td>\n",
       "      <td>0.031</td>\n",
       "      <td>0.032</td>\n",
       "      <td>0.025</td>\n",
       "      <td>...</td>\n",
       "      <td>0.004</td>\n",
       "      <td>0.000</td>\n",
       "      <td>0.009</td>\n",
       "      <td>NaN</td>\n",
       "      <td>NaN</td>\n",
       "      <td>NaN</td>\n",
       "      <td>NaN</td>\n",
       "      <td>NaN</td>\n",
       "      <td>NaN</td>\n",
       "      <td>NaN</td>\n",
       "    </tr>\n",
       "    <tr>\n",
       "      <th>2019-10-15</th>\n",
       "      <td>1.0</td>\n",
       "      <td>0.149</td>\n",
       "      <td>0.059</td>\n",
       "      <td>0.063</td>\n",
       "      <td>0.032</td>\n",
       "      <td>0.067</td>\n",
       "      <td>0.024</td>\n",
       "      <td>0.034</td>\n",
       "      <td>0.046</td>\n",
       "      <td>0.025</td>\n",
       "      <td>...</td>\n",
       "      <td>0.016</td>\n",
       "      <td>0.005</td>\n",
       "      <td>NaN</td>\n",
       "      <td>NaN</td>\n",
       "      <td>NaN</td>\n",
       "      <td>NaN</td>\n",
       "      <td>NaN</td>\n",
       "      <td>NaN</td>\n",
       "      <td>NaN</td>\n",
       "      <td>NaN</td>\n",
       "    </tr>\n",
       "    <tr>\n",
       "      <th>2019-10-16</th>\n",
       "      <td>1.0</td>\n",
       "      <td>0.124</td>\n",
       "      <td>0.098</td>\n",
       "      <td>0.019</td>\n",
       "      <td>0.021</td>\n",
       "      <td>0.038</td>\n",
       "      <td>0.026</td>\n",
       "      <td>0.070</td>\n",
       "      <td>0.076</td>\n",
       "      <td>0.024</td>\n",
       "      <td>...</td>\n",
       "      <td>0.021</td>\n",
       "      <td>NaN</td>\n",
       "      <td>NaN</td>\n",
       "      <td>NaN</td>\n",
       "      <td>NaN</td>\n",
       "      <td>NaN</td>\n",
       "      <td>NaN</td>\n",
       "      <td>NaN</td>\n",
       "      <td>NaN</td>\n",
       "      <td>NaN</td>\n",
       "    </tr>\n",
       "    <tr>\n",
       "      <th>2019-10-17</th>\n",
       "      <td>1.0</td>\n",
       "      <td>0.189</td>\n",
       "      <td>0.067</td>\n",
       "      <td>0.077</td>\n",
       "      <td>0.041</td>\n",
       "      <td>0.064</td>\n",
       "      <td>0.119</td>\n",
       "      <td>0.044</td>\n",
       "      <td>0.027</td>\n",
       "      <td>0.059</td>\n",
       "      <td>...</td>\n",
       "      <td>NaN</td>\n",
       "      <td>NaN</td>\n",
       "      <td>NaN</td>\n",
       "      <td>NaN</td>\n",
       "      <td>NaN</td>\n",
       "      <td>NaN</td>\n",
       "      <td>NaN</td>\n",
       "      <td>NaN</td>\n",
       "      <td>NaN</td>\n",
       "      <td>NaN</td>\n",
       "    </tr>\n",
       "    <tr>\n",
       "      <th>2019-10-18</th>\n",
       "      <td>1.0</td>\n",
       "      <td>0.095</td>\n",
       "      <td>0.079</td>\n",
       "      <td>0.050</td>\n",
       "      <td>0.079</td>\n",
       "      <td>0.074</td>\n",
       "      <td>0.104</td>\n",
       "      <td>0.044</td>\n",
       "      <td>0.134</td>\n",
       "      <td>0.060</td>\n",
       "      <td>...</td>\n",
       "      <td>NaN</td>\n",
       "      <td>NaN</td>\n",
       "      <td>NaN</td>\n",
       "      <td>NaN</td>\n",
       "      <td>NaN</td>\n",
       "      <td>NaN</td>\n",
       "      <td>NaN</td>\n",
       "      <td>NaN</td>\n",
       "      <td>NaN</td>\n",
       "      <td>NaN</td>\n",
       "    </tr>\n",
       "    <tr>\n",
       "      <th>2019-10-19</th>\n",
       "      <td>1.0</td>\n",
       "      <td>0.090</td>\n",
       "      <td>0.101</td>\n",
       "      <td>0.043</td>\n",
       "      <td>0.024</td>\n",
       "      <td>0.037</td>\n",
       "      <td>0.019</td>\n",
       "      <td>0.084</td>\n",
       "      <td>0.040</td>\n",
       "      <td>0.024</td>\n",
       "      <td>...</td>\n",
       "      <td>NaN</td>\n",
       "      <td>NaN</td>\n",
       "      <td>NaN</td>\n",
       "      <td>NaN</td>\n",
       "      <td>NaN</td>\n",
       "      <td>NaN</td>\n",
       "      <td>NaN</td>\n",
       "      <td>NaN</td>\n",
       "      <td>NaN</td>\n",
       "      <td>NaN</td>\n",
       "    </tr>\n",
       "    <tr>\n",
       "      <th>2019-10-20</th>\n",
       "      <td>1.0</td>\n",
       "      <td>0.137</td>\n",
       "      <td>0.092</td>\n",
       "      <td>0.099</td>\n",
       "      <td>0.065</td>\n",
       "      <td>0.049</td>\n",
       "      <td>0.042</td>\n",
       "      <td>0.049</td>\n",
       "      <td>0.021</td>\n",
       "      <td>0.005</td>\n",
       "      <td>...</td>\n",
       "      <td>NaN</td>\n",
       "      <td>NaN</td>\n",
       "      <td>NaN</td>\n",
       "      <td>NaN</td>\n",
       "      <td>NaN</td>\n",
       "      <td>NaN</td>\n",
       "      <td>NaN</td>\n",
       "      <td>NaN</td>\n",
       "      <td>NaN</td>\n",
       "      <td>NaN</td>\n",
       "    </tr>\n",
       "    <tr>\n",
       "      <th>2019-10-21</th>\n",
       "      <td>1.0</td>\n",
       "      <td>0.064</td>\n",
       "      <td>0.100</td>\n",
       "      <td>0.077</td>\n",
       "      <td>0.061</td>\n",
       "      <td>0.033</td>\n",
       "      <td>0.017</td>\n",
       "      <td>0.081</td>\n",
       "      <td>0.043</td>\n",
       "      <td>0.013</td>\n",
       "      <td>...</td>\n",
       "      <td>NaN</td>\n",
       "      <td>NaN</td>\n",
       "      <td>NaN</td>\n",
       "      <td>NaN</td>\n",
       "      <td>NaN</td>\n",
       "      <td>NaN</td>\n",
       "      <td>NaN</td>\n",
       "      <td>NaN</td>\n",
       "      <td>NaN</td>\n",
       "      <td>NaN</td>\n",
       "    </tr>\n",
       "    <tr>\n",
       "      <th>2019-10-22</th>\n",
       "      <td>1.0</td>\n",
       "      <td>0.081</td>\n",
       "      <td>0.111</td>\n",
       "      <td>0.070</td>\n",
       "      <td>0.105</td>\n",
       "      <td>0.025</td>\n",
       "      <td>0.060</td>\n",
       "      <td>0.101</td>\n",
       "      <td>0.062</td>\n",
       "      <td>0.036</td>\n",
       "      <td>...</td>\n",
       "      <td>NaN</td>\n",
       "      <td>NaN</td>\n",
       "      <td>NaN</td>\n",
       "      <td>NaN</td>\n",
       "      <td>NaN</td>\n",
       "      <td>NaN</td>\n",
       "      <td>NaN</td>\n",
       "      <td>NaN</td>\n",
       "      <td>NaN</td>\n",
       "      <td>NaN</td>\n",
       "    </tr>\n",
       "    <tr>\n",
       "      <th>2019-10-23</th>\n",
       "      <td>1.0</td>\n",
       "      <td>0.123</td>\n",
       "      <td>0.064</td>\n",
       "      <td>0.039</td>\n",
       "      <td>0.018</td>\n",
       "      <td>0.056</td>\n",
       "      <td>0.023</td>\n",
       "      <td>0.067</td>\n",
       "      <td>0.033</td>\n",
       "      <td>0.017</td>\n",
       "      <td>...</td>\n",
       "      <td>NaN</td>\n",
       "      <td>NaN</td>\n",
       "      <td>NaN</td>\n",
       "      <td>NaN</td>\n",
       "      <td>NaN</td>\n",
       "      <td>NaN</td>\n",
       "      <td>NaN</td>\n",
       "      <td>NaN</td>\n",
       "      <td>NaN</td>\n",
       "      <td>NaN</td>\n",
       "    </tr>\n",
       "    <tr>\n",
       "      <th>2019-10-24</th>\n",
       "      <td>1.0</td>\n",
       "      <td>0.111</td>\n",
       "      <td>0.090</td>\n",
       "      <td>0.067</td>\n",
       "      <td>0.021</td>\n",
       "      <td>0.031</td>\n",
       "      <td>0.040</td>\n",
       "      <td>0.022</td>\n",
       "      <td>0.063</td>\n",
       "      <td>0.013</td>\n",
       "      <td>...</td>\n",
       "      <td>NaN</td>\n",
       "      <td>NaN</td>\n",
       "      <td>NaN</td>\n",
       "      <td>NaN</td>\n",
       "      <td>NaN</td>\n",
       "      <td>NaN</td>\n",
       "      <td>NaN</td>\n",
       "      <td>NaN</td>\n",
       "      <td>NaN</td>\n",
       "      <td>NaN</td>\n",
       "    </tr>\n",
       "    <tr>\n",
       "      <th>2019-10-25</th>\n",
       "      <td>1.0</td>\n",
       "      <td>0.126</td>\n",
       "      <td>0.075</td>\n",
       "      <td>0.091</td>\n",
       "      <td>0.069</td>\n",
       "      <td>0.032</td>\n",
       "      <td>0.058</td>\n",
       "      <td>0.066</td>\n",
       "      <td>0.039</td>\n",
       "      <td>0.044</td>\n",
       "      <td>...</td>\n",
       "      <td>NaN</td>\n",
       "      <td>NaN</td>\n",
       "      <td>NaN</td>\n",
       "      <td>NaN</td>\n",
       "      <td>NaN</td>\n",
       "      <td>NaN</td>\n",
       "      <td>NaN</td>\n",
       "      <td>NaN</td>\n",
       "      <td>NaN</td>\n",
       "      <td>NaN</td>\n",
       "    </tr>\n",
       "    <tr>\n",
       "      <th>2019-10-26</th>\n",
       "      <td>1.0</td>\n",
       "      <td>0.216</td>\n",
       "      <td>0.058</td>\n",
       "      <td>0.065</td>\n",
       "      <td>0.095</td>\n",
       "      <td>0.049</td>\n",
       "      <td>0.024</td>\n",
       "      <td>0.028</td>\n",
       "      <td>0.072</td>\n",
       "      <td>NaN</td>\n",
       "      <td>...</td>\n",
       "      <td>NaN</td>\n",
       "      <td>NaN</td>\n",
       "      <td>NaN</td>\n",
       "      <td>NaN</td>\n",
       "      <td>NaN</td>\n",
       "      <td>NaN</td>\n",
       "      <td>NaN</td>\n",
       "      <td>NaN</td>\n",
       "      <td>NaN</td>\n",
       "      <td>NaN</td>\n",
       "    </tr>\n",
       "    <tr>\n",
       "      <th>2019-10-27</th>\n",
       "      <td>1.0</td>\n",
       "      <td>0.070</td>\n",
       "      <td>0.028</td>\n",
       "      <td>0.071</td>\n",
       "      <td>0.050</td>\n",
       "      <td>0.068</td>\n",
       "      <td>0.028</td>\n",
       "      <td>0.087</td>\n",
       "      <td>NaN</td>\n",
       "      <td>NaN</td>\n",
       "      <td>...</td>\n",
       "      <td>NaN</td>\n",
       "      <td>NaN</td>\n",
       "      <td>NaN</td>\n",
       "      <td>NaN</td>\n",
       "      <td>NaN</td>\n",
       "      <td>NaN</td>\n",
       "      <td>NaN</td>\n",
       "      <td>NaN</td>\n",
       "      <td>NaN</td>\n",
       "      <td>NaN</td>\n",
       "    </tr>\n",
       "    <tr>\n",
       "      <th>2019-10-28</th>\n",
       "      <td>1.0</td>\n",
       "      <td>0.139</td>\n",
       "      <td>0.093</td>\n",
       "      <td>0.109</td>\n",
       "      <td>0.028</td>\n",
       "      <td>0.010</td>\n",
       "      <td>0.011</td>\n",
       "      <td>NaN</td>\n",
       "      <td>NaN</td>\n",
       "      <td>NaN</td>\n",
       "      <td>...</td>\n",
       "      <td>NaN</td>\n",
       "      <td>NaN</td>\n",
       "      <td>NaN</td>\n",
       "      <td>NaN</td>\n",
       "      <td>NaN</td>\n",
       "      <td>NaN</td>\n",
       "      <td>NaN</td>\n",
       "      <td>NaN</td>\n",
       "      <td>NaN</td>\n",
       "      <td>NaN</td>\n",
       "    </tr>\n",
       "    <tr>\n",
       "      <th>2019-10-29</th>\n",
       "      <td>1.0</td>\n",
       "      <td>0.145</td>\n",
       "      <td>0.080</td>\n",
       "      <td>0.076</td>\n",
       "      <td>0.066</td>\n",
       "      <td>0.021</td>\n",
       "      <td>NaN</td>\n",
       "      <td>NaN</td>\n",
       "      <td>NaN</td>\n",
       "      <td>NaN</td>\n",
       "      <td>...</td>\n",
       "      <td>NaN</td>\n",
       "      <td>NaN</td>\n",
       "      <td>NaN</td>\n",
       "      <td>NaN</td>\n",
       "      <td>NaN</td>\n",
       "      <td>NaN</td>\n",
       "      <td>NaN</td>\n",
       "      <td>NaN</td>\n",
       "      <td>NaN</td>\n",
       "      <td>NaN</td>\n",
       "    </tr>\n",
       "    <tr>\n",
       "      <th>2019-10-30</th>\n",
       "      <td>1.0</td>\n",
       "      <td>0.210</td>\n",
       "      <td>0.080</td>\n",
       "      <td>0.037</td>\n",
       "      <td>0.025</td>\n",
       "      <td>NaN</td>\n",
       "      <td>NaN</td>\n",
       "      <td>NaN</td>\n",
       "      <td>NaN</td>\n",
       "      <td>NaN</td>\n",
       "      <td>...</td>\n",
       "      <td>NaN</td>\n",
       "      <td>NaN</td>\n",
       "      <td>NaN</td>\n",
       "      <td>NaN</td>\n",
       "      <td>NaN</td>\n",
       "      <td>NaN</td>\n",
       "      <td>NaN</td>\n",
       "      <td>NaN</td>\n",
       "      <td>NaN</td>\n",
       "      <td>NaN</td>\n",
       "    </tr>\n",
       "    <tr>\n",
       "      <th>2019-10-31</th>\n",
       "      <td>1.0</td>\n",
       "      <td>0.113</td>\n",
       "      <td>0.040</td>\n",
       "      <td>0.078</td>\n",
       "      <td>NaN</td>\n",
       "      <td>NaN</td>\n",
       "      <td>NaN</td>\n",
       "      <td>NaN</td>\n",
       "      <td>NaN</td>\n",
       "      <td>NaN</td>\n",
       "      <td>...</td>\n",
       "      <td>NaN</td>\n",
       "      <td>NaN</td>\n",
       "      <td>NaN</td>\n",
       "      <td>NaN</td>\n",
       "      <td>NaN</td>\n",
       "      <td>NaN</td>\n",
       "      <td>NaN</td>\n",
       "      <td>NaN</td>\n",
       "      <td>NaN</td>\n",
       "      <td>NaN</td>\n",
       "    </tr>\n",
       "    <tr>\n",
       "      <th>2019-11-01</th>\n",
       "      <td>1.0</td>\n",
       "      <td>0.267</td>\n",
       "      <td>0.100</td>\n",
       "      <td>NaN</td>\n",
       "      <td>NaN</td>\n",
       "      <td>NaN</td>\n",
       "      <td>NaN</td>\n",
       "      <td>NaN</td>\n",
       "      <td>NaN</td>\n",
       "      <td>NaN</td>\n",
       "      <td>...</td>\n",
       "      <td>NaN</td>\n",
       "      <td>NaN</td>\n",
       "      <td>NaN</td>\n",
       "      <td>NaN</td>\n",
       "      <td>NaN</td>\n",
       "      <td>NaN</td>\n",
       "      <td>NaN</td>\n",
       "      <td>NaN</td>\n",
       "      <td>NaN</td>\n",
       "      <td>NaN</td>\n",
       "    </tr>\n",
       "    <tr>\n",
       "      <th>2019-11-02</th>\n",
       "      <td>1.0</td>\n",
       "      <td>0.159</td>\n",
       "      <td>NaN</td>\n",
       "      <td>NaN</td>\n",
       "      <td>NaN</td>\n",
       "      <td>NaN</td>\n",
       "      <td>NaN</td>\n",
       "      <td>NaN</td>\n",
       "      <td>NaN</td>\n",
       "      <td>NaN</td>\n",
       "      <td>...</td>\n",
       "      <td>NaN</td>\n",
       "      <td>NaN</td>\n",
       "      <td>NaN</td>\n",
       "      <td>NaN</td>\n",
       "      <td>NaN</td>\n",
       "      <td>NaN</td>\n",
       "      <td>NaN</td>\n",
       "      <td>NaN</td>\n",
       "      <td>NaN</td>\n",
       "      <td>NaN</td>\n",
       "    </tr>\n",
       "    <tr>\n",
       "      <th>2019-11-03</th>\n",
       "      <td>1.0</td>\n",
       "      <td>NaN</td>\n",
       "      <td>NaN</td>\n",
       "      <td>NaN</td>\n",
       "      <td>NaN</td>\n",
       "      <td>NaN</td>\n",
       "      <td>NaN</td>\n",
       "      <td>NaN</td>\n",
       "      <td>NaN</td>\n",
       "      <td>NaN</td>\n",
       "      <td>...</td>\n",
       "      <td>NaN</td>\n",
       "      <td>NaN</td>\n",
       "      <td>NaN</td>\n",
       "      <td>NaN</td>\n",
       "      <td>NaN</td>\n",
       "      <td>NaN</td>\n",
       "      <td>NaN</td>\n",
       "      <td>NaN</td>\n",
       "      <td>NaN</td>\n",
       "      <td>NaN</td>\n",
       "    </tr>\n",
       "  </tbody>\n",
       "</table>\n",
       "<p>28 rows × 28 columns</p>\n",
       "</div>"
      ],
      "text/plain": [
       "seniority    1      2      3      4      5      6      7      8      9   \\\n",
       "signup                                                                    \n",
       "2019-10-07  1.0  0.178  0.079  0.075  0.034  0.035  0.040  0.047  0.024   \n",
       "2019-10-08  1.0  0.122  0.086  0.065  0.009  0.023  0.038  0.032  0.043   \n",
       "2019-10-09  1.0  0.072  0.093  0.019  0.017  0.043  0.036  0.039  0.061   \n",
       "2019-10-10  1.0  0.181  0.060  0.069  0.128  0.101  0.052  0.049  0.057   \n",
       "2019-10-11  1.0  0.106  0.059  0.075  0.068  0.050  0.031  0.028  0.004   \n",
       "2019-10-12  1.0  0.330  0.072  0.045  0.047  0.069  0.089  0.056  0.051   \n",
       "2019-10-13  1.0  0.135  0.060  0.048  0.053  0.037  0.014  0.024  0.017   \n",
       "2019-10-14  1.0  0.097  0.047  0.055  0.050  0.068  0.050  0.031  0.032   \n",
       "2019-10-15  1.0  0.149  0.059  0.063  0.032  0.067  0.024  0.034  0.046   \n",
       "2019-10-16  1.0  0.124  0.098  0.019  0.021  0.038  0.026  0.070  0.076   \n",
       "2019-10-17  1.0  0.189  0.067  0.077  0.041  0.064  0.119  0.044  0.027   \n",
       "2019-10-18  1.0  0.095  0.079  0.050  0.079  0.074  0.104  0.044  0.134   \n",
       "2019-10-19  1.0  0.090  0.101  0.043  0.024  0.037  0.019  0.084  0.040   \n",
       "2019-10-20  1.0  0.137  0.092  0.099  0.065  0.049  0.042  0.049  0.021   \n",
       "2019-10-21  1.0  0.064  0.100  0.077  0.061  0.033  0.017  0.081  0.043   \n",
       "2019-10-22  1.0  0.081  0.111  0.070  0.105  0.025  0.060  0.101  0.062   \n",
       "2019-10-23  1.0  0.123  0.064  0.039  0.018  0.056  0.023  0.067  0.033   \n",
       "2019-10-24  1.0  0.111  0.090  0.067  0.021  0.031  0.040  0.022  0.063   \n",
       "2019-10-25  1.0  0.126  0.075  0.091  0.069  0.032  0.058  0.066  0.039   \n",
       "2019-10-26  1.0  0.216  0.058  0.065  0.095  0.049  0.024  0.028  0.072   \n",
       "2019-10-27  1.0  0.070  0.028  0.071  0.050  0.068  0.028  0.087    NaN   \n",
       "2019-10-28  1.0  0.139  0.093  0.109  0.028  0.010  0.011    NaN    NaN   \n",
       "2019-10-29  1.0  0.145  0.080  0.076  0.066  0.021    NaN    NaN    NaN   \n",
       "2019-10-30  1.0  0.210  0.080  0.037  0.025    NaN    NaN    NaN    NaN   \n",
       "2019-10-31  1.0  0.113  0.040  0.078    NaN    NaN    NaN    NaN    NaN   \n",
       "2019-11-01  1.0  0.267  0.100    NaN    NaN    NaN    NaN    NaN    NaN   \n",
       "2019-11-02  1.0  0.159    NaN    NaN    NaN    NaN    NaN    NaN    NaN   \n",
       "2019-11-03  1.0    NaN    NaN    NaN    NaN    NaN    NaN    NaN    NaN   \n",
       "\n",
       "seniority      10  ...     19     20     21     22     23     24     25  \\\n",
       "signup             ...                                                    \n",
       "2019-10-07  0.035  ...  0.011  0.047  0.003  0.043  0.057  0.026  0.031   \n",
       "2019-10-08  0.032  ...  0.008  0.017  0.019  0.003  0.007  0.014  0.047   \n",
       "2019-10-09  0.060  ...  0.001  0.016  0.021  0.024  0.016  0.030  0.011   \n",
       "2019-10-10  0.039  ...  0.018  0.015  0.010  0.010  0.016  0.007  0.007   \n",
       "2019-10-11    NaN  ...  0.129  0.065  0.016  0.023  0.022  0.018    NaN   \n",
       "2019-10-12  0.018  ...  0.008  0.008  0.002  0.050  0.057    NaN    NaN   \n",
       "2019-10-13  0.028  ...  0.041  0.006  0.005  0.017    NaN    NaN    NaN   \n",
       "2019-10-14  0.025  ...  0.004  0.000  0.009    NaN    NaN    NaN    NaN   \n",
       "2019-10-15  0.025  ...  0.016  0.005    NaN    NaN    NaN    NaN    NaN   \n",
       "2019-10-16  0.024  ...  0.021    NaN    NaN    NaN    NaN    NaN    NaN   \n",
       "2019-10-17  0.059  ...    NaN    NaN    NaN    NaN    NaN    NaN    NaN   \n",
       "2019-10-18  0.060  ...    NaN    NaN    NaN    NaN    NaN    NaN    NaN   \n",
       "2019-10-19  0.024  ...    NaN    NaN    NaN    NaN    NaN    NaN    NaN   \n",
       "2019-10-20  0.005  ...    NaN    NaN    NaN    NaN    NaN    NaN    NaN   \n",
       "2019-10-21  0.013  ...    NaN    NaN    NaN    NaN    NaN    NaN    NaN   \n",
       "2019-10-22  0.036  ...    NaN    NaN    NaN    NaN    NaN    NaN    NaN   \n",
       "2019-10-23  0.017  ...    NaN    NaN    NaN    NaN    NaN    NaN    NaN   \n",
       "2019-10-24  0.013  ...    NaN    NaN    NaN    NaN    NaN    NaN    NaN   \n",
       "2019-10-25  0.044  ...    NaN    NaN    NaN    NaN    NaN    NaN    NaN   \n",
       "2019-10-26    NaN  ...    NaN    NaN    NaN    NaN    NaN    NaN    NaN   \n",
       "2019-10-27    NaN  ...    NaN    NaN    NaN    NaN    NaN    NaN    NaN   \n",
       "2019-10-28    NaN  ...    NaN    NaN    NaN    NaN    NaN    NaN    NaN   \n",
       "2019-10-29    NaN  ...    NaN    NaN    NaN    NaN    NaN    NaN    NaN   \n",
       "2019-10-30    NaN  ...    NaN    NaN    NaN    NaN    NaN    NaN    NaN   \n",
       "2019-10-31    NaN  ...    NaN    NaN    NaN    NaN    NaN    NaN    NaN   \n",
       "2019-11-01    NaN  ...    NaN    NaN    NaN    NaN    NaN    NaN    NaN   \n",
       "2019-11-02    NaN  ...    NaN    NaN    NaN    NaN    NaN    NaN    NaN   \n",
       "2019-11-03    NaN  ...    NaN    NaN    NaN    NaN    NaN    NaN    NaN   \n",
       "\n",
       "seniority      26     27     28  \n",
       "signup                           \n",
       "2019-10-07  0.055  0.004  0.038  \n",
       "2019-10-08  0.008  0.022    NaN  \n",
       "2019-10-09  0.025    NaN    NaN  \n",
       "2019-10-10    NaN    NaN    NaN  \n",
       "2019-10-11    NaN    NaN    NaN  \n",
       "2019-10-12    NaN    NaN    NaN  \n",
       "2019-10-13    NaN    NaN    NaN  \n",
       "2019-10-14    NaN    NaN    NaN  \n",
       "2019-10-15    NaN    NaN    NaN  \n",
       "2019-10-16    NaN    NaN    NaN  \n",
       "2019-10-17    NaN    NaN    NaN  \n",
       "2019-10-18    NaN    NaN    NaN  \n",
       "2019-10-19    NaN    NaN    NaN  \n",
       "2019-10-20    NaN    NaN    NaN  \n",
       "2019-10-21    NaN    NaN    NaN  \n",
       "2019-10-22    NaN    NaN    NaN  \n",
       "2019-10-23    NaN    NaN    NaN  \n",
       "2019-10-24    NaN    NaN    NaN  \n",
       "2019-10-25    NaN    NaN    NaN  \n",
       "2019-10-26    NaN    NaN    NaN  \n",
       "2019-10-27    NaN    NaN    NaN  \n",
       "2019-10-28    NaN    NaN    NaN  \n",
       "2019-10-29    NaN    NaN    NaN  \n",
       "2019-10-30    NaN    NaN    NaN  \n",
       "2019-10-31    NaN    NaN    NaN  \n",
       "2019-11-01    NaN    NaN    NaN  \n",
       "2019-11-02    NaN    NaN    NaN  \n",
       "2019-11-03    NaN    NaN    NaN  \n",
       "\n",
       "[28 rows x 28 columns]"
      ]
     },
     "execution_count": 37,
     "metadata": {},
     "output_type": "execute_result"
    }
   ],
   "source": [
    "#calculate  retention\n",
    "retention = cohort_counts.divide(cohort_counts[1], axis=0).round(3)\n",
    "retention"
   ]
  },
  {
   "cell_type": "code",
   "execution_count": 38,
   "id": "828288be",
   "metadata": {},
   "outputs": [
    {
     "data": {
      "text/html": [
       "<div>\n",
       "<style scoped>\n",
       "    .dataframe tbody tr th:only-of-type {\n",
       "        vertical-align: middle;\n",
       "    }\n",
       "\n",
       "    .dataframe tbody tr th {\n",
       "        vertical-align: top;\n",
       "    }\n",
       "\n",
       "    .dataframe thead th {\n",
       "        text-align: right;\n",
       "    }\n",
       "</style>\n",
       "<table border=\"1\" class=\"dataframe\">\n",
       "  <thead>\n",
       "    <tr style=\"text-align: right;\">\n",
       "      <th>seniority</th>\n",
       "      <th>2</th>\n",
       "      <th>3</th>\n",
       "      <th>4</th>\n",
       "      <th>5</th>\n",
       "      <th>6</th>\n",
       "      <th>7</th>\n",
       "    </tr>\n",
       "    <tr>\n",
       "      <th>signup</th>\n",
       "      <th></th>\n",
       "      <th></th>\n",
       "      <th></th>\n",
       "      <th></th>\n",
       "      <th></th>\n",
       "      <th></th>\n",
       "    </tr>\n",
       "  </thead>\n",
       "  <tbody>\n",
       "    <tr>\n",
       "      <th>2019-10-07</th>\n",
       "      <td>0.178</td>\n",
       "      <td>0.079</td>\n",
       "      <td>0.075</td>\n",
       "      <td>0.034</td>\n",
       "      <td>0.035</td>\n",
       "      <td>0.040</td>\n",
       "    </tr>\n",
       "    <tr>\n",
       "      <th>2019-10-08</th>\n",
       "      <td>0.122</td>\n",
       "      <td>0.086</td>\n",
       "      <td>0.065</td>\n",
       "      <td>0.009</td>\n",
       "      <td>0.023</td>\n",
       "      <td>0.038</td>\n",
       "    </tr>\n",
       "    <tr>\n",
       "      <th>2019-10-09</th>\n",
       "      <td>0.072</td>\n",
       "      <td>0.093</td>\n",
       "      <td>0.019</td>\n",
       "      <td>0.017</td>\n",
       "      <td>0.043</td>\n",
       "      <td>0.036</td>\n",
       "    </tr>\n",
       "    <tr>\n",
       "      <th>2019-10-10</th>\n",
       "      <td>0.181</td>\n",
       "      <td>0.060</td>\n",
       "      <td>0.069</td>\n",
       "      <td>0.128</td>\n",
       "      <td>0.101</td>\n",
       "      <td>0.052</td>\n",
       "    </tr>\n",
       "    <tr>\n",
       "      <th>2019-10-11</th>\n",
       "      <td>0.106</td>\n",
       "      <td>0.059</td>\n",
       "      <td>0.075</td>\n",
       "      <td>0.068</td>\n",
       "      <td>0.050</td>\n",
       "      <td>0.031</td>\n",
       "    </tr>\n",
       "    <tr>\n",
       "      <th>2019-10-12</th>\n",
       "      <td>0.330</td>\n",
       "      <td>0.072</td>\n",
       "      <td>0.045</td>\n",
       "      <td>0.047</td>\n",
       "      <td>0.069</td>\n",
       "      <td>0.089</td>\n",
       "    </tr>\n",
       "    <tr>\n",
       "      <th>2019-10-13</th>\n",
       "      <td>0.135</td>\n",
       "      <td>0.060</td>\n",
       "      <td>0.048</td>\n",
       "      <td>0.053</td>\n",
       "      <td>0.037</td>\n",
       "      <td>0.014</td>\n",
       "    </tr>\n",
       "    <tr>\n",
       "      <th>2019-10-14</th>\n",
       "      <td>0.097</td>\n",
       "      <td>0.047</td>\n",
       "      <td>0.055</td>\n",
       "      <td>0.050</td>\n",
       "      <td>0.068</td>\n",
       "      <td>0.050</td>\n",
       "    </tr>\n",
       "    <tr>\n",
       "      <th>2019-10-15</th>\n",
       "      <td>0.149</td>\n",
       "      <td>0.059</td>\n",
       "      <td>0.063</td>\n",
       "      <td>0.032</td>\n",
       "      <td>0.067</td>\n",
       "      <td>0.024</td>\n",
       "    </tr>\n",
       "    <tr>\n",
       "      <th>2019-10-16</th>\n",
       "      <td>0.124</td>\n",
       "      <td>0.098</td>\n",
       "      <td>0.019</td>\n",
       "      <td>0.021</td>\n",
       "      <td>0.038</td>\n",
       "      <td>0.026</td>\n",
       "    </tr>\n",
       "    <tr>\n",
       "      <th>2019-10-17</th>\n",
       "      <td>0.189</td>\n",
       "      <td>0.067</td>\n",
       "      <td>0.077</td>\n",
       "      <td>0.041</td>\n",
       "      <td>0.064</td>\n",
       "      <td>0.119</td>\n",
       "    </tr>\n",
       "    <tr>\n",
       "      <th>2019-10-18</th>\n",
       "      <td>0.095</td>\n",
       "      <td>0.079</td>\n",
       "      <td>0.050</td>\n",
       "      <td>0.079</td>\n",
       "      <td>0.074</td>\n",
       "      <td>0.104</td>\n",
       "    </tr>\n",
       "    <tr>\n",
       "      <th>2019-10-19</th>\n",
       "      <td>0.090</td>\n",
       "      <td>0.101</td>\n",
       "      <td>0.043</td>\n",
       "      <td>0.024</td>\n",
       "      <td>0.037</td>\n",
       "      <td>0.019</td>\n",
       "    </tr>\n",
       "    <tr>\n",
       "      <th>2019-10-20</th>\n",
       "      <td>0.137</td>\n",
       "      <td>0.092</td>\n",
       "      <td>0.099</td>\n",
       "      <td>0.065</td>\n",
       "      <td>0.049</td>\n",
       "      <td>0.042</td>\n",
       "    </tr>\n",
       "    <tr>\n",
       "      <th>2019-10-21</th>\n",
       "      <td>0.064</td>\n",
       "      <td>0.100</td>\n",
       "      <td>0.077</td>\n",
       "      <td>0.061</td>\n",
       "      <td>0.033</td>\n",
       "      <td>0.017</td>\n",
       "    </tr>\n",
       "    <tr>\n",
       "      <th>2019-10-22</th>\n",
       "      <td>0.081</td>\n",
       "      <td>0.111</td>\n",
       "      <td>0.070</td>\n",
       "      <td>0.105</td>\n",
       "      <td>0.025</td>\n",
       "      <td>0.060</td>\n",
       "    </tr>\n",
       "    <tr>\n",
       "      <th>2019-10-23</th>\n",
       "      <td>0.123</td>\n",
       "      <td>0.064</td>\n",
       "      <td>0.039</td>\n",
       "      <td>0.018</td>\n",
       "      <td>0.056</td>\n",
       "      <td>0.023</td>\n",
       "    </tr>\n",
       "    <tr>\n",
       "      <th>2019-10-24</th>\n",
       "      <td>0.111</td>\n",
       "      <td>0.090</td>\n",
       "      <td>0.067</td>\n",
       "      <td>0.021</td>\n",
       "      <td>0.031</td>\n",
       "      <td>0.040</td>\n",
       "    </tr>\n",
       "    <tr>\n",
       "      <th>2019-10-25</th>\n",
       "      <td>0.126</td>\n",
       "      <td>0.075</td>\n",
       "      <td>0.091</td>\n",
       "      <td>0.069</td>\n",
       "      <td>0.032</td>\n",
       "      <td>0.058</td>\n",
       "    </tr>\n",
       "    <tr>\n",
       "      <th>2019-10-26</th>\n",
       "      <td>0.216</td>\n",
       "      <td>0.058</td>\n",
       "      <td>0.065</td>\n",
       "      <td>0.095</td>\n",
       "      <td>0.049</td>\n",
       "      <td>0.024</td>\n",
       "    </tr>\n",
       "    <tr>\n",
       "      <th>2019-10-27</th>\n",
       "      <td>0.070</td>\n",
       "      <td>0.028</td>\n",
       "      <td>0.071</td>\n",
       "      <td>0.050</td>\n",
       "      <td>0.068</td>\n",
       "      <td>0.028</td>\n",
       "    </tr>\n",
       "  </tbody>\n",
       "</table>\n",
       "</div>"
      ],
      "text/plain": [
       "seniority       2      3      4      5      6      7\n",
       "signup                                              \n",
       "2019-10-07  0.178  0.079  0.075  0.034  0.035  0.040\n",
       "2019-10-08  0.122  0.086  0.065  0.009  0.023  0.038\n",
       "2019-10-09  0.072  0.093  0.019  0.017  0.043  0.036\n",
       "2019-10-10  0.181  0.060  0.069  0.128  0.101  0.052\n",
       "2019-10-11  0.106  0.059  0.075  0.068  0.050  0.031\n",
       "2019-10-12  0.330  0.072  0.045  0.047  0.069  0.089\n",
       "2019-10-13  0.135  0.060  0.048  0.053  0.037  0.014\n",
       "2019-10-14  0.097  0.047  0.055  0.050  0.068  0.050\n",
       "2019-10-15  0.149  0.059  0.063  0.032  0.067  0.024\n",
       "2019-10-16  0.124  0.098  0.019  0.021  0.038  0.026\n",
       "2019-10-17  0.189  0.067  0.077  0.041  0.064  0.119\n",
       "2019-10-18  0.095  0.079  0.050  0.079  0.074  0.104\n",
       "2019-10-19  0.090  0.101  0.043  0.024  0.037  0.019\n",
       "2019-10-20  0.137  0.092  0.099  0.065  0.049  0.042\n",
       "2019-10-21  0.064  0.100  0.077  0.061  0.033  0.017\n",
       "2019-10-22  0.081  0.111  0.070  0.105  0.025  0.060\n",
       "2019-10-23  0.123  0.064  0.039  0.018  0.056  0.023\n",
       "2019-10-24  0.111  0.090  0.067  0.021  0.031  0.040\n",
       "2019-10-25  0.126  0.075  0.091  0.069  0.032  0.058\n",
       "2019-10-26  0.216  0.058  0.065  0.095  0.049  0.024\n",
       "2019-10-27  0.070  0.028  0.071  0.050  0.068  0.028"
      ]
     },
     "execution_count": 38,
     "metadata": {},
     "output_type": "execute_result"
    }
   ],
   "source": [
    "# creat retantion group with 7 day horizont \n",
    "retention_group = retention.iloc[0:max_data,1:7]\n",
    "\n",
    "retention_group# show "
   ]
  },
  {
   "cell_type": "code",
   "execution_count": 39,
   "id": "231656aa",
   "metadata": {
    "scrolled": true
   },
   "outputs": [
    {
     "data": {
      "image/png": "[encoded data removed]",
      "text/plain": [
       "<Figure size 1800x1400 with 2 Axes>"
      ]
     },
     "metadata": {},
     "output_type": "display_data"
    }
   ],
   "source": [
    "#it's test\n",
    "font = {'family': 'serif',\n",
    "        'color':  'darkred',\n",
    "        'weight': 'normal',\n",
    "        'size': 20,\n",
    "        }\n",
    "\n",
    "\n",
    "#heat map on count of active users\n",
    "plt.figure(figsize=(18,14))\n",
    "plt.title('Number of active users',fontdict=font)\n",
    "ax = sns.heatmap(data=cohort_counts_group, annot=True, fmt=\".1f\", vmin=0.0,cmap='Reds')\n",
    "ax.set_yticklabels(cohort_counts_group.index)\n",
    "fig=ax.get_figure()\n",
    "fig.savefig(\"Active_users.png\")\n",
    "plt.xlabel('period after registration', fontdict=font)\n",
    "plt.ylabel('date of regustration', fontdict=font)\n",
    "plt.show()"
   ]
  },
  {
   "cell_type": "code",
   "execution_count": 40,
   "id": "d2d9fed4",
   "metadata": {
    "scrolled": false
   },
   "outputs": [
    {
     "data": {
      "image/png": "[encoded data removed]",
      "text/plain": [
       "<Figure size 1800x1400 with 2 Axes>"
      ]
     },
     "metadata": {},
     "output_type": "display_data"
    }
   ],
   "source": [
    "# heat map of retantion rate in cohort\n",
    "plt.figure(figsize=(18,14))\n",
    "plt.title('Retention rate',fontdict=font)\n",
    "plt.xlabel('Период после регистарции', fontdict=font)\n",
    "plt.ylabel('Дата регистарции', fontdict=font)\n",
    "ax = sns.heatmap(data=retention_group, annot=True, fmt='.0%', vmin=0.0, vmax=1,cmap='Reds')\n",
    "ax.set_yticklabels(retention_group.index)\n",
    "fig=ax.get_figure()\n",
    "\n",
    "fig.savefig(\"Retention_Rate.png\")\n",
    "plt.show()"
   ]
  },
  {
   "cell_type": "code",
   "execution_count": 41,
   "id": "2996b1fc",
   "metadata": {},
   "outputs": [],
   "source": [
    "#function for retantion rate calculation and heat map\n",
    "def retantion(data, mark):\n",
    "    #group by first action and life time for clientсгруппируем по первой активности и \"жизнью\" клиента \n",
    "    group = data.groupby(['signup', 'seniority'])\n",
    "    # cohort size for each life time расчитаем размер когорт на каждом этапе длительности жизни клиента\n",
    "    cohort_data = group['id'].size().reset_index()\n",
    "    # pivot table  \n",
    "    cohort_counts = cohort_data.pivot(index='signup', columns='seniority', values='id')\n",
    "    # retention\n",
    "    retention = cohort_counts.divide(cohort_counts[1], axis=0).round(3)\n",
    "    # оценим макисмальную дату для анализа с учетом горизонта событий в 7 дней\n",
    "    max_data = len(retention[1])-7\n",
    "    #summary table for retantion\n",
    "    retention_group = retention.iloc[0:max_data,1:7] \n",
    "    # heat map for retantion rate in cohort\n",
    "    plt.figure(figsize=(18,14))\n",
    "    plt.title('Retention Table')\n",
    "    ax = sns.heatmap(data=retention_group, annot=True, fmt='.0%', vmin=0.0, vmax=1,cmap='Reds')\n",
    "    ax.set_yticklabels(retention_group.index)\n",
    "    fig=ax.get_figure()\n",
    "    fig.savefig(\"Retention_Rate\"+mark+\".png\")\n",
    "    plt.show()"
   ]
  },
  {
   "cell_type": "markdown",
   "id": "e5fdd63c",
   "metadata": {},
   "source": [
    "<div class=\"alert alert-info\">  The most visitors were on October 12th.\n",
    "On the second day, the retention rate ranges from 6 to 33%. The best clients returned on October 12th.\n",
    "On day 7, the retention rate ranges from 2 to 12%.\n",
    "The spread is quite large. It is worth finding the reasons for the scatter.\n",
    "It’s interesting that this happened on October 12th.\n",
    "<div>  \n"
   ]
  },
  {
   "cell_type": "markdown",
   "id": "b04973a2",
   "metadata": {},
   "source": [
    "### 3.2 explore time spent in the application<a id=\"time\"></a>"
   ]
  },
  {
   "cell_type": "code",
   "execution_count": 42,
   "id": "36e150ab",
   "metadata": {},
   "outputs": [
    {
     "data": {
      "text/html": [
       "<div>\n",
       "<style scoped>\n",
       "    .dataframe tbody tr th:only-of-type {\n",
       "        vertical-align: middle;\n",
       "    }\n",
       "\n",
       "    .dataframe tbody tr th {\n",
       "        vertical-align: top;\n",
       "    }\n",
       "\n",
       "    .dataframe thead th {\n",
       "        text-align: right;\n",
       "    }\n",
       "</style>\n",
       "<table border=\"1\" class=\"dataframe\">\n",
       "  <thead>\n",
       "    <tr style=\"text-align: right;\">\n",
       "      <th></th>\n",
       "      <th>time</th>\n",
       "      <th>event</th>\n",
       "      <th>id</th>\n",
       "      <th>session_id</th>\n",
       "      <th>signup</th>\n",
       "      <th>ref_date</th>\n",
       "      <th>seniority</th>\n",
       "    </tr>\n",
       "  </thead>\n",
       "  <tbody>\n",
       "    <tr>\n",
       "      <th>0</th>\n",
       "      <td>2019-10-07 13:39:45.989359</td>\n",
       "      <td>tips_show</td>\n",
       "      <td>0001b1d5-b74a-4cbf-aeb0-7df5947bf349</td>\n",
       "      <td>1</td>\n",
       "      <td>2019-10-07</td>\n",
       "      <td>2019-10-07</td>\n",
       "      <td>1</td>\n",
       "    </tr>\n",
       "    <tr>\n",
       "      <th>1</th>\n",
       "      <td>2019-10-07 13:40:31.052909</td>\n",
       "      <td>tips_show</td>\n",
       "      <td>0001b1d5-b74a-4cbf-aeb0-7df5947bf349</td>\n",
       "      <td>1</td>\n",
       "      <td>2019-10-07</td>\n",
       "      <td>2019-10-07</td>\n",
       "      <td>1</td>\n",
       "    </tr>\n",
       "    <tr>\n",
       "      <th>2</th>\n",
       "      <td>2019-10-07 13:41:05.722489</td>\n",
       "      <td>tips_show</td>\n",
       "      <td>0001b1d5-b74a-4cbf-aeb0-7df5947bf349</td>\n",
       "      <td>1</td>\n",
       "      <td>2019-10-07</td>\n",
       "      <td>2019-10-07</td>\n",
       "      <td>1</td>\n",
       "    </tr>\n",
       "    <tr>\n",
       "      <th>3</th>\n",
       "      <td>2019-10-07 13:43:20.735461</td>\n",
       "      <td>tips_show</td>\n",
       "      <td>0001b1d5-b74a-4cbf-aeb0-7df5947bf349</td>\n",
       "      <td>1</td>\n",
       "      <td>2019-10-07</td>\n",
       "      <td>2019-10-07</td>\n",
       "      <td>1</td>\n",
       "    </tr>\n",
       "    <tr>\n",
       "      <th>4</th>\n",
       "      <td>2019-10-07 13:45:30.917502</td>\n",
       "      <td>tips_show</td>\n",
       "      <td>0001b1d5-b74a-4cbf-aeb0-7df5947bf349</td>\n",
       "      <td>1</td>\n",
       "      <td>2019-10-07</td>\n",
       "      <td>2019-10-07</td>\n",
       "      <td>1</td>\n",
       "    </tr>\n",
       "  </tbody>\n",
       "</table>\n",
       "</div>"
      ],
      "text/plain": [
       "                        time      event                                    id  \\\n",
       "0 2019-10-07 13:39:45.989359  tips_show  0001b1d5-b74a-4cbf-aeb0-7df5947bf349   \n",
       "1 2019-10-07 13:40:31.052909  tips_show  0001b1d5-b74a-4cbf-aeb0-7df5947bf349   \n",
       "2 2019-10-07 13:41:05.722489  tips_show  0001b1d5-b74a-4cbf-aeb0-7df5947bf349   \n",
       "3 2019-10-07 13:43:20.735461  tips_show  0001b1d5-b74a-4cbf-aeb0-7df5947bf349   \n",
       "4 2019-10-07 13:45:30.917502  tips_show  0001b1d5-b74a-4cbf-aeb0-7df5947bf349   \n",
       "\n",
       "   session_id      signup    ref_date  seniority  \n",
       "0           1  2019-10-07  2019-10-07          1  \n",
       "1           1  2019-10-07  2019-10-07          1  \n",
       "2           1  2019-10-07  2019-10-07          1  \n",
       "3           1  2019-10-07  2019-10-07          1  \n",
       "4           1  2019-10-07  2019-10-07          1  "
      ]
     },
     "execution_count": 42,
     "metadata": {},
     "output_type": "execute_result"
    }
   ],
   "source": [
    "data.head() #show first 5 line in data"
   ]
  },
  {
   "cell_type": "code",
   "execution_count": 43,
   "id": "dcb946c1",
   "metadata": {},
   "outputs": [
    {
     "data": {
      "text/html": [
       "<div>\n",
       "<style scoped>\n",
       "    .dataframe tbody tr th:only-of-type {\n",
       "        vertical-align: middle;\n",
       "    }\n",
       "\n",
       "    .dataframe tbody tr th {\n",
       "        vertical-align: top;\n",
       "    }\n",
       "\n",
       "    .dataframe thead th {\n",
       "        text-align: right;\n",
       "    }\n",
       "</style>\n",
       "<table border=\"1\" class=\"dataframe\">\n",
       "  <thead>\n",
       "    <tr style=\"text-align: right;\">\n",
       "      <th></th>\n",
       "      <th>id</th>\n",
       "      <th>session_id</th>\n",
       "    </tr>\n",
       "  </thead>\n",
       "  <tbody>\n",
       "    <tr>\n",
       "      <th>2146</th>\n",
       "      <td>80a9887a-d45f-44a2-9473-1446f68b9c16</td>\n",
       "      <td>1</td>\n",
       "    </tr>\n",
       "    <tr>\n",
       "      <th>2153</th>\n",
       "      <td>810b809f-004e-4b90-91a5-a67c8ba21d13</td>\n",
       "      <td>1</td>\n",
       "    </tr>\n",
       "    <tr>\n",
       "      <th>2154</th>\n",
       "      <td>8112fc93-1a41-4348-9fb5-ef2e2abebf03</td>\n",
       "      <td>1</td>\n",
       "    </tr>\n",
       "    <tr>\n",
       "      <th>2155</th>\n",
       "      <td>8124a653-0f37-4278-a9f1-32351a906287</td>\n",
       "      <td>1</td>\n",
       "    </tr>\n",
       "    <tr>\n",
       "      <th>2157</th>\n",
       "      <td>814ee06b-db5c-4cca-a89b-b7770b334e0e</td>\n",
       "      <td>1</td>\n",
       "    </tr>\n",
       "    <tr>\n",
       "      <th>...</th>\n",
       "      <td>...</td>\n",
       "      <td>...</td>\n",
       "    </tr>\n",
       "    <tr>\n",
       "      <th>3794</th>\n",
       "      <td>e13f9f32-7ae3-4204-8d60-898db040bcfc</td>\n",
       "      <td>38</td>\n",
       "    </tr>\n",
       "    <tr>\n",
       "      <th>1668</th>\n",
       "      <td>6383ff6a-04b8-4562-a98f-bb4f760d3c39</td>\n",
       "      <td>45</td>\n",
       "    </tr>\n",
       "    <tr>\n",
       "      <th>3397</th>\n",
       "      <td>cb36854f-570a-41f4-baa8-36680b396370</td>\n",
       "      <td>50</td>\n",
       "    </tr>\n",
       "    <tr>\n",
       "      <th>401</th>\n",
       "      <td>1580911b-65db-4f1a-be7e-1ca39becac30</td>\n",
       "      <td>52</td>\n",
       "    </tr>\n",
       "    <tr>\n",
       "      <th>615</th>\n",
       "      <td>21230dd9-2f7f-4b77-a436-43d4d10388e0</td>\n",
       "      <td>99</td>\n",
       "    </tr>\n",
       "  </tbody>\n",
       "</table>\n",
       "<p>4293 rows × 2 columns</p>\n",
       "</div>"
      ],
      "text/plain": [
       "                                        id  session_id\n",
       "2146  80a9887a-d45f-44a2-9473-1446f68b9c16           1\n",
       "2153  810b809f-004e-4b90-91a5-a67c8ba21d13           1\n",
       "2154  8112fc93-1a41-4348-9fb5-ef2e2abebf03           1\n",
       "2155  8124a653-0f37-4278-a9f1-32351a906287           1\n",
       "2157  814ee06b-db5c-4cca-a89b-b7770b334e0e           1\n",
       "...                                    ...         ...\n",
       "3794  e13f9f32-7ae3-4204-8d60-898db040bcfc          38\n",
       "1668  6383ff6a-04b8-4562-a98f-bb4f760d3c39          45\n",
       "3397  cb36854f-570a-41f4-baa8-36680b396370          50\n",
       "401   1580911b-65db-4f1a-be7e-1ca39becac30          52\n",
       "615   21230dd9-2f7f-4b77-a436-43d4d10388e0          99\n",
       "\n",
       "[4293 rows x 2 columns]"
      ]
     },
     "execution_count": 43,
     "metadata": {},
     "output_type": "execute_result"
    }
   ],
   "source": [
    "#number of sessions for each users\n",
    "number_session = data.groupby('id').agg({'session_id':'nunique'}).reset_index().sort_values(by='session_id')\n",
    "number_session"
   ]
  },
  {
   "cell_type": "code",
   "execution_count": 44,
   "id": "d236c66b",
   "metadata": {},
   "outputs": [
    {
     "data": {
      "image/png": "[encoded data removed]",
      "text/plain": [
       "<Figure size 640x480 with 1 Axes>"
      ]
     },
     "metadata": {},
     "output_type": "display_data"
    }
   ],
   "source": [
    "# histogram for number sessions\n",
    "font_hist = {'family': 'serif',\n",
    "        'color':  'darkred',\n",
    "        'weight': 'normal',\n",
    "        'size': 12,\n",
    "        }\n",
    "number_session['session_id'].hist(bins=50)\n",
    "plt.title('histogram of sessions',fontdict=font_hist)\n",
    "plt.xlabel('number of sessions', fontdict=font_hist)\n",
    "plt.ylabel('number of users', fontdict=font_hist)\n",
    "plt.show()"
   ]
  },
  {
   "cell_type": "code",
   "execution_count": 45,
   "id": "542866dd",
   "metadata": {},
   "outputs": [
    {
     "data": {
      "image/png": "[encoded data removed]",
      "text/plain": [
       "<Figure size 640x480 with 1 Axes>"
      ]
     },
     "metadata": {},
     "output_type": "display_data"
    }
   ],
   "source": [
    "#clarify the range\n",
    "number_session['session_id'].hist(bins=20, range = (0,20))\n",
    "\n",
    "plt.title('histogram of sessions',fontdict=font_hist)\n",
    "plt.xlabel('number of sessions', fontdict=font_hist)\n",
    "plt.ylabel('number of users', fontdict=font_hist)\n",
    "plt.savefig(\"hist_session.png\")\n",
    "plt.show()"
   ]
  },
  {
   "cell_type": "code",
   "execution_count": 46,
   "id": "11e7e11c",
   "metadata": {},
   "outputs": [
    {
     "data": {
      "image/png": "[encoded data removed]",
      "text/plain": [
       "<Figure size 640x480 with 1 Axes>"
      ]
     },
     "metadata": {},
     "output_type": "display_data"
    }
   ],
   "source": [
    "#boxplot\n",
    "number_session.boxplot(column = 'session_id') # строим диаграмму размаха\n",
    "plt.title('Distribution of the number of sessions',fontdict=font_hist)\n",
    "plt.ylabel('number of sessions', fontdict=font_hist)\n",
    "fig.savefig(\"Number_session.png\")\n",
    "plt.show()"
   ]
  },
  {
   "cell_type": "code",
   "execution_count": 47,
   "id": "1f1fc7e9",
   "metadata": {},
   "outputs": [
    {
     "data": {
      "image/png": "[encoded data removed]",
      "text/plain": [
       "<Figure size 640x480 with 1 Axes>"
      ]
     },
     "metadata": {},
     "output_type": "display_data"
    }
   ],
   "source": [
    "plt.ylim(0,10) #  clarify the range\n",
    "number_session.boxplot(column = 'session_id') # boxplot\n",
    "plt.title('Distribution of the number of sessions',fontdict=font_hist)\n",
    "plt.ylabel('number of sessions', fontdict=font_hist)\n",
    "plt.show()"
   ]
  },
  {
   "cell_type": "code",
   "execution_count": 48,
   "id": "37b262dc",
   "metadata": {},
   "outputs": [
    {
     "data": {
      "text/plain": [
       "1.0"
      ]
     },
     "execution_count": 48,
     "metadata": {},
     "output_type": "execute_result"
    }
   ],
   "source": [
    "#median of values\n",
    "number_session['session_id'].median()"
   ]
  },
  {
   "cell_type": "code",
   "execution_count": 49,
   "id": "e8d4c1db",
   "metadata": {},
   "outputs": [
    {
     "name": "stdout",
     "output_type": "stream",
     "text": [
      "<class 'pandas.core.frame.DataFrame'>\n",
      "Int64Index: 74197 entries, 0 to 74196\n",
      "Data columns (total 7 columns):\n",
      " #   Column      Non-Null Count  Dtype         \n",
      "---  ------      --------------  -----         \n",
      " 0   time        74197 non-null  datetime64[ns]\n",
      " 1   event       74197 non-null  object        \n",
      " 2   id          74197 non-null  object        \n",
      " 3   session_id  74197 non-null  int64         \n",
      " 4   signup      74197 non-null  object        \n",
      " 5   ref_date    74197 non-null  object        \n",
      " 6   seniority   74197 non-null  int64         \n",
      "dtypes: datetime64[ns](1), int64(2), object(4)\n",
      "memory usage: 4.5+ MB\n"
     ]
    }
   ],
   "source": [
    "data.info()"
   ]
  },
  {
   "cell_type": "code",
   "execution_count": 50,
   "id": "5eb7aa7e",
   "metadata": {},
   "outputs": [
    {
     "data": {
      "text/html": [
       "<div>\n",
       "<style scoped>\n",
       "    .dataframe tbody tr th:only-of-type {\n",
       "        vertical-align: middle;\n",
       "    }\n",
       "\n",
       "    .dataframe tbody tr th {\n",
       "        vertical-align: top;\n",
       "    }\n",
       "\n",
       "    .dataframe thead th {\n",
       "        text-align: right;\n",
       "    }\n",
       "</style>\n",
       "<table border=\"1\" class=\"dataframe\">\n",
       "  <thead>\n",
       "    <tr style=\"text-align: right;\">\n",
       "      <th></th>\n",
       "      <th>dif</th>\n",
       "    </tr>\n",
       "  </thead>\n",
       "  <tbody>\n",
       "    <tr>\n",
       "      <th>809</th>\n",
       "      <td>0 days 00:00:34.669580</td>\n",
       "    </tr>\n",
       "    <tr>\n",
       "      <th>820</th>\n",
       "      <td>0 days 00:02:15.012972</td>\n",
       "    </tr>\n",
       "    <tr>\n",
       "      <th>830</th>\n",
       "      <td>0 days 00:02:10.182041</td>\n",
       "    </tr>\n",
       "    <tr>\n",
       "      <th>831</th>\n",
       "      <td>0 days 00:00:12.294838</td>\n",
       "    </tr>\n",
       "    <tr>\n",
       "      <th>832</th>\n",
       "      <td>0 days 00:00:47.821378</td>\n",
       "    </tr>\n",
       "  </tbody>\n",
       "</table>\n",
       "</div>"
      ],
      "text/plain": [
       "                       dif\n",
       "809 0 days 00:00:34.669580\n",
       "820 0 days 00:02:15.012972\n",
       "830 0 days 00:02:10.182041\n",
       "831 0 days 00:00:12.294838\n",
       "832 0 days 00:00:47.821378"
      ]
     },
     "execution_count": 50,
     "metadata": {},
     "output_type": "execute_result"
    }
   ],
   "source": [
    "#difference in time  between action in row data\n",
    "session_time = data.groupby(['id','session_id'])['time'].diff().to_frame (name='dif')\n",
    "\n",
    "session_time = dif.iloc[1:]\n",
    "session_time.head()"
   ]
  },
  {
   "cell_type": "code",
   "execution_count": 51,
   "id": "0be1f5dc",
   "metadata": {},
   "outputs": [],
   "source": [
    "# time difference calculation function\n",
    "def dif_time(s):\n",
    "    return round(((s.max() - s.min()).total_seconds())/60,2)#.strftime(\"%M\")"
   ]
  },
  {
   "cell_type": "code",
   "execution_count": null,
   "id": "018e16ff",
   "metadata": {},
   "outputs": [],
   "source": [
    "#group by sessions and calculate duration of each session\n",
    "number_session_time = data.groupby(['session_id']).agg({'time':dif_time}).reset_index()\n",
    "number_session_time.head()"
   ]
  },
  {
   "cell_type": "code",
   "execution_count": null,
   "id": "e8fd092c",
   "metadata": {},
   "outputs": [],
   "source": [
    "#describe the sessions\n",
    "number_session_time.describe()"
   ]
  },
  {
   "cell_type": "code",
   "execution_count": null,
   "id": "69a39ba4",
   "metadata": {},
   "outputs": [],
   "source": [
    "# max time session\n",
    "number_session_time['time'].max()"
   ]
  },
  {
   "cell_type": "code",
   "execution_count": null,
   "id": "dcaf0c8b",
   "metadata": {},
   "outputs": [],
   "source": [
    "#  clarify the range\n",
    "number_session_time.boxplot(column = 'time') # boxplot\n",
    "plt.title('Distribution of session duration',fontdict=font_hist)\n",
    "plt.ylabel('Session duration', fontdict=font_hist)\n",
    "plt.show()"
   ]
  },
  {
   "cell_type": "markdown",
   "id": "e4096efc",
   "metadata": {},
   "source": [
    "<div class=\"alert alert-info\"> Usually people do it in 5 minutes. This suggests that either people quickly find what they need, or quickly lose interest. During the period under review, a typical user made only one session. Almost no one performed more than 6 sessions. Although there are also record holders with 99 sessions. This looks too brightly skewed. There is clearly room for growth here.</div> "
   ]
  },
  {
   "cell_type": "markdown",
   "id": "a1a2bf3c",
   "metadata": {},
   "source": [
    "### 3.3 explore the frequency of actionsa id=\"frequency\"></a>"
   ]
  },
  {
   "cell_type": "markdown",
   "id": "9531a981",
   "metadata": {},
   "source": [
    "Let's calculate how much time it takes on average to perform one action within each session. Then let's look at the overall distribution. We will consider within each session to exclude the period of time between sessions."
   ]
  },
  {
   "cell_type": "code",
   "execution_count": null,
   "id": "3f183d80",
   "metadata": {},
   "outputs": [],
   "source": [
    "data.head()"
   ]
  },
  {
   "cell_type": "code",
   "execution_count": null,
   "id": "ec259f7a",
   "metadata": {},
   "outputs": [],
   "source": [
    "#calculate the period between actions and group them by sessions\n",
    "agg_func_selection = {'time': ['min', 'max','nunique']}\n",
    "frq = data.groupby('session_id').agg(agg_func_selection)\n",
    "#change to one-level table\n",
    "frq = frq['time'].reset_index()\n",
    "#change time into seconds\n",
    "frq['max'] = frq['max'].map(lambda x: x.timestamp())\n",
    "frq['min'] = frq['min'].map(lambda x: x.timestamp())\n",
    "#calculate period between actions into sesions\n",
    "frq['time_delta'] = (frq['max']-frq['min'])\n",
    "#calculate avearage action duration seconds\n",
    "frq['events_sec'] = frq['time_delta']/frq['nunique']\n",
    "\n",
    "frq\n"
   ]
  },
  {
   "cell_type": "code",
   "execution_count": null,
   "id": "6481727d",
   "metadata": {},
   "outputs": [],
   "source": [
    "#quartile distribution\n",
    "frq['events_sec'].describe()"
   ]
  },
  {
   "cell_type": "code",
   "execution_count": null,
   "id": "f732e60d",
   "metadata": {},
   "outputs": [],
   "source": [
    "#clarify the range = (0,20)\n",
    "frq['events_sec'].hist(bins=20)\n",
    "\n",
    "plt.title('Histogram of actions',fontdict=font_hist)\n",
    "plt.xlabel('Duration of actions, seconds', fontdict=font_hist)\n",
    "plt.ylabel('Number of users', fontdict=font_hist)\n",
    "plt.savefig(\"hist_events_sec.png\")\n",
    "plt.show()"
   ]
  },
  {
   "cell_type": "code",
   "execution_count": null,
   "id": "3d487810",
   "metadata": {},
   "outputs": [],
   "source": [
    "#boxplot\n",
    "frq.boxplot(column = 'events_sec') \n",
    "plt.title('Distribution of sessions duration',fontdict=font_hist)\n",
    "plt.ylim(0,400) #  indicate the range of values\n",
    "plt.savefig(\"events_sec.png\")\n",
    "plt.show()"
   ]
  },
  {
   "cell_type": "markdown",
   "id": "34d90e8d",
   "metadata": {},
   "source": [
    "<div class=\"alert alert-info\">  \n",
    "Typically the action takes about 1 minute. It's interesting to understand actions in 0 seconds. Most likely this is a session consisting of one action. If this action leads to conversion to the target action, then everything is perfect. If not, then you need to figure it out.\n",
    "Users rarely hang for more than two minutes. This means there are no significant technical problems.\n",
    "The small number of short actions indicates that, in general, users quickly move on to information of interest to them. On the other hand, this may indicate that users need more time to figure it out. It may be worth double-checking the usability of the application.\n",
    "\n",
    "</div> \n"
   ]
  },
  {
   "cell_type": "markdown",
   "id": "6f2309cf",
   "metadata": {},
   "source": [
    " study the frequency of actions depending on the week of the day"
   ]
  },
  {
   "cell_type": "code",
   "execution_count": null,
   "id": "ae0eacd6",
   "metadata": {},
   "outputs": [],
   "source": [
    "data.head()"
   ]
  },
  {
   "cell_type": "code",
   "execution_count": null,
   "id": "72c9b3a0",
   "metadata": {},
   "outputs": [],
   "source": [
    "#determine the number of the day of the week\n",
    "data['day_of_week'] = data['time'].map(lambda x: x.weekday())\n",
    "data.head()"
   ]
  },
  {
   "cell_type": "code",
   "execution_count": null,
   "id": "0e82ce20",
   "metadata": {},
   "outputs": [],
   "source": [
    "#group by day of week\n",
    "frq_day =data.groupby(['day_of_week','session_id']).agg(agg_func_selection).reset_index()\n",
    "#change to one level table\n",
    "frq_day.columns = [tup[1] if tup[1] else tup[0] for tup in frq_day.columns]\n",
    "#change time to seconds\n",
    "frq_day['max'] = frq_day['max'].map(lambda x: x.timestamp())\n",
    "frq_day['min'] = frq_day['min'].map(lambda x: x.timestamp())\n",
    "# calculate time delta into each sessions period\n",
    "frq_day['time_delta'] = (frq_day['max']-frq_day['min']).round(2)\n",
    "# calculate avearage time of action\n",
    "frq_day['events_sec'] = round(frq_day['time_delta']/frq_day['nunique'],2)\n",
    "\n",
    "\n",
    "frq_day.head()"
   ]
  },
  {
   "cell_type": "code",
   "execution_count": null,
   "id": "080941e9",
   "metadata": {},
   "outputs": [],
   "source": [
    "# calculate percentile of 5%\n",
    "np.percentile (frq_day['events_sec'], 5)"
   ]
  },
  {
   "cell_type": "code",
   "execution_count": null,
   "id": "a34ddc10",
   "metadata": {},
   "outputs": [],
   "source": [
    "#function to calculate percentile of 5%\n",
    "def percentile_5(e):\n",
    "    return np.percentile(e, 5)"
   ]
  },
  {
   "cell_type": "code",
   "execution_count": null,
   "id": "806e351e",
   "metadata": {},
   "outputs": [],
   "source": [
    "#function to calculate percentile of 95%\n",
    "def percentile_95(e):\n",
    "    return np.percentile(e, 95)"
   ]
  },
  {
   "cell_type": "code",
   "execution_count": null,
   "id": "bf2274b6",
   "metadata": {},
   "outputs": [],
   "source": [
    "#group by day of week\n",
    "frq_day_group = frq_day.groupby('day_of_week').agg({'events_sec':[percentile_5,'median',percentile_95,'mean']}).\\\n",
    "                    reset_index()\n",
    "                                                      \n",
    "#change to one level table\n",
    "frq_day_group.columns = [tup[1] if tup[1] else tup[0] for tup in frq_day_group.columns]\n",
    "#\n",
    "frq_day_group = frq_day_group.round(2)\n",
    "frq_day_group"
   ]
  },
  {
   "cell_type": "code",
   "execution_count": null,
   "id": "131d3868",
   "metadata": {},
   "outputs": [],
   "source": [
    "#plot barplot\n",
    "sns.barplot(\n",
    "    data=frq_day_group,\n",
    "    x='day_of_week', \n",
    "    y='median', \n",
    "    #estimator=sum\n",
    ")\n",
    "plt.ylabel('Time')\n",
    "plt.xlabel('Week of day')\n",
    "\n",
    "plt.title('Median time per action by day of week')\n",
    "\n",
    "plt.show()"
   ]
  },
  {
   "cell_type": "markdown",
   "id": "f89f514e",
   "metadata": {},
   "source": [
    "<div class=\"alert alert-info\">  Most users are in a hurry to get to Wednesday. Apparently users are in a hurry to get to work. </div> "
   ]
  },
  {
   "cell_type": "markdown",
   "id": "a451578d",
   "metadata": {},
   "source": [
    "### 3.4 research conversion to target action - viewing contacts<a id=\"conversion\"></a>  "
   ]
  },
  {
   "cell_type": "code",
   "execution_count": null,
   "id": "ed654d53",
   "metadata": {},
   "outputs": [],
   "source": [
    "data.head()"
   ]
  },
  {
   "cell_type": "code",
   "execution_count": null,
   "id": "6a9bdbc8",
   "metadata": {},
   "outputs": [],
   "source": [
    "data['event'].unique() # unique events"
   ]
  },
  {
   "cell_type": "code",
   "execution_count": null,
   "id": "730f6789",
   "metadata": {},
   "outputs": [],
   "source": [
    "#create table with contacts_show\n",
    "contact_show= data.query('event == \"contacts_show\"')\n",
    "contact_show.head()"
   ]
  },
  {
   "cell_type": "code",
   "execution_count": null,
   "id": "0748c871",
   "metadata": {},
   "outputs": [],
   "source": [
    "# group users by signup \n",
    "active_user = data.groupby('signup').agg({'id':'nunique'}).reset_index().rename(columns={'id':'total_user'})\n",
    "active_user.head()\n"
   ]
  },
  {
   "cell_type": "code",
   "execution_count": null,
   "id": "ceba7312",
   "metadata": {},
   "outputs": [],
   "source": [
    "# group contact by signup \n",
    "group_contact = contact_show.groupby(['signup']).agg({'id':'nunique'}).reset_index().\\\n",
    "                                                        rename(columns={'id':'contacts_show'})\n",
    "# merge active users and group_contact\n",
    "conversion = active_user.merge(group_contact, on= 'signup')\n",
    "#conversation\n",
    "conversion['conversion'] = conversion['contacts_show']/conversion['total_user']\n",
    "conversion.head()\n"
   ]
  },
  {
   "cell_type": "code",
   "execution_count": null,
   "id": "d11cf382",
   "metadata": {},
   "outputs": [],
   "source": [
    "#function for conversion calculation \n",
    "def conv(d):\n",
    "    contact_show= d.query('event == \"contacts_show\"')\n",
    "    active_user = d.groupby('signup').agg({'id':'nunique'}).reset_index().\\\n",
    "                                                  rename(columns={'id':'total_user'})\n",
    "    #\n",
    "    group_contact = contact_show.groupby(['signup']).agg({'id':'nunique'}).reset_index().\\\n",
    "                                                        rename(columns={'id':'contacts_show'})\n",
    "    #\n",
    "    conversion = active_user.merge(group_contact, on= 'signup')\n",
    "    #\n",
    "    conversion['conversion'] = conversion['contacts_show']/conversion['total_user']\n",
    "    return conversion\n",
    "    "
   ]
  },
  {
   "cell_type": "code",
   "execution_count": null,
   "id": "16854a4c",
   "metadata": {},
   "outputs": [],
   "source": [
    "t=conv(data)\n",
    "t['conversion'].describe()"
   ]
  },
  {
   "cell_type": "code",
   "execution_count": null,
   "id": "33352a78",
   "metadata": {},
   "outputs": [],
   "source": [
    "conversion['conversion'].describe()"
   ]
  },
  {
   "cell_type": "code",
   "execution_count": null,
   "id": "e5bde011",
   "metadata": {},
   "outputs": [],
   "source": [
    "conversion.head()"
   ]
  },
  {
   "cell_type": "code",
   "execution_count": null,
   "id": "94283fe4",
   "metadata": {},
   "outputs": [],
   "source": [
    "# barplot\n",
    "plt.bar(conversion['signup'], conversion['conversion'])\n",
    "plt.ylabel('Conversion')\n",
    "plt.xlabel('Cohorts')\n",
    "plt.title('Conversion by cohort')\n",
    "plt.xticks(rotation=90)\n",
    "plt.savefig('conversion')\n",
    "plt.show()"
   ]
  },
  {
   "cell_type": "code",
   "execution_count": null,
   "id": "9babf867",
   "metadata": {},
   "outputs": [],
   "source": [
    "conversion.sort_values(by = 'conversion')"
   ]
  },
  {
   "cell_type": "code",
   "execution_count": null,
   "id": "7a25d68f",
   "metadata": {},
   "outputs": [],
   "source": [
    "#determine the number of the day of the week\n",
    "conversion['day_of_week'] = conversion['signup'].map(lambda x: x.weekday())\n",
    "#group by day of week\n",
    "conversion_group = conversion.groupby('day_of_week').agg({'conversion':'mean'}).round(3).reset_index()\n",
    "conversion_group"
   ]
  },
  {
   "cell_type": "markdown",
   "id": "bb5c03fb",
   "metadata": {},
   "source": [
    "<div class=\"alert alert-info\"> Conversion ranges from 1.5-3%. Mostly stays around 2%. Some increase was observed in the middle of the month. But the peak value was 9.10. By day of the week, the conversion is maximum for users registered on Thursday and Friday </div> \n",
    "\n"
   ]
  },
  {
   "cell_type": "markdown",
   "id": "83a1f8d1",
   "metadata": {},
   "source": [
    "### Conclusions about general user behavior<a id=\"fist_conclusion\"></a>"
   ]
  },
  {
   "cell_type": "markdown",
   "id": "32259985",
   "metadata": {},
   "source": [
    "<div class=\"alert alert-info\"> \n",
    "Usually one action takes about a minute.\n",
    "Conversion is about 2%.\n",
    "The conversion rate is better for users registered on Thursday and Friday.\n",
    "Overall the application is stable. But it is important to find out what stimulated the high metrics in early October. And what caused the decline.\n",
    "It may be worth double-checking the usability of the application.\n",
    "During the period under review, a typical user completed only one session. It seems worth working on the retention rate in the application.\n",
    "</div>\n"
   ]
  },
  {
   "cell_type": "markdown",
   "id": "5af952f2",
   "metadata": {},
   "source": [
    "## 4. Conduct segmentation for weekdays and weekends <a id=\"segment\"></a> "
   ]
  },
  {
   "cell_type": "markdown",
   "id": "c9bea6e5",
   "metadata": {},
   "source": [
    "Most users work on weekdays. Naturally, a person’s actions at work and outside of it differ significantly. Thus, the most predictable factor influencing user behavior is weekdays and weekends, as two different periods."
   ]
  },
  {
   "cell_type": "code",
   "execution_count": null,
   "id": "4f80f59a",
   "metadata": {},
   "outputs": [],
   "source": [
    "#function for categorisation by weekday and weekend \n",
    "def week(row):\n",
    "    if row['signup_day'] in range(0,5):\n",
    "        day = 'weekday'\n",
    "    else:\n",
    "        day ='weekend'\n",
    "    return day"
   ]
  },
  {
   "cell_type": "code",
   "execution_count": null,
   "id": "300cd90b",
   "metadata": {},
   "outputs": [],
   "source": [
    "data['signup_day'] = data['signup'].map(lambda x: x.weekday())#determine number of day of week\n",
    "\n",
    "data.head()"
   ]
  },
  {
   "cell_type": "code",
   "execution_count": null,
   "id": "9efdd6d9",
   "metadata": {},
   "outputs": [],
   "source": [
    "#apply function for categorisation \n",
    "data['signup_weekday'] = data.apply(week, axis = 1)\n",
    "data.head()"
   ]
  },
  {
   "cell_type": "code",
   "execution_count": null,
   "id": "e1fe1d45",
   "metadata": {
    "scrolled": true
   },
   "outputs": [],
   "source": [
    "#group number of users by ctegories\n",
    "data_day_group = data.groupby('signup_weekday').agg({'id':'nunique'}).reset_index().rename(columns={'id':'number_users'})\n",
    "data_day_group.head()"
   ]
  },
  {
   "cell_type": "markdown",
   "id": "55815a63",
   "metadata": {},
   "source": []
  },
  {
   "cell_type": "code",
   "execution_count": null,
   "id": "0d29f9e3",
   "metadata": {},
   "outputs": [],
   "source": [
    "# check the intersection\n",
    "list_weekday = data[data['signup_weekday'] == 'weekday']['id']\n",
    "list_weekend = data[data['signup_weekday'] == 'weekend']['id']\n",
    "segment_intersection = list(set(list_weekday) & set(list_weekend))\n",
    "len(segment_intersection)"
   ]
  },
  {
   "cell_type": "markdown",
   "id": "84d04e9a",
   "metadata": {},
   "source": [
    "<div class=\"alert alert-info\">  The number of participants in each group is quite large. The difference in number is twofold due to the fact that there are more weekdays than weekends.\n",
    "     There are no intersections. The groups are comparable. Each has a sufficiently large number of users for statistical reliability </div> "
   ]
  },
  {
   "cell_type": "code",
   "execution_count": null,
   "id": "bb92a245",
   "metadata": {
    "scrolled": false
   },
   "outputs": [],
   "source": [
    "# change to one level table\n",
    "retention_group = retention_group.reset_index()\n",
    "#determine number of day pf week\n",
    "retention_group['signup_day'] = retention_group['signup'].map(lambda x: x.weekday())\n",
    "\n",
    "#apply function for categorisation \n",
    "retention_group['day'] = retention_group.apply(week, axis=1)\n",
    "retention_group"
   ]
  },
  {
   "cell_type": "markdown",
   "id": "fb9e3052",
   "metadata": {},
   "source": [
    "## 5. Calculate metrics for each group"
   ]
  },
  {
   "cell_type": "markdown",
   "id": "e85e4ebb",
   "metadata": {},
   "source": [
    "### retention rate<a id=\"retantion_segment\"></a>"
   ]
  },
  {
   "cell_type": "code",
   "execution_count": null,
   "id": "0e11653f",
   "metadata": {},
   "outputs": [],
   "source": [
    "#function for  retantion rate calculation   \n",
    "def retantion(data):\n",
    "    #group by first action  and life time\n",
    "    group = data.groupby(['signup', 'seniority'])\n",
    "    # cohort size for each life time\n",
    "    cohort_data = group['id'].size().reset_index()\n",
    "    # pivot table  \n",
    "    cohort_counts = cohort_data.pivot(index='signup', columns='seniority', values='id')\n",
    "    \n",
    "    #retention\n",
    "    retention = cohort_counts.divide(cohort_counts[1], axis=0).round(3)\n",
    "    #  maximum date with 7 day  horisont \n",
    "    max_data = len(retention[1])-7\n",
    "    # retantion\n",
    "    retention_group = retention.iloc[0:max_data,1:7] \n",
    "    # change to one-level\n",
    "    retention_group = retention_group.reset_index()\n",
    "    # determine number of day of week\n",
    "    retention_group['day_of_week'] = retention_group['signup'].map(lambda x: x.weekday())\n",
    "    # apply function for categorisation \n",
    "    retention_group['day'] = retention_group.apply(week, axis=1)\n",
    "\n",
    "    return retention_group"
   ]
  },
  {
   "cell_type": "code",
   "execution_count": null,
   "id": "afb47a89",
   "metadata": {},
   "outputs": [],
   "source": []
  },
  {
   "cell_type": "code",
   "execution_count": null,
   "id": "732ed1f7",
   "metadata": {},
   "outputs": [],
   "source": [
    "#save the required columns\n",
    "df = retention_group[['day',2,3,4,5,6,7]]\n",
    "\n",
    "#group by day\n",
    "df_day = df.groupby('day').agg('mean').sort_values(by=2)\n",
    "\n",
    "# plot heat map of retention rate in cohort\n",
    "plt.figure(figsize=(18,4))\n",
    "plt.title('Retention Table', fontdict=font)\n",
    "\n",
    "ax = sns.heatmap(data=df_day, annot=True, fmt='.0%', vmin=0.0, vmax=1,cmap='Reds')\n",
    "plt.xlabel('period after registration', fontdict=font)\n",
    "plt.ylabel('registration date', fontdict=font)\n",
    "plt.savefig(\"Retention_Table.png\")\n",
    "plt.show()"
   ]
  },
  {
   "cell_type": "markdown",
   "id": "fcb9bc0d",
   "metadata": {},
   "source": [
    "<div class=\"alert alert-info\">  Users who registered on a weekend are a little more likely to return </div> "
   ]
  },
  {
   "cell_type": "markdown",
   "id": "4f161cc6",
   "metadata": {},
   "source": [
    "### conversion to target action - viewing contacts<a id=\"conversion_segment\"></a>"
   ]
  },
  {
   "cell_type": "code",
   "execution_count": null,
   "id": "fc815c68",
   "metadata": {},
   "outputs": [],
   "source": [
    "#determine the number of the day of the week and use the function to determine weekdays and weekends\n",
    "conversion_weekday = conversion\n",
    "conversion_weekday['signup_day'] = conversion_weekday['signup'].map(lambda x: x.weekday())\n",
    "\n",
    "\n",
    "conversion_weekday['day'] = conversion_weekday.apply(week, axis=1)\n",
    "conversion_weekday.head(7)"
   ]
  },
  {
   "cell_type": "code",
   "execution_count": null,
   "id": "55198cf6",
   "metadata": {},
   "outputs": [],
   "source": [
    "#barplot\n",
    "sns.barplot(x='signup', y='conversion', data=conversion_weekday,hue = 'day')\n",
    "plt.ylabel('Conversion')\n",
    "plt.xlabel('Cohorts')\n",
    "plt.title('Conversion by cohorts')\n",
    "plt.xticks(rotation=90)\n",
    "plt.show()\n"
   ]
  },
  {
   "cell_type": "code",
   "execution_count": null,
   "id": "9a033736",
   "metadata": {},
   "outputs": [],
   "source": [
    "#table of conversion\n",
    "conv_group =conversion_weekday.groupby('day').agg({'conversion':'mean'}).reset_index()\n",
    "conv_group"
   ]
  },
  {
   "cell_type": "raw",
   "id": "5d0ea835",
   "metadata": {},
   "source": []
  },
  {
   "cell_type": "code",
   "execution_count": null,
   "id": "9762339d",
   "metadata": {},
   "outputs": [],
   "source": [
    "#barplot\n",
    "sns.barplot(x='day', y='conversion', data=conv_group)\n",
    "plt.ylabel('Conversion')\n",
    "plt.xlabel('Cohorts')\n",
    "plt.title('Conversion to target action')\n",
    "\n",
    "plt.show()"
   ]
  },
  {
   "cell_type": "code",
   "execution_count": null,
   "id": "4e4f6c09",
   "metadata": {},
   "outputs": [],
   "source": [
    "print('Conversion in weekday ', round(conv_group.iloc[0,1]/conv_group.iloc[1,1],1), \n",
    "      ' times more than on the weekend')"
   ]
  },
  {
   "cell_type": "markdown",
   "id": "444994de",
   "metadata": {},
   "source": [
    "<div class=\"alert alert-info\"> \n",
    "The conversion of users registered on weekends is significantly lower than the conversion of users registered on weekdays. At the same time, the general dynamics of conversion both on weekdays and on weekends are the same.\n",
    "</div> \n"
   ]
  },
  {
   "cell_type": "markdown",
   "id": "076cdcc3",
   "metadata": {},
   "source": [
    "### Conclusion on segment behavior<a id=\"second_conclusion\"></a>"
   ]
  },
  {
   "cell_type": "markdown",
   "id": "0ccfd51d",
   "metadata": {},
   "source": [
    "<div class=\"alert alert-info\"> \n",
    "Users registered on weekends return a little more often. But the conversion of users registered on weekdays increases by almost a third.\n",
    "</div> \n"
   ]
  },
  {
   "cell_type": "markdown",
   "id": "aa7e547b",
   "metadata": {},
   "source": [
    "## 6. Checking of statistical hypothes<a id=\"hypotheses\"></a> "
   ]
  },
  {
   "cell_type": "markdown",
   "id": "7316f9c5",
   "metadata": {},
   "source": [
    "```\n",
    "H_0: weekend conversion = weekday conversion`\n",
    "H_1: weekend conversion ≠ weekday conversion``\n",
    "alpha = 0.05\n",
    "```"
   ]
  },
  {
   "cell_type": "code",
   "execution_count": null,
   "id": "45c0b0fc",
   "metadata": {},
   "outputs": [],
   "source": [
    "# show first 5 line conversion\n",
    "conversion_weekday.head()"
   ]
  },
  {
   "cell_type": "code",
   "execution_count": null,
   "id": "40d5f594",
   "metadata": {},
   "outputs": [],
   "source": [
    "#number of users who performed the target action\n",
    "trial_sucess = conversion_weekday.groupby('day').agg({'total_user':'sum','contacts_show':'sum'}).reset_index()\n",
    "trial_sucess"
   ]
  },
  {
   "cell_type": "code",
   "execution_count": null,
   "id": "efb971f9",
   "metadata": {},
   "outputs": [],
   "source": [
    "count = trial_sucess['contacts_show']# list of target action in two groups\n",
    "nobs = trial_sucess['total_user']# list of number of users in two groups\n",
    "stat, pval = proportions_ztest(count, nobs) #ztest\n",
    "print(count, nobs)\n",
    "print('{0:0.3f}'.format(pval))\n",
    "alpha = 0.05\n",
    "if (pval < alpha):\n",
    "        display('We reject the null hypothesis, there are statistically significant differences between the samples')\n",
    "else:\n",
    "        display('It was not possible to reject the null hypothesis; there are no statistically significant differences in the samples')"
   ]
  },
  {
   "cell_type": "markdown",
   "id": "052a3eb3",
   "metadata": {},
   "source": [
    "<div class=\"alert alert-info\"> There are no statistically significant differences in conversion rates between weekends and weekdays. </div> \n",
    "\n"
   ]
  },
  {
   "cell_type": "code",
   "execution_count": null,
   "id": "2d5d8709",
   "metadata": {},
   "outputs": [],
   "source": [
    "#merge table of sources and data\n",
    "data = data.merge(sources, left_on='id', right_on='id')\n",
    "data.head()"
   ]
  },
  {
   "cell_type": "code",
   "execution_count": null,
   "id": "91757635",
   "metadata": {},
   "outputs": [],
   "source": [
    "#sampling data from users who came from Yandex\n",
    "data_yandex = data.query('source == \"yandex\"')\n",
    "#sampling data from users who came from Google\n",
    "data_google = data.query('source == \"google\"')\n",
    "#sampling data from users who came from other sources\n",
    "data_other = data.query('source == \"other\"')\n",
    "#conversion for users from Yandex\n",
    "conv_yandex = conv(data_yandex)\n",
    "#conversion for users from Google\n",
    "conv_google = conv(data_google)\n",
    "#conversion for users from other sources\n",
    "conv_other = conv(data_other)\n"
   ]
  },
  {
   "cell_type": "code",
   "execution_count": null,
   "id": "539c472a",
   "metadata": {},
   "outputs": [],
   "source": [
    "conv_yandex.head()"
   ]
  },
  {
   "cell_type": "code",
   "execution_count": null,
   "id": "b5cf86fe",
   "metadata": {},
   "outputs": [],
   "source": [
    "sucess_yandex = conv_yandex['contacts_show'].sum()# number of target action for Yandex\n",
    "sucess_google = conv_google['contacts_show'].sum()# number of target action for Google\n",
    "sucess_other = conv_other['contacts_show'].sum()# number of target action for other sources\n",
    "\n",
    "trial_yandex = conv_yandex['total_user'].sum()# total users from Yandex\n",
    "trial_google = conv_google['total_user'].sum()#total users from Google\n",
    "trial_other = conv_other['total_user'].sum()#total users from other sources"
   ]
  },
  {
   "cell_type": "code",
   "execution_count": null,
   "id": "30fda59a",
   "metadata": {},
   "outputs": [],
   "source": [
    "#compare conversions from Yandex and Google\n",
    "count = np.array([sucess_yandex, sucess_google])#target action for Yandex and Google\n",
    "nobs = np.array([trial_yandex, trial_google])#users list for Yandex and Google\n",
    "stat, pval = proportions_ztest(count, nobs) #z test\n",
    "print('{0:0.3f}'.format(pval))\n",
    "alpha = 0.05\n",
    "if (pval < alpha):\n",
    "        display('We reject the null hypothesis, there are statistically significant differences between the samples')\n",
    "else:\n",
    "        display('It was not possible to reject the null hypothesis; there are no statistically significant differences in the samples')"
   ]
  },
  {
   "cell_type": "code",
   "execution_count": null,
   "id": "d7ff124c",
   "metadata": {},
   "outputs": [],
   "source": [
    "#compare conversions from Yandex and other sources\n",
    "count = np.array([sucess_yandex, sucess_other])#сnumber of target action\n",
    "nobs = np.array([trial_yandex, trial_other])#users list\n",
    "stat, pval = proportions_ztest(count, nobs) \n",
    "print('{0:0.3f}'.format(pval))\n",
    "alpha = 0.05\n",
    "if (pval < alpha):\n",
    "        display('We reject the null hypothesis, there are statistically significant differences between the samples')\n",
    "else:\n",
    "        display('It was not possible to reject the null hypothesis; there are no statistically significant differences in the samples')"
   ]
  },
  {
   "cell_type": "markdown",
   "id": "7af6d528",
   "metadata": {},
   "source": [
    "<div class=\"alert alert-info\"> The p-value is much greater than 0.05. The conversion rates of users coming from Yandex and Google are statistically close. But it is significantly superior to other sources. </div> "
   ]
  },
  {
   "cell_type": "markdown",
   "id": "c8959ba9",
   "metadata": {},
   "source": [
    "## 6.General conclusion<a id=\"general_conclusion\"></a> "
   ]
  },
  {
   "cell_type": "markdown",
   "id": "4288a825",
   "metadata": {},
   "source": [
    "<div class=\"alert alert-info\"> \n",
    "In general, the data is quite homogeneous. But it is worth highlighting October 12 and 26. These days had the highest number of visitors and the best retention rate. It will be interesting to understand the reasons for the peak growth in metrics.\n",
    "\n",
    "During the period under review, a typical user made only one session. Almost no one performed more than 6 sessions. Although there are also record holders with 99 sessions. This looks too brightly skewed. This likely indicates that the app may be more useful than users currently rate it to be.\n",
    "\n",
    "Usually one action takes about a minute. Conversion is about 20-25%.\n",
    "\n",
    "All faster users on Wednesday. But on Thursday and Friday the greatest conversion\n",
    "Overall the application is stable.\n",
    "The retention rate on weekends is slightly higher than on weekdays. But the weekend advantage manifests itself mainly only on the second day: 16% versus 12%. The conversion of users registered on weekdays is one third more than the conversion of users registered on weekends. Probably on weekdays people go to applications mainly if there is some kind of motivation.\n",
    "\n",
    "No statistically significant difference was found between conversions on weekends and on weekdays, as well as between users from Yandex and Google. On the other hand, Yandex and Google are superior to other sources.\n",
    "\n",
    "Recommendations.\n",
    "\n",
    "It is worth double-checking the usability of the application. During the period under review, a typical user made only one session. Based on the fact that users do not stay for a long time and the conversion to the target action is only 1%, we can conclude that users do not always understand what can be done in the application and do not reach the target action. Probably, if you show all the capabilities of the application, users will return more often and perform the target action more often.\n",
    "It is worth working on the navigation in the application.\n",
    "You can also try offering recommendations or sending newsletters describing the functionality of the application. At the same time, it is worth paying attention to users registered on Thursday and Friday.\n",
    "It’s better to send out specific offers on Wednesdays. users have no desire to waste time\n",
    "It is better to use Yandex and Google as a channel for attracting users\n",
    "</div> \n"
   ]
  },
  {
   "cell_type": "code",
   "execution_count": null,
   "id": "fbc74ba1",
   "metadata": {},
   "outputs": [],
   "source": []
  }
 ],
 "metadata": {
  "ExecuteTimeLog": [
   {
    "duration": 1485,
    "start_time": "2023-08-16T10:41:08.564Z"
   },
   {
    "duration": 273,
    "start_time": "2023-08-16T10:41:10.052Z"
   },
   {
    "duration": 11,
    "start_time": "2023-08-16T10:41:10.327Z"
   },
   {
    "duration": 93,
    "start_time": "2023-08-16T10:41:10.339Z"
   },
   {
    "duration": 7,
    "start_time": "2023-08-16T10:41:10.433Z"
   },
   {
    "duration": 38,
    "start_time": "2023-08-16T10:41:10.441Z"
   },
   {
    "duration": 15,
    "start_time": "2023-08-16T10:41:10.481Z"
   },
   {
    "duration": 92,
    "start_time": "2023-08-16T10:41:10.497Z"
   },
   {
    "duration": 15,
    "start_time": "2023-08-16T10:41:10.591Z"
   },
   {
    "duration": 28,
    "start_time": "2023-08-16T10:41:10.611Z"
   },
   {
    "duration": 28,
    "start_time": "2023-08-16T10:41:10.641Z"
   },
   {
    "duration": 13,
    "start_time": "2023-08-16T10:41:10.671Z"
   },
   {
    "duration": 28,
    "start_time": "2023-08-16T10:41:10.685Z"
   },
   {
    "duration": 6,
    "start_time": "2023-08-16T10:41:10.715Z"
   },
   {
    "duration": 10,
    "start_time": "2023-08-16T10:41:10.723Z"
   },
   {
    "duration": 33,
    "start_time": "2023-08-16T10:41:10.735Z"
   },
   {
    "duration": 15,
    "start_time": "2023-08-16T10:41:10.770Z"
   },
   {
    "duration": 12,
    "start_time": "2023-08-16T10:41:10.787Z"
   },
   {
    "duration": 87,
    "start_time": "2023-08-16T10:41:10.800Z"
   },
   {
    "duration": 6,
    "start_time": "2023-08-16T10:41:10.888Z"
   },
   {
    "duration": 13,
    "start_time": "2023-08-16T10:41:10.896Z"
   },
   {
    "duration": 5,
    "start_time": "2023-08-16T10:41:10.911Z"
   },
   {
    "duration": 58,
    "start_time": "2023-08-16T10:41:10.918Z"
   },
   {
    "duration": 844,
    "start_time": "2023-08-16T10:41:10.979Z"
   },
   {
    "duration": 23,
    "start_time": "2023-08-16T10:41:11.825Z"
   },
   {
    "duration": 41,
    "start_time": "2023-08-16T10:41:11.850Z"
   },
   {
    "duration": 32,
    "start_time": "2023-08-16T10:41:11.893Z"
   },
   {
    "duration": 141,
    "start_time": "2023-08-16T10:41:11.929Z"
   },
   {
    "duration": 36,
    "start_time": "2023-08-16T10:41:12.072Z"
   },
   {
    "duration": 80,
    "start_time": "2023-08-16T10:41:12.110Z"
   },
   {
    "duration": 3,
    "start_time": "2023-08-16T10:41:12.192Z"
   },
   {
    "duration": 55,
    "start_time": "2023-08-16T10:41:12.197Z"
   },
   {
    "duration": 95,
    "start_time": "2023-08-16T10:41:12.254Z"
   },
   {
    "duration": 36,
    "start_time": "2023-08-16T10:41:12.351Z"
   },
   {
    "duration": 1389,
    "start_time": "2023-08-16T10:41:12.389Z"
   },
   {
    "duration": 1640,
    "start_time": "2023-08-16T10:41:13.781Z"
   },
   {
    "duration": 5,
    "start_time": "2023-08-16T10:41:15.423Z"
   },
   {
    "duration": 198,
    "start_time": "2023-08-16T10:41:15.430Z"
   },
   {
    "duration": 191,
    "start_time": "2023-08-16T10:41:15.630Z"
   },
   {
    "duration": 430,
    "start_time": "2023-08-16T10:41:15.823Z"
   },
   {
    "duration": 407,
    "start_time": "2023-08-16T10:41:16.255Z"
   },
   {
    "duration": 700,
    "start_time": "2023-08-16T10:41:16.664Z"
   },
   {
    "duration": 103,
    "start_time": "2023-08-16T10:41:17.366Z"
   },
   {
    "duration": 7,
    "start_time": "2023-08-16T10:41:17.471Z"
   },
   {
    "duration": 17,
    "start_time": "2023-08-16T10:41:17.480Z"
   },
   {
    "duration": 224,
    "start_time": "2023-08-16T10:41:17.499Z"
   },
   {
    "duration": 9,
    "start_time": "2023-08-16T10:41:17.725Z"
   },
   {
    "duration": 431,
    "start_time": "2023-08-16T10:41:17.736Z"
   },
   {
    "duration": 541,
    "start_time": "2023-08-16T10:41:18.170Z"
   },
   {
    "duration": 11,
    "start_time": "2023-08-16T10:41:18.713Z"
   },
   {
    "duration": 41,
    "start_time": "2023-08-16T10:41:18.726Z"
   },
   {
    "duration": 66,
    "start_time": "2023-08-16T10:41:18.769Z"
   },
   {
    "duration": 10,
    "start_time": "2023-08-16T10:41:18.837Z"
   },
   {
    "duration": 49,
    "start_time": "2023-08-16T10:41:18.849Z"
   },
   {
    "duration": 25,
    "start_time": "2023-08-16T10:41:18.900Z"
   },
   {
    "duration": 525,
    "start_time": "2023-08-16T10:41:18.926Z"
   },
   {
    "duration": 20,
    "start_time": "2023-08-16T10:41:19.453Z"
   },
   {
    "duration": 34,
    "start_time": "2023-08-16T10:41:19.476Z"
   },
   {
    "duration": 20,
    "start_time": "2023-08-16T10:41:19.512Z"
   },
   {
    "duration": 36,
    "start_time": "2023-08-16T10:41:19.534Z"
   },
   {
    "duration": 27,
    "start_time": "2023-08-16T10:41:19.572Z"
   },
   {
    "duration": 23,
    "start_time": "2023-08-16T10:41:19.601Z"
   },
   {
    "duration": 13,
    "start_time": "2023-08-16T10:41:19.626Z"
   },
   {
    "duration": 35,
    "start_time": "2023-08-16T10:41:19.641Z"
   },
   {
    "duration": 17,
    "start_time": "2023-08-16T10:41:19.678Z"
   },
   {
    "duration": 407,
    "start_time": "2023-08-16T10:41:19.697Z"
   },
   {
    "duration": 15,
    "start_time": "2023-08-16T10:41:20.106Z"
   },
   {
    "duration": 609,
    "start_time": "2023-08-16T10:41:20.123Z"
   },
   {
    "duration": 9,
    "start_time": "2023-08-16T10:41:20.734Z"
   },
   {
    "duration": 231,
    "start_time": "2023-08-16T10:41:20.745Z"
   },
   {
    "duration": 4,
    "start_time": "2023-08-16T10:41:20.979Z"
   },
   {
    "duration": 53,
    "start_time": "2023-08-16T10:41:20.985Z"
   },
   {
    "duration": 11,
    "start_time": "2023-08-16T10:49:41.723Z"
   },
   {
    "duration": 16,
    "start_time": "2023-08-16T10:50:59.517Z"
   },
   {
    "duration": 15,
    "start_time": "2023-08-16T10:51:11.111Z"
   },
   {
    "duration": 18,
    "start_time": "2023-08-16T10:51:21.932Z"
   },
   {
    "duration": 18,
    "start_time": "2023-08-16T10:55:02.130Z"
   },
   {
    "duration": 1280,
    "start_time": "2023-08-16T21:01:24.103Z"
   },
   {
    "duration": 300,
    "start_time": "2023-08-16T21:01:25.385Z"
   },
   {
    "duration": 10,
    "start_time": "2023-08-16T21:01:25.686Z"
   },
   {
    "duration": 59,
    "start_time": "2023-08-16T21:01:25.699Z"
   },
   {
    "duration": 7,
    "start_time": "2023-08-16T21:01:25.760Z"
   },
   {
    "duration": 14,
    "start_time": "2023-08-16T21:01:25.769Z"
   },
   {
    "duration": 13,
    "start_time": "2023-08-16T21:01:25.785Z"
   },
   {
    "duration": 77,
    "start_time": "2023-08-16T21:01:25.800Z"
   },
   {
    "duration": 13,
    "start_time": "2023-08-16T21:01:25.878Z"
   },
   {
    "duration": 23,
    "start_time": "2023-08-16T21:01:25.894Z"
   },
   {
    "duration": 3,
    "start_time": "2023-08-16T21:01:25.919Z"
   },
   {
    "duration": 17,
    "start_time": "2023-08-16T21:01:25.924Z"
   },
   {
    "duration": 22,
    "start_time": "2023-08-16T21:01:25.957Z"
   },
   {
    "duration": 5,
    "start_time": "2023-08-16T21:01:25.981Z"
   },
   {
    "duration": 13,
    "start_time": "2023-08-16T21:01:25.987Z"
   },
   {
    "duration": 5,
    "start_time": "2023-08-16T21:01:26.002Z"
   },
   {
    "duration": 12,
    "start_time": "2023-08-16T21:01:26.009Z"
   },
   {
    "duration": 4,
    "start_time": "2023-08-16T21:01:26.022Z"
   },
   {
    "duration": 89,
    "start_time": "2023-08-16T21:01:26.028Z"
   },
   {
    "duration": 6,
    "start_time": "2023-08-16T21:01:26.119Z"
   },
   {
    "duration": 9,
    "start_time": "2023-08-16T21:01:26.126Z"
   },
   {
    "duration": 20,
    "start_time": "2023-08-16T21:01:26.137Z"
   },
   {
    "duration": 40,
    "start_time": "2023-08-16T21:01:26.159Z"
   },
   {
    "duration": 736,
    "start_time": "2023-08-16T21:01:26.201Z"
   },
   {
    "duration": 26,
    "start_time": "2023-08-16T21:01:26.938Z"
   },
   {
    "duration": 14,
    "start_time": "2023-08-16T21:01:26.966Z"
   },
   {
    "duration": 33,
    "start_time": "2023-08-16T21:01:26.981Z"
   },
   {
    "duration": 124,
    "start_time": "2023-08-16T21:01:27.018Z"
   },
   {
    "duration": 23,
    "start_time": "2023-08-16T21:01:27.144Z"
   },
   {
    "duration": 46,
    "start_time": "2023-08-16T21:01:27.169Z"
   },
   {
    "duration": 3,
    "start_time": "2023-08-16T21:01:27.218Z"
   },
   {
    "duration": 40,
    "start_time": "2023-08-16T21:01:27.223Z"
   },
   {
    "duration": 55,
    "start_time": "2023-08-16T21:01:27.265Z"
   },
   {
    "duration": 14,
    "start_time": "2023-08-16T21:01:27.322Z"
   },
   {
    "duration": 1191,
    "start_time": "2023-08-16T21:01:27.338Z"
   },
   {
    "duration": 1607,
    "start_time": "2023-08-16T21:01:28.531Z"
   },
   {
    "duration": 5,
    "start_time": "2023-08-16T21:01:30.140Z"
   },
   {
    "duration": 33,
    "start_time": "2023-08-16T21:01:30.156Z"
   },
   {
    "duration": 79,
    "start_time": "2023-08-16T21:01:30.191Z"
   },
   {
    "duration": 213,
    "start_time": "2023-08-16T21:01:30.272Z"
   },
   {
    "duration": 365,
    "start_time": "2023-08-16T21:01:30.487Z"
   },
   {
    "duration": 561,
    "start_time": "2023-08-16T21:01:30.856Z"
   },
   {
    "duration": 98,
    "start_time": "2023-08-16T21:01:31.418Z"
   },
   {
    "duration": 5,
    "start_time": "2023-08-16T21:01:31.517Z"
   },
   {
    "duration": 53,
    "start_time": "2023-08-16T21:01:31.524Z"
   },
   {
    "duration": 221,
    "start_time": "2023-08-16T21:01:31.580Z"
   },
   {
    "duration": 8,
    "start_time": "2023-08-16T21:01:31.803Z"
   },
   {
    "duration": 386,
    "start_time": "2023-08-16T21:01:31.813Z"
   },
   {
    "duration": 302,
    "start_time": "2023-08-16T21:01:32.201Z"
   },
   {
    "duration": 11,
    "start_time": "2023-08-16T21:01:32.504Z"
   },
   {
    "duration": 32,
    "start_time": "2023-08-16T21:01:32.516Z"
   },
   {
    "duration": 35,
    "start_time": "2023-08-16T21:01:32.550Z"
   },
   {
    "duration": 9,
    "start_time": "2023-08-16T21:01:32.587Z"
   },
   {
    "duration": 41,
    "start_time": "2023-08-16T21:01:32.597Z"
   },
   {
    "duration": 15,
    "start_time": "2023-08-16T21:01:32.640Z"
   },
   {
    "duration": 450,
    "start_time": "2023-08-16T21:01:32.669Z"
   },
   {
    "duration": 13,
    "start_time": "2023-08-16T21:01:33.120Z"
   },
   {
    "duration": 9,
    "start_time": "2023-08-16T21:01:33.134Z"
   },
   {
    "duration": 14,
    "start_time": "2023-08-16T21:01:33.145Z"
   },
   {
    "duration": 24,
    "start_time": "2023-08-16T21:01:33.161Z"
   },
   {
    "duration": 2,
    "start_time": "2023-08-16T21:01:33.187Z"
   },
   {
    "duration": 21,
    "start_time": "2023-08-16T21:01:33.190Z"
   },
   {
    "duration": 12,
    "start_time": "2023-08-16T21:01:33.213Z"
   },
   {
    "duration": 6,
    "start_time": "2023-08-16T21:01:33.227Z"
   },
   {
    "duration": 8,
    "start_time": "2023-08-16T21:01:33.234Z"
   },
   {
    "duration": 334,
    "start_time": "2023-08-16T21:01:33.244Z"
   },
   {
    "duration": 14,
    "start_time": "2023-08-16T21:01:33.579Z"
   },
   {
    "duration": 554,
    "start_time": "2023-08-16T21:01:33.594Z"
   },
   {
    "duration": 20,
    "start_time": "2023-08-16T21:01:34.150Z"
   },
   {
    "duration": 202,
    "start_time": "2023-08-16T21:01:34.172Z"
   },
   {
    "duration": 3,
    "start_time": "2023-08-16T21:01:34.376Z"
   },
   {
    "duration": 14,
    "start_time": "2023-08-16T21:01:34.380Z"
   },
   {
    "duration": 105,
    "start_time": "2023-08-16T22:43:53.244Z"
   },
   {
    "duration": 21,
    "start_time": "2023-08-16T22:46:34.556Z"
   },
   {
    "duration": 39,
    "start_time": "2023-08-16T22:46:39.256Z"
   },
   {
    "duration": 6,
    "start_time": "2023-08-16T22:46:41.653Z"
   },
   {
    "duration": 678,
    "start_time": "2023-08-16T22:55:28.901Z"
   },
   {
    "duration": 730,
    "start_time": "2023-08-16T22:58:22.356Z"
   },
   {
    "duration": 778,
    "start_time": "2023-08-16T22:58:35.701Z"
   },
   {
    "duration": 12,
    "start_time": "2023-08-16T23:08:58.261Z"
   },
   {
    "duration": 14,
    "start_time": "2023-08-16T23:09:18.198Z"
   },
   {
    "duration": 671,
    "start_time": "2023-08-16T23:09:45.121Z"
   },
   {
    "duration": 713,
    "start_time": "2023-08-16T23:09:53.723Z"
   },
   {
    "duration": 10,
    "start_time": "2023-08-16T23:12:04.836Z"
   },
   {
    "duration": 706,
    "start_time": "2023-08-16T23:12:31.988Z"
   },
   {
    "duration": 769,
    "start_time": "2023-08-16T23:16:38.864Z"
   },
   {
    "duration": 628,
    "start_time": "2023-08-16T23:17:24.559Z"
   },
   {
    "duration": 795,
    "start_time": "2023-08-16T23:18:18.255Z"
   },
   {
    "duration": 114,
    "start_time": "2023-08-16T23:18:40.642Z"
   },
   {
    "duration": 110,
    "start_time": "2023-08-16T23:19:33.764Z"
   },
   {
    "duration": 714,
    "start_time": "2023-08-16T23:23:58.872Z"
   },
   {
    "duration": 699,
    "start_time": "2023-08-16T23:27:13.600Z"
   },
   {
    "duration": 702,
    "start_time": "2023-08-16T23:27:23.896Z"
   },
   {
    "duration": 735,
    "start_time": "2023-08-16T23:28:46.551Z"
   },
   {
    "duration": 711,
    "start_time": "2023-08-16T23:28:53.900Z"
   },
   {
    "duration": 784,
    "start_time": "2023-08-16T23:30:55.306Z"
   },
   {
    "duration": 753,
    "start_time": "2023-08-16T23:31:05.765Z"
   },
   {
    "duration": 668,
    "start_time": "2023-08-16T23:31:35.896Z"
   },
   {
    "duration": 703,
    "start_time": "2023-08-16T23:31:44.155Z"
   },
   {
    "duration": 770,
    "start_time": "2023-08-16T23:31:58.168Z"
   },
   {
    "duration": 15,
    "start_time": "2023-08-16T23:32:05.650Z"
   },
   {
    "duration": 107,
    "start_time": "2023-08-16T23:32:10.851Z"
   },
   {
    "duration": 115,
    "start_time": "2023-08-16T23:32:52.656Z"
   },
   {
    "duration": 705,
    "start_time": "2023-08-16T23:33:03.260Z"
   },
   {
    "duration": 16,
    "start_time": "2023-08-16T23:33:04.967Z"
   },
   {
    "duration": 116,
    "start_time": "2023-08-16T23:33:07.380Z"
   },
   {
    "duration": 111,
    "start_time": "2023-08-16T23:33:39.290Z"
   },
   {
    "duration": 698,
    "start_time": "2023-08-16T23:36:29.271Z"
   },
   {
    "duration": 16,
    "start_time": "2023-08-16T23:36:30.350Z"
   },
   {
    "duration": 101,
    "start_time": "2023-08-16T23:36:35.199Z"
   },
   {
    "duration": 105,
    "start_time": "2023-08-16T23:36:57.108Z"
   },
   {
    "duration": 171,
    "start_time": "2023-08-16T23:39:01.360Z"
   },
   {
    "duration": 75,
    "start_time": "2023-08-16T23:39:16.177Z"
   },
   {
    "duration": 700,
    "start_time": "2023-08-16T23:40:46.659Z"
   },
   {
    "duration": 19,
    "start_time": "2023-08-16T23:40:48.854Z"
   },
   {
    "duration": 45,
    "start_time": "2023-08-17T19:54:02.845Z"
   },
   {
    "duration": 1324,
    "start_time": "2023-08-17T19:54:28.615Z"
   },
   {
    "duration": 258,
    "start_time": "2023-08-17T19:54:29.941Z"
   },
   {
    "duration": 10,
    "start_time": "2023-08-17T19:54:30.201Z"
   },
   {
    "duration": 105,
    "start_time": "2023-08-17T19:54:30.213Z"
   },
   {
    "duration": 7,
    "start_time": "2023-08-17T19:54:30.319Z"
   },
   {
    "duration": 31,
    "start_time": "2023-08-17T19:54:30.327Z"
   },
   {
    "duration": 53,
    "start_time": "2023-08-17T19:54:30.359Z"
   },
   {
    "duration": 91,
    "start_time": "2023-08-17T19:54:30.414Z"
   },
   {
    "duration": 14,
    "start_time": "2023-08-17T19:54:30.506Z"
   },
   {
    "duration": 61,
    "start_time": "2023-08-17T19:54:30.522Z"
   },
   {
    "duration": 20,
    "start_time": "2023-08-17T19:54:30.585Z"
   },
   {
    "duration": 34,
    "start_time": "2023-08-17T19:54:30.607Z"
   },
   {
    "duration": 51,
    "start_time": "2023-08-17T19:54:30.643Z"
   },
   {
    "duration": 51,
    "start_time": "2023-08-17T19:54:30.696Z"
   },
   {
    "duration": 18,
    "start_time": "2023-08-17T19:54:30.749Z"
   },
   {
    "duration": 40,
    "start_time": "2023-08-17T19:54:30.769Z"
   },
   {
    "duration": 23,
    "start_time": "2023-08-17T19:54:30.811Z"
   },
   {
    "duration": 40,
    "start_time": "2023-08-17T19:54:30.836Z"
   },
   {
    "duration": 44,
    "start_time": "2023-08-17T19:54:30.877Z"
   },
   {
    "duration": 76,
    "start_time": "2023-08-17T19:54:30.922Z"
   },
   {
    "duration": 6,
    "start_time": "2023-08-17T19:54:31.000Z"
   },
   {
    "duration": 34,
    "start_time": "2023-08-17T19:54:31.008Z"
   },
   {
    "duration": 67,
    "start_time": "2023-08-17T19:54:31.043Z"
   },
   {
    "duration": 62,
    "start_time": "2023-08-17T19:54:31.112Z"
   },
   {
    "duration": 706,
    "start_time": "2023-08-17T19:54:31.175Z"
   },
   {
    "duration": 15,
    "start_time": "2023-08-17T19:54:31.883Z"
   },
   {
    "duration": 236,
    "start_time": "2023-08-17T19:54:31.899Z"
   },
   {
    "duration": 0,
    "start_time": "2023-08-17T19:54:32.138Z"
   },
   {
    "duration": 0,
    "start_time": "2023-08-17T19:54:32.139Z"
   },
   {
    "duration": 0,
    "start_time": "2023-08-17T19:54:32.140Z"
   },
   {
    "duration": 0,
    "start_time": "2023-08-17T19:54:32.141Z"
   },
   {
    "duration": 0,
    "start_time": "2023-08-17T19:54:32.142Z"
   },
   {
    "duration": 0,
    "start_time": "2023-08-17T19:54:32.144Z"
   },
   {
    "duration": 0,
    "start_time": "2023-08-17T19:54:32.145Z"
   },
   {
    "duration": 0,
    "start_time": "2023-08-17T19:54:32.146Z"
   },
   {
    "duration": 0,
    "start_time": "2023-08-17T19:54:32.147Z"
   },
   {
    "duration": 0,
    "start_time": "2023-08-17T19:54:32.148Z"
   },
   {
    "duration": 0,
    "start_time": "2023-08-17T19:54:32.149Z"
   },
   {
    "duration": 0,
    "start_time": "2023-08-17T19:54:32.151Z"
   },
   {
    "duration": 0,
    "start_time": "2023-08-17T19:54:32.152Z"
   },
   {
    "duration": 0,
    "start_time": "2023-08-17T19:54:32.153Z"
   },
   {
    "duration": 0,
    "start_time": "2023-08-17T19:54:32.154Z"
   },
   {
    "duration": 0,
    "start_time": "2023-08-17T19:54:32.155Z"
   },
   {
    "duration": 1,
    "start_time": "2023-08-17T19:54:32.156Z"
   },
   {
    "duration": 0,
    "start_time": "2023-08-17T19:54:32.157Z"
   },
   {
    "duration": 0,
    "start_time": "2023-08-17T19:54:32.159Z"
   },
   {
    "duration": 0,
    "start_time": "2023-08-17T19:54:32.160Z"
   },
   {
    "duration": 0,
    "start_time": "2023-08-17T19:54:32.161Z"
   },
   {
    "duration": 0,
    "start_time": "2023-08-17T19:54:32.163Z"
   },
   {
    "duration": 0,
    "start_time": "2023-08-17T19:54:32.164Z"
   },
   {
    "duration": 0,
    "start_time": "2023-08-17T19:54:32.164Z"
   },
   {
    "duration": 0,
    "start_time": "2023-08-17T19:54:32.166Z"
   },
   {
    "duration": 0,
    "start_time": "2023-08-17T19:54:32.167Z"
   },
   {
    "duration": 0,
    "start_time": "2023-08-17T19:54:32.168Z"
   },
   {
    "duration": 0,
    "start_time": "2023-08-17T19:54:32.169Z"
   },
   {
    "duration": 0,
    "start_time": "2023-08-17T19:54:32.170Z"
   },
   {
    "duration": 0,
    "start_time": "2023-08-17T19:54:32.171Z"
   },
   {
    "duration": 0,
    "start_time": "2023-08-17T19:54:32.172Z"
   },
   {
    "duration": 0,
    "start_time": "2023-08-17T19:54:32.234Z"
   },
   {
    "duration": 0,
    "start_time": "2023-08-17T19:54:32.235Z"
   },
   {
    "duration": 0,
    "start_time": "2023-08-17T19:54:32.237Z"
   },
   {
    "duration": 0,
    "start_time": "2023-08-17T19:54:32.238Z"
   },
   {
    "duration": 0,
    "start_time": "2023-08-17T19:54:32.239Z"
   },
   {
    "duration": 0,
    "start_time": "2023-08-17T19:54:32.240Z"
   },
   {
    "duration": 0,
    "start_time": "2023-08-17T19:54:32.242Z"
   },
   {
    "duration": 0,
    "start_time": "2023-08-17T19:54:32.243Z"
   },
   {
    "duration": 0,
    "start_time": "2023-08-17T19:54:32.244Z"
   },
   {
    "duration": 0,
    "start_time": "2023-08-17T19:54:32.247Z"
   },
   {
    "duration": 0,
    "start_time": "2023-08-17T19:54:32.249Z"
   },
   {
    "duration": 0,
    "start_time": "2023-08-17T19:54:32.251Z"
   },
   {
    "duration": 0,
    "start_time": "2023-08-17T19:54:32.252Z"
   },
   {
    "duration": 0,
    "start_time": "2023-08-17T19:54:32.253Z"
   },
   {
    "duration": 0,
    "start_time": "2023-08-17T19:54:32.254Z"
   },
   {
    "duration": 0,
    "start_time": "2023-08-17T19:54:32.255Z"
   },
   {
    "duration": 0,
    "start_time": "2023-08-17T19:54:32.257Z"
   },
   {
    "duration": 0,
    "start_time": "2023-08-17T19:54:32.258Z"
   },
   {
    "duration": 2,
    "start_time": "2023-08-17T19:55:22.233Z"
   },
   {
    "duration": 707,
    "start_time": "2023-08-17T20:09:29.419Z"
   },
   {
    "duration": 26,
    "start_time": "2023-08-17T20:09:31.585Z"
   },
   {
    "duration": 16,
    "start_time": "2023-08-17T20:09:32.220Z"
   },
   {
    "duration": 27,
    "start_time": "2023-08-17T20:09:32.951Z"
   },
   {
    "duration": 106,
    "start_time": "2023-08-17T20:09:33.655Z"
   },
   {
    "duration": 20,
    "start_time": "2023-08-17T20:09:34.591Z"
   },
   {
    "duration": 47,
    "start_time": "2023-08-17T20:09:35.589Z"
   },
   {
    "duration": 4,
    "start_time": "2023-08-17T20:09:36.907Z"
   },
   {
    "duration": 19,
    "start_time": "2023-08-17T20:09:38.230Z"
   },
   {
    "duration": 40,
    "start_time": "2023-08-17T20:09:39.315Z"
   },
   {
    "duration": 15,
    "start_time": "2023-08-17T20:09:40.422Z"
   },
   {
    "duration": 1130,
    "start_time": "2023-08-17T20:09:41.495Z"
   },
   {
    "duration": 1078,
    "start_time": "2023-08-17T20:24:19.648Z"
   },
   {
    "duration": 1039,
    "start_time": "2023-08-17T20:36:27.784Z"
   },
   {
    "duration": 1445,
    "start_time": "2023-08-17T20:49:55.642Z"
   },
   {
    "duration": 5,
    "start_time": "2023-08-17T20:49:57.089Z"
   },
   {
    "duration": 11,
    "start_time": "2023-08-17T20:50:00.189Z"
   },
   {
    "duration": 22,
    "start_time": "2023-08-17T20:50:01.245Z"
   },
   {
    "duration": 182,
    "start_time": "2023-08-17T20:50:02.286Z"
   },
   {
    "duration": 411,
    "start_time": "2023-08-17T20:50:03.643Z"
   },
   {
    "duration": 486,
    "start_time": "2023-08-17T20:50:05.018Z"
   },
   {
    "duration": 79,
    "start_time": "2023-08-17T20:50:06.367Z"
   },
   {
    "duration": 484,
    "start_time": "2023-08-17T20:51:52.579Z"
   },
   {
    "duration": 85,
    "start_time": "2023-08-17T20:52:10.883Z"
   },
   {
    "duration": 93,
    "start_time": "2023-08-17T20:52:41.963Z"
   },
   {
    "duration": 5,
    "start_time": "2023-08-17T20:53:20.432Z"
   },
   {
    "duration": 25,
    "start_time": "2023-08-17T21:02:58.173Z"
   },
   {
    "duration": 23,
    "start_time": "2023-08-17T21:03:05.730Z"
   },
   {
    "duration": 27,
    "start_time": "2023-08-17T21:03:20.335Z"
   },
   {
    "duration": 704,
    "start_time": "2023-08-17T21:06:00.627Z"
   },
   {
    "duration": 672,
    "start_time": "2023-08-17T21:06:09.085Z"
   },
   {
    "duration": 15,
    "start_time": "2023-08-17T21:36:33.370Z"
   },
   {
    "duration": 22,
    "start_time": "2023-08-17T21:37:03.007Z"
   },
   {
    "duration": 22,
    "start_time": "2023-08-17T21:37:28.178Z"
   },
   {
    "duration": 1218,
    "start_time": "2023-08-17T21:38:31.323Z"
   },
   {
    "duration": 12,
    "start_time": "2023-08-17T21:38:43.466Z"
   },
   {
    "duration": 24,
    "start_time": "2023-08-17T21:40:53.204Z"
   },
   {
    "duration": 21,
    "start_time": "2023-08-17T21:41:08.572Z"
   },
   {
    "duration": 25,
    "start_time": "2023-08-17T21:41:26.806Z"
   },
   {
    "duration": 23,
    "start_time": "2023-08-17T21:41:34.986Z"
   },
   {
    "duration": 2,
    "start_time": "2023-08-17T21:49:14.898Z"
   },
   {
    "duration": 511,
    "start_time": "2023-08-17T21:49:54.760Z"
   },
   {
    "duration": 503,
    "start_time": "2023-08-17T21:50:07.696Z"
   },
   {
    "duration": 1167,
    "start_time": "2023-08-17T21:51:11.364Z"
   },
   {
    "duration": 1198,
    "start_time": "2023-08-17T21:54:15.443Z"
   },
   {
    "duration": 99,
    "start_time": "2023-08-17T21:55:37.251Z"
   },
   {
    "duration": 16,
    "start_time": "2023-08-17T21:56:57.946Z"
   },
   {
    "duration": 12,
    "start_time": "2023-08-17T22:12:16.706Z"
   },
   {
    "duration": 9,
    "start_time": "2023-08-17T22:12:53.142Z"
   },
   {
    "duration": 1343,
    "start_time": "2023-08-17T22:13:28.641Z"
   },
   {
    "duration": 3,
    "start_time": "2023-08-17T22:15:38.966Z"
   },
   {
    "duration": 582,
    "start_time": "2023-08-17T22:15:42.864Z"
   },
   {
    "duration": 3,
    "start_time": "2023-08-17T22:20:15.428Z"
   },
   {
    "duration": 1242,
    "start_time": "2023-08-17T22:20:19.077Z"
   },
   {
    "duration": 3,
    "start_time": "2023-08-17T22:22:30.001Z"
   },
   {
    "duration": 1204,
    "start_time": "2023-08-17T22:22:31.023Z"
   },
   {
    "duration": 3,
    "start_time": "2023-08-17T22:22:45.096Z"
   },
   {
    "duration": 1166,
    "start_time": "2023-08-17T22:22:45.809Z"
   },
   {
    "duration": 3,
    "start_time": "2023-08-17T22:23:36.077Z"
   },
   {
    "duration": 1211,
    "start_time": "2023-08-17T22:23:37.095Z"
   },
   {
    "duration": 106,
    "start_time": "2023-08-17T22:23:56.307Z"
   },
   {
    "duration": 5,
    "start_time": "2023-08-17T22:26:02.094Z"
   },
   {
    "duration": 1243,
    "start_time": "2023-08-17T22:26:36.876Z"
   },
   {
    "duration": 15,
    "start_time": "2023-08-17T22:26:39.364Z"
   },
   {
    "duration": 5,
    "start_time": "2023-08-17T22:26:46.748Z"
   },
   {
    "duration": 4,
    "start_time": "2023-08-17T22:26:53.076Z"
   },
   {
    "duration": 100,
    "start_time": "2023-08-17T22:26:54.109Z"
   },
   {
    "duration": 3,
    "start_time": "2023-08-17T22:27:34.954Z"
   },
   {
    "duration": 298,
    "start_time": "2023-08-17T22:27:34.959Z"
   },
   {
    "duration": 8,
    "start_time": "2023-08-17T22:27:35.259Z"
   },
   {
    "duration": 108,
    "start_time": "2023-08-17T22:27:35.268Z"
   },
   {
    "duration": 7,
    "start_time": "2023-08-17T22:27:35.378Z"
   },
   {
    "duration": 18,
    "start_time": "2023-08-17T22:27:35.386Z"
   },
   {
    "duration": 31,
    "start_time": "2023-08-17T22:27:35.406Z"
   },
   {
    "duration": 75,
    "start_time": "2023-08-17T22:27:35.439Z"
   },
   {
    "duration": 13,
    "start_time": "2023-08-17T22:27:35.516Z"
   },
   {
    "duration": 32,
    "start_time": "2023-08-17T22:27:35.530Z"
   },
   {
    "duration": 4,
    "start_time": "2023-08-17T22:27:35.564Z"
   },
   {
    "duration": 16,
    "start_time": "2023-08-17T22:27:35.569Z"
   },
   {
    "duration": 38,
    "start_time": "2023-08-17T22:27:35.586Z"
   },
   {
    "duration": 20,
    "start_time": "2023-08-17T22:27:35.626Z"
   },
   {
    "duration": 5,
    "start_time": "2023-08-17T22:27:35.648Z"
   },
   {
    "duration": 38,
    "start_time": "2023-08-17T22:27:35.654Z"
   },
   {
    "duration": 9,
    "start_time": "2023-08-17T22:27:35.694Z"
   },
   {
    "duration": 29,
    "start_time": "2023-08-17T22:27:35.704Z"
   },
   {
    "duration": 10,
    "start_time": "2023-08-17T22:27:35.735Z"
   },
   {
    "duration": 69,
    "start_time": "2023-08-17T22:27:35.746Z"
   },
   {
    "duration": 7,
    "start_time": "2023-08-17T22:27:35.816Z"
   },
   {
    "duration": 16,
    "start_time": "2023-08-17T22:27:35.824Z"
   },
   {
    "duration": 4,
    "start_time": "2023-08-17T22:27:35.841Z"
   },
   {
    "duration": 40,
    "start_time": "2023-08-17T22:27:35.847Z"
   },
   {
    "duration": 679,
    "start_time": "2023-08-17T22:27:35.889Z"
   },
   {
    "duration": 13,
    "start_time": "2023-08-17T22:27:36.570Z"
   },
   {
    "duration": 2,
    "start_time": "2023-08-17T22:27:36.585Z"
   },
   {
    "duration": 709,
    "start_time": "2023-08-17T22:27:36.588Z"
   },
   {
    "duration": 22,
    "start_time": "2023-08-17T22:27:37.300Z"
   },
   {
    "duration": 17,
    "start_time": "2023-08-17T22:27:37.333Z"
   },
   {
    "duration": 28,
    "start_time": "2023-08-17T22:27:37.351Z"
   },
   {
    "duration": 125,
    "start_time": "2023-08-17T22:27:37.381Z"
   },
   {
    "duration": 26,
    "start_time": "2023-08-17T22:27:37.508Z"
   },
   {
    "duration": 47,
    "start_time": "2023-08-17T22:27:37.535Z"
   },
   {
    "duration": 7,
    "start_time": "2023-08-17T22:27:37.583Z"
   },
   {
    "duration": 28,
    "start_time": "2023-08-17T22:27:37.591Z"
   },
   {
    "duration": 48,
    "start_time": "2023-08-17T22:27:37.621Z"
   },
   {
    "duration": 16,
    "start_time": "2023-08-17T22:27:37.670Z"
   },
   {
    "duration": 1074,
    "start_time": "2023-08-17T22:27:37.687Z"
   },
   {
    "duration": 1432,
    "start_time": "2023-08-17T22:27:38.762Z"
   },
   {
    "duration": 5,
    "start_time": "2023-08-17T22:27:40.195Z"
   },
   {
    "duration": 33,
    "start_time": "2023-08-17T22:27:40.201Z"
   },
   {
    "duration": 33,
    "start_time": "2023-08-17T22:27:40.236Z"
   },
   {
    "duration": 169,
    "start_time": "2023-08-17T22:27:40.271Z"
   },
   {
    "duration": 285,
    "start_time": "2023-08-17T22:27:40.442Z"
   },
   {
    "duration": 515,
    "start_time": "2023-08-17T22:27:40.729Z"
   },
   {
    "duration": 107,
    "start_time": "2023-08-17T22:27:41.246Z"
   },
   {
    "duration": 4,
    "start_time": "2023-08-17T22:27:41.355Z"
   },
   {
    "duration": 15,
    "start_time": "2023-08-17T22:27:41.360Z"
   },
   {
    "duration": 1267,
    "start_time": "2023-08-17T22:27:41.376Z"
   },
   {
    "duration": 13,
    "start_time": "2023-08-17T22:27:42.645Z"
   },
   {
    "duration": 13,
    "start_time": "2023-08-17T22:27:42.660Z"
   },
   {
    "duration": 134,
    "start_time": "2023-08-17T22:27:42.675Z"
   },
   {
    "duration": 1282,
    "start_time": "2023-08-18T06:22:41.170Z"
   },
   {
    "duration": 269,
    "start_time": "2023-08-18T06:22:42.454Z"
   },
   {
    "duration": 11,
    "start_time": "2023-08-18T06:22:42.724Z"
   },
   {
    "duration": 109,
    "start_time": "2023-08-18T06:22:42.737Z"
   },
   {
    "duration": 6,
    "start_time": "2023-08-18T06:22:42.848Z"
   },
   {
    "duration": 26,
    "start_time": "2023-08-18T06:22:42.856Z"
   },
   {
    "duration": 20,
    "start_time": "2023-08-18T06:22:42.884Z"
   },
   {
    "duration": 71,
    "start_time": "2023-08-18T06:22:42.905Z"
   },
   {
    "duration": 12,
    "start_time": "2023-08-18T06:22:42.977Z"
   },
   {
    "duration": 34,
    "start_time": "2023-08-18T06:22:42.991Z"
   },
   {
    "duration": 5,
    "start_time": "2023-08-18T06:22:43.026Z"
   },
   {
    "duration": 18,
    "start_time": "2023-08-18T06:22:43.032Z"
   },
   {
    "duration": 28,
    "start_time": "2023-08-18T06:22:43.051Z"
   },
   {
    "duration": 28,
    "start_time": "2023-08-18T06:22:43.081Z"
   },
   {
    "duration": 5,
    "start_time": "2023-08-18T06:22:43.110Z"
   },
   {
    "duration": 14,
    "start_time": "2023-08-18T06:22:43.117Z"
   },
   {
    "duration": 16,
    "start_time": "2023-08-18T06:22:43.133Z"
   },
   {
    "duration": 16,
    "start_time": "2023-08-18T06:22:43.150Z"
   },
   {
    "duration": 12,
    "start_time": "2023-08-18T06:22:43.167Z"
   },
   {
    "duration": 72,
    "start_time": "2023-08-18T06:22:43.180Z"
   },
   {
    "duration": 6,
    "start_time": "2023-08-18T06:22:43.254Z"
   },
   {
    "duration": 14,
    "start_time": "2023-08-18T06:22:43.261Z"
   },
   {
    "duration": 11,
    "start_time": "2023-08-18T06:22:43.277Z"
   },
   {
    "duration": 46,
    "start_time": "2023-08-18T06:22:43.289Z"
   },
   {
    "duration": 648,
    "start_time": "2023-08-18T06:22:43.337Z"
   },
   {
    "duration": 13,
    "start_time": "2023-08-18T06:22:43.986Z"
   },
   {
    "duration": 4,
    "start_time": "2023-08-18T06:22:44.000Z"
   },
   {
    "duration": 594,
    "start_time": "2023-08-18T06:22:44.007Z"
   },
   {
    "duration": 19,
    "start_time": "2023-08-18T06:22:44.602Z"
   },
   {
    "duration": 27,
    "start_time": "2023-08-18T06:22:44.622Z"
   },
   {
    "duration": 28,
    "start_time": "2023-08-18T06:22:44.652Z"
   },
   {
    "duration": 116,
    "start_time": "2023-08-18T06:22:44.681Z"
   },
   {
    "duration": 71,
    "start_time": "2023-08-18T06:22:44.798Z"
   },
   {
    "duration": 42,
    "start_time": "2023-08-18T06:22:44.870Z"
   },
   {
    "duration": 3,
    "start_time": "2023-08-18T06:22:44.913Z"
   },
   {
    "duration": 36,
    "start_time": "2023-08-18T06:22:44.917Z"
   },
   {
    "duration": 51,
    "start_time": "2023-08-18T06:22:44.954Z"
   },
   {
    "duration": 13,
    "start_time": "2023-08-18T06:22:45.007Z"
   },
   {
    "duration": 1083,
    "start_time": "2023-08-18T06:22:45.021Z"
   },
   {
    "duration": 1326,
    "start_time": "2023-08-18T06:22:46.106Z"
   },
   {
    "duration": 5,
    "start_time": "2023-08-18T06:22:47.433Z"
   },
   {
    "duration": 21,
    "start_time": "2023-08-18T06:22:47.439Z"
   },
   {
    "duration": 24,
    "start_time": "2023-08-18T06:22:47.462Z"
   },
   {
    "duration": 170,
    "start_time": "2023-08-18T06:22:47.488Z"
   },
   {
    "duration": 254,
    "start_time": "2023-08-18T06:22:47.660Z"
   },
   {
    "duration": 457,
    "start_time": "2023-08-18T06:22:47.916Z"
   },
   {
    "duration": 102,
    "start_time": "2023-08-18T06:22:48.375Z"
   },
   {
    "duration": 6,
    "start_time": "2023-08-18T06:22:48.479Z"
   },
   {
    "duration": 8,
    "start_time": "2023-08-18T06:22:48.487Z"
   },
   {
    "duration": 1193,
    "start_time": "2023-08-18T06:22:48.496Z"
   },
   {
    "duration": 13,
    "start_time": "2023-08-18T06:22:49.690Z"
   },
   {
    "duration": 4,
    "start_time": "2023-08-18T06:22:49.704Z"
   },
   {
    "duration": 117,
    "start_time": "2023-08-18T06:22:49.709Z"
   },
   {
    "duration": 9,
    "start_time": "2023-08-18T06:22:49.827Z"
   },
   {
    "duration": 169,
    "start_time": "2023-08-18T06:22:49.838Z"
   },
   {
    "duration": 7,
    "start_time": "2023-08-18T06:22:50.008Z"
   },
   {
    "duration": 244,
    "start_time": "2023-08-18T06:22:50.017Z"
   },
   {
    "duration": 235,
    "start_time": "2023-08-18T06:22:50.262Z"
   },
   {
    "duration": 9,
    "start_time": "2023-08-18T06:22:50.498Z"
   },
   {
    "duration": 33,
    "start_time": "2023-08-18T06:22:50.508Z"
   },
   {
    "duration": 24,
    "start_time": "2023-08-18T06:22:50.542Z"
   },
   {
    "duration": 8,
    "start_time": "2023-08-18T06:22:50.568Z"
   },
   {
    "duration": 27,
    "start_time": "2023-08-18T06:22:50.578Z"
   },
   {
    "duration": 9,
    "start_time": "2023-08-18T06:22:50.607Z"
   },
   {
    "duration": 356,
    "start_time": "2023-08-18T06:22:50.617Z"
   },
   {
    "duration": 11,
    "start_time": "2023-08-18T06:22:50.974Z"
   },
   {
    "duration": 10,
    "start_time": "2023-08-18T06:22:50.986Z"
   },
   {
    "duration": 18,
    "start_time": "2023-08-18T06:22:50.997Z"
   },
   {
    "duration": 25,
    "start_time": "2023-08-18T06:22:51.016Z"
   },
   {
    "duration": 2,
    "start_time": "2023-08-18T06:22:51.042Z"
   },
   {
    "duration": 11,
    "start_time": "2023-08-18T06:22:51.046Z"
   },
   {
    "duration": 17,
    "start_time": "2023-08-18T06:22:51.058Z"
   },
   {
    "duration": 26,
    "start_time": "2023-08-18T06:22:51.076Z"
   },
   {
    "duration": 12,
    "start_time": "2023-08-18T06:22:51.104Z"
   },
   {
    "duration": 331,
    "start_time": "2023-08-18T06:22:51.118Z"
   },
   {
    "duration": 11,
    "start_time": "2023-08-18T06:22:51.451Z"
   },
   {
    "duration": 475,
    "start_time": "2023-08-18T06:22:51.464Z"
   },
   {
    "duration": 11,
    "start_time": "2023-08-18T06:22:51.941Z"
   },
   {
    "duration": 164,
    "start_time": "2023-08-18T06:22:51.953Z"
   },
   {
    "duration": 4,
    "start_time": "2023-08-18T06:22:52.119Z"
   },
   {
    "duration": 26,
    "start_time": "2023-08-18T06:22:52.124Z"
   },
   {
    "duration": 4,
    "start_time": "2023-08-18T06:44:43.673Z"
   },
   {
    "duration": 1201,
    "start_time": "2023-08-18T06:44:44.581Z"
   },
   {
    "duration": 6,
    "start_time": "2023-08-18T06:46:06.004Z"
   },
   {
    "duration": 4,
    "start_time": "2023-08-18T06:46:30.880Z"
   },
   {
    "duration": 1304,
    "start_time": "2023-08-18T06:48:00.139Z"
   },
   {
    "duration": 1271,
    "start_time": "2023-08-18T06:48:29.602Z"
   },
   {
    "duration": 25,
    "start_time": "2023-08-18T06:50:07.985Z"
   },
   {
    "duration": 104,
    "start_time": "2023-08-18T06:51:42.036Z"
   },
   {
    "duration": 1262,
    "start_time": "2023-08-18T06:51:50.036Z"
   },
   {
    "duration": 1341,
    "start_time": "2023-08-18T06:52:01.985Z"
   },
   {
    "duration": 1272,
    "start_time": "2023-08-18T06:52:46.697Z"
   },
   {
    "duration": 1611,
    "start_time": "2023-08-18T06:59:32.609Z"
   },
   {
    "duration": 1646,
    "start_time": "2023-08-18T07:00:20.487Z"
   },
   {
    "duration": 1785,
    "start_time": "2023-08-18T07:00:31.455Z"
   },
   {
    "duration": 1247,
    "start_time": "2023-08-18T07:03:32.405Z"
   },
   {
    "duration": 15,
    "start_time": "2023-08-18T07:03:39.534Z"
   },
   {
    "duration": 1321,
    "start_time": "2023-08-18T07:03:50.710Z"
   },
   {
    "duration": 13,
    "start_time": "2023-08-18T07:03:53.383Z"
   },
   {
    "duration": 1332,
    "start_time": "2023-08-18T07:04:16.052Z"
   },
   {
    "duration": 4,
    "start_time": "2023-08-18T07:08:18.459Z"
   },
   {
    "duration": 24,
    "start_time": "2023-08-18T07:08:19.349Z"
   },
   {
    "duration": 4,
    "start_time": "2023-08-18T07:08:49.346Z"
   },
   {
    "duration": 1217,
    "start_time": "2023-08-18T07:08:50.912Z"
   },
   {
    "duration": 1444,
    "start_time": "2023-08-18T16:01:55.283Z"
   },
   {
    "duration": 228,
    "start_time": "2023-08-18T16:01:56.729Z"
   },
   {
    "duration": 25,
    "start_time": "2023-08-18T16:01:56.959Z"
   },
   {
    "duration": 84,
    "start_time": "2023-08-18T16:01:56.986Z"
   },
   {
    "duration": 8,
    "start_time": "2023-08-18T16:01:57.075Z"
   },
   {
    "duration": 12,
    "start_time": "2023-08-18T16:01:57.085Z"
   },
   {
    "duration": 19,
    "start_time": "2023-08-18T16:01:57.098Z"
   },
   {
    "duration": 94,
    "start_time": "2023-08-18T16:01:57.119Z"
   },
   {
    "duration": 14,
    "start_time": "2023-08-18T16:01:57.214Z"
   },
   {
    "duration": 53,
    "start_time": "2023-08-18T16:01:57.229Z"
   },
   {
    "duration": 5,
    "start_time": "2023-08-18T16:01:57.284Z"
   },
   {
    "duration": 18,
    "start_time": "2023-08-18T16:01:57.291Z"
   },
   {
    "duration": 33,
    "start_time": "2023-08-18T16:01:57.311Z"
   },
   {
    "duration": 35,
    "start_time": "2023-08-18T16:01:57.348Z"
   },
   {
    "duration": 6,
    "start_time": "2023-08-18T16:01:57.385Z"
   },
   {
    "duration": 37,
    "start_time": "2023-08-18T16:01:57.393Z"
   },
   {
    "duration": 12,
    "start_time": "2023-08-18T16:01:57.431Z"
   },
   {
    "duration": 30,
    "start_time": "2023-08-18T16:01:57.445Z"
   },
   {
    "duration": 26,
    "start_time": "2023-08-18T16:01:57.478Z"
   },
   {
    "duration": 92,
    "start_time": "2023-08-18T16:01:57.506Z"
   },
   {
    "duration": 8,
    "start_time": "2023-08-18T16:01:57.599Z"
   },
   {
    "duration": 27,
    "start_time": "2023-08-18T16:01:57.609Z"
   },
   {
    "duration": 54,
    "start_time": "2023-08-18T16:01:57.638Z"
   },
   {
    "duration": 69,
    "start_time": "2023-08-18T16:01:57.694Z"
   },
   {
    "duration": 870,
    "start_time": "2023-08-18T16:01:57.765Z"
   },
   {
    "duration": 39,
    "start_time": "2023-08-18T16:01:58.636Z"
   },
   {
    "duration": 3,
    "start_time": "2023-08-18T16:01:58.681Z"
   },
   {
    "duration": 818,
    "start_time": "2023-08-18T16:01:58.685Z"
   },
   {
    "duration": 27,
    "start_time": "2023-08-18T16:01:59.505Z"
   },
   {
    "duration": 45,
    "start_time": "2023-08-18T16:01:59.534Z"
   },
   {
    "duration": 52,
    "start_time": "2023-08-18T16:01:59.582Z"
   },
   {
    "duration": 141,
    "start_time": "2023-08-18T16:01:59.636Z"
   },
   {
    "duration": 111,
    "start_time": "2023-08-18T16:01:59.779Z"
   },
   {
    "duration": 54,
    "start_time": "2023-08-18T16:01:59.891Z"
   },
   {
    "duration": 4,
    "start_time": "2023-08-18T16:01:59.947Z"
   },
   {
    "duration": 65,
    "start_time": "2023-08-18T16:01:59.952Z"
   },
   {
    "duration": 162,
    "start_time": "2023-08-18T16:02:00.019Z"
   },
   {
    "duration": 25,
    "start_time": "2023-08-18T16:02:00.183Z"
   },
   {
    "duration": 1415,
    "start_time": "2023-08-18T16:02:00.210Z"
   },
   {
    "duration": 1719,
    "start_time": "2023-08-18T16:02:01.627Z"
   },
   {
    "duration": 5,
    "start_time": "2023-08-18T16:02:03.351Z"
   },
   {
    "duration": 54,
    "start_time": "2023-08-18T16:02:03.358Z"
   },
   {
    "duration": 114,
    "start_time": "2023-08-18T16:02:03.413Z"
   },
   {
    "duration": 309,
    "start_time": "2023-08-18T16:02:03.529Z"
   },
   {
    "duration": 388,
    "start_time": "2023-08-18T16:02:03.840Z"
   },
   {
    "duration": 550,
    "start_time": "2023-08-18T16:02:04.229Z"
   },
   {
    "duration": 132,
    "start_time": "2023-08-18T16:02:04.780Z"
   },
   {
    "duration": 6,
    "start_time": "2023-08-18T16:02:04.914Z"
   },
   {
    "duration": 46,
    "start_time": "2023-08-18T16:02:04.921Z"
   },
   {
    "duration": 2219,
    "start_time": "2023-08-18T16:02:04.968Z"
   },
   {
    "duration": 3,
    "start_time": "2023-08-18T16:02:07.188Z"
   },
   {
    "duration": 1544,
    "start_time": "2023-08-18T16:02:07.193Z"
   },
   {
    "duration": 17,
    "start_time": "2023-08-18T16:02:08.738Z"
   },
   {
    "duration": 20,
    "start_time": "2023-08-18T16:02:08.756Z"
   },
   {
    "duration": 145,
    "start_time": "2023-08-18T16:02:08.777Z"
   },
   {
    "duration": 10,
    "start_time": "2023-08-18T16:02:08.924Z"
   },
   {
    "duration": 137,
    "start_time": "2023-08-18T16:02:08.937Z"
   },
   {
    "duration": 10,
    "start_time": "2023-08-18T16:02:09.079Z"
   },
   {
    "duration": 295,
    "start_time": "2023-08-18T16:02:09.090Z"
   },
   {
    "duration": 249,
    "start_time": "2023-08-18T16:02:09.387Z"
   },
   {
    "duration": 12,
    "start_time": "2023-08-18T16:02:09.638Z"
   },
   {
    "duration": 41,
    "start_time": "2023-08-18T16:02:09.651Z"
   },
   {
    "duration": 32,
    "start_time": "2023-08-18T16:02:09.694Z"
   },
   {
    "duration": 9,
    "start_time": "2023-08-18T16:02:09.727Z"
   },
   {
    "duration": 48,
    "start_time": "2023-08-18T16:02:09.737Z"
   },
   {
    "duration": 19,
    "start_time": "2023-08-18T16:02:09.787Z"
   },
   {
    "duration": 425,
    "start_time": "2023-08-18T16:02:09.808Z"
   },
   {
    "duration": 14,
    "start_time": "2023-08-18T16:02:10.234Z"
   },
   {
    "duration": 22,
    "start_time": "2023-08-18T16:02:10.249Z"
   },
   {
    "duration": 9,
    "start_time": "2023-08-18T16:02:10.281Z"
   },
   {
    "duration": 30,
    "start_time": "2023-08-18T16:02:10.291Z"
   },
   {
    "duration": 4,
    "start_time": "2023-08-18T16:02:10.323Z"
   },
   {
    "duration": 23,
    "start_time": "2023-08-18T16:02:10.328Z"
   },
   {
    "duration": 14,
    "start_time": "2023-08-18T16:02:10.352Z"
   },
   {
    "duration": 33,
    "start_time": "2023-08-18T16:02:10.368Z"
   },
   {
    "duration": 25,
    "start_time": "2023-08-18T16:02:10.403Z"
   },
   {
    "duration": 373,
    "start_time": "2023-08-18T16:02:10.430Z"
   },
   {
    "duration": 15,
    "start_time": "2023-08-18T16:02:10.805Z"
   },
   {
    "duration": 644,
    "start_time": "2023-08-18T16:02:10.822Z"
   },
   {
    "duration": 12,
    "start_time": "2023-08-18T16:02:11.475Z"
   },
   {
    "duration": 221,
    "start_time": "2023-08-18T16:02:11.488Z"
   },
   {
    "duration": 4,
    "start_time": "2023-08-18T16:02:11.711Z"
   },
   {
    "duration": 10,
    "start_time": "2023-08-18T16:02:11.717Z"
   },
   {
    "duration": 13,
    "start_time": "2023-08-18T16:17:00.470Z"
   },
   {
    "duration": 35,
    "start_time": "2023-08-18T16:18:45.832Z"
   },
   {
    "duration": 249,
    "start_time": "2023-08-18T16:25:56.187Z"
   },
   {
    "duration": 103,
    "start_time": "2023-08-18T16:33:24.189Z"
   },
   {
    "duration": 36,
    "start_time": "2023-08-18T16:33:37.747Z"
   },
   {
    "duration": 38,
    "start_time": "2023-08-18T16:34:01.343Z"
   },
   {
    "duration": 25,
    "start_time": "2023-08-18T16:38:37.438Z"
   },
   {
    "duration": 26,
    "start_time": "2023-08-18T16:38:58.205Z"
   },
   {
    "duration": 45,
    "start_time": "2023-08-18T16:39:09.504Z"
   },
   {
    "duration": 34,
    "start_time": "2023-08-18T16:40:17.323Z"
   },
   {
    "duration": 198,
    "start_time": "2023-08-18T16:45:40.078Z"
   },
   {
    "duration": 139,
    "start_time": "2023-08-18T16:46:07.791Z"
   },
   {
    "duration": 110,
    "start_time": "2023-08-18T16:46:21.380Z"
   },
   {
    "duration": 95,
    "start_time": "2023-08-18T16:52:32.647Z"
   },
   {
    "duration": 3,
    "start_time": "2023-08-18T16:54:24.561Z"
   },
   {
    "duration": 19,
    "start_time": "2023-08-18T16:54:46.369Z"
   },
   {
    "duration": 1180,
    "start_time": "2023-08-18T16:55:15.082Z"
   },
   {
    "duration": 6,
    "start_time": "2023-08-18T16:55:51.658Z"
   },
   {
    "duration": 12,
    "start_time": "2023-08-18T16:55:59.413Z"
   },
   {
    "duration": 11,
    "start_time": "2023-08-18T16:56:21.446Z"
   },
   {
    "duration": 13,
    "start_time": "2023-08-18T16:57:50.166Z"
   },
   {
    "duration": 12,
    "start_time": "2023-08-18T16:57:51.273Z"
   },
   {
    "duration": 1293,
    "start_time": "2023-08-18T16:58:00.613Z"
   },
   {
    "duration": 7,
    "start_time": "2023-08-18T16:58:18.412Z"
   },
   {
    "duration": 5,
    "start_time": "2023-08-18T17:00:08.988Z"
   },
   {
    "duration": 4,
    "start_time": "2023-08-18T17:00:40.980Z"
   },
   {
    "duration": 20,
    "start_time": "2023-08-18T17:01:36.633Z"
   },
   {
    "duration": 27,
    "start_time": "2023-08-18T17:01:51.234Z"
   },
   {
    "duration": 25,
    "start_time": "2023-08-18T17:02:02.391Z"
   },
   {
    "duration": 10,
    "start_time": "2023-08-18T17:02:27.799Z"
   },
   {
    "duration": 3,
    "start_time": "2023-08-18T17:02:46.396Z"
   },
   {
    "duration": 21,
    "start_time": "2023-08-18T17:02:47.094Z"
   },
   {
    "duration": 19,
    "start_time": "2023-08-18T17:04:17.571Z"
   },
   {
    "duration": 23,
    "start_time": "2023-08-18T17:04:24.587Z"
   },
   {
    "duration": 67,
    "start_time": "2023-08-18T17:08:55.316Z"
   },
   {
    "duration": 3,
    "start_time": "2023-08-18T17:09:14.915Z"
   },
   {
    "duration": 3,
    "start_time": "2023-08-18T17:09:15.659Z"
   },
   {
    "duration": 27,
    "start_time": "2023-08-18T17:09:16.266Z"
   },
   {
    "duration": 26,
    "start_time": "2023-08-18T17:10:02.203Z"
   },
   {
    "duration": 220,
    "start_time": "2023-08-18T17:20:00.405Z"
   },
   {
    "duration": 226,
    "start_time": "2023-08-18T17:20:19.865Z"
   },
   {
    "duration": 27,
    "start_time": "2023-08-18T17:23:24.115Z"
   },
   {
    "duration": 206,
    "start_time": "2023-08-18T17:32:49.502Z"
   },
   {
    "duration": 164,
    "start_time": "2023-08-18T17:33:15.899Z"
   },
   {
    "duration": 1652,
    "start_time": "2023-08-18T19:48:35.344Z"
   },
   {
    "duration": 304,
    "start_time": "2023-08-18T19:48:37.001Z"
   },
   {
    "duration": 16,
    "start_time": "2023-08-18T19:48:37.307Z"
   },
   {
    "duration": 105,
    "start_time": "2023-08-18T19:48:37.326Z"
   },
   {
    "duration": 13,
    "start_time": "2023-08-18T19:48:37.433Z"
   },
   {
    "duration": 23,
    "start_time": "2023-08-18T19:48:37.448Z"
   },
   {
    "duration": 27,
    "start_time": "2023-08-18T19:48:37.476Z"
   },
   {
    "duration": 147,
    "start_time": "2023-08-18T19:48:37.506Z"
   },
   {
    "duration": 21,
    "start_time": "2023-08-18T19:48:37.655Z"
   },
   {
    "duration": 45,
    "start_time": "2023-08-18T19:48:37.680Z"
   },
   {
    "duration": 9,
    "start_time": "2023-08-18T19:48:37.727Z"
   },
   {
    "duration": 25,
    "start_time": "2023-08-18T19:48:37.737Z"
   },
   {
    "duration": 42,
    "start_time": "2023-08-18T19:48:37.765Z"
   },
   {
    "duration": 29,
    "start_time": "2023-08-18T19:48:37.813Z"
   },
   {
    "duration": 29,
    "start_time": "2023-08-18T19:48:37.844Z"
   },
   {
    "duration": 22,
    "start_time": "2023-08-18T19:48:37.881Z"
   },
   {
    "duration": 8,
    "start_time": "2023-08-18T19:48:37.906Z"
   },
   {
    "duration": 20,
    "start_time": "2023-08-18T19:48:37.916Z"
   },
   {
    "duration": 21,
    "start_time": "2023-08-18T19:48:37.939Z"
   },
   {
    "duration": 153,
    "start_time": "2023-08-18T19:48:37.965Z"
   },
   {
    "duration": 9,
    "start_time": "2023-08-18T19:48:38.122Z"
   },
   {
    "duration": 17,
    "start_time": "2023-08-18T19:48:38.133Z"
   },
   {
    "duration": 7,
    "start_time": "2023-08-18T19:48:38.152Z"
   },
   {
    "duration": 64,
    "start_time": "2023-08-18T19:48:38.173Z"
   },
   {
    "duration": 1354,
    "start_time": "2023-08-18T19:48:38.240Z"
   },
   {
    "duration": 26,
    "start_time": "2023-08-18T19:48:39.598Z"
   },
   {
    "duration": 3,
    "start_time": "2023-08-18T19:48:39.627Z"
   },
   {
    "duration": 1047,
    "start_time": "2023-08-18T19:48:39.637Z"
   },
   {
    "duration": 39,
    "start_time": "2023-08-18T19:48:40.689Z"
   },
   {
    "duration": 35,
    "start_time": "2023-08-18T19:48:40.731Z"
   },
   {
    "duration": 49,
    "start_time": "2023-08-18T19:48:40.769Z"
   },
   {
    "duration": 185,
    "start_time": "2023-08-18T19:48:40.820Z"
   },
   {
    "duration": 140,
    "start_time": "2023-08-18T19:48:41.009Z"
   },
   {
    "duration": 87,
    "start_time": "2023-08-18T19:48:41.152Z"
   },
   {
    "duration": 5,
    "start_time": "2023-08-18T19:48:41.241Z"
   },
   {
    "duration": 39,
    "start_time": "2023-08-18T19:48:41.249Z"
   },
   {
    "duration": 72,
    "start_time": "2023-08-18T19:48:41.290Z"
   },
   {
    "duration": 22,
    "start_time": "2023-08-18T19:48:41.365Z"
   },
   {
    "duration": 1498,
    "start_time": "2023-08-18T19:48:41.390Z"
   },
   {
    "duration": 2058,
    "start_time": "2023-08-18T19:48:42.890Z"
   },
   {
    "duration": 10,
    "start_time": "2023-08-18T19:48:44.957Z"
   },
   {
    "duration": 23,
    "start_time": "2023-08-18T19:48:44.972Z"
   },
   {
    "duration": 30,
    "start_time": "2023-08-18T19:48:44.997Z"
   },
   {
    "duration": 267,
    "start_time": "2023-08-18T19:48:45.028Z"
   },
   {
    "duration": 379,
    "start_time": "2023-08-18T19:48:45.298Z"
   },
   {
    "duration": 686,
    "start_time": "2023-08-18T19:48:45.680Z"
   },
   {
    "duration": 119,
    "start_time": "2023-08-18T19:48:46.368Z"
   },
   {
    "duration": 5,
    "start_time": "2023-08-18T19:48:46.489Z"
   },
   {
    "duration": 30,
    "start_time": "2023-08-18T19:48:46.496Z"
   },
   {
    "duration": 2454,
    "start_time": "2023-08-18T19:48:46.528Z"
   },
   {
    "duration": 5,
    "start_time": "2023-08-18T19:48:48.985Z"
   },
   {
    "duration": 1767,
    "start_time": "2023-08-18T19:48:48.992Z"
   },
   {
    "duration": 26,
    "start_time": "2023-08-18T19:48:50.762Z"
   },
   {
    "duration": 7,
    "start_time": "2023-08-18T19:48:50.803Z"
   },
   {
    "duration": 149,
    "start_time": "2023-08-18T19:48:50.812Z"
   },
   {
    "duration": 15,
    "start_time": "2023-08-18T19:48:50.965Z"
   },
   {
    "duration": 136,
    "start_time": "2023-08-18T19:48:50.982Z"
   },
   {
    "duration": 10,
    "start_time": "2023-08-18T19:48:51.121Z"
   },
   {
    "duration": 300,
    "start_time": "2023-08-18T19:48:51.132Z"
   },
   {
    "duration": 224,
    "start_time": "2023-08-18T19:48:51.434Z"
   },
   {
    "duration": 18,
    "start_time": "2023-08-18T19:48:51.669Z"
   },
   {
    "duration": 331,
    "start_time": "2023-08-18T19:48:51.689Z"
   },
   {
    "duration": 140,
    "start_time": "2023-08-18T19:48:52.022Z"
   },
   {
    "duration": 8,
    "start_time": "2023-08-18T19:48:52.170Z"
   },
   {
    "duration": 9,
    "start_time": "2023-08-18T19:48:52.180Z"
   },
   {
    "duration": 5,
    "start_time": "2023-08-18T19:48:52.191Z"
   },
   {
    "duration": 29,
    "start_time": "2023-08-18T19:48:52.198Z"
   },
   {
    "duration": 170,
    "start_time": "2023-08-18T19:48:52.229Z"
   },
   {
    "duration": 498,
    "start_time": "2023-08-18T19:48:52.401Z"
   },
   {
    "duration": 0,
    "start_time": "2023-08-18T19:48:52.902Z"
   },
   {
    "duration": 0,
    "start_time": "2023-08-18T19:48:52.904Z"
   },
   {
    "duration": 0,
    "start_time": "2023-08-18T19:48:52.907Z"
   },
   {
    "duration": 0,
    "start_time": "2023-08-18T19:48:52.909Z"
   },
   {
    "duration": 0,
    "start_time": "2023-08-18T19:48:52.910Z"
   },
   {
    "duration": 0,
    "start_time": "2023-08-18T19:48:52.911Z"
   },
   {
    "duration": 0,
    "start_time": "2023-08-18T19:48:52.913Z"
   },
   {
    "duration": 0,
    "start_time": "2023-08-18T19:48:52.915Z"
   },
   {
    "duration": 0,
    "start_time": "2023-08-18T19:48:52.916Z"
   },
   {
    "duration": 0,
    "start_time": "2023-08-18T19:48:52.917Z"
   },
   {
    "duration": 0,
    "start_time": "2023-08-18T19:48:52.919Z"
   },
   {
    "duration": 0,
    "start_time": "2023-08-18T19:48:52.921Z"
   },
   {
    "duration": 0,
    "start_time": "2023-08-18T19:48:52.922Z"
   },
   {
    "duration": 0,
    "start_time": "2023-08-18T19:48:52.924Z"
   },
   {
    "duration": 0,
    "start_time": "2023-08-18T19:48:52.925Z"
   },
   {
    "duration": 0,
    "start_time": "2023-08-18T19:48:52.927Z"
   },
   {
    "duration": 0,
    "start_time": "2023-08-18T19:48:52.928Z"
   },
   {
    "duration": 0,
    "start_time": "2023-08-18T19:48:52.929Z"
   },
   {
    "duration": 0,
    "start_time": "2023-08-18T19:48:52.931Z"
   },
   {
    "duration": 0,
    "start_time": "2023-08-18T19:48:52.932Z"
   },
   {
    "duration": 0,
    "start_time": "2023-08-18T19:48:52.933Z"
   },
   {
    "duration": 0,
    "start_time": "2023-08-18T19:48:52.934Z"
   },
   {
    "duration": 0,
    "start_time": "2023-08-18T19:48:52.935Z"
   },
   {
    "duration": 19,
    "start_time": "2023-08-18T19:55:15.313Z"
   },
   {
    "duration": 22,
    "start_time": "2023-08-18T19:55:38.719Z"
   },
   {
    "duration": 3,
    "start_time": "2023-08-18T19:55:45.750Z"
   },
   {
    "duration": 236,
    "start_time": "2023-08-18T19:55:45.755Z"
   },
   {
    "duration": 12,
    "start_time": "2023-08-18T19:55:45.993Z"
   },
   {
    "duration": 96,
    "start_time": "2023-08-18T19:55:46.006Z"
   },
   {
    "duration": 13,
    "start_time": "2023-08-18T19:55:46.106Z"
   },
   {
    "duration": 13,
    "start_time": "2023-08-18T19:55:46.121Z"
   },
   {
    "duration": 14,
    "start_time": "2023-08-18T19:55:46.136Z"
   },
   {
    "duration": 98,
    "start_time": "2023-08-18T19:55:46.151Z"
   },
   {
    "duration": 30,
    "start_time": "2023-08-18T19:55:46.252Z"
   },
   {
    "duration": 41,
    "start_time": "2023-08-18T19:55:46.285Z"
   },
   {
    "duration": 5,
    "start_time": "2023-08-18T19:55:46.329Z"
   },
   {
    "duration": 25,
    "start_time": "2023-08-18T19:55:46.358Z"
   },
   {
    "duration": 30,
    "start_time": "2023-08-18T19:55:46.386Z"
   },
   {
    "duration": 27,
    "start_time": "2023-08-18T19:55:46.418Z"
   },
   {
    "duration": 13,
    "start_time": "2023-08-18T19:55:46.447Z"
   },
   {
    "duration": 29,
    "start_time": "2023-08-18T19:55:46.462Z"
   },
   {
    "duration": 8,
    "start_time": "2023-08-18T19:55:46.493Z"
   },
   {
    "duration": 14,
    "start_time": "2023-08-18T19:55:46.502Z"
   },
   {
    "duration": 11,
    "start_time": "2023-08-18T19:55:46.518Z"
   },
   {
    "duration": 97,
    "start_time": "2023-08-18T19:55:46.530Z"
   },
   {
    "duration": 10,
    "start_time": "2023-08-18T19:55:46.629Z"
   },
   {
    "duration": 21,
    "start_time": "2023-08-18T19:55:46.642Z"
   },
   {
    "duration": 14,
    "start_time": "2023-08-18T19:55:46.665Z"
   },
   {
    "duration": 51,
    "start_time": "2023-08-18T19:55:46.681Z"
   },
   {
    "duration": 1048,
    "start_time": "2023-08-18T19:55:46.734Z"
   },
   {
    "duration": 22,
    "start_time": "2023-08-18T19:55:47.784Z"
   },
   {
    "duration": 3,
    "start_time": "2023-08-18T19:55:47.808Z"
   },
   {
    "duration": 1137,
    "start_time": "2023-08-18T19:55:47.814Z"
   },
   {
    "duration": 49,
    "start_time": "2023-08-18T19:55:48.969Z"
   },
   {
    "duration": 43,
    "start_time": "2023-08-18T19:55:49.020Z"
   },
   {
    "duration": 61,
    "start_time": "2023-08-18T19:55:49.065Z"
   },
   {
    "duration": 205,
    "start_time": "2023-08-18T19:55:49.129Z"
   },
   {
    "duration": 39,
    "start_time": "2023-08-18T19:55:49.338Z"
   },
   {
    "duration": 86,
    "start_time": "2023-08-18T19:55:49.379Z"
   },
   {
    "duration": 5,
    "start_time": "2023-08-18T19:55:49.468Z"
   },
   {
    "duration": 29,
    "start_time": "2023-08-18T19:55:49.475Z"
   },
   {
    "duration": 96,
    "start_time": "2023-08-18T19:55:49.506Z"
   },
   {
    "duration": 27,
    "start_time": "2023-08-18T19:55:49.604Z"
   },
   {
    "duration": 1493,
    "start_time": "2023-08-18T19:55:49.634Z"
   },
   {
    "duration": 1964,
    "start_time": "2023-08-18T19:55:51.130Z"
   },
   {
    "duration": 8,
    "start_time": "2023-08-18T19:55:53.097Z"
   },
   {
    "duration": 19,
    "start_time": "2023-08-18T19:55:53.107Z"
   },
   {
    "duration": 44,
    "start_time": "2023-08-18T19:55:53.128Z"
   },
   {
    "duration": 271,
    "start_time": "2023-08-18T19:55:53.175Z"
   },
   {
    "duration": 682,
    "start_time": "2023-08-18T19:55:53.448Z"
   },
   {
    "duration": 711,
    "start_time": "2023-08-18T19:55:54.132Z"
   },
   {
    "duration": 178,
    "start_time": "2023-08-18T19:55:54.846Z"
   },
   {
    "duration": 7,
    "start_time": "2023-08-18T19:55:55.029Z"
   },
   {
    "duration": 39,
    "start_time": "2023-08-18T19:55:55.039Z"
   },
   {
    "duration": 2719,
    "start_time": "2023-08-18T19:55:55.080Z"
   },
   {
    "duration": 3,
    "start_time": "2023-08-18T19:55:57.808Z"
   },
   {
    "duration": 2013,
    "start_time": "2023-08-18T19:55:57.813Z"
   },
   {
    "duration": 31,
    "start_time": "2023-08-18T19:55:59.828Z"
   },
   {
    "duration": 8,
    "start_time": "2023-08-18T19:55:59.862Z"
   },
   {
    "duration": 197,
    "start_time": "2023-08-18T19:55:59.872Z"
   },
   {
    "duration": 14,
    "start_time": "2023-08-18T19:56:00.072Z"
   },
   {
    "duration": 165,
    "start_time": "2023-08-18T19:56:00.089Z"
   },
   {
    "duration": 12,
    "start_time": "2023-08-18T19:56:00.256Z"
   },
   {
    "duration": 393,
    "start_time": "2023-08-18T19:56:00.270Z"
   },
   {
    "duration": 411,
    "start_time": "2023-08-18T19:56:00.665Z"
   },
   {
    "duration": 14,
    "start_time": "2023-08-18T19:56:01.080Z"
   },
   {
    "duration": 275,
    "start_time": "2023-08-18T19:56:01.096Z"
   },
   {
    "duration": 216,
    "start_time": "2023-08-18T19:56:01.376Z"
   },
   {
    "duration": 7,
    "start_time": "2023-08-18T19:56:01.594Z"
   },
   {
    "duration": 19,
    "start_time": "2023-08-18T19:56:01.603Z"
   },
   {
    "duration": 49,
    "start_time": "2023-08-18T19:56:01.624Z"
   },
   {
    "duration": 4,
    "start_time": "2023-08-18T19:56:05.565Z"
   },
   {
    "duration": 94,
    "start_time": "2023-08-18T19:56:06.217Z"
   },
   {
    "duration": 30,
    "start_time": "2023-08-18T19:57:10.527Z"
   },
   {
    "duration": 1229,
    "start_time": "2023-08-18T19:59:52.927Z"
   },
   {
    "duration": 843,
    "start_time": "2023-08-18T20:03:20.216Z"
   },
   {
    "duration": 24,
    "start_time": "2023-08-18T20:04:16.511Z"
   },
   {
    "duration": 735,
    "start_time": "2023-08-18T20:04:21.816Z"
   },
   {
    "duration": 24,
    "start_time": "2023-08-18T20:05:35.036Z"
   },
   {
    "duration": 953,
    "start_time": "2023-08-18T20:05:39.218Z"
   },
   {
    "duration": 724,
    "start_time": "2023-08-18T20:12:28.586Z"
   },
   {
    "duration": 169,
    "start_time": "2023-08-18T20:12:31.416Z"
   },
   {
    "duration": 7,
    "start_time": "2023-08-18T20:12:33.455Z"
   },
   {
    "duration": 4,
    "start_time": "2023-08-18T20:12:35.615Z"
   },
   {
    "duration": 4,
    "start_time": "2023-08-18T20:12:36.375Z"
   },
   {
    "duration": 23,
    "start_time": "2023-08-18T20:12:38.198Z"
   },
   {
    "duration": 212,
    "start_time": "2023-08-18T20:12:43.301Z"
   },
   {
    "duration": 26,
    "start_time": "2023-08-18T20:20:27.365Z"
   },
   {
    "duration": 205,
    "start_time": "2023-08-18T20:21:00.633Z"
   },
   {
    "duration": 5,
    "start_time": "2023-08-18T20:21:09.728Z"
   },
   {
    "duration": 3,
    "start_time": "2023-08-18T20:21:11.717Z"
   },
   {
    "duration": 3,
    "start_time": "2023-08-18T20:21:12.279Z"
   },
   {
    "duration": 22,
    "start_time": "2023-08-18T20:21:12.785Z"
   },
   {
    "duration": 213,
    "start_time": "2023-08-18T20:23:53.346Z"
   },
   {
    "duration": 189,
    "start_time": "2023-08-18T20:23:54.729Z"
   },
   {
    "duration": 6,
    "start_time": "2023-08-18T20:23:56.173Z"
   },
   {
    "duration": 4,
    "start_time": "2023-08-18T20:23:56.181Z"
   },
   {
    "duration": 105,
    "start_time": "2023-08-18T20:24:07.026Z"
   },
   {
    "duration": 5,
    "start_time": "2023-08-18T20:24:08.238Z"
   },
   {
    "duration": 3,
    "start_time": "2023-08-18T20:24:10.128Z"
   },
   {
    "duration": 3,
    "start_time": "2023-08-18T20:24:10.728Z"
   },
   {
    "duration": 21,
    "start_time": "2023-08-18T20:24:20.354Z"
   },
   {
    "duration": 814,
    "start_time": "2023-08-18T20:24:31.174Z"
   },
   {
    "duration": 151,
    "start_time": "2023-08-18T20:27:31.928Z"
   },
   {
    "duration": 139,
    "start_time": "2023-08-18T20:27:52.625Z"
   },
   {
    "duration": 153,
    "start_time": "2023-08-18T20:30:41.425Z"
   },
   {
    "duration": 174,
    "start_time": "2023-08-18T20:30:48.717Z"
   },
   {
    "duration": 14,
    "start_time": "2023-08-18T20:32:48.658Z"
   },
   {
    "duration": 15,
    "start_time": "2023-08-18T20:32:49.623Z"
   },
   {
    "duration": 28,
    "start_time": "2023-08-18T20:32:51.179Z"
   },
   {
    "duration": 9,
    "start_time": "2023-08-18T20:32:52.729Z"
   },
   {
    "duration": 22,
    "start_time": "2023-08-18T20:32:53.422Z"
   },
   {
    "duration": 8,
    "start_time": "2023-08-18T20:32:54.714Z"
   },
   {
    "duration": 386,
    "start_time": "2023-08-18T20:32:55.519Z"
   },
   {
    "duration": 18,
    "start_time": "2023-08-18T20:32:56.153Z"
   },
   {
    "duration": 1111,
    "start_time": "2023-08-18T22:07:33.146Z"
   },
   {
    "duration": 4,
    "start_time": "2023-08-18T22:08:00.445Z"
   },
   {
    "duration": 321,
    "start_time": "2023-08-18T22:08:00.450Z"
   },
   {
    "duration": 7,
    "start_time": "2023-08-18T22:08:00.773Z"
   },
   {
    "duration": 166,
    "start_time": "2023-08-18T22:08:00.782Z"
   },
   {
    "duration": 8,
    "start_time": "2023-08-18T22:08:00.950Z"
   },
   {
    "duration": 38,
    "start_time": "2023-08-18T22:08:00.959Z"
   },
   {
    "duration": 158,
    "start_time": "2023-08-18T22:08:00.999Z"
   },
   {
    "duration": 110,
    "start_time": "2023-08-18T22:08:01.159Z"
   },
   {
    "duration": 14,
    "start_time": "2023-08-18T22:08:01.271Z"
   },
   {
    "duration": 56,
    "start_time": "2023-08-18T22:08:01.287Z"
   },
   {
    "duration": 39,
    "start_time": "2023-08-18T22:08:01.345Z"
   },
   {
    "duration": 30,
    "start_time": "2023-08-18T22:08:01.386Z"
   },
   {
    "duration": 42,
    "start_time": "2023-08-18T22:08:01.418Z"
   },
   {
    "duration": 67,
    "start_time": "2023-08-18T22:08:01.461Z"
   },
   {
    "duration": 42,
    "start_time": "2023-08-18T22:08:01.530Z"
   },
   {
    "duration": 37,
    "start_time": "2023-08-18T22:08:01.574Z"
   },
   {
    "duration": 27,
    "start_time": "2023-08-18T22:08:01.613Z"
   },
   {
    "duration": 22,
    "start_time": "2023-08-18T22:08:01.641Z"
   },
   {
    "duration": 33,
    "start_time": "2023-08-18T22:08:01.664Z"
   },
   {
    "duration": 77,
    "start_time": "2023-08-18T22:08:01.699Z"
   },
   {
    "duration": 7,
    "start_time": "2023-08-18T22:08:01.778Z"
   },
   {
    "duration": 21,
    "start_time": "2023-08-18T22:08:01.787Z"
   },
   {
    "duration": 4,
    "start_time": "2023-08-18T22:08:01.810Z"
   },
   {
    "duration": 56,
    "start_time": "2023-08-18T22:08:01.815Z"
   },
   {
    "duration": 631,
    "start_time": "2023-08-18T22:08:01.873Z"
   },
   {
    "duration": 16,
    "start_time": "2023-08-18T22:08:02.505Z"
   },
   {
    "duration": 2,
    "start_time": "2023-08-18T22:08:02.523Z"
   },
   {
    "duration": 767,
    "start_time": "2023-08-18T22:08:02.527Z"
   },
   {
    "duration": 23,
    "start_time": "2023-08-18T22:08:03.298Z"
   },
   {
    "duration": 39,
    "start_time": "2023-08-18T22:08:03.323Z"
   },
   {
    "duration": 28,
    "start_time": "2023-08-18T22:08:03.364Z"
   },
   {
    "duration": 125,
    "start_time": "2023-08-18T22:08:03.394Z"
   },
   {
    "duration": 24,
    "start_time": "2023-08-18T22:08:03.521Z"
   },
   {
    "duration": 52,
    "start_time": "2023-08-18T22:08:03.546Z"
   },
   {
    "duration": 4,
    "start_time": "2023-08-18T22:08:03.600Z"
   },
   {
    "duration": 42,
    "start_time": "2023-08-18T22:08:03.605Z"
   },
   {
    "duration": 53,
    "start_time": "2023-08-18T22:08:03.649Z"
   },
   {
    "duration": 13,
    "start_time": "2023-08-18T22:08:03.704Z"
   },
   {
    "duration": 1107,
    "start_time": "2023-08-18T22:08:03.719Z"
   },
   {
    "duration": 1548,
    "start_time": "2023-08-18T22:08:04.828Z"
   },
   {
    "duration": 5,
    "start_time": "2023-08-18T22:08:06.378Z"
   },
   {
    "duration": 23,
    "start_time": "2023-08-18T22:08:06.384Z"
   },
   {
    "duration": 24,
    "start_time": "2023-08-18T22:08:06.409Z"
   },
   {
    "duration": 183,
    "start_time": "2023-08-18T22:08:06.435Z"
   },
   {
    "duration": 300,
    "start_time": "2023-08-18T22:08:06.620Z"
   },
   {
    "duration": 495,
    "start_time": "2023-08-18T22:08:06.922Z"
   },
   {
    "duration": 105,
    "start_time": "2023-08-18T22:08:07.419Z"
   },
   {
    "duration": 4,
    "start_time": "2023-08-18T22:08:07.526Z"
   },
   {
    "duration": 40,
    "start_time": "2023-08-18T22:08:07.532Z"
   },
   {
    "duration": 2026,
    "start_time": "2023-08-18T22:08:07.574Z"
   },
   {
    "duration": 3,
    "start_time": "2023-08-18T22:08:09.601Z"
   },
   {
    "duration": 1304,
    "start_time": "2023-08-18T22:08:09.606Z"
   },
   {
    "duration": 16,
    "start_time": "2023-08-18T22:08:10.912Z"
   },
   {
    "duration": 5,
    "start_time": "2023-08-18T22:08:10.930Z"
   },
   {
    "duration": 130,
    "start_time": "2023-08-18T22:08:10.937Z"
   },
   {
    "duration": 10,
    "start_time": "2023-08-18T22:08:11.069Z"
   },
   {
    "duration": 108,
    "start_time": "2023-08-18T22:08:11.081Z"
   },
   {
    "duration": 8,
    "start_time": "2023-08-18T22:08:11.190Z"
   },
   {
    "duration": 264,
    "start_time": "2023-08-18T22:08:11.200Z"
   },
   {
    "duration": 203,
    "start_time": "2023-08-18T22:08:11.466Z"
   },
   {
    "duration": 10,
    "start_time": "2023-08-18T22:08:11.671Z"
   },
   {
    "duration": 289,
    "start_time": "2023-08-18T22:08:11.684Z"
   },
   {
    "duration": 109,
    "start_time": "2023-08-18T22:08:11.975Z"
   },
   {
    "duration": 5,
    "start_time": "2023-08-18T22:08:12.086Z"
   },
   {
    "duration": 7,
    "start_time": "2023-08-18T22:08:12.092Z"
   },
   {
    "duration": 8,
    "start_time": "2023-08-18T22:08:12.101Z"
   },
   {
    "duration": 22,
    "start_time": "2023-08-18T22:08:12.110Z"
   },
   {
    "duration": 146,
    "start_time": "2023-08-18T22:08:12.134Z"
   },
   {
    "duration": 10,
    "start_time": "2023-08-18T22:08:12.282Z"
   },
   {
    "duration": 22,
    "start_time": "2023-08-18T22:08:12.294Z"
   },
   {
    "duration": 41,
    "start_time": "2023-08-18T22:08:12.318Z"
   },
   {
    "duration": 18,
    "start_time": "2023-08-18T22:08:16.236Z"
   },
   {
    "duration": 10,
    "start_time": "2023-08-18T22:08:17.749Z"
   },
   {
    "duration": 1109,
    "start_time": "2023-08-18T22:08:19.319Z"
   },
   {
    "duration": 20,
    "start_time": "2023-08-18T22:08:55.244Z"
   },
   {
    "duration": 20,
    "start_time": "2023-08-18T22:09:15.196Z"
   },
   {
    "duration": 19,
    "start_time": "2023-08-18T22:09:42.385Z"
   },
   {
    "duration": 9,
    "start_time": "2023-08-18T22:09:46.916Z"
   },
   {
    "duration": 389,
    "start_time": "2023-08-18T22:10:14.938Z"
   },
   {
    "duration": 12,
    "start_time": "2023-08-18T22:10:21.814Z"
   },
   {
    "duration": 14,
    "start_time": "2023-08-18T22:13:00.534Z"
   },
   {
    "duration": 12,
    "start_time": "2023-08-18T22:14:58.168Z"
   },
   {
    "duration": 304,
    "start_time": "2023-08-18T22:15:06.633Z"
   },
   {
    "duration": 301,
    "start_time": "2023-08-18T22:16:02.499Z"
   },
   {
    "duration": 314,
    "start_time": "2023-08-18T22:16:48.001Z"
   },
   {
    "duration": 322,
    "start_time": "2023-08-18T22:17:18.730Z"
   },
   {
    "duration": 11,
    "start_time": "2023-08-18T22:17:29.871Z"
   },
   {
    "duration": 277,
    "start_time": "2023-08-18T22:18:08.115Z"
   },
   {
    "duration": 276,
    "start_time": "2023-08-18T22:18:24.832Z"
   },
   {
    "duration": 11,
    "start_time": "2023-08-18T22:19:34.945Z"
   },
   {
    "duration": 12,
    "start_time": "2023-08-18T22:21:19.548Z"
   },
   {
    "duration": 12,
    "start_time": "2023-08-18T22:21:31.268Z"
   },
   {
    "duration": 12,
    "start_time": "2023-08-18T22:21:41.429Z"
   },
   {
    "duration": 12,
    "start_time": "2023-08-18T22:22:10.978Z"
   },
   {
    "duration": 13,
    "start_time": "2023-08-18T22:22:27.153Z"
   },
   {
    "duration": 296,
    "start_time": "2023-08-18T22:23:31.513Z"
   },
   {
    "duration": 13,
    "start_time": "2023-08-18T22:23:50.064Z"
   },
   {
    "duration": 73,
    "start_time": "2023-08-18T22:28:15.072Z"
   },
   {
    "duration": 67,
    "start_time": "2023-08-18T22:28:19.754Z"
   },
   {
    "duration": 1337,
    "start_time": "2023-08-19T09:15:41.766Z"
   },
   {
    "duration": 204,
    "start_time": "2023-08-19T09:15:43.106Z"
   },
   {
    "duration": 10,
    "start_time": "2023-08-19T09:15:43.312Z"
   },
   {
    "duration": 62,
    "start_time": "2023-08-19T09:15:43.325Z"
   },
   {
    "duration": 8,
    "start_time": "2023-08-19T09:15:43.389Z"
   },
   {
    "duration": 8,
    "start_time": "2023-08-19T09:15:43.400Z"
   },
   {
    "duration": 10,
    "start_time": "2023-08-19T09:15:43.410Z"
   },
   {
    "duration": 90,
    "start_time": "2023-08-19T09:15:43.422Z"
   },
   {
    "duration": 21,
    "start_time": "2023-08-19T09:15:43.514Z"
   },
   {
    "duration": 40,
    "start_time": "2023-08-19T09:15:43.538Z"
   },
   {
    "duration": 6,
    "start_time": "2023-08-19T09:15:43.580Z"
   },
   {
    "duration": 8,
    "start_time": "2023-08-19T09:15:43.587Z"
   },
   {
    "duration": 46,
    "start_time": "2023-08-19T09:15:43.597Z"
   },
   {
    "duration": 23,
    "start_time": "2023-08-19T09:15:43.645Z"
   },
   {
    "duration": 6,
    "start_time": "2023-08-19T09:15:43.670Z"
   },
   {
    "duration": 12,
    "start_time": "2023-08-19T09:15:43.678Z"
   },
   {
    "duration": 10,
    "start_time": "2023-08-19T09:15:43.692Z"
   },
   {
    "duration": 37,
    "start_time": "2023-08-19T09:15:43.703Z"
   },
   {
    "duration": 11,
    "start_time": "2023-08-19T09:15:43.741Z"
   },
   {
    "duration": 97,
    "start_time": "2023-08-19T09:15:43.754Z"
   },
   {
    "duration": 7,
    "start_time": "2023-08-19T09:15:43.853Z"
   },
   {
    "duration": 36,
    "start_time": "2023-08-19T09:15:43.861Z"
   },
   {
    "duration": 5,
    "start_time": "2023-08-19T09:15:43.899Z"
   },
   {
    "duration": 49,
    "start_time": "2023-08-19T09:15:43.905Z"
   },
   {
    "duration": 890,
    "start_time": "2023-08-19T09:15:43.956Z"
   },
   {
    "duration": 15,
    "start_time": "2023-08-19T09:15:44.847Z"
   },
   {
    "duration": 2,
    "start_time": "2023-08-19T09:15:44.864Z"
   },
   {
    "duration": 669,
    "start_time": "2023-08-19T09:15:44.871Z"
   },
   {
    "duration": 27,
    "start_time": "2023-08-19T09:15:45.542Z"
   },
   {
    "duration": 22,
    "start_time": "2023-08-19T09:15:45.571Z"
   },
   {
    "duration": 60,
    "start_time": "2023-08-19T09:15:45.597Z"
   },
   {
    "duration": 128,
    "start_time": "2023-08-19T09:15:45.659Z"
   },
   {
    "duration": 83,
    "start_time": "2023-08-19T09:15:45.789Z"
   },
   {
    "duration": 60,
    "start_time": "2023-08-19T09:15:45.874Z"
   },
   {
    "duration": 21,
    "start_time": "2023-08-19T09:15:45.936Z"
   },
   {
    "duration": 27,
    "start_time": "2023-08-19T09:15:45.960Z"
   },
   {
    "duration": 58,
    "start_time": "2023-08-19T09:15:45.989Z"
   },
   {
    "duration": 18,
    "start_time": "2023-08-19T09:15:46.049Z"
   },
   {
    "duration": 1213,
    "start_time": "2023-08-19T09:15:46.069Z"
   },
   {
    "duration": 1413,
    "start_time": "2023-08-19T09:15:47.283Z"
   },
   {
    "duration": 5,
    "start_time": "2023-08-19T09:15:48.698Z"
   },
   {
    "duration": 27,
    "start_time": "2023-08-19T09:15:48.705Z"
   },
   {
    "duration": 27,
    "start_time": "2023-08-19T09:15:48.734Z"
   },
   {
    "duration": 196,
    "start_time": "2023-08-19T09:15:48.763Z"
   },
   {
    "duration": 299,
    "start_time": "2023-08-19T09:15:48.960Z"
   },
   {
    "duration": 495,
    "start_time": "2023-08-19T09:15:49.261Z"
   },
   {
    "duration": 106,
    "start_time": "2023-08-19T09:15:49.758Z"
   },
   {
    "duration": 5,
    "start_time": "2023-08-19T09:15:49.866Z"
   },
   {
    "duration": 52,
    "start_time": "2023-08-19T09:15:49.874Z"
   },
   {
    "duration": 1925,
    "start_time": "2023-08-19T09:15:49.928Z"
   },
   {
    "duration": 3,
    "start_time": "2023-08-19T09:15:51.854Z"
   },
   {
    "duration": 1643,
    "start_time": "2023-08-19T09:15:51.859Z"
   },
   {
    "duration": 15,
    "start_time": "2023-08-19T09:15:53.504Z"
   },
   {
    "duration": 14,
    "start_time": "2023-08-19T09:15:53.521Z"
   },
   {
    "duration": 131,
    "start_time": "2023-08-19T09:15:53.537Z"
   },
   {
    "duration": 11,
    "start_time": "2023-08-19T09:15:53.671Z"
   },
   {
    "duration": 122,
    "start_time": "2023-08-19T09:15:53.683Z"
   },
   {
    "duration": 10,
    "start_time": "2023-08-19T09:15:53.807Z"
   },
   {
    "duration": 328,
    "start_time": "2023-08-19T09:15:53.818Z"
   },
   {
    "duration": 220,
    "start_time": "2023-08-19T09:15:54.147Z"
   },
   {
    "duration": 11,
    "start_time": "2023-08-19T09:15:54.369Z"
   },
   {
    "duration": 440,
    "start_time": "2023-08-19T09:15:54.382Z"
   },
   {
    "duration": 135,
    "start_time": "2023-08-19T09:15:54.824Z"
   },
   {
    "duration": 5,
    "start_time": "2023-08-19T09:15:54.960Z"
   },
   {
    "duration": 26,
    "start_time": "2023-08-19T09:15:54.967Z"
   },
   {
    "duration": 32,
    "start_time": "2023-08-19T09:15:54.995Z"
   },
   {
    "duration": 80,
    "start_time": "2023-08-19T09:15:55.029Z"
   },
   {
    "duration": 172,
    "start_time": "2023-08-19T09:15:55.112Z"
   },
   {
    "duration": 12,
    "start_time": "2023-08-19T09:15:55.286Z"
   },
   {
    "duration": 52,
    "start_time": "2023-08-19T09:15:55.300Z"
   },
   {
    "duration": 51,
    "start_time": "2023-08-19T09:15:55.354Z"
   },
   {
    "duration": 42,
    "start_time": "2023-08-19T09:15:55.407Z"
   },
   {
    "duration": 56,
    "start_time": "2023-08-19T09:15:55.451Z"
   },
   {
    "duration": 26,
    "start_time": "2023-08-19T09:15:55.509Z"
   },
   {
    "duration": 524,
    "start_time": "2023-08-19T09:15:55.537Z"
   },
   {
    "duration": 15,
    "start_time": "2023-08-19T09:15:56.063Z"
   },
   {
    "duration": 41,
    "start_time": "2023-08-19T09:15:56.079Z"
   },
   {
    "duration": 16,
    "start_time": "2023-08-19T09:15:56.122Z"
   },
   {
    "duration": 14,
    "start_time": "2023-08-19T09:15:56.139Z"
   },
   {
    "duration": 37,
    "start_time": "2023-08-19T09:15:56.155Z"
   },
   {
    "duration": 25,
    "start_time": "2023-08-19T09:15:56.194Z"
   },
   {
    "duration": 28,
    "start_time": "2023-08-19T09:15:56.227Z"
   },
   {
    "duration": 14,
    "start_time": "2023-08-19T09:15:56.257Z"
   },
   {
    "duration": 31,
    "start_time": "2023-08-19T09:15:56.274Z"
   },
   {
    "duration": 6,
    "start_time": "2023-08-19T09:15:56.307Z"
   },
   {
    "duration": 338,
    "start_time": "2023-08-19T09:15:56.315Z"
   },
   {
    "duration": 14,
    "start_time": "2023-08-19T09:15:56.655Z"
   },
   {
    "duration": 677,
    "start_time": "2023-08-19T09:15:56.671Z"
   },
   {
    "duration": 12,
    "start_time": "2023-08-19T09:15:57.350Z"
   },
   {
    "duration": 122,
    "start_time": "2023-08-19T09:15:57.364Z"
   },
   {
    "duration": 4,
    "start_time": "2023-08-19T09:15:57.488Z"
   },
   {
    "duration": 16,
    "start_time": "2023-08-19T09:15:57.493Z"
   },
   {
    "duration": 3,
    "start_time": "2023-08-19T09:21:51.601Z"
   },
   {
    "duration": 4,
    "start_time": "2023-08-19T09:21:53.974Z"
   },
   {
    "duration": 15,
    "start_time": "2023-08-19T09:21:56.431Z"
   },
   {
    "duration": 3,
    "start_time": "2023-08-19T09:22:01.028Z"
   },
   {
    "duration": 97,
    "start_time": "2023-08-19T09:24:59.054Z"
   },
   {
    "duration": 7,
    "start_time": "2023-08-19T09:25:04.957Z"
   },
   {
    "duration": 18,
    "start_time": "2023-08-19T09:25:17.747Z"
   },
   {
    "duration": 7,
    "start_time": "2023-08-19T09:25:50.996Z"
   },
   {
    "duration": 7,
    "start_time": "2023-08-19T09:33:17.871Z"
   },
   {
    "duration": 10,
    "start_time": "2023-08-19T09:37:15.633Z"
   },
   {
    "duration": 14,
    "start_time": "2023-08-19T09:52:42.316Z"
   },
   {
    "duration": 10,
    "start_time": "2023-08-19T09:53:14.190Z"
   },
   {
    "duration": 10,
    "start_time": "2023-08-19T09:54:19.552Z"
   },
   {
    "duration": 7,
    "start_time": "2023-08-19T09:55:13.951Z"
   },
   {
    "duration": 9,
    "start_time": "2023-08-19T09:55:18.738Z"
   },
   {
    "duration": 662,
    "start_time": "2023-08-19T09:55:37.020Z"
   },
   {
    "duration": 561,
    "start_time": "2023-08-19T09:56:57.729Z"
   },
   {
    "duration": 4,
    "start_time": "2023-08-19T09:57:35.782Z"
   },
   {
    "duration": 375,
    "start_time": "2023-08-19T09:57:35.787Z"
   },
   {
    "duration": 6,
    "start_time": "2023-08-19T09:57:36.164Z"
   },
   {
    "duration": 83,
    "start_time": "2023-08-19T09:57:36.171Z"
   },
   {
    "duration": 7,
    "start_time": "2023-08-19T09:57:36.256Z"
   },
   {
    "duration": 20,
    "start_time": "2023-08-19T09:57:36.265Z"
   },
   {
    "duration": 15,
    "start_time": "2023-08-19T09:57:36.286Z"
   },
   {
    "duration": 83,
    "start_time": "2023-08-19T09:57:36.303Z"
   },
   {
    "duration": 12,
    "start_time": "2023-08-19T09:57:36.388Z"
   },
   {
    "duration": 39,
    "start_time": "2023-08-19T09:57:36.401Z"
   },
   {
    "duration": 15,
    "start_time": "2023-08-19T09:57:36.442Z"
   },
   {
    "duration": 15,
    "start_time": "2023-08-19T09:57:36.459Z"
   },
   {
    "duration": 43,
    "start_time": "2023-08-19T09:57:36.475Z"
   },
   {
    "duration": 30,
    "start_time": "2023-08-19T09:57:36.520Z"
   },
   {
    "duration": 5,
    "start_time": "2023-08-19T09:57:36.552Z"
   },
   {
    "duration": 36,
    "start_time": "2023-08-19T09:57:36.559Z"
   },
   {
    "duration": 12,
    "start_time": "2023-08-19T09:57:36.596Z"
   },
   {
    "duration": 40,
    "start_time": "2023-08-19T09:57:36.610Z"
   },
   {
    "duration": 24,
    "start_time": "2023-08-19T09:57:36.652Z"
   },
   {
    "duration": 83,
    "start_time": "2023-08-19T09:57:36.678Z"
   },
   {
    "duration": 6,
    "start_time": "2023-08-19T09:57:36.763Z"
   },
   {
    "duration": 25,
    "start_time": "2023-08-19T09:57:36.771Z"
   },
   {
    "duration": 22,
    "start_time": "2023-08-19T09:57:36.798Z"
   },
   {
    "duration": 69,
    "start_time": "2023-08-19T09:57:36.822Z"
   },
   {
    "duration": 649,
    "start_time": "2023-08-19T09:57:36.893Z"
   },
   {
    "duration": 13,
    "start_time": "2023-08-19T09:57:37.543Z"
   },
   {
    "duration": 15,
    "start_time": "2023-08-19T09:57:37.557Z"
   },
   {
    "duration": 717,
    "start_time": "2023-08-19T09:57:37.573Z"
   },
   {
    "duration": 21,
    "start_time": "2023-08-19T09:57:38.294Z"
   },
   {
    "duration": 25,
    "start_time": "2023-08-19T09:57:38.317Z"
   },
   {
    "duration": 38,
    "start_time": "2023-08-19T09:57:38.343Z"
   },
   {
    "duration": 112,
    "start_time": "2023-08-19T09:57:38.383Z"
   },
   {
    "duration": 24,
    "start_time": "2023-08-19T09:57:38.496Z"
   },
   {
    "duration": 48,
    "start_time": "2023-08-19T09:57:38.522Z"
   },
   {
    "duration": 4,
    "start_time": "2023-08-19T09:57:38.571Z"
   },
   {
    "duration": 37,
    "start_time": "2023-08-19T09:57:38.576Z"
   },
   {
    "duration": 58,
    "start_time": "2023-08-19T09:57:38.614Z"
   },
   {
    "duration": 17,
    "start_time": "2023-08-19T09:57:38.674Z"
   },
   {
    "duration": 1082,
    "start_time": "2023-08-19T09:57:38.693Z"
   },
   {
    "duration": 1462,
    "start_time": "2023-08-19T09:57:39.776Z"
   },
   {
    "duration": 5,
    "start_time": "2023-08-19T09:57:41.240Z"
   },
   {
    "duration": 26,
    "start_time": "2023-08-19T09:57:41.246Z"
   },
   {
    "duration": 41,
    "start_time": "2023-08-19T09:57:41.274Z"
   },
   {
    "duration": 166,
    "start_time": "2023-08-19T09:57:41.316Z"
   },
   {
    "duration": 292,
    "start_time": "2023-08-19T09:57:41.483Z"
   },
   {
    "duration": 508,
    "start_time": "2023-08-19T09:57:41.777Z"
   },
   {
    "duration": 106,
    "start_time": "2023-08-19T09:57:42.287Z"
   },
   {
    "duration": 5,
    "start_time": "2023-08-19T09:57:42.395Z"
   },
   {
    "duration": 39,
    "start_time": "2023-08-19T09:57:42.401Z"
   },
   {
    "duration": 1847,
    "start_time": "2023-08-19T09:57:42.442Z"
   },
   {
    "duration": 3,
    "start_time": "2023-08-19T09:57:44.291Z"
   },
   {
    "duration": 1325,
    "start_time": "2023-08-19T09:57:44.295Z"
   },
   {
    "duration": 19,
    "start_time": "2023-08-19T09:57:45.621Z"
   },
   {
    "duration": 4,
    "start_time": "2023-08-19T09:57:45.642Z"
   },
   {
    "duration": 147,
    "start_time": "2023-08-19T09:57:45.647Z"
   },
   {
    "duration": 9,
    "start_time": "2023-08-19T09:57:45.796Z"
   },
   {
    "duration": 108,
    "start_time": "2023-08-19T09:57:45.806Z"
   },
   {
    "duration": 7,
    "start_time": "2023-08-19T09:57:45.915Z"
   },
   {
    "duration": 278,
    "start_time": "2023-08-19T09:57:45.923Z"
   },
   {
    "duration": 221,
    "start_time": "2023-08-19T09:57:46.202Z"
   },
   {
    "duration": 10,
    "start_time": "2023-08-19T09:57:46.424Z"
   },
   {
    "duration": 255,
    "start_time": "2023-08-19T09:57:46.436Z"
   },
   {
    "duration": 99,
    "start_time": "2023-08-19T09:57:46.693Z"
   },
   {
    "duration": 5,
    "start_time": "2023-08-19T09:57:46.793Z"
   },
   {
    "duration": 11,
    "start_time": "2023-08-19T09:57:46.799Z"
   },
   {
    "duration": 18,
    "start_time": "2023-08-19T09:57:46.812Z"
   },
   {
    "duration": 38,
    "start_time": "2023-08-19T09:57:46.831Z"
   },
   {
    "duration": 128,
    "start_time": "2023-08-19T09:57:46.870Z"
   },
   {
    "duration": 10,
    "start_time": "2023-08-19T09:57:47.000Z"
   },
   {
    "duration": 43,
    "start_time": "2023-08-19T09:57:47.012Z"
   },
   {
    "duration": 23,
    "start_time": "2023-08-19T09:57:47.057Z"
   },
   {
    "duration": 8,
    "start_time": "2023-08-19T09:57:47.082Z"
   },
   {
    "duration": 19,
    "start_time": "2023-08-19T09:57:47.091Z"
   },
   {
    "duration": 8,
    "start_time": "2023-08-19T09:57:47.111Z"
   },
   {
    "duration": 313,
    "start_time": "2023-08-19T09:57:47.121Z"
   },
   {
    "duration": 12,
    "start_time": "2023-08-19T09:57:47.435Z"
   },
   {
    "duration": 12,
    "start_time": "2023-08-19T09:57:47.449Z"
   },
   {
    "duration": 3,
    "start_time": "2023-08-19T09:57:47.462Z"
   },
   {
    "duration": 19,
    "start_time": "2023-08-19T09:57:47.467Z"
   },
   {
    "duration": 31,
    "start_time": "2023-08-19T09:57:47.487Z"
   },
   {
    "duration": 21,
    "start_time": "2023-08-19T09:57:52.331Z"
   },
   {
    "duration": 704,
    "start_time": "2023-08-19T09:57:54.050Z"
   },
   {
    "duration": 625,
    "start_time": "2023-08-19T09:58:51.513Z"
   },
   {
    "duration": 21,
    "start_time": "2023-08-19T10:01:11.603Z"
   },
   {
    "duration": 21,
    "start_time": "2023-08-19T10:03:13.662Z"
   },
   {
    "duration": 407,
    "start_time": "2023-08-19T10:19:37.034Z"
   },
   {
    "duration": 12,
    "start_time": "2023-08-19T10:24:49.684Z"
   },
   {
    "duration": 1711,
    "start_time": "2023-08-19T10:25:03.060Z"
   },
   {
    "duration": 6,
    "start_time": "2023-08-19T10:25:10.679Z"
   },
   {
    "duration": 12,
    "start_time": "2023-08-19T10:25:17.726Z"
   },
   {
    "duration": 23,
    "start_time": "2023-08-19T10:25:33.937Z"
   },
   {
    "duration": 789,
    "start_time": "2023-08-19T10:25:51.734Z"
   },
   {
    "duration": 13,
    "start_time": "2023-08-19T10:26:08.575Z"
   },
   {
    "duration": 18,
    "start_time": "2023-08-19T10:27:07.881Z"
   },
   {
    "duration": 32,
    "start_time": "2023-08-19T10:28:04.741Z"
   },
   {
    "duration": 29,
    "start_time": "2023-08-19T10:28:39.730Z"
   },
   {
    "duration": 32,
    "start_time": "2023-08-19T10:28:48.601Z"
   },
   {
    "duration": 31,
    "start_time": "2023-08-19T10:28:55.075Z"
   },
   {
    "duration": 6,
    "start_time": "2023-08-19T10:29:58.784Z"
   },
   {
    "duration": 30,
    "start_time": "2023-08-19T10:31:47.990Z"
   },
   {
    "duration": 200,
    "start_time": "2023-08-19T10:36:36.058Z"
   },
   {
    "duration": 208,
    "start_time": "2023-08-19T10:36:44.941Z"
   },
   {
    "duration": 291,
    "start_time": "2023-08-19T10:36:58.493Z"
   },
   {
    "duration": 1434,
    "start_time": "2023-08-19T14:23:36.805Z"
   },
   {
    "duration": 187,
    "start_time": "2023-08-19T14:23:38.241Z"
   },
   {
    "duration": 11,
    "start_time": "2023-08-19T14:23:38.429Z"
   },
   {
    "duration": 98,
    "start_time": "2023-08-19T14:23:38.442Z"
   },
   {
    "duration": 7,
    "start_time": "2023-08-19T14:23:38.542Z"
   },
   {
    "duration": 85,
    "start_time": "2023-08-19T14:23:38.550Z"
   },
   {
    "duration": 20,
    "start_time": "2023-08-19T14:23:38.636Z"
   },
   {
    "duration": 137,
    "start_time": "2023-08-19T14:23:38.658Z"
   },
   {
    "duration": 16,
    "start_time": "2023-08-19T14:23:38.797Z"
   },
   {
    "duration": 39,
    "start_time": "2023-08-19T14:23:38.825Z"
   },
   {
    "duration": 18,
    "start_time": "2023-08-19T14:23:38.866Z"
   },
   {
    "duration": 26,
    "start_time": "2023-08-19T14:23:38.885Z"
   },
   {
    "duration": 55,
    "start_time": "2023-08-19T14:23:38.913Z"
   },
   {
    "duration": 22,
    "start_time": "2023-08-19T14:23:38.970Z"
   },
   {
    "duration": 5,
    "start_time": "2023-08-19T14:23:38.994Z"
   },
   {
    "duration": 87,
    "start_time": "2023-08-19T14:23:39.000Z"
   },
   {
    "duration": 6,
    "start_time": "2023-08-19T14:23:39.088Z"
   },
   {
    "duration": 15,
    "start_time": "2023-08-19T14:23:39.096Z"
   },
   {
    "duration": 17,
    "start_time": "2023-08-19T14:23:39.112Z"
   },
   {
    "duration": 75,
    "start_time": "2023-08-19T14:23:39.131Z"
   },
   {
    "duration": 7,
    "start_time": "2023-08-19T14:23:39.208Z"
   },
   {
    "duration": 25,
    "start_time": "2023-08-19T14:23:39.224Z"
   },
   {
    "duration": 4,
    "start_time": "2023-08-19T14:23:39.251Z"
   },
   {
    "duration": 50,
    "start_time": "2023-08-19T14:23:39.257Z"
   },
   {
    "duration": 780,
    "start_time": "2023-08-19T14:23:39.309Z"
   },
   {
    "duration": 15,
    "start_time": "2023-08-19T14:23:40.090Z"
   },
   {
    "duration": 18,
    "start_time": "2023-08-19T14:23:40.106Z"
   },
   {
    "duration": 737,
    "start_time": "2023-08-19T14:23:40.129Z"
   },
   {
    "duration": 23,
    "start_time": "2023-08-19T14:23:40.867Z"
   },
   {
    "duration": 34,
    "start_time": "2023-08-19T14:23:40.892Z"
   },
   {
    "duration": 29,
    "start_time": "2023-08-19T14:23:40.927Z"
   },
   {
    "duration": 127,
    "start_time": "2023-08-19T14:23:40.958Z"
   },
   {
    "duration": 87,
    "start_time": "2023-08-19T14:23:41.087Z"
   },
   {
    "duration": 65,
    "start_time": "2023-08-19T14:23:41.176Z"
   },
   {
    "duration": 3,
    "start_time": "2023-08-19T14:23:41.243Z"
   },
   {
    "duration": 26,
    "start_time": "2023-08-19T14:23:41.248Z"
   },
   {
    "duration": 62,
    "start_time": "2023-08-19T14:23:41.276Z"
   },
   {
    "duration": 21,
    "start_time": "2023-08-19T14:23:41.340Z"
   },
   {
    "duration": 1231,
    "start_time": "2023-08-19T14:23:41.363Z"
   },
   {
    "duration": 1468,
    "start_time": "2023-08-19T14:23:42.596Z"
   },
   {
    "duration": 5,
    "start_time": "2023-08-19T14:23:44.066Z"
   },
   {
    "duration": 16,
    "start_time": "2023-08-19T14:23:44.073Z"
   },
   {
    "duration": 34,
    "start_time": "2023-08-19T14:23:44.091Z"
   },
   {
    "duration": 197,
    "start_time": "2023-08-19T14:23:44.127Z"
   },
   {
    "duration": 278,
    "start_time": "2023-08-19T14:23:44.326Z"
   },
   {
    "duration": 511,
    "start_time": "2023-08-19T14:23:44.605Z"
   },
   {
    "duration": 107,
    "start_time": "2023-08-19T14:23:45.117Z"
   },
   {
    "duration": 67,
    "start_time": "2023-08-19T14:23:45.225Z"
   },
   {
    "duration": 49,
    "start_time": "2023-08-19T14:23:45.293Z"
   },
   {
    "duration": 1888,
    "start_time": "2023-08-19T14:23:45.344Z"
   },
   {
    "duration": 3,
    "start_time": "2023-08-19T14:23:47.235Z"
   },
   {
    "duration": 1291,
    "start_time": "2023-08-19T14:23:47.240Z"
   },
   {
    "duration": 14,
    "start_time": "2023-08-19T14:23:48.533Z"
   },
   {
    "duration": 4,
    "start_time": "2023-08-19T14:23:48.549Z"
   },
   {
    "duration": 126,
    "start_time": "2023-08-19T14:23:48.555Z"
   },
   {
    "duration": 10,
    "start_time": "2023-08-19T14:23:48.683Z"
   },
   {
    "duration": 150,
    "start_time": "2023-08-19T14:23:48.694Z"
   },
   {
    "duration": 10,
    "start_time": "2023-08-19T14:23:48.845Z"
   },
   {
    "duration": 306,
    "start_time": "2023-08-19T14:23:48.857Z"
   },
   {
    "duration": 232,
    "start_time": "2023-08-19T14:23:49.165Z"
   },
   {
    "duration": 9,
    "start_time": "2023-08-19T14:23:49.399Z"
   },
   {
    "duration": 274,
    "start_time": "2023-08-19T14:23:49.410Z"
   },
   {
    "duration": 105,
    "start_time": "2023-08-19T14:23:49.686Z"
   },
   {
    "duration": 5,
    "start_time": "2023-08-19T14:23:49.793Z"
   },
   {
    "duration": 103,
    "start_time": "2023-08-19T14:23:49.799Z"
   },
   {
    "duration": 19,
    "start_time": "2023-08-19T14:23:49.904Z"
   },
   {
    "duration": 48,
    "start_time": "2023-08-19T14:23:49.925Z"
   },
   {
    "duration": 165,
    "start_time": "2023-08-19T14:23:49.974Z"
   },
   {
    "duration": 12,
    "start_time": "2023-08-19T14:23:50.140Z"
   },
   {
    "duration": 23,
    "start_time": "2023-08-19T14:23:50.153Z"
   },
   {
    "duration": 33,
    "start_time": "2023-08-19T14:23:50.178Z"
   },
   {
    "duration": 16,
    "start_time": "2023-08-19T14:23:50.213Z"
   },
   {
    "duration": 24,
    "start_time": "2023-08-19T14:23:50.231Z"
   },
   {
    "duration": 7,
    "start_time": "2023-08-19T14:23:50.257Z"
   },
   {
    "duration": 394,
    "start_time": "2023-08-19T14:23:50.266Z"
   },
   {
    "duration": 11,
    "start_time": "2023-08-19T14:23:50.662Z"
   },
   {
    "duration": 22,
    "start_time": "2023-08-19T14:23:50.674Z"
   },
   {
    "duration": 38,
    "start_time": "2023-08-19T14:23:50.697Z"
   },
   {
    "duration": 6,
    "start_time": "2023-08-19T14:23:50.736Z"
   },
   {
    "duration": 19,
    "start_time": "2023-08-19T14:23:50.744Z"
   },
   {
    "duration": 671,
    "start_time": "2023-08-19T14:23:50.764Z"
   },
   {
    "duration": 21,
    "start_time": "2023-08-19T14:23:51.440Z"
   },
   {
    "duration": 29,
    "start_time": "2023-08-19T14:23:51.463Z"
   },
   {
    "duration": 381,
    "start_time": "2023-08-19T14:23:51.494Z"
   },
   {
    "duration": 17,
    "start_time": "2023-08-19T14:23:51.877Z"
   },
   {
    "duration": 209,
    "start_time": "2023-08-19T14:23:51.895Z"
   },
   {
    "duration": 56,
    "start_time": "2023-08-19T14:23:52.106Z"
   },
   {
    "duration": 376,
    "start_time": "2023-08-19T14:23:52.164Z"
   },
   {
    "duration": 13,
    "start_time": "2023-08-19T14:23:52.542Z"
   },
   {
    "duration": 559,
    "start_time": "2023-08-19T14:23:52.557Z"
   },
   {
    "duration": 13,
    "start_time": "2023-08-19T14:23:53.118Z"
   },
   {
    "duration": 201,
    "start_time": "2023-08-19T14:23:53.133Z"
   },
   {
    "duration": 5,
    "start_time": "2023-08-19T14:23:53.336Z"
   },
   {
    "duration": 12,
    "start_time": "2023-08-19T14:23:53.343Z"
   },
   {
    "duration": 4,
    "start_time": "2023-08-19T14:25:50.515Z"
   },
   {
    "duration": 124,
    "start_time": "2023-08-19T14:26:23.979Z"
   },
   {
    "duration": 16,
    "start_time": "2023-08-19T14:26:54.790Z"
   },
   {
    "duration": 12,
    "start_time": "2023-08-19T14:27:30.269Z"
   },
   {
    "duration": 26,
    "start_time": "2023-08-19T14:28:38.951Z"
   },
   {
    "duration": 13,
    "start_time": "2023-08-19T14:28:40.383Z"
   },
   {
    "duration": 4,
    "start_time": "2023-08-19T14:29:11.674Z"
   },
   {
    "duration": 16,
    "start_time": "2023-08-19T14:29:26.806Z"
   },
   {
    "duration": 84,
    "start_time": "2023-08-19T14:32:16.661Z"
   },
   {
    "duration": 14,
    "start_time": "2023-08-19T14:32:44.723Z"
   },
   {
    "duration": 19,
    "start_time": "2023-08-19T14:41:00.869Z"
   },
   {
    "duration": 141,
    "start_time": "2023-08-19T14:41:06.935Z"
   },
   {
    "duration": 105,
    "start_time": "2023-08-19T14:41:16.125Z"
   },
   {
    "duration": 76,
    "start_time": "2023-08-19T14:41:19.574Z"
   },
   {
    "duration": 9,
    "start_time": "2023-08-19T14:47:53.578Z"
   },
   {
    "duration": 106,
    "start_time": "2023-08-19T14:48:20.428Z"
   },
   {
    "duration": 12,
    "start_time": "2023-08-19T14:48:40.927Z"
   },
   {
    "duration": 22,
    "start_time": "2023-08-19T14:48:56.595Z"
   },
   {
    "duration": 23,
    "start_time": "2023-08-19T14:50:11.501Z"
   },
   {
    "duration": 22,
    "start_time": "2023-08-19T14:50:36.248Z"
   },
   {
    "duration": 22,
    "start_time": "2023-08-19T14:58:29.040Z"
   },
   {
    "duration": 16,
    "start_time": "2023-08-19T14:58:30.489Z"
   },
   {
    "duration": 24,
    "start_time": "2023-08-19T14:59:15.858Z"
   },
   {
    "duration": 22,
    "start_time": "2023-08-19T14:59:18.472Z"
   },
   {
    "duration": 33,
    "start_time": "2023-08-19T15:04:04.786Z"
   },
   {
    "duration": 3,
    "start_time": "2023-08-19T15:32:01.656Z"
   },
   {
    "duration": 8,
    "start_time": "2023-08-19T15:34:03.882Z"
   },
   {
    "duration": 46,
    "start_time": "2023-08-19T15:34:30.196Z"
   },
   {
    "duration": 32,
    "start_time": "2023-08-19T15:35:12.382Z"
   },
   {
    "duration": 22,
    "start_time": "2023-08-19T15:35:50.732Z"
   },
   {
    "duration": 43,
    "start_time": "2023-08-19T15:36:54.611Z"
   },
   {
    "duration": 11,
    "start_time": "2023-08-19T15:38:13.360Z"
   },
   {
    "duration": 339,
    "start_time": "2023-08-19T15:38:29.074Z"
   },
   {
    "duration": 378,
    "start_time": "2023-08-19T15:39:04.392Z"
   },
   {
    "duration": 22,
    "start_time": "2023-08-19T15:43:25.122Z"
   },
   {
    "duration": 28,
    "start_time": "2023-08-19T15:46:15.810Z"
   },
   {
    "duration": 17,
    "start_time": "2023-08-19T15:46:19.606Z"
   },
   {
    "duration": 32,
    "start_time": "2023-08-19T15:46:35.978Z"
   },
   {
    "duration": 4,
    "start_time": "2023-08-19T16:01:01.744Z"
   },
   {
    "duration": 373,
    "start_time": "2023-08-19T16:01:01.751Z"
   },
   {
    "duration": 10,
    "start_time": "2023-08-19T16:01:02.126Z"
   },
   {
    "duration": 118,
    "start_time": "2023-08-19T16:01:02.137Z"
   },
   {
    "duration": 9,
    "start_time": "2023-08-19T16:01:02.257Z"
   },
   {
    "duration": 35,
    "start_time": "2023-08-19T16:01:02.268Z"
   },
   {
    "duration": 38,
    "start_time": "2023-08-19T16:01:02.305Z"
   },
   {
    "duration": 104,
    "start_time": "2023-08-19T16:01:02.345Z"
   },
   {
    "duration": 24,
    "start_time": "2023-08-19T16:01:02.451Z"
   },
   {
    "duration": 62,
    "start_time": "2023-08-19T16:01:02.477Z"
   },
   {
    "duration": 5,
    "start_time": "2023-08-19T16:01:02.542Z"
   },
   {
    "duration": 36,
    "start_time": "2023-08-19T16:01:02.549Z"
   },
   {
    "duration": 33,
    "start_time": "2023-08-19T16:01:02.587Z"
   },
   {
    "duration": 26,
    "start_time": "2023-08-19T16:01:02.622Z"
   },
   {
    "duration": 6,
    "start_time": "2023-08-19T16:01:02.650Z"
   },
   {
    "duration": 16,
    "start_time": "2023-08-19T16:01:02.658Z"
   },
   {
    "duration": 14,
    "start_time": "2023-08-19T16:01:02.675Z"
   },
   {
    "duration": 12,
    "start_time": "2023-08-19T16:01:02.691Z"
   },
   {
    "duration": 8,
    "start_time": "2023-08-19T16:01:02.724Z"
   },
   {
    "duration": 90,
    "start_time": "2023-08-19T16:01:02.734Z"
   },
   {
    "duration": 8,
    "start_time": "2023-08-19T16:01:02.827Z"
   },
   {
    "duration": 15,
    "start_time": "2023-08-19T16:01:02.837Z"
   },
   {
    "duration": 6,
    "start_time": "2023-08-19T16:01:02.854Z"
   },
   {
    "duration": 44,
    "start_time": "2023-08-19T16:01:02.862Z"
   },
   {
    "duration": 784,
    "start_time": "2023-08-19T16:01:02.925Z"
   },
   {
    "duration": 23,
    "start_time": "2023-08-19T16:01:03.712Z"
   },
   {
    "duration": 3,
    "start_time": "2023-08-19T16:01:03.737Z"
   },
   {
    "duration": 819,
    "start_time": "2023-08-19T16:01:03.742Z"
   },
   {
    "duration": 25,
    "start_time": "2023-08-19T16:01:04.566Z"
   },
   {
    "duration": 33,
    "start_time": "2023-08-19T16:01:04.593Z"
   },
   {
    "duration": 32,
    "start_time": "2023-08-19T16:01:04.627Z"
   },
   {
    "duration": 133,
    "start_time": "2023-08-19T16:01:04.661Z"
   },
   {
    "duration": 29,
    "start_time": "2023-08-19T16:01:04.796Z"
   },
   {
    "duration": 55,
    "start_time": "2023-08-19T16:01:04.827Z"
   },
   {
    "duration": 5,
    "start_time": "2023-08-19T16:01:04.884Z"
   },
   {
    "duration": 46,
    "start_time": "2023-08-19T16:01:04.891Z"
   },
   {
    "duration": 47,
    "start_time": "2023-08-19T16:01:04.939Z"
   },
   {
    "duration": 15,
    "start_time": "2023-08-19T16:01:04.988Z"
   },
   {
    "duration": 1191,
    "start_time": "2023-08-19T16:01:05.024Z"
   },
   {
    "duration": 1501,
    "start_time": "2023-08-19T16:01:06.223Z"
   },
   {
    "duration": 6,
    "start_time": "2023-08-19T16:01:07.726Z"
   },
   {
    "duration": 35,
    "start_time": "2023-08-19T16:01:07.733Z"
   },
   {
    "duration": 42,
    "start_time": "2023-08-19T16:01:07.769Z"
   },
   {
    "duration": 196,
    "start_time": "2023-08-19T16:01:07.813Z"
   },
   {
    "duration": 316,
    "start_time": "2023-08-19T16:01:08.011Z"
   },
   {
    "duration": 526,
    "start_time": "2023-08-19T16:01:08.328Z"
   },
   {
    "duration": 119,
    "start_time": "2023-08-19T16:01:08.856Z"
   },
   {
    "duration": 5,
    "start_time": "2023-08-19T16:01:08.977Z"
   },
   {
    "duration": 40,
    "start_time": "2023-08-19T16:01:08.984Z"
   },
   {
    "duration": 1961,
    "start_time": "2023-08-19T16:01:09.026Z"
   },
   {
    "duration": 3,
    "start_time": "2023-08-19T16:01:10.988Z"
   },
   {
    "duration": 1312,
    "start_time": "2023-08-19T16:01:10.993Z"
   },
   {
    "duration": 27,
    "start_time": "2023-08-19T16:01:12.307Z"
   },
   {
    "duration": 5,
    "start_time": "2023-08-19T16:01:12.336Z"
   },
   {
    "duration": 138,
    "start_time": "2023-08-19T16:01:12.343Z"
   },
   {
    "duration": 11,
    "start_time": "2023-08-19T16:01:12.482Z"
   },
   {
    "duration": 116,
    "start_time": "2023-08-19T16:01:12.494Z"
   },
   {
    "duration": 16,
    "start_time": "2023-08-19T16:01:12.612Z"
   },
   {
    "duration": 305,
    "start_time": "2023-08-19T16:01:12.630Z"
   },
   {
    "duration": 232,
    "start_time": "2023-08-19T16:01:12.937Z"
   },
   {
    "duration": 12,
    "start_time": "2023-08-19T16:01:13.170Z"
   },
   {
    "duration": 278,
    "start_time": "2023-08-19T16:01:13.183Z"
   },
   {
    "duration": 110,
    "start_time": "2023-08-19T16:01:13.463Z"
   },
   {
    "duration": 5,
    "start_time": "2023-08-19T16:01:13.575Z"
   },
   {
    "duration": 15,
    "start_time": "2023-08-19T16:01:13.582Z"
   },
   {
    "duration": 5,
    "start_time": "2023-08-19T16:01:13.599Z"
   },
   {
    "duration": 31,
    "start_time": "2023-08-19T16:01:13.606Z"
   },
   {
    "duration": 153,
    "start_time": "2023-08-19T16:01:13.639Z"
   },
   {
    "duration": 11,
    "start_time": "2023-08-19T16:01:13.794Z"
   },
   {
    "duration": 26,
    "start_time": "2023-08-19T16:01:13.806Z"
   },
   {
    "duration": 26,
    "start_time": "2023-08-19T16:01:13.834Z"
   },
   {
    "duration": 9,
    "start_time": "2023-08-19T16:01:13.863Z"
   },
   {
    "duration": 26,
    "start_time": "2023-08-19T16:01:13.874Z"
   },
   {
    "duration": 29,
    "start_time": "2023-08-19T16:01:13.901Z"
   },
   {
    "duration": 335,
    "start_time": "2023-08-19T16:01:13.932Z"
   },
   {
    "duration": 13,
    "start_time": "2023-08-19T16:01:14.269Z"
   },
   {
    "duration": 30,
    "start_time": "2023-08-19T16:01:14.284Z"
   },
   {
    "duration": 10,
    "start_time": "2023-08-19T16:01:27.607Z"
   },
   {
    "duration": 33,
    "start_time": "2023-08-19T16:02:30.223Z"
   },
   {
    "duration": 28,
    "start_time": "2023-08-19T16:04:17.129Z"
   },
   {
    "duration": 31,
    "start_time": "2023-08-19T16:04:41.878Z"
   },
   {
    "duration": 53,
    "start_time": "2023-08-19T16:05:54.070Z"
   },
   {
    "duration": 4,
    "start_time": "2023-08-19T16:08:53.874Z"
   },
   {
    "duration": 31,
    "start_time": "2023-08-19T16:08:54.495Z"
   },
   {
    "duration": 11,
    "start_time": "2023-08-19T16:08:55.770Z"
   },
   {
    "duration": 652,
    "start_time": "2023-08-19T16:09:13.811Z"
   },
   {
    "duration": 707,
    "start_time": "2023-08-19T16:09:30.263Z"
   },
   {
    "duration": 21,
    "start_time": "2023-08-19T16:09:54.227Z"
   },
   {
    "duration": 4,
    "start_time": "2023-08-19T16:10:19.668Z"
   },
   {
    "duration": 230,
    "start_time": "2023-08-19T16:10:19.676Z"
   },
   {
    "duration": 7,
    "start_time": "2023-08-19T16:10:19.908Z"
   },
   {
    "duration": 93,
    "start_time": "2023-08-19T16:10:19.924Z"
   },
   {
    "duration": 6,
    "start_time": "2023-08-19T16:10:20.019Z"
   },
   {
    "duration": 11,
    "start_time": "2023-08-19T16:10:20.027Z"
   },
   {
    "duration": 36,
    "start_time": "2023-08-19T16:10:20.040Z"
   },
   {
    "duration": 72,
    "start_time": "2023-08-19T16:10:20.078Z"
   },
   {
    "duration": 14,
    "start_time": "2023-08-19T16:10:20.151Z"
   },
   {
    "duration": 28,
    "start_time": "2023-08-19T16:10:20.166Z"
   },
   {
    "duration": 27,
    "start_time": "2023-08-19T16:10:20.197Z"
   },
   {
    "duration": 6,
    "start_time": "2023-08-19T16:10:20.226Z"
   },
   {
    "duration": 28,
    "start_time": "2023-08-19T16:10:20.233Z"
   },
   {
    "duration": 28,
    "start_time": "2023-08-19T16:10:20.263Z"
   },
   {
    "duration": 34,
    "start_time": "2023-08-19T16:10:20.293Z"
   },
   {
    "duration": 14,
    "start_time": "2023-08-19T16:10:20.329Z"
   },
   {
    "duration": 8,
    "start_time": "2023-08-19T16:10:20.345Z"
   },
   {
    "duration": 19,
    "start_time": "2023-08-19T16:10:20.355Z"
   },
   {
    "duration": 6,
    "start_time": "2023-08-19T16:10:20.376Z"
   },
   {
    "duration": 85,
    "start_time": "2023-08-19T16:10:20.424Z"
   },
   {
    "duration": 7,
    "start_time": "2023-08-19T16:10:20.511Z"
   },
   {
    "duration": 13,
    "start_time": "2023-08-19T16:10:20.523Z"
   },
   {
    "duration": 4,
    "start_time": "2023-08-19T16:10:20.538Z"
   },
   {
    "duration": 40,
    "start_time": "2023-08-19T16:10:20.544Z"
   },
   {
    "duration": 752,
    "start_time": "2023-08-19T16:10:20.585Z"
   },
   {
    "duration": 14,
    "start_time": "2023-08-19T16:10:21.339Z"
   },
   {
    "duration": 2,
    "start_time": "2023-08-19T16:10:21.355Z"
   },
   {
    "duration": 810,
    "start_time": "2023-08-19T16:10:21.359Z"
   },
   {
    "duration": 25,
    "start_time": "2023-08-19T16:10:22.174Z"
   },
   {
    "duration": 28,
    "start_time": "2023-08-19T16:10:22.201Z"
   },
   {
    "duration": 29,
    "start_time": "2023-08-19T16:10:22.231Z"
   },
   {
    "duration": 135,
    "start_time": "2023-08-19T16:10:22.262Z"
   },
   {
    "duration": 37,
    "start_time": "2023-08-19T16:10:22.398Z"
   },
   {
    "duration": 50,
    "start_time": "2023-08-19T16:10:22.437Z"
   },
   {
    "duration": 5,
    "start_time": "2023-08-19T16:10:22.489Z"
   },
   {
    "duration": 38,
    "start_time": "2023-08-19T16:10:22.495Z"
   },
   {
    "duration": 44,
    "start_time": "2023-08-19T16:10:22.534Z"
   },
   {
    "duration": 14,
    "start_time": "2023-08-19T16:10:22.579Z"
   },
   {
    "duration": 1162,
    "start_time": "2023-08-19T16:10:22.594Z"
   },
   {
    "duration": 1406,
    "start_time": "2023-08-19T16:10:23.758Z"
   },
   {
    "duration": 7,
    "start_time": "2023-08-19T16:10:25.166Z"
   },
   {
    "duration": 14,
    "start_time": "2023-08-19T16:10:25.174Z"
   },
   {
    "duration": 40,
    "start_time": "2023-08-19T16:10:25.190Z"
   },
   {
    "duration": 195,
    "start_time": "2023-08-19T16:10:25.232Z"
   },
   {
    "duration": 311,
    "start_time": "2023-08-19T16:10:25.429Z"
   },
   {
    "duration": 590,
    "start_time": "2023-08-19T16:10:25.742Z"
   },
   {
    "duration": 109,
    "start_time": "2023-08-19T16:10:26.334Z"
   },
   {
    "duration": 4,
    "start_time": "2023-08-19T16:10:26.445Z"
   },
   {
    "duration": 26,
    "start_time": "2023-08-19T16:10:26.451Z"
   },
   {
    "duration": 1922,
    "start_time": "2023-08-19T16:10:26.479Z"
   },
   {
    "duration": 3,
    "start_time": "2023-08-19T16:10:28.403Z"
   },
   {
    "duration": 1322,
    "start_time": "2023-08-19T16:10:28.407Z"
   },
   {
    "duration": 16,
    "start_time": "2023-08-19T16:10:29.731Z"
   },
   {
    "duration": 4,
    "start_time": "2023-08-19T16:10:29.748Z"
   },
   {
    "duration": 138,
    "start_time": "2023-08-19T16:10:29.754Z"
   },
   {
    "duration": 12,
    "start_time": "2023-08-19T16:10:29.894Z"
   },
   {
    "duration": 119,
    "start_time": "2023-08-19T16:10:29.908Z"
   },
   {
    "duration": 8,
    "start_time": "2023-08-19T16:10:30.030Z"
   },
   {
    "duration": 354,
    "start_time": "2023-08-19T16:10:30.040Z"
   },
   {
    "duration": 291,
    "start_time": "2023-08-19T16:10:30.396Z"
   },
   {
    "duration": 12,
    "start_time": "2023-08-19T16:10:30.695Z"
   },
   {
    "duration": 340,
    "start_time": "2023-08-19T16:10:30.709Z"
   },
   {
    "duration": 115,
    "start_time": "2023-08-19T16:10:31.051Z"
   },
   {
    "duration": 7,
    "start_time": "2023-08-19T16:10:31.168Z"
   },
   {
    "duration": 17,
    "start_time": "2023-08-19T16:10:31.177Z"
   },
   {
    "duration": 27,
    "start_time": "2023-08-19T16:10:31.196Z"
   },
   {
    "duration": 56,
    "start_time": "2023-08-19T16:10:31.225Z"
   },
   {
    "duration": 144,
    "start_time": "2023-08-19T16:10:31.283Z"
   },
   {
    "duration": 11,
    "start_time": "2023-08-19T16:10:31.429Z"
   },
   {
    "duration": 48,
    "start_time": "2023-08-19T16:10:31.442Z"
   },
   {
    "duration": 32,
    "start_time": "2023-08-19T16:10:31.492Z"
   },
   {
    "duration": 17,
    "start_time": "2023-08-19T16:10:31.526Z"
   },
   {
    "duration": 48,
    "start_time": "2023-08-19T16:10:31.544Z"
   },
   {
    "duration": 7,
    "start_time": "2023-08-19T16:10:31.593Z"
   },
   {
    "duration": 386,
    "start_time": "2023-08-19T16:10:31.602Z"
   },
   {
    "duration": 13,
    "start_time": "2023-08-19T16:10:31.990Z"
   },
   {
    "duration": 27,
    "start_time": "2023-08-19T16:10:32.004Z"
   },
   {
    "duration": 16,
    "start_time": "2023-08-19T16:10:32.033Z"
   },
   {
    "duration": 33,
    "start_time": "2023-08-19T16:10:32.051Z"
   },
   {
    "duration": 30,
    "start_time": "2023-08-19T16:10:36.634Z"
   },
   {
    "duration": 732,
    "start_time": "2023-08-19T16:10:40.202Z"
   },
   {
    "duration": 22,
    "start_time": "2023-08-19T16:10:42.236Z"
   },
   {
    "duration": 34,
    "start_time": "2023-08-19T16:11:39.089Z"
   },
   {
    "duration": 1843,
    "start_time": "2023-08-19T16:20:10.279Z"
   },
   {
    "duration": 14,
    "start_time": "2023-08-19T16:20:18.002Z"
   },
   {
    "duration": 535,
    "start_time": "2023-08-19T16:20:30.982Z"
   },
   {
    "duration": 11,
    "start_time": "2023-08-19T16:21:05.990Z"
   },
   {
    "duration": 103,
    "start_time": "2023-08-19T16:21:15.223Z"
   },
   {
    "duration": 5,
    "start_time": "2023-08-19T16:21:16.127Z"
   },
   {
    "duration": 29,
    "start_time": "2023-08-19T16:41:38.044Z"
   },
   {
    "duration": 5,
    "start_time": "2023-08-19T16:43:51.185Z"
   },
   {
    "duration": 7,
    "start_time": "2023-08-19T17:03:29.400Z"
   },
   {
    "duration": 16,
    "start_time": "2023-08-19T17:03:45.151Z"
   },
   {
    "duration": 14,
    "start_time": "2023-08-19T17:05:35.227Z"
   },
   {
    "duration": 45,
    "start_time": "2023-08-19T17:09:01.638Z"
   },
   {
    "duration": 43,
    "start_time": "2023-08-19T17:09:11.237Z"
   },
   {
    "duration": 34,
    "start_time": "2023-08-19T17:09:26.184Z"
   },
   {
    "duration": 39,
    "start_time": "2023-08-19T17:09:30.067Z"
   },
   {
    "duration": 1532,
    "start_time": "2023-08-19T19:29:43.603Z"
   },
   {
    "duration": 359,
    "start_time": "2023-08-19T19:29:45.137Z"
   },
   {
    "duration": 16,
    "start_time": "2023-08-19T19:29:45.498Z"
   },
   {
    "duration": 62,
    "start_time": "2023-08-19T19:29:45.517Z"
   },
   {
    "duration": 7,
    "start_time": "2023-08-19T19:29:45.582Z"
   },
   {
    "duration": 12,
    "start_time": "2023-08-19T19:29:45.591Z"
   },
   {
    "duration": 13,
    "start_time": "2023-08-19T19:29:45.604Z"
   },
   {
    "duration": 87,
    "start_time": "2023-08-19T19:29:45.618Z"
   },
   {
    "duration": 16,
    "start_time": "2023-08-19T19:29:45.707Z"
   },
   {
    "duration": 53,
    "start_time": "2023-08-19T19:29:45.726Z"
   },
   {
    "duration": 6,
    "start_time": "2023-08-19T19:29:45.780Z"
   },
   {
    "duration": 5,
    "start_time": "2023-08-19T19:29:45.788Z"
   },
   {
    "duration": 28,
    "start_time": "2023-08-19T19:29:45.794Z"
   },
   {
    "duration": 58,
    "start_time": "2023-08-19T19:29:45.824Z"
   },
   {
    "duration": 6,
    "start_time": "2023-08-19T19:29:45.883Z"
   },
   {
    "duration": 10,
    "start_time": "2023-08-19T19:29:45.891Z"
   },
   {
    "duration": 18,
    "start_time": "2023-08-19T19:29:45.903Z"
   },
   {
    "duration": 15,
    "start_time": "2023-08-19T19:29:45.923Z"
   },
   {
    "duration": 7,
    "start_time": "2023-08-19T19:29:45.939Z"
   },
   {
    "duration": 96,
    "start_time": "2023-08-19T19:29:45.948Z"
   },
   {
    "duration": 7,
    "start_time": "2023-08-19T19:29:46.046Z"
   },
   {
    "duration": 29,
    "start_time": "2023-08-19T19:29:46.055Z"
   },
   {
    "duration": 5,
    "start_time": "2023-08-19T19:29:46.086Z"
   },
   {
    "duration": 52,
    "start_time": "2023-08-19T19:29:46.093Z"
   },
   {
    "duration": 842,
    "start_time": "2023-08-19T19:29:46.147Z"
   },
   {
    "duration": 17,
    "start_time": "2023-08-19T19:29:46.990Z"
   },
   {
    "duration": 8,
    "start_time": "2023-08-19T19:29:47.009Z"
   },
   {
    "duration": 826,
    "start_time": "2023-08-19T19:29:47.021Z"
   },
   {
    "duration": 36,
    "start_time": "2023-08-19T19:29:47.849Z"
   },
   {
    "duration": 20,
    "start_time": "2023-08-19T19:29:47.887Z"
   },
   {
    "duration": 32,
    "start_time": "2023-08-19T19:29:47.909Z"
   },
   {
    "duration": 162,
    "start_time": "2023-08-19T19:29:47.943Z"
   },
   {
    "duration": 115,
    "start_time": "2023-08-19T19:29:48.107Z"
   },
   {
    "duration": 66,
    "start_time": "2023-08-19T19:29:48.224Z"
   },
   {
    "duration": 4,
    "start_time": "2023-08-19T19:29:48.292Z"
   },
   {
    "duration": 32,
    "start_time": "2023-08-19T19:29:48.298Z"
   },
   {
    "duration": 69,
    "start_time": "2023-08-19T19:29:48.331Z"
   },
   {
    "duration": 21,
    "start_time": "2023-08-19T19:29:48.402Z"
   },
   {
    "duration": 1316,
    "start_time": "2023-08-19T19:29:48.425Z"
   },
   {
    "duration": 1593,
    "start_time": "2023-08-19T19:29:49.743Z"
   },
   {
    "duration": 6,
    "start_time": "2023-08-19T19:29:51.338Z"
   },
   {
    "duration": 37,
    "start_time": "2023-08-19T19:29:51.345Z"
   },
   {
    "duration": 26,
    "start_time": "2023-08-19T19:29:51.384Z"
   },
   {
    "duration": 226,
    "start_time": "2023-08-19T19:29:51.412Z"
   },
   {
    "duration": 297,
    "start_time": "2023-08-19T19:29:51.640Z"
   },
   {
    "duration": 589,
    "start_time": "2023-08-19T19:29:51.939Z"
   },
   {
    "duration": 136,
    "start_time": "2023-08-19T19:29:52.530Z"
   },
   {
    "duration": 6,
    "start_time": "2023-08-19T19:29:52.672Z"
   },
   {
    "duration": 68,
    "start_time": "2023-08-19T19:29:52.680Z"
   },
   {
    "duration": 2243,
    "start_time": "2023-08-19T19:29:52.750Z"
   },
   {
    "duration": 4,
    "start_time": "2023-08-19T19:29:54.994Z"
   },
   {
    "duration": 1544,
    "start_time": "2023-08-19T19:29:54.999Z"
   },
   {
    "duration": 29,
    "start_time": "2023-08-19T19:29:56.545Z"
   },
   {
    "duration": 43,
    "start_time": "2023-08-19T19:29:56.578Z"
   },
   {
    "duration": 194,
    "start_time": "2023-08-19T19:29:56.623Z"
   },
   {
    "duration": 12,
    "start_time": "2023-08-19T19:29:56.819Z"
   },
   {
    "duration": 157,
    "start_time": "2023-08-19T19:29:56.832Z"
   },
   {
    "duration": 11,
    "start_time": "2023-08-19T19:29:56.991Z"
   },
   {
    "duration": 663,
    "start_time": "2023-08-19T19:29:57.005Z"
   },
   {
    "duration": 273,
    "start_time": "2023-08-19T19:29:57.673Z"
   },
   {
    "duration": 13,
    "start_time": "2023-08-19T19:29:57.947Z"
   },
   {
    "duration": 369,
    "start_time": "2023-08-19T19:29:57.967Z"
   },
   {
    "duration": 136,
    "start_time": "2023-08-19T19:29:58.337Z"
   },
   {
    "duration": 9,
    "start_time": "2023-08-19T19:29:58.481Z"
   },
   {
    "duration": 60,
    "start_time": "2023-08-19T19:29:58.491Z"
   },
   {
    "duration": 54,
    "start_time": "2023-08-19T19:29:58.553Z"
   },
   {
    "duration": 67,
    "start_time": "2023-08-19T19:29:58.609Z"
   },
   {
    "duration": 187,
    "start_time": "2023-08-19T19:29:58.680Z"
   },
   {
    "duration": 14,
    "start_time": "2023-08-19T19:29:58.872Z"
   },
   {
    "duration": 17,
    "start_time": "2023-08-19T19:29:58.888Z"
   },
   {
    "duration": 35,
    "start_time": "2023-08-19T19:29:58.907Z"
   },
   {
    "duration": 35,
    "start_time": "2023-08-19T19:29:58.944Z"
   },
   {
    "duration": 25,
    "start_time": "2023-08-19T19:29:58.981Z"
   },
   {
    "duration": 12,
    "start_time": "2023-08-19T19:29:59.008Z"
   },
   {
    "duration": 500,
    "start_time": "2023-08-19T19:29:59.022Z"
   },
   {
    "duration": 13,
    "start_time": "2023-08-19T19:29:59.524Z"
   },
   {
    "duration": 14,
    "start_time": "2023-08-19T19:29:59.539Z"
   },
   {
    "duration": 8,
    "start_time": "2023-08-19T19:29:59.569Z"
   },
   {
    "duration": 32,
    "start_time": "2023-08-19T19:29:59.581Z"
   },
   {
    "duration": 833,
    "start_time": "2023-08-19T19:29:59.615Z"
   },
   {
    "duration": 36,
    "start_time": "2023-08-19T19:30:00.450Z"
   },
   {
    "duration": 117,
    "start_time": "2023-08-19T19:30:00.493Z"
   },
   {
    "duration": 1408,
    "start_time": "2023-08-19T19:30:00.611Z"
   },
   {
    "duration": 0,
    "start_time": "2023-08-19T19:30:02.022Z"
   },
   {
    "duration": 0,
    "start_time": "2023-08-19T19:30:02.023Z"
   },
   {
    "duration": 0,
    "start_time": "2023-08-19T19:30:02.024Z"
   },
   {
    "duration": 0,
    "start_time": "2023-08-19T19:30:02.025Z"
   },
   {
    "duration": 0,
    "start_time": "2023-08-19T19:30:02.026Z"
   },
   {
    "duration": 0,
    "start_time": "2023-08-19T19:30:02.028Z"
   },
   {
    "duration": 0,
    "start_time": "2023-08-19T19:30:02.029Z"
   },
   {
    "duration": 0,
    "start_time": "2023-08-19T19:30:02.031Z"
   },
   {
    "duration": 0,
    "start_time": "2023-08-19T19:30:02.032Z"
   },
   {
    "duration": 0,
    "start_time": "2023-08-19T19:30:02.034Z"
   },
   {
    "duration": 0,
    "start_time": "2023-08-19T19:30:02.035Z"
   },
   {
    "duration": 0,
    "start_time": "2023-08-19T19:30:02.036Z"
   },
   {
    "duration": 0,
    "start_time": "2023-08-19T19:30:02.037Z"
   },
   {
    "duration": 0,
    "start_time": "2023-08-19T19:30:02.039Z"
   },
   {
    "duration": 0,
    "start_time": "2023-08-19T19:30:02.040Z"
   },
   {
    "duration": 23,
    "start_time": "2023-08-19T19:41:45.790Z"
   },
   {
    "duration": 6,
    "start_time": "2023-08-19T19:41:54.454Z"
   },
   {
    "duration": 381,
    "start_time": "2023-08-19T19:41:55.552Z"
   },
   {
    "duration": 17,
    "start_time": "2023-08-19T19:42:03.183Z"
   },
   {
    "duration": 621,
    "start_time": "2023-08-19T19:42:06.286Z"
   },
   {
    "duration": 16,
    "start_time": "2023-08-19T19:42:07.356Z"
   },
   {
    "duration": 211,
    "start_time": "2023-08-19T19:42:08.607Z"
   },
   {
    "duration": 5,
    "start_time": "2023-08-19T19:42:09.610Z"
   },
   {
    "duration": 8,
    "start_time": "2023-08-19T19:42:15.249Z"
   },
   {
    "duration": 12,
    "start_time": "2023-08-19T19:42:17.941Z"
   },
   {
    "duration": 10,
    "start_time": "2023-08-19T19:42:18.964Z"
   },
   {
    "duration": 8,
    "start_time": "2023-08-19T19:42:20.905Z"
   },
   {
    "duration": 13,
    "start_time": "2023-08-19T19:42:21.817Z"
   },
   {
    "duration": 51,
    "start_time": "2023-08-19T19:42:22.893Z"
   },
   {
    "duration": 16,
    "start_time": "2023-08-19T19:42:24.979Z"
   },
   {
    "duration": 3,
    "start_time": "2023-08-19T19:42:26.637Z"
   },
   {
    "duration": 4,
    "start_time": "2023-08-19T19:52:49.052Z"
   },
   {
    "duration": 44,
    "start_time": "2023-08-19T19:53:07.931Z"
   },
   {
    "duration": 68,
    "start_time": "2023-08-19T19:53:24.551Z"
   },
   {
    "duration": 26,
    "start_time": "2023-08-19T19:53:37.634Z"
   },
   {
    "duration": 7,
    "start_time": "2023-08-19T19:56:50.329Z"
   },
   {
    "duration": 23,
    "start_time": "2023-08-19T19:57:24.563Z"
   },
   {
    "duration": 29,
    "start_time": "2023-08-19T19:57:59.053Z"
   },
   {
    "duration": 57,
    "start_time": "2023-08-19T20:02:40.555Z"
   },
   {
    "duration": 52,
    "start_time": "2023-08-19T20:03:21.104Z"
   },
   {
    "duration": 73,
    "start_time": "2023-08-19T20:04:12.948Z"
   },
   {
    "duration": 45,
    "start_time": "2023-08-19T20:05:35.998Z"
   },
   {
    "duration": 5,
    "start_time": "2023-08-19T20:23:31.133Z"
   },
   {
    "duration": 5,
    "start_time": "2023-08-19T20:23:47.252Z"
   },
   {
    "duration": 9,
    "start_time": "2023-08-19T20:26:43.588Z"
   },
   {
    "duration": 19,
    "start_time": "2023-08-19T20:27:10.409Z"
   },
   {
    "duration": 25,
    "start_time": "2023-08-19T20:29:09.910Z"
   },
   {
    "duration": 31,
    "start_time": "2023-08-19T20:33:47.966Z"
   },
   {
    "duration": 29,
    "start_time": "2023-08-19T20:34:04.251Z"
   },
   {
    "duration": 23,
    "start_time": "2023-08-19T20:34:35.294Z"
   },
   {
    "duration": 11,
    "start_time": "2023-08-19T20:34:59.039Z"
   },
   {
    "duration": 5,
    "start_time": "2023-08-19T20:35:29.225Z"
   },
   {
    "duration": 25,
    "start_time": "2023-08-19T20:35:36.592Z"
   },
   {
    "duration": 10,
    "start_time": "2023-08-19T20:35:40.402Z"
   },
   {
    "duration": 5,
    "start_time": "2023-08-19T20:35:50.296Z"
   },
   {
    "duration": 282,
    "start_time": "2023-08-19T20:35:50.304Z"
   },
   {
    "duration": 10,
    "start_time": "2023-08-19T20:35:50.588Z"
   },
   {
    "duration": 63,
    "start_time": "2023-08-19T20:35:50.601Z"
   },
   {
    "duration": 13,
    "start_time": "2023-08-19T20:35:50.666Z"
   },
   {
    "duration": 27,
    "start_time": "2023-08-19T20:35:50.681Z"
   },
   {
    "duration": 28,
    "start_time": "2023-08-19T20:35:50.710Z"
   },
   {
    "duration": 130,
    "start_time": "2023-08-19T20:35:50.741Z"
   },
   {
    "duration": 20,
    "start_time": "2023-08-19T20:35:50.879Z"
   },
   {
    "duration": 44,
    "start_time": "2023-08-19T20:35:50.902Z"
   },
   {
    "duration": 17,
    "start_time": "2023-08-19T20:35:50.948Z"
   },
   {
    "duration": 34,
    "start_time": "2023-08-19T20:35:50.966Z"
   },
   {
    "duration": 42,
    "start_time": "2023-08-19T20:35:51.001Z"
   },
   {
    "duration": 29,
    "start_time": "2023-08-19T20:35:51.045Z"
   },
   {
    "duration": 16,
    "start_time": "2023-08-19T20:35:51.076Z"
   },
   {
    "duration": 13,
    "start_time": "2023-08-19T20:35:51.099Z"
   },
   {
    "duration": 7,
    "start_time": "2023-08-19T20:35:51.114Z"
   },
   {
    "duration": 35,
    "start_time": "2023-08-19T20:35:51.124Z"
   },
   {
    "duration": 27,
    "start_time": "2023-08-19T20:35:51.161Z"
   },
   {
    "duration": 92,
    "start_time": "2023-08-19T20:35:51.194Z"
   },
   {
    "duration": 10,
    "start_time": "2023-08-19T20:35:51.293Z"
   },
   {
    "duration": 11,
    "start_time": "2023-08-19T20:35:51.306Z"
   },
   {
    "duration": 6,
    "start_time": "2023-08-19T20:35:51.319Z"
   },
   {
    "duration": 64,
    "start_time": "2023-08-19T20:35:51.329Z"
   },
   {
    "duration": 960,
    "start_time": "2023-08-19T20:35:51.396Z"
   },
   {
    "duration": 34,
    "start_time": "2023-08-19T20:35:52.358Z"
   },
   {
    "duration": 4,
    "start_time": "2023-08-19T20:35:52.395Z"
   },
   {
    "duration": 844,
    "start_time": "2023-08-19T20:35:52.401Z"
   },
   {
    "duration": 46,
    "start_time": "2023-08-19T20:35:53.248Z"
   },
   {
    "duration": 21,
    "start_time": "2023-08-19T20:35:53.296Z"
   },
   {
    "duration": 31,
    "start_time": "2023-08-19T20:35:53.319Z"
   },
   {
    "duration": 152,
    "start_time": "2023-08-19T20:35:53.367Z"
   },
   {
    "duration": 21,
    "start_time": "2023-08-19T20:35:53.521Z"
   },
   {
    "duration": 79,
    "start_time": "2023-08-19T20:35:53.543Z"
   },
   {
    "duration": 22,
    "start_time": "2023-08-19T20:35:53.624Z"
   },
   {
    "duration": 57,
    "start_time": "2023-08-19T20:35:53.648Z"
   },
   {
    "duration": 48,
    "start_time": "2023-08-19T20:35:53.707Z"
   },
   {
    "duration": 26,
    "start_time": "2023-08-19T20:35:53.758Z"
   },
   {
    "duration": 1440,
    "start_time": "2023-08-19T20:35:53.786Z"
   },
   {
    "duration": 1741,
    "start_time": "2023-08-19T20:35:55.228Z"
   },
   {
    "duration": 8,
    "start_time": "2023-08-19T20:35:56.972Z"
   },
   {
    "duration": 23,
    "start_time": "2023-08-19T20:35:56.987Z"
   },
   {
    "duration": 27,
    "start_time": "2023-08-19T20:35:57.012Z"
   },
   {
    "duration": 229,
    "start_time": "2023-08-19T20:35:57.041Z"
   },
   {
    "duration": 331,
    "start_time": "2023-08-19T20:35:57.272Z"
   },
   {
    "duration": 620,
    "start_time": "2023-08-19T20:35:57.605Z"
   },
   {
    "duration": 135,
    "start_time": "2023-08-19T20:35:58.227Z"
   },
   {
    "duration": 19,
    "start_time": "2023-08-19T20:35:58.366Z"
   },
   {
    "duration": 55,
    "start_time": "2023-08-19T20:35:58.387Z"
   },
   {
    "duration": 2373,
    "start_time": "2023-08-19T20:35:58.445Z"
   },
   {
    "duration": 4,
    "start_time": "2023-08-19T20:36:00.820Z"
   },
   {
    "duration": 1778,
    "start_time": "2023-08-19T20:36:00.825Z"
   },
   {
    "duration": 22,
    "start_time": "2023-08-19T20:36:02.605Z"
   },
   {
    "duration": 106,
    "start_time": "2023-08-19T20:36:02.629Z"
   },
   {
    "duration": 275,
    "start_time": "2023-08-19T20:36:02.737Z"
   },
   {
    "duration": 11,
    "start_time": "2023-08-19T20:36:03.014Z"
   },
   {
    "duration": 169,
    "start_time": "2023-08-19T20:36:03.027Z"
   },
   {
    "duration": 10,
    "start_time": "2023-08-19T20:36:03.199Z"
   },
   {
    "duration": 365,
    "start_time": "2023-08-19T20:36:03.211Z"
   },
   {
    "duration": 263,
    "start_time": "2023-08-19T20:36:03.578Z"
   },
   {
    "duration": 12,
    "start_time": "2023-08-19T20:36:03.842Z"
   },
   {
    "duration": 464,
    "start_time": "2023-08-19T20:36:03.855Z"
   },
   {
    "duration": 122,
    "start_time": "2023-08-19T20:36:04.321Z"
   },
   {
    "duration": 181,
    "start_time": "2023-08-19T20:36:04.445Z"
   },
   {
    "duration": 162,
    "start_time": "2023-08-19T20:36:04.628Z"
   },
   {
    "duration": 66,
    "start_time": "2023-08-19T20:36:04.793Z"
   },
   {
    "duration": 49,
    "start_time": "2023-08-19T20:36:04.861Z"
   },
   {
    "duration": 180,
    "start_time": "2023-08-19T20:36:04.912Z"
   },
   {
    "duration": 14,
    "start_time": "2023-08-19T20:36:05.099Z"
   },
   {
    "duration": 25,
    "start_time": "2023-08-19T20:36:05.115Z"
   },
   {
    "duration": 58,
    "start_time": "2023-08-19T20:36:05.143Z"
   },
   {
    "duration": 12,
    "start_time": "2023-08-19T20:36:05.203Z"
   },
   {
    "duration": 59,
    "start_time": "2023-08-19T20:36:05.217Z"
   },
   {
    "duration": 9,
    "start_time": "2023-08-19T20:36:05.278Z"
   },
   {
    "duration": 5,
    "start_time": "2023-08-19T20:37:16.833Z"
   },
   {
    "duration": 24,
    "start_time": "2023-08-19T20:37:17.512Z"
   },
   {
    "duration": 11,
    "start_time": "2023-08-19T20:37:19.563Z"
   },
   {
    "duration": 4,
    "start_time": "2023-08-19T20:47:46.697Z"
   },
   {
    "duration": 37,
    "start_time": "2023-08-19T20:47:47.390Z"
   },
   {
    "duration": 12,
    "start_time": "2023-08-19T20:47:59.084Z"
   },
   {
    "duration": 5,
    "start_time": "2023-08-19T20:49:02.936Z"
   },
   {
    "duration": 252,
    "start_time": "2023-08-19T20:49:02.947Z"
   },
   {
    "duration": 11,
    "start_time": "2023-08-19T20:49:03.202Z"
   },
   {
    "duration": 100,
    "start_time": "2023-08-19T20:49:03.215Z"
   },
   {
    "duration": 8,
    "start_time": "2023-08-19T20:49:03.317Z"
   },
   {
    "duration": 14,
    "start_time": "2023-08-19T20:49:03.328Z"
   },
   {
    "duration": 16,
    "start_time": "2023-08-19T20:49:03.344Z"
   },
   {
    "duration": 117,
    "start_time": "2023-08-19T20:49:03.362Z"
   },
   {
    "duration": 23,
    "start_time": "2023-08-19T20:49:03.484Z"
   },
   {
    "duration": 76,
    "start_time": "2023-08-19T20:49:03.510Z"
   },
   {
    "duration": 6,
    "start_time": "2023-08-19T20:49:03.591Z"
   },
   {
    "duration": 15,
    "start_time": "2023-08-19T20:49:03.600Z"
   },
   {
    "duration": 60,
    "start_time": "2023-08-19T20:49:03.617Z"
   },
   {
    "duration": 45,
    "start_time": "2023-08-19T20:49:03.680Z"
   },
   {
    "duration": 9,
    "start_time": "2023-08-19T20:49:03.728Z"
   },
   {
    "duration": 42,
    "start_time": "2023-08-19T20:49:03.739Z"
   },
   {
    "duration": 27,
    "start_time": "2023-08-19T20:49:03.783Z"
   },
   {
    "duration": 13,
    "start_time": "2023-08-19T20:49:03.812Z"
   },
   {
    "duration": 12,
    "start_time": "2023-08-19T20:49:03.828Z"
   },
   {
    "duration": 154,
    "start_time": "2023-08-19T20:49:03.841Z"
   },
   {
    "duration": 11,
    "start_time": "2023-08-19T20:49:03.998Z"
   },
   {
    "duration": 16,
    "start_time": "2023-08-19T20:49:04.013Z"
   },
   {
    "duration": 16,
    "start_time": "2023-08-19T20:49:04.033Z"
   },
   {
    "duration": 89,
    "start_time": "2023-08-19T20:49:04.052Z"
   },
   {
    "duration": 950,
    "start_time": "2023-08-19T20:49:04.144Z"
   },
   {
    "duration": 22,
    "start_time": "2023-08-19T20:49:05.096Z"
   },
   {
    "duration": 3,
    "start_time": "2023-08-19T20:49:05.120Z"
   },
   {
    "duration": 893,
    "start_time": "2023-08-19T20:49:05.125Z"
   },
   {
    "duration": 57,
    "start_time": "2023-08-19T20:49:06.025Z"
   },
   {
    "duration": 22,
    "start_time": "2023-08-19T20:49:06.085Z"
   },
   {
    "duration": 36,
    "start_time": "2023-08-19T20:49:06.109Z"
   },
   {
    "duration": 179,
    "start_time": "2023-08-19T20:49:06.147Z"
   },
   {
    "duration": 55,
    "start_time": "2023-08-19T20:49:06.329Z"
   },
   {
    "duration": 77,
    "start_time": "2023-08-19T20:49:06.386Z"
   },
   {
    "duration": 18,
    "start_time": "2023-08-19T20:49:06.465Z"
   },
   {
    "duration": 36,
    "start_time": "2023-08-19T20:49:06.485Z"
   },
   {
    "duration": 69,
    "start_time": "2023-08-19T20:49:06.523Z"
   },
   {
    "duration": 18,
    "start_time": "2023-08-19T20:49:06.594Z"
   },
   {
    "duration": 1375,
    "start_time": "2023-08-19T20:49:06.614Z"
   },
   {
    "duration": 1770,
    "start_time": "2023-08-19T20:49:07.991Z"
   },
   {
    "duration": 9,
    "start_time": "2023-08-19T20:49:09.763Z"
   },
   {
    "duration": 20,
    "start_time": "2023-08-19T20:49:09.780Z"
   },
   {
    "duration": 38,
    "start_time": "2023-08-19T20:49:09.802Z"
   },
   {
    "duration": 244,
    "start_time": "2023-08-19T20:49:09.842Z"
   },
   {
    "duration": 349,
    "start_time": "2023-08-19T20:49:10.088Z"
   },
   {
    "duration": 732,
    "start_time": "2023-08-19T20:49:10.439Z"
   },
   {
    "duration": 126,
    "start_time": "2023-08-19T20:49:11.179Z"
   },
   {
    "duration": 6,
    "start_time": "2023-08-19T20:49:11.307Z"
   },
   {
    "duration": 31,
    "start_time": "2023-08-19T20:49:11.314Z"
   },
   {
    "duration": 2332,
    "start_time": "2023-08-19T20:49:11.347Z"
   },
   {
    "duration": 4,
    "start_time": "2023-08-19T20:49:13.680Z"
   },
   {
    "duration": 1811,
    "start_time": "2023-08-19T20:49:13.689Z"
   },
   {
    "duration": 24,
    "start_time": "2023-08-19T20:49:15.502Z"
   },
   {
    "duration": 7,
    "start_time": "2023-08-19T20:49:15.529Z"
   },
   {
    "duration": 197,
    "start_time": "2023-08-19T20:49:15.538Z"
   },
   {
    "duration": 12,
    "start_time": "2023-08-19T20:49:15.737Z"
   },
   {
    "duration": 138,
    "start_time": "2023-08-19T20:49:15.751Z"
   },
   {
    "duration": 12,
    "start_time": "2023-08-19T20:49:15.891Z"
   },
   {
    "duration": 313,
    "start_time": "2023-08-19T20:49:15.905Z"
   },
   {
    "duration": 301,
    "start_time": "2023-08-19T20:49:16.221Z"
   },
   {
    "duration": 12,
    "start_time": "2023-08-19T20:49:16.524Z"
   },
   {
    "duration": 358,
    "start_time": "2023-08-19T20:49:16.538Z"
   },
   {
    "duration": 154,
    "start_time": "2023-08-19T20:49:16.899Z"
   },
   {
    "duration": 23,
    "start_time": "2023-08-19T20:49:17.055Z"
   },
   {
    "duration": 16,
    "start_time": "2023-08-19T20:49:17.088Z"
   },
   {
    "duration": 13,
    "start_time": "2023-08-19T20:49:17.106Z"
   },
   {
    "duration": 49,
    "start_time": "2023-08-19T20:49:17.122Z"
   },
   {
    "duration": 170,
    "start_time": "2023-08-19T20:49:17.176Z"
   },
   {
    "duration": 32,
    "start_time": "2023-08-19T20:49:17.348Z"
   },
   {
    "duration": 34,
    "start_time": "2023-08-19T20:49:17.382Z"
   },
   {
    "duration": 49,
    "start_time": "2023-08-19T20:49:17.418Z"
   },
   {
    "duration": 14,
    "start_time": "2023-08-19T20:49:17.479Z"
   },
   {
    "duration": 23,
    "start_time": "2023-08-19T20:49:17.496Z"
   },
   {
    "duration": 5,
    "start_time": "2023-08-19T20:49:17.521Z"
   },
   {
    "duration": 66,
    "start_time": "2023-08-19T20:49:17.528Z"
   },
   {
    "duration": 11,
    "start_time": "2023-08-19T20:49:17.596Z"
   },
   {
    "duration": 42,
    "start_time": "2023-08-19T20:51:10.718Z"
   },
   {
    "duration": 31,
    "start_time": "2023-08-19T21:00:37.201Z"
   },
   {
    "duration": 64,
    "start_time": "2023-08-19T21:00:49.687Z"
   },
   {
    "duration": 77,
    "start_time": "2023-08-19T21:01:03.729Z"
   },
   {
    "duration": 23,
    "start_time": "2023-08-19T21:01:11.042Z"
   },
   {
    "duration": 25,
    "start_time": "2023-08-19T21:01:16.141Z"
   },
   {
    "duration": 42,
    "start_time": "2023-08-19T21:02:07.049Z"
   },
   {
    "duration": 6,
    "start_time": "2023-08-19T21:02:16.992Z"
   },
   {
    "duration": 5,
    "start_time": "2023-08-19T21:02:18.384Z"
   },
   {
    "duration": 128,
    "start_time": "2023-08-19T21:02:35.799Z"
   },
   {
    "duration": 6,
    "start_time": "2023-08-19T21:03:09.478Z"
   },
   {
    "duration": 348,
    "start_time": "2023-08-19T21:03:09.489Z"
   },
   {
    "duration": 8,
    "start_time": "2023-08-19T21:03:09.839Z"
   },
   {
    "duration": 56,
    "start_time": "2023-08-19T21:03:09.867Z"
   },
   {
    "duration": 8,
    "start_time": "2023-08-19T21:03:09.925Z"
   },
   {
    "duration": 117,
    "start_time": "2023-08-19T21:03:09.935Z"
   },
   {
    "duration": 19,
    "start_time": "2023-08-19T21:03:10.054Z"
   },
   {
    "duration": 98,
    "start_time": "2023-08-19T21:03:10.077Z"
   },
   {
    "duration": 17,
    "start_time": "2023-08-19T21:03:10.176Z"
   },
   {
    "duration": 29,
    "start_time": "2023-08-19T21:03:10.195Z"
   },
   {
    "duration": 5,
    "start_time": "2023-08-19T21:03:10.227Z"
   },
   {
    "duration": 19,
    "start_time": "2023-08-19T21:03:10.233Z"
   },
   {
    "duration": 32,
    "start_time": "2023-08-19T21:03:10.268Z"
   },
   {
    "duration": 38,
    "start_time": "2023-08-19T21:03:10.302Z"
   },
   {
    "duration": 7,
    "start_time": "2023-08-19T21:03:10.342Z"
   },
   {
    "duration": 30,
    "start_time": "2023-08-19T21:03:10.351Z"
   },
   {
    "duration": 6,
    "start_time": "2023-08-19T21:03:10.383Z"
   },
   {
    "duration": 18,
    "start_time": "2023-08-19T21:03:10.391Z"
   },
   {
    "duration": 29,
    "start_time": "2023-08-19T21:03:10.411Z"
   },
   {
    "duration": 97,
    "start_time": "2023-08-19T21:03:10.442Z"
   },
   {
    "duration": 8,
    "start_time": "2023-08-19T21:03:10.541Z"
   },
   {
    "duration": 20,
    "start_time": "2023-08-19T21:03:10.551Z"
   },
   {
    "duration": 7,
    "start_time": "2023-08-19T21:03:10.573Z"
   },
   {
    "duration": 44,
    "start_time": "2023-08-19T21:03:10.586Z"
   },
   {
    "duration": 763,
    "start_time": "2023-08-19T21:03:10.631Z"
   },
   {
    "duration": 15,
    "start_time": "2023-08-19T21:03:11.396Z"
   },
   {
    "duration": 23,
    "start_time": "2023-08-19T21:03:11.413Z"
   },
   {
    "duration": 868,
    "start_time": "2023-08-19T21:03:11.438Z"
   },
   {
    "duration": 26,
    "start_time": "2023-08-19T21:03:12.311Z"
   },
   {
    "duration": 48,
    "start_time": "2023-08-19T21:03:12.339Z"
   },
   {
    "duration": 35,
    "start_time": "2023-08-19T21:03:12.389Z"
   },
   {
    "duration": 171,
    "start_time": "2023-08-19T21:03:12.427Z"
   },
   {
    "duration": 28,
    "start_time": "2023-08-19T21:03:12.600Z"
   },
   {
    "duration": 85,
    "start_time": "2023-08-19T21:03:12.630Z"
   },
   {
    "duration": 7,
    "start_time": "2023-08-19T21:03:12.716Z"
   },
   {
    "duration": 33,
    "start_time": "2023-08-19T21:03:12.725Z"
   },
   {
    "duration": 60,
    "start_time": "2023-08-19T21:03:12.767Z"
   },
   {
    "duration": 18,
    "start_time": "2023-08-19T21:03:12.829Z"
   },
   {
    "duration": 1298,
    "start_time": "2023-08-19T21:03:12.850Z"
   },
   {
    "duration": 1776,
    "start_time": "2023-08-19T21:03:14.150Z"
   },
   {
    "duration": 7,
    "start_time": "2023-08-19T21:03:15.929Z"
   },
   {
    "duration": 46,
    "start_time": "2023-08-19T21:03:15.937Z"
   },
   {
    "duration": 33,
    "start_time": "2023-08-19T21:03:15.985Z"
   },
   {
    "duration": 214,
    "start_time": "2023-08-19T21:03:16.020Z"
   },
   {
    "duration": 329,
    "start_time": "2023-08-19T21:03:16.236Z"
   },
   {
    "duration": 589,
    "start_time": "2023-08-19T21:03:16.567Z"
   },
   {
    "duration": 137,
    "start_time": "2023-08-19T21:03:17.158Z"
   },
   {
    "duration": 6,
    "start_time": "2023-08-19T21:03:17.297Z"
   },
   {
    "duration": 40,
    "start_time": "2023-08-19T21:03:17.305Z"
   },
   {
    "duration": 2181,
    "start_time": "2023-08-19T21:03:17.347Z"
   },
   {
    "duration": 3,
    "start_time": "2023-08-19T21:03:19.530Z"
   },
   {
    "duration": 1496,
    "start_time": "2023-08-19T21:03:19.534Z"
   },
   {
    "duration": 16,
    "start_time": "2023-08-19T21:03:21.033Z"
   },
   {
    "duration": 29,
    "start_time": "2023-08-19T21:03:21.050Z"
   },
   {
    "duration": 129,
    "start_time": "2023-08-19T21:03:21.081Z"
   },
   {
    "duration": 10,
    "start_time": "2023-08-19T21:03:21.212Z"
   },
   {
    "duration": 126,
    "start_time": "2023-08-19T21:03:21.224Z"
   },
   {
    "duration": 19,
    "start_time": "2023-08-19T21:03:21.352Z"
   },
   {
    "duration": 311,
    "start_time": "2023-08-19T21:03:21.373Z"
   },
   {
    "duration": 247,
    "start_time": "2023-08-19T21:03:21.686Z"
   },
   {
    "duration": 10,
    "start_time": "2023-08-19T21:03:21.935Z"
   },
   {
    "duration": 358,
    "start_time": "2023-08-19T21:03:21.947Z"
   },
   {
    "duration": 124,
    "start_time": "2023-08-19T21:03:22.307Z"
   },
   {
    "duration": 5,
    "start_time": "2023-08-19T21:03:22.433Z"
   },
   {
    "duration": 14,
    "start_time": "2023-08-19T21:03:22.440Z"
   },
   {
    "duration": 6,
    "start_time": "2023-08-19T21:03:22.456Z"
   },
   {
    "duration": 30,
    "start_time": "2023-08-19T21:03:22.466Z"
   },
   {
    "duration": 177,
    "start_time": "2023-08-19T21:03:22.498Z"
   },
   {
    "duration": 11,
    "start_time": "2023-08-19T21:03:22.682Z"
   },
   {
    "duration": 21,
    "start_time": "2023-08-19T21:03:22.694Z"
   },
   {
    "duration": 36,
    "start_time": "2023-08-19T21:03:22.716Z"
   },
   {
    "duration": 24,
    "start_time": "2023-08-19T21:03:22.754Z"
   },
   {
    "duration": 36,
    "start_time": "2023-08-19T21:03:22.780Z"
   },
   {
    "duration": 6,
    "start_time": "2023-08-19T21:03:22.817Z"
   },
   {
    "duration": 23,
    "start_time": "2023-08-19T21:03:22.825Z"
   },
   {
    "duration": 407,
    "start_time": "2023-08-19T21:03:22.850Z"
   },
   {
    "duration": 23,
    "start_time": "2023-08-19T21:03:23.259Z"
   },
   {
    "duration": 15,
    "start_time": "2023-08-19T21:03:23.288Z"
   },
   {
    "duration": 4,
    "start_time": "2023-08-19T21:03:23.304Z"
   },
   {
    "duration": 42,
    "start_time": "2023-08-19T21:03:23.310Z"
   },
   {
    "duration": 875,
    "start_time": "2023-08-19T21:03:23.354Z"
   },
   {
    "duration": 25,
    "start_time": "2023-08-19T21:03:24.231Z"
   },
   {
    "duration": 42,
    "start_time": "2023-08-19T21:03:24.269Z"
   },
   {
    "duration": 21,
    "start_time": "2023-08-19T21:03:24.313Z"
   },
   {
    "duration": 14,
    "start_time": "2023-08-19T21:03:24.336Z"
   },
   {
    "duration": 347,
    "start_time": "2023-08-19T21:03:24.366Z"
   },
   {
    "duration": 15,
    "start_time": "2023-08-19T21:03:24.715Z"
   },
   {
    "duration": 624,
    "start_time": "2023-08-19T21:03:24.732Z"
   },
   {
    "duration": 23,
    "start_time": "2023-08-19T21:03:25.358Z"
   },
   {
    "duration": 116,
    "start_time": "2023-08-19T21:03:25.383Z"
   },
   {
    "duration": 17,
    "start_time": "2023-08-19T21:03:25.501Z"
   },
   {
    "duration": 13,
    "start_time": "2023-08-19T21:03:25.520Z"
   },
   {
    "duration": 10,
    "start_time": "2023-08-19T21:03:25.535Z"
   },
   {
    "duration": 6,
    "start_time": "2023-08-19T21:03:25.546Z"
   },
   {
    "duration": 85,
    "start_time": "2023-08-19T21:03:25.554Z"
   },
   {
    "duration": 45,
    "start_time": "2023-08-19T21:03:52.037Z"
   },
   {
    "duration": 35,
    "start_time": "2023-08-19T21:03:52.904Z"
   },
   {
    "duration": 5,
    "start_time": "2023-08-19T21:03:54.652Z"
   },
   {
    "duration": 5,
    "start_time": "2023-08-19T21:03:55.543Z"
   },
   {
    "duration": 31,
    "start_time": "2023-08-19T21:03:56.788Z"
   },
   {
    "duration": 48,
    "start_time": "2023-08-19T21:04:46.049Z"
   },
   {
    "duration": 69,
    "start_time": "2023-08-19T21:05:08.287Z"
   },
   {
    "duration": 5,
    "start_time": "2023-08-19T21:06:13.996Z"
   },
   {
    "duration": 46,
    "start_time": "2023-08-19T21:06:22.294Z"
   },
   {
    "duration": 1280,
    "start_time": "2023-08-19T21:07:36.349Z"
   },
   {
    "duration": 231,
    "start_time": "2023-08-19T21:07:37.631Z"
   },
   {
    "duration": 18,
    "start_time": "2023-08-19T21:07:37.864Z"
   },
   {
    "duration": 53,
    "start_time": "2023-08-19T21:07:37.884Z"
   },
   {
    "duration": 7,
    "start_time": "2023-08-19T21:07:37.938Z"
   },
   {
    "duration": 48,
    "start_time": "2023-08-19T21:07:37.947Z"
   },
   {
    "duration": 17,
    "start_time": "2023-08-19T21:07:37.997Z"
   },
   {
    "duration": 103,
    "start_time": "2023-08-19T21:07:38.016Z"
   },
   {
    "duration": 16,
    "start_time": "2023-08-19T21:07:38.121Z"
   },
   {
    "duration": 41,
    "start_time": "2023-08-19T21:07:38.140Z"
   },
   {
    "duration": 5,
    "start_time": "2023-08-19T21:07:38.183Z"
   },
   {
    "duration": 5,
    "start_time": "2023-08-19T21:07:38.190Z"
   },
   {
    "duration": 23,
    "start_time": "2023-08-19T21:07:38.197Z"
   },
   {
    "duration": 58,
    "start_time": "2023-08-19T21:07:38.221Z"
   },
   {
    "duration": 5,
    "start_time": "2023-08-19T21:07:38.281Z"
   },
   {
    "duration": 10,
    "start_time": "2023-08-19T21:07:38.288Z"
   },
   {
    "duration": 37,
    "start_time": "2023-08-19T21:07:38.300Z"
   },
   {
    "duration": 27,
    "start_time": "2023-08-19T21:07:38.339Z"
   },
   {
    "duration": 17,
    "start_time": "2023-08-19T21:07:38.368Z"
   },
   {
    "duration": 93,
    "start_time": "2023-08-19T21:07:38.387Z"
   },
   {
    "duration": 8,
    "start_time": "2023-08-19T21:07:38.483Z"
   },
   {
    "duration": 15,
    "start_time": "2023-08-19T21:07:38.492Z"
   },
   {
    "duration": 6,
    "start_time": "2023-08-19T21:07:38.509Z"
   },
   {
    "duration": 65,
    "start_time": "2023-08-19T21:07:38.516Z"
   },
   {
    "duration": 803,
    "start_time": "2023-08-19T21:07:38.583Z"
   },
   {
    "duration": 22,
    "start_time": "2023-08-19T21:07:39.388Z"
   },
   {
    "duration": 3,
    "start_time": "2023-08-19T21:07:39.412Z"
   },
   {
    "duration": 738,
    "start_time": "2023-08-19T21:07:39.419Z"
   },
   {
    "duration": 31,
    "start_time": "2023-08-19T21:07:40.159Z"
   },
   {
    "duration": 25,
    "start_time": "2023-08-19T21:07:40.191Z"
   },
   {
    "duration": 30,
    "start_time": "2023-08-19T21:07:40.218Z"
   },
   {
    "duration": 144,
    "start_time": "2023-08-19T21:07:40.250Z"
   },
   {
    "duration": 116,
    "start_time": "2023-08-19T21:07:40.396Z"
   },
   {
    "duration": 66,
    "start_time": "2023-08-19T21:07:40.513Z"
   },
   {
    "duration": 5,
    "start_time": "2023-08-19T21:07:40.581Z"
   },
   {
    "duration": 52,
    "start_time": "2023-08-19T21:07:40.588Z"
   },
   {
    "duration": 93,
    "start_time": "2023-08-19T21:07:40.642Z"
   },
   {
    "duration": 15,
    "start_time": "2023-08-19T21:07:40.737Z"
   },
   {
    "duration": 1211,
    "start_time": "2023-08-19T21:07:40.754Z"
   },
   {
    "duration": 1589,
    "start_time": "2023-08-19T21:07:41.967Z"
   },
   {
    "duration": 23,
    "start_time": "2023-08-19T21:07:43.557Z"
   },
   {
    "duration": 16,
    "start_time": "2023-08-19T21:07:43.582Z"
   },
   {
    "duration": 32,
    "start_time": "2023-08-19T21:07:43.599Z"
   },
   {
    "duration": 212,
    "start_time": "2023-08-19T21:07:43.632Z"
   },
   {
    "duration": 367,
    "start_time": "2023-08-19T21:07:43.845Z"
   },
   {
    "duration": 543,
    "start_time": "2023-08-19T21:07:44.214Z"
   },
   {
    "duration": 128,
    "start_time": "2023-08-19T21:07:44.759Z"
   },
   {
    "duration": 6,
    "start_time": "2023-08-19T21:07:44.889Z"
   },
   {
    "duration": 46,
    "start_time": "2023-08-19T21:07:44.896Z"
   },
   {
    "duration": 2138,
    "start_time": "2023-08-19T21:07:44.943Z"
   },
   {
    "duration": 4,
    "start_time": "2023-08-19T21:07:47.083Z"
   },
   {
    "duration": 1421,
    "start_time": "2023-08-19T21:07:47.089Z"
   },
   {
    "duration": 15,
    "start_time": "2023-08-19T21:07:48.512Z"
   },
   {
    "duration": 5,
    "start_time": "2023-08-19T21:07:48.529Z"
   },
   {
    "duration": 152,
    "start_time": "2023-08-19T21:07:48.535Z"
   },
   {
    "duration": 11,
    "start_time": "2023-08-19T21:07:48.690Z"
   },
   {
    "duration": 128,
    "start_time": "2023-08-19T21:07:48.703Z"
   },
   {
    "duration": 10,
    "start_time": "2023-08-19T21:07:48.833Z"
   },
   {
    "duration": 313,
    "start_time": "2023-08-19T21:07:48.844Z"
   },
   {
    "duration": 249,
    "start_time": "2023-08-19T21:07:49.167Z"
   },
   {
    "duration": 11,
    "start_time": "2023-08-19T21:07:49.418Z"
   },
   {
    "duration": 312,
    "start_time": "2023-08-19T21:07:49.431Z"
   },
   {
    "duration": 138,
    "start_time": "2023-08-19T21:07:49.746Z"
   },
   {
    "duration": 5,
    "start_time": "2023-08-19T21:07:49.886Z"
   },
   {
    "duration": 7,
    "start_time": "2023-08-19T21:07:49.892Z"
   },
   {
    "duration": 5,
    "start_time": "2023-08-19T21:07:49.900Z"
   },
   {
    "duration": 33,
    "start_time": "2023-08-19T21:07:49.907Z"
   },
   {
    "duration": 172,
    "start_time": "2023-08-19T21:07:49.942Z"
   },
   {
    "duration": 12,
    "start_time": "2023-08-19T21:07:50.116Z"
   },
   {
    "duration": 16,
    "start_time": "2023-08-19T21:07:50.130Z"
   },
   {
    "duration": 54,
    "start_time": "2023-08-19T21:07:50.148Z"
   },
   {
    "duration": 12,
    "start_time": "2023-08-19T21:07:50.204Z"
   },
   {
    "duration": 20,
    "start_time": "2023-08-19T21:07:50.218Z"
   },
   {
    "duration": 4,
    "start_time": "2023-08-19T21:07:50.240Z"
   },
   {
    "duration": 36,
    "start_time": "2023-08-19T21:07:50.245Z"
   },
   {
    "duration": 414,
    "start_time": "2023-08-19T21:07:50.283Z"
   },
   {
    "duration": 14,
    "start_time": "2023-08-19T21:07:50.699Z"
   },
   {
    "duration": 30,
    "start_time": "2023-08-19T21:07:50.715Z"
   },
   {
    "duration": 34,
    "start_time": "2023-08-19T21:07:50.747Z"
   },
   {
    "duration": 61,
    "start_time": "2023-08-19T21:07:50.783Z"
   },
   {
    "duration": 1039,
    "start_time": "2023-08-19T21:07:50.846Z"
   },
   {
    "duration": 23,
    "start_time": "2023-08-19T21:07:51.891Z"
   },
   {
    "duration": 74,
    "start_time": "2023-08-19T21:07:51.916Z"
   },
   {
    "duration": 23,
    "start_time": "2023-08-19T21:07:51.992Z"
   },
   {
    "duration": 14,
    "start_time": "2023-08-19T21:07:52.017Z"
   },
   {
    "duration": 370,
    "start_time": "2023-08-19T21:07:52.033Z"
   },
   {
    "duration": 15,
    "start_time": "2023-08-19T21:07:52.405Z"
   },
   {
    "duration": 636,
    "start_time": "2023-08-19T21:07:52.422Z"
   },
   {
    "duration": 27,
    "start_time": "2023-08-19T21:07:53.060Z"
   },
   {
    "duration": 230,
    "start_time": "2023-08-19T21:07:53.089Z"
   },
   {
    "duration": 4,
    "start_time": "2023-08-19T21:07:53.321Z"
   },
   {
    "duration": 8,
    "start_time": "2023-08-19T21:07:53.327Z"
   },
   {
    "duration": 23,
    "start_time": "2023-08-19T21:07:53.337Z"
   },
   {
    "duration": 17,
    "start_time": "2023-08-19T21:07:53.362Z"
   },
   {
    "duration": 52,
    "start_time": "2023-08-19T21:07:53.381Z"
   },
   {
    "duration": 166,
    "start_time": "2023-08-19T21:07:53.435Z"
   },
   {
    "duration": 0,
    "start_time": "2023-08-19T21:07:53.603Z"
   },
   {
    "duration": 0,
    "start_time": "2023-08-19T21:07:53.603Z"
   },
   {
    "duration": 0,
    "start_time": "2023-08-19T21:07:53.604Z"
   },
   {
    "duration": 5,
    "start_time": "2023-08-19T21:08:41.542Z"
   },
   {
    "duration": 43,
    "start_time": "2023-08-19T21:08:50.900Z"
   },
   {
    "duration": 6,
    "start_time": "2023-08-19T21:08:55.339Z"
   },
   {
    "duration": 5,
    "start_time": "2023-08-19T21:08:56.660Z"
   },
   {
    "duration": 24,
    "start_time": "2023-08-19T21:08:57.989Z"
   },
   {
    "duration": 68,
    "start_time": "2023-08-19T21:13:20.896Z"
   },
   {
    "duration": 4,
    "start_time": "2023-08-19T21:14:10.229Z"
   },
   {
    "duration": 49,
    "start_time": "2023-08-19T21:14:22.809Z"
   },
   {
    "duration": 15,
    "start_time": "2023-08-19T21:14:28.766Z"
   },
   {
    "duration": 4,
    "start_time": "2023-08-19T21:14:29.851Z"
   },
   {
    "duration": 25,
    "start_time": "2023-08-19T21:14:30.595Z"
   },
   {
    "duration": 7,
    "start_time": "2023-08-19T21:15:34.761Z"
   },
   {
    "duration": 27,
    "start_time": "2023-08-19T21:27:55.146Z"
   },
   {
    "duration": 4,
    "start_time": "2023-08-19T21:45:27.617Z"
   },
   {
    "duration": 36,
    "start_time": "2023-08-19T21:45:41.403Z"
   },
   {
    "duration": 49,
    "start_time": "2023-08-19T21:45:55.061Z"
   },
   {
    "duration": 6,
    "start_time": "2023-08-19T21:47:24.062Z"
   },
   {
    "duration": 307,
    "start_time": "2023-08-19T21:47:24.079Z"
   },
   {
    "duration": 10,
    "start_time": "2023-08-19T21:47:24.389Z"
   },
   {
    "duration": 140,
    "start_time": "2023-08-19T21:47:24.401Z"
   },
   {
    "duration": 7,
    "start_time": "2023-08-19T21:47:24.544Z"
   },
   {
    "duration": 30,
    "start_time": "2023-08-19T21:47:24.553Z"
   },
   {
    "duration": 29,
    "start_time": "2023-08-19T21:47:24.585Z"
   },
   {
    "duration": 101,
    "start_time": "2023-08-19T21:47:24.616Z"
   },
   {
    "duration": 15,
    "start_time": "2023-08-19T21:47:24.718Z"
   },
   {
    "duration": 58,
    "start_time": "2023-08-19T21:47:24.735Z"
   },
   {
    "duration": 5,
    "start_time": "2023-08-19T21:47:24.796Z"
   },
   {
    "duration": 23,
    "start_time": "2023-08-19T21:47:24.803Z"
   },
   {
    "duration": 41,
    "start_time": "2023-08-19T21:47:24.828Z"
   },
   {
    "duration": 39,
    "start_time": "2023-08-19T21:47:24.872Z"
   },
   {
    "duration": 7,
    "start_time": "2023-08-19T21:47:24.913Z"
   },
   {
    "duration": 14,
    "start_time": "2023-08-19T21:47:24.921Z"
   },
   {
    "duration": 6,
    "start_time": "2023-08-19T21:47:24.937Z"
   },
   {
    "duration": 31,
    "start_time": "2023-08-19T21:47:24.945Z"
   },
   {
    "duration": 24,
    "start_time": "2023-08-19T21:47:24.978Z"
   },
   {
    "duration": 96,
    "start_time": "2023-08-19T21:47:25.004Z"
   },
   {
    "duration": 17,
    "start_time": "2023-08-19T21:47:25.102Z"
   },
   {
    "duration": 28,
    "start_time": "2023-08-19T21:47:25.122Z"
   },
   {
    "duration": 10,
    "start_time": "2023-08-19T21:47:25.152Z"
   },
   {
    "duration": 54,
    "start_time": "2023-08-19T21:47:25.163Z"
   },
   {
    "duration": 850,
    "start_time": "2023-08-19T21:47:25.219Z"
   },
   {
    "duration": 17,
    "start_time": "2023-08-19T21:47:26.071Z"
   },
   {
    "duration": 3,
    "start_time": "2023-08-19T21:47:26.089Z"
   },
   {
    "duration": 760,
    "start_time": "2023-08-19T21:47:26.093Z"
   },
   {
    "duration": 34,
    "start_time": "2023-08-19T21:47:26.858Z"
   },
   {
    "duration": 20,
    "start_time": "2023-08-19T21:47:26.894Z"
   },
   {
    "duration": 55,
    "start_time": "2023-08-19T21:47:26.917Z"
   },
   {
    "duration": 126,
    "start_time": "2023-08-19T21:47:26.974Z"
   },
   {
    "duration": 30,
    "start_time": "2023-08-19T21:47:27.102Z"
   },
   {
    "duration": 76,
    "start_time": "2023-08-19T21:47:27.134Z"
   },
   {
    "duration": 20,
    "start_time": "2023-08-19T21:47:27.213Z"
   },
   {
    "duration": 29,
    "start_time": "2023-08-19T21:47:27.235Z"
   },
   {
    "duration": 48,
    "start_time": "2023-08-19T21:47:27.266Z"
   },
   {
    "duration": 15,
    "start_time": "2023-08-19T21:47:27.316Z"
   },
   {
    "duration": 1331,
    "start_time": "2023-08-19T21:47:27.333Z"
   },
   {
    "duration": 1679,
    "start_time": "2023-08-19T21:47:28.666Z"
   },
   {
    "duration": 8,
    "start_time": "2023-08-19T21:47:30.348Z"
   },
   {
    "duration": 151,
    "start_time": "2023-08-19T21:47:30.369Z"
   },
   {
    "duration": 82,
    "start_time": "2023-08-19T21:47:30.521Z"
   },
   {
    "duration": 276,
    "start_time": "2023-08-19T21:47:30.605Z"
   },
   {
    "duration": 358,
    "start_time": "2023-08-19T21:47:30.883Z"
   },
   {
    "duration": 637,
    "start_time": "2023-08-19T21:47:31.244Z"
   },
   {
    "duration": 125,
    "start_time": "2023-08-19T21:47:31.883Z"
   },
   {
    "duration": 6,
    "start_time": "2023-08-19T21:47:32.011Z"
   },
   {
    "duration": 39,
    "start_time": "2023-08-19T21:47:32.018Z"
   },
   {
    "duration": 2311,
    "start_time": "2023-08-19T21:47:32.059Z"
   },
   {
    "duration": 4,
    "start_time": "2023-08-19T21:47:34.372Z"
   },
   {
    "duration": 1499,
    "start_time": "2023-08-19T21:47:34.383Z"
   },
   {
    "duration": 16,
    "start_time": "2023-08-19T21:47:35.884Z"
   },
   {
    "duration": 18,
    "start_time": "2023-08-19T21:47:35.901Z"
   },
   {
    "duration": 151,
    "start_time": "2023-08-19T21:47:35.921Z"
   },
   {
    "duration": 16,
    "start_time": "2023-08-19T21:47:36.074Z"
   },
   {
    "duration": 117,
    "start_time": "2023-08-19T21:47:36.092Z"
   },
   {
    "duration": 9,
    "start_time": "2023-08-19T21:47:36.211Z"
   },
   {
    "duration": 371,
    "start_time": "2023-08-19T21:47:36.221Z"
   },
   {
    "duration": 265,
    "start_time": "2023-08-19T21:47:36.594Z"
   },
   {
    "duration": 26,
    "start_time": "2023-08-19T21:47:36.861Z"
   },
   {
    "duration": 347,
    "start_time": "2023-08-19T21:47:36.889Z"
   },
   {
    "duration": 125,
    "start_time": "2023-08-19T21:47:37.238Z"
   },
   {
    "duration": 13,
    "start_time": "2023-08-19T21:47:37.366Z"
   },
   {
    "duration": 22,
    "start_time": "2023-08-19T21:47:37.385Z"
   },
   {
    "duration": 16,
    "start_time": "2023-08-19T21:47:37.409Z"
   },
   {
    "duration": 50,
    "start_time": "2023-08-19T21:47:37.428Z"
   },
   {
    "duration": 175,
    "start_time": "2023-08-19T21:47:37.480Z"
   },
   {
    "duration": 22,
    "start_time": "2023-08-19T21:47:37.656Z"
   },
   {
    "duration": 19,
    "start_time": "2023-08-19T21:47:37.679Z"
   },
   {
    "duration": 29,
    "start_time": "2023-08-19T21:47:37.699Z"
   },
   {
    "duration": 9,
    "start_time": "2023-08-19T21:47:37.729Z"
   },
   {
    "duration": 60,
    "start_time": "2023-08-19T21:47:37.740Z"
   },
   {
    "duration": 5,
    "start_time": "2023-08-19T21:47:37.801Z"
   },
   {
    "duration": 6,
    "start_time": "2023-08-19T21:47:43.946Z"
   },
   {
    "duration": 39,
    "start_time": "2023-08-19T21:47:44.657Z"
   },
   {
    "duration": 25,
    "start_time": "2023-08-19T21:52:08.119Z"
   },
   {
    "duration": 18,
    "start_time": "2023-08-19T21:52:09.396Z"
   },
   {
    "duration": 5,
    "start_time": "2023-08-19T21:52:12.331Z"
   },
   {
    "duration": 39,
    "start_time": "2023-08-19T21:52:13.644Z"
   },
   {
    "duration": 9,
    "start_time": "2023-08-19T21:52:14.953Z"
   },
   {
    "duration": 325,
    "start_time": "2023-08-19T21:52:17.526Z"
   },
   {
    "duration": 5,
    "start_time": "2023-08-19T21:53:15.746Z"
   },
   {
    "duration": 39,
    "start_time": "2023-08-19T21:53:16.714Z"
   },
   {
    "duration": 9,
    "start_time": "2023-08-19T21:53:21.395Z"
   },
   {
    "duration": 347,
    "start_time": "2023-08-19T21:53:22.899Z"
   },
   {
    "duration": 32,
    "start_time": "2023-08-19T21:53:56.695Z"
   },
   {
    "duration": 4,
    "start_time": "2023-08-19T21:54:17.121Z"
   },
   {
    "duration": 221,
    "start_time": "2023-08-19T21:54:17.130Z"
   },
   {
    "duration": 8,
    "start_time": "2023-08-19T21:54:17.368Z"
   },
   {
    "duration": 58,
    "start_time": "2023-08-19T21:54:17.378Z"
   },
   {
    "duration": 8,
    "start_time": "2023-08-19T21:54:17.438Z"
   },
   {
    "duration": 27,
    "start_time": "2023-08-19T21:54:17.447Z"
   },
   {
    "duration": 32,
    "start_time": "2023-08-19T21:54:17.476Z"
   },
   {
    "duration": 98,
    "start_time": "2023-08-19T21:54:17.509Z"
   },
   {
    "duration": 15,
    "start_time": "2023-08-19T21:54:17.609Z"
   },
   {
    "duration": 50,
    "start_time": "2023-08-19T21:54:17.626Z"
   },
   {
    "duration": 5,
    "start_time": "2023-08-19T21:54:17.679Z"
   },
   {
    "duration": 10,
    "start_time": "2023-08-19T21:54:17.686Z"
   },
   {
    "duration": 33,
    "start_time": "2023-08-19T21:54:17.697Z"
   },
   {
    "duration": 47,
    "start_time": "2023-08-19T21:54:17.732Z"
   },
   {
    "duration": 7,
    "start_time": "2023-08-19T21:54:17.781Z"
   },
   {
    "duration": 27,
    "start_time": "2023-08-19T21:54:17.790Z"
   },
   {
    "duration": 21,
    "start_time": "2023-08-19T21:54:17.819Z"
   },
   {
    "duration": 34,
    "start_time": "2023-08-19T21:54:17.842Z"
   },
   {
    "duration": 12,
    "start_time": "2023-08-19T21:54:17.879Z"
   },
   {
    "duration": 86,
    "start_time": "2023-08-19T21:54:17.893Z"
   },
   {
    "duration": 7,
    "start_time": "2023-08-19T21:54:17.981Z"
   },
   {
    "duration": 26,
    "start_time": "2023-08-19T21:54:17.990Z"
   },
   {
    "duration": 22,
    "start_time": "2023-08-19T21:54:18.019Z"
   },
   {
    "duration": 61,
    "start_time": "2023-08-19T21:54:18.042Z"
   },
   {
    "duration": 862,
    "start_time": "2023-08-19T21:54:18.104Z"
   },
   {
    "duration": 15,
    "start_time": "2023-08-19T21:54:18.968Z"
   },
   {
    "duration": 4,
    "start_time": "2023-08-19T21:54:18.985Z"
   },
   {
    "duration": 831,
    "start_time": "2023-08-19T21:54:18.991Z"
   },
   {
    "duration": 25,
    "start_time": "2023-08-19T21:54:19.827Z"
   },
   {
    "duration": 29,
    "start_time": "2023-08-19T21:54:19.854Z"
   },
   {
    "duration": 31,
    "start_time": "2023-08-19T21:54:19.885Z"
   },
   {
    "duration": 140,
    "start_time": "2023-08-19T21:54:19.917Z"
   },
   {
    "duration": 49,
    "start_time": "2023-08-19T21:54:20.059Z"
   },
   {
    "duration": 52,
    "start_time": "2023-08-19T21:54:20.110Z"
   },
   {
    "duration": 24,
    "start_time": "2023-08-19T21:54:20.164Z"
   },
   {
    "duration": 43,
    "start_time": "2023-08-19T21:54:20.190Z"
   },
   {
    "duration": 104,
    "start_time": "2023-08-19T21:54:20.235Z"
   },
   {
    "duration": 55,
    "start_time": "2023-08-19T21:54:20.341Z"
   },
   {
    "duration": 1188,
    "start_time": "2023-08-19T21:54:20.398Z"
   },
   {
    "duration": 1546,
    "start_time": "2023-08-19T21:54:21.588Z"
   },
   {
    "duration": 6,
    "start_time": "2023-08-19T21:54:23.136Z"
   },
   {
    "duration": 32,
    "start_time": "2023-08-19T21:54:23.144Z"
   },
   {
    "duration": 156,
    "start_time": "2023-08-19T21:54:23.178Z"
   },
   {
    "duration": 212,
    "start_time": "2023-08-19T21:54:23.336Z"
   },
   {
    "duration": 300,
    "start_time": "2023-08-19T21:54:23.550Z"
   },
   {
    "duration": 565,
    "start_time": "2023-08-19T21:54:23.852Z"
   },
   {
    "duration": 115,
    "start_time": "2023-08-19T21:54:24.419Z"
   },
   {
    "duration": 6,
    "start_time": "2023-08-19T21:54:24.535Z"
   },
   {
    "duration": 51,
    "start_time": "2023-08-19T21:54:24.542Z"
   },
   {
    "duration": 2046,
    "start_time": "2023-08-19T21:54:24.595Z"
   },
   {
    "duration": 2,
    "start_time": "2023-08-19T21:54:26.643Z"
   },
   {
    "duration": 1390,
    "start_time": "2023-08-19T21:54:26.647Z"
   },
   {
    "duration": 29,
    "start_time": "2023-08-19T21:54:28.039Z"
   },
   {
    "duration": 5,
    "start_time": "2023-08-19T21:54:28.070Z"
   },
   {
    "duration": 149,
    "start_time": "2023-08-19T21:54:28.077Z"
   },
   {
    "duration": 12,
    "start_time": "2023-08-19T21:54:28.228Z"
   },
   {
    "duration": 124,
    "start_time": "2023-08-19T21:54:28.243Z"
   },
   {
    "duration": 8,
    "start_time": "2023-08-19T21:54:28.368Z"
   },
   {
    "duration": 306,
    "start_time": "2023-08-19T21:54:28.378Z"
   },
   {
    "duration": 333,
    "start_time": "2023-08-19T21:54:28.686Z"
   },
   {
    "duration": 10,
    "start_time": "2023-08-19T21:54:29.021Z"
   },
   {
    "duration": 218,
    "start_time": "2023-08-19T21:54:29.033Z"
   },
   {
    "duration": 216,
    "start_time": "2023-08-19T21:54:29.253Z"
   },
   {
    "duration": 5,
    "start_time": "2023-08-19T21:54:29.471Z"
   },
   {
    "duration": 24,
    "start_time": "2023-08-19T21:54:29.478Z"
   },
   {
    "duration": 9,
    "start_time": "2023-08-19T21:54:29.505Z"
   },
   {
    "duration": 34,
    "start_time": "2023-08-19T21:54:29.515Z"
   },
   {
    "duration": 154,
    "start_time": "2023-08-19T21:54:29.550Z"
   },
   {
    "duration": 11,
    "start_time": "2023-08-19T21:54:29.705Z"
   },
   {
    "duration": 23,
    "start_time": "2023-08-19T21:54:29.718Z"
   },
   {
    "duration": 44,
    "start_time": "2023-08-19T21:54:29.743Z"
   },
   {
    "duration": 27,
    "start_time": "2023-08-19T21:54:29.790Z"
   },
   {
    "duration": 18,
    "start_time": "2023-08-19T21:54:29.819Z"
   },
   {
    "duration": 28,
    "start_time": "2023-08-19T21:54:29.839Z"
   },
   {
    "duration": 38,
    "start_time": "2023-08-19T21:54:29.869Z"
   },
   {
    "duration": 8,
    "start_time": "2023-08-19T21:54:29.909Z"
   },
   {
    "duration": 362,
    "start_time": "2023-08-19T21:54:29.918Z"
   },
   {
    "duration": 14,
    "start_time": "2023-08-19T21:54:30.281Z"
   },
   {
    "duration": 48,
    "start_time": "2023-08-19T21:54:30.296Z"
   },
   {
    "duration": 67,
    "start_time": "2023-08-19T21:54:30.346Z"
   },
   {
    "duration": 81,
    "start_time": "2023-08-19T21:54:30.415Z"
   },
   {
    "duration": 796,
    "start_time": "2023-08-19T21:54:30.498Z"
   },
   {
    "duration": 27,
    "start_time": "2023-08-19T21:54:31.300Z"
   },
   {
    "duration": 56,
    "start_time": "2023-08-19T21:54:31.329Z"
   },
   {
    "duration": 121,
    "start_time": "2023-08-19T21:54:31.387Z"
   },
   {
    "duration": 25,
    "start_time": "2023-08-19T21:54:31.510Z"
   },
   {
    "duration": 380,
    "start_time": "2023-08-19T21:54:31.537Z"
   },
   {
    "duration": 15,
    "start_time": "2023-08-19T21:54:31.919Z"
   },
   {
    "duration": 655,
    "start_time": "2023-08-19T21:54:31.936Z"
   },
   {
    "duration": 11,
    "start_time": "2023-08-19T21:54:32.593Z"
   },
   {
    "duration": 127,
    "start_time": "2023-08-19T21:54:32.606Z"
   },
   {
    "duration": 4,
    "start_time": "2023-08-19T21:54:32.735Z"
   },
   {
    "duration": 21,
    "start_time": "2023-08-19T21:54:32.741Z"
   },
   {
    "duration": 14,
    "start_time": "2023-08-19T21:54:32.763Z"
   },
   {
    "duration": 11,
    "start_time": "2023-08-19T21:54:32.779Z"
   },
   {
    "duration": 68,
    "start_time": "2023-08-19T21:54:32.792Z"
   },
   {
    "duration": 39,
    "start_time": "2023-08-19T22:02:07.224Z"
   },
   {
    "duration": 33,
    "start_time": "2023-08-19T22:02:08.118Z"
   },
   {
    "duration": 5,
    "start_time": "2023-08-19T22:02:09.557Z"
   },
   {
    "duration": 31,
    "start_time": "2023-08-19T22:02:10.778Z"
   },
   {
    "duration": 5,
    "start_time": "2023-08-19T22:02:47.061Z"
   },
   {
    "duration": 30,
    "start_time": "2023-08-19T22:02:48.512Z"
   },
   {
    "duration": 32,
    "start_time": "2023-08-19T22:02:58.446Z"
   },
   {
    "duration": 1215,
    "start_time": "2023-08-19T22:03:53.894Z"
   },
   {
    "duration": 292,
    "start_time": "2023-08-19T22:03:55.112Z"
   },
   {
    "duration": 11,
    "start_time": "2023-08-19T22:03:55.406Z"
   },
   {
    "duration": 112,
    "start_time": "2023-08-19T22:03:55.419Z"
   },
   {
    "duration": 7,
    "start_time": "2023-08-19T22:03:55.533Z"
   },
   {
    "duration": 23,
    "start_time": "2023-08-19T22:03:55.542Z"
   },
   {
    "duration": 12,
    "start_time": "2023-08-19T22:03:55.567Z"
   },
   {
    "duration": 86,
    "start_time": "2023-08-19T22:03:55.581Z"
   },
   {
    "duration": 14,
    "start_time": "2023-08-19T22:03:55.669Z"
   },
   {
    "duration": 26,
    "start_time": "2023-08-19T22:03:55.686Z"
   },
   {
    "duration": 11,
    "start_time": "2023-08-19T22:03:55.714Z"
   },
   {
    "duration": 6,
    "start_time": "2023-08-19T22:03:55.727Z"
   },
   {
    "duration": 43,
    "start_time": "2023-08-19T22:03:55.735Z"
   },
   {
    "duration": 24,
    "start_time": "2023-08-19T22:03:55.780Z"
   },
   {
    "duration": 6,
    "start_time": "2023-08-19T22:03:55.806Z"
   },
   {
    "duration": 11,
    "start_time": "2023-08-19T22:03:55.814Z"
   },
   {
    "duration": 9,
    "start_time": "2023-08-19T22:03:55.826Z"
   },
   {
    "duration": 37,
    "start_time": "2023-08-19T22:03:55.836Z"
   },
   {
    "duration": 7,
    "start_time": "2023-08-19T22:03:55.875Z"
   },
   {
    "duration": 94,
    "start_time": "2023-08-19T22:03:55.885Z"
   },
   {
    "duration": 7,
    "start_time": "2023-08-19T22:03:55.982Z"
   },
   {
    "duration": 12,
    "start_time": "2023-08-19T22:03:55.990Z"
   },
   {
    "duration": 12,
    "start_time": "2023-08-19T22:03:56.004Z"
   },
   {
    "duration": 57,
    "start_time": "2023-08-19T22:03:56.018Z"
   },
   {
    "duration": 769,
    "start_time": "2023-08-19T22:03:56.077Z"
   },
   {
    "duration": 29,
    "start_time": "2023-08-19T22:03:56.848Z"
   },
   {
    "duration": 4,
    "start_time": "2023-08-19T22:03:56.879Z"
   },
   {
    "duration": 742,
    "start_time": "2023-08-19T22:03:56.889Z"
   },
   {
    "duration": 36,
    "start_time": "2023-08-19T22:03:57.632Z"
   },
   {
    "duration": 22,
    "start_time": "2023-08-19T22:03:57.670Z"
   },
   {
    "duration": 46,
    "start_time": "2023-08-19T22:03:57.694Z"
   },
   {
    "duration": 139,
    "start_time": "2023-08-19T22:03:57.742Z"
   },
   {
    "duration": 101,
    "start_time": "2023-08-19T22:03:57.883Z"
   },
   {
    "duration": 55,
    "start_time": "2023-08-19T22:03:57.985Z"
   },
   {
    "duration": 5,
    "start_time": "2023-08-19T22:03:58.041Z"
   },
   {
    "duration": 19,
    "start_time": "2023-08-19T22:03:58.066Z"
   },
   {
    "duration": 53,
    "start_time": "2023-08-19T22:03:58.087Z"
   },
   {
    "duration": 35,
    "start_time": "2023-08-19T22:03:58.142Z"
   },
   {
    "duration": 1203,
    "start_time": "2023-08-19T22:03:58.178Z"
   },
   {
    "duration": 1533,
    "start_time": "2023-08-19T22:03:59.383Z"
   },
   {
    "duration": 6,
    "start_time": "2023-08-19T22:04:00.918Z"
   },
   {
    "duration": 93,
    "start_time": "2023-08-19T22:04:00.926Z"
   },
   {
    "duration": 93,
    "start_time": "2023-08-19T22:04:01.021Z"
   },
   {
    "duration": 226,
    "start_time": "2023-08-19T22:04:01.116Z"
   },
   {
    "duration": 299,
    "start_time": "2023-08-19T22:04:01.343Z"
   },
   {
    "duration": 543,
    "start_time": "2023-08-19T22:04:01.644Z"
   },
   {
    "duration": 122,
    "start_time": "2023-08-19T22:04:02.189Z"
   },
   {
    "duration": 5,
    "start_time": "2023-08-19T22:04:02.313Z"
   },
   {
    "duration": 79,
    "start_time": "2023-08-19T22:04:02.320Z"
   },
   {
    "duration": 2117,
    "start_time": "2023-08-19T22:04:02.402Z"
   },
   {
    "duration": 4,
    "start_time": "2023-08-19T22:04:04.521Z"
   },
   {
    "duration": 1427,
    "start_time": "2023-08-19T22:04:04.526Z"
   },
   {
    "duration": 19,
    "start_time": "2023-08-19T22:04:05.955Z"
   },
   {
    "duration": 43,
    "start_time": "2023-08-19T22:04:05.977Z"
   },
   {
    "duration": 145,
    "start_time": "2023-08-19T22:04:06.022Z"
   },
   {
    "duration": 12,
    "start_time": "2023-08-19T22:04:06.169Z"
   },
   {
    "duration": 137,
    "start_time": "2023-08-19T22:04:06.182Z"
   },
   {
    "duration": 8,
    "start_time": "2023-08-19T22:04:06.321Z"
   },
   {
    "duration": 319,
    "start_time": "2023-08-19T22:04:06.331Z"
   },
   {
    "duration": 227,
    "start_time": "2023-08-19T22:04:06.651Z"
   },
   {
    "duration": 14,
    "start_time": "2023-08-19T22:04:06.881Z"
   },
   {
    "duration": 297,
    "start_time": "2023-08-19T22:04:06.897Z"
   },
   {
    "duration": 119,
    "start_time": "2023-08-19T22:04:07.196Z"
   },
   {
    "duration": 5,
    "start_time": "2023-08-19T22:04:07.316Z"
   },
   {
    "duration": 16,
    "start_time": "2023-08-19T22:04:07.323Z"
   },
   {
    "duration": 13,
    "start_time": "2023-08-19T22:04:07.341Z"
   },
   {
    "duration": 34,
    "start_time": "2023-08-19T22:04:07.356Z"
   },
   {
    "duration": 163,
    "start_time": "2023-08-19T22:04:07.391Z"
   },
   {
    "duration": 15,
    "start_time": "2023-08-19T22:04:07.555Z"
   },
   {
    "duration": 28,
    "start_time": "2023-08-19T22:04:07.571Z"
   },
   {
    "duration": 53,
    "start_time": "2023-08-19T22:04:07.601Z"
   },
   {
    "duration": 27,
    "start_time": "2023-08-19T22:04:07.656Z"
   },
   {
    "duration": 18,
    "start_time": "2023-08-19T22:04:07.684Z"
   },
   {
    "duration": 5,
    "start_time": "2023-08-19T22:04:07.704Z"
   },
   {
    "duration": 65,
    "start_time": "2023-08-19T22:04:07.710Z"
   },
   {
    "duration": 8,
    "start_time": "2023-08-19T22:04:07.776Z"
   },
   {
    "duration": 424,
    "start_time": "2023-08-19T22:04:07.786Z"
   },
   {
    "duration": 12,
    "start_time": "2023-08-19T22:04:08.212Z"
   },
   {
    "duration": 20,
    "start_time": "2023-08-19T22:04:08.225Z"
   },
   {
    "duration": 16,
    "start_time": "2023-08-19T22:04:08.247Z"
   },
   {
    "duration": 37,
    "start_time": "2023-08-19T22:04:08.267Z"
   },
   {
    "duration": 800,
    "start_time": "2023-08-19T22:04:08.309Z"
   },
   {
    "duration": 23,
    "start_time": "2023-08-19T22:04:09.111Z"
   },
   {
    "duration": 50,
    "start_time": "2023-08-19T22:04:09.136Z"
   },
   {
    "duration": 21,
    "start_time": "2023-08-19T22:04:09.188Z"
   },
   {
    "duration": 10,
    "start_time": "2023-08-19T22:04:09.211Z"
   },
   {
    "duration": 387,
    "start_time": "2023-08-19T22:04:09.223Z"
   },
   {
    "duration": 17,
    "start_time": "2023-08-19T22:04:09.613Z"
   },
   {
    "duration": 632,
    "start_time": "2023-08-19T22:04:09.632Z"
   },
   {
    "duration": 11,
    "start_time": "2023-08-19T22:04:10.267Z"
   },
   {
    "duration": 214,
    "start_time": "2023-08-19T22:04:10.280Z"
   },
   {
    "duration": 5,
    "start_time": "2023-08-19T22:04:10.495Z"
   },
   {
    "duration": 11,
    "start_time": "2023-08-19T22:04:10.502Z"
   },
   {
    "duration": 27,
    "start_time": "2023-08-19T22:04:10.514Z"
   },
   {
    "duration": 7,
    "start_time": "2023-08-19T22:04:10.543Z"
   },
   {
    "duration": 77,
    "start_time": "2023-08-19T22:04:10.551Z"
   },
   {
    "duration": 85,
    "start_time": "2023-08-19T22:04:10.629Z"
   },
   {
    "duration": 5,
    "start_time": "2023-08-19T22:04:10.715Z"
   },
   {
    "duration": 60,
    "start_time": "2023-08-19T22:04:10.721Z"
   },
   {
    "duration": 4,
    "start_time": "2023-08-19T22:04:10.783Z"
   },
   {
    "duration": 37,
    "start_time": "2023-08-19T22:04:10.789Z"
   },
   {
    "duration": 6,
    "start_time": "2023-08-19T22:05:13.510Z"
   },
   {
    "duration": 29,
    "start_time": "2023-08-19T22:05:30.293Z"
   },
   {
    "duration": 5,
    "start_time": "2023-08-19T22:05:43.838Z"
   },
   {
    "duration": 6,
    "start_time": "2023-08-19T22:20:12.852Z"
   },
   {
    "duration": 1638,
    "start_time": "2023-08-19T22:23:17.832Z"
   },
   {
    "duration": 332,
    "start_time": "2023-08-19T22:26:37.072Z"
   },
   {
    "duration": 1254,
    "start_time": "2023-08-20T20:52:03.547Z"
   },
   {
    "duration": 243,
    "start_time": "2023-08-20T20:52:04.803Z"
   },
   {
    "duration": 11,
    "start_time": "2023-08-20T20:52:05.048Z"
   },
   {
    "duration": 102,
    "start_time": "2023-08-20T20:52:05.061Z"
   },
   {
    "duration": 7,
    "start_time": "2023-08-20T20:52:05.165Z"
   },
   {
    "duration": 13,
    "start_time": "2023-08-20T20:52:05.173Z"
   },
   {
    "duration": 14,
    "start_time": "2023-08-20T20:52:05.188Z"
   },
   {
    "duration": 94,
    "start_time": "2023-08-20T20:52:05.203Z"
   },
   {
    "duration": 13,
    "start_time": "2023-08-20T20:52:05.299Z"
   },
   {
    "duration": 25,
    "start_time": "2023-08-20T20:52:05.314Z"
   },
   {
    "duration": 4,
    "start_time": "2023-08-20T20:52:05.341Z"
   },
   {
    "duration": 43,
    "start_time": "2023-08-20T20:52:05.346Z"
   },
   {
    "duration": 24,
    "start_time": "2023-08-20T20:52:05.392Z"
   },
   {
    "duration": 35,
    "start_time": "2023-08-20T20:52:05.417Z"
   },
   {
    "duration": 6,
    "start_time": "2023-08-20T20:52:05.454Z"
   },
   {
    "duration": 26,
    "start_time": "2023-08-20T20:52:05.461Z"
   },
   {
    "duration": 9,
    "start_time": "2023-08-20T20:52:05.490Z"
   },
   {
    "duration": 13,
    "start_time": "2023-08-20T20:52:05.500Z"
   },
   {
    "duration": 6,
    "start_time": "2023-08-20T20:52:05.515Z"
   },
   {
    "duration": 98,
    "start_time": "2023-08-20T20:52:05.523Z"
   },
   {
    "duration": 7,
    "start_time": "2023-08-20T20:52:05.623Z"
   },
   {
    "duration": 11,
    "start_time": "2023-08-20T20:52:05.631Z"
   },
   {
    "duration": 4,
    "start_time": "2023-08-20T20:52:05.644Z"
   },
   {
    "duration": 71,
    "start_time": "2023-08-20T20:52:05.649Z"
   },
   {
    "duration": 765,
    "start_time": "2023-08-20T20:52:05.722Z"
   },
   {
    "duration": 17,
    "start_time": "2023-08-20T20:52:06.489Z"
   },
   {
    "duration": 3,
    "start_time": "2023-08-20T20:52:06.508Z"
   },
   {
    "duration": 816,
    "start_time": "2023-08-20T20:52:06.517Z"
   },
   {
    "duration": 23,
    "start_time": "2023-08-20T20:52:07.335Z"
   },
   {
    "duration": 29,
    "start_time": "2023-08-20T20:52:07.359Z"
   },
   {
    "duration": 35,
    "start_time": "2023-08-20T20:52:07.390Z"
   },
   {
    "duration": 149,
    "start_time": "2023-08-20T20:52:07.427Z"
   },
   {
    "duration": 85,
    "start_time": "2023-08-20T20:52:07.586Z"
   },
   {
    "duration": 62,
    "start_time": "2023-08-20T20:52:07.673Z"
   },
   {
    "duration": 4,
    "start_time": "2023-08-20T20:52:07.737Z"
   },
   {
    "duration": 18,
    "start_time": "2023-08-20T20:52:07.743Z"
   },
   {
    "duration": 58,
    "start_time": "2023-08-20T20:52:07.783Z"
   },
   {
    "duration": 14,
    "start_time": "2023-08-20T20:52:07.843Z"
   },
   {
    "duration": 1818,
    "start_time": "2023-08-20T20:52:07.859Z"
   },
   {
    "duration": 1567,
    "start_time": "2023-08-20T20:52:09.679Z"
   },
   {
    "duration": 5,
    "start_time": "2023-08-20T20:52:11.248Z"
   },
   {
    "duration": 14,
    "start_time": "2023-08-20T20:52:11.255Z"
   },
   {
    "duration": 38,
    "start_time": "2023-08-20T20:52:11.270Z"
   },
   {
    "duration": 216,
    "start_time": "2023-08-20T20:52:11.309Z"
   },
   {
    "duration": 299,
    "start_time": "2023-08-20T20:52:11.527Z"
   },
   {
    "duration": 530,
    "start_time": "2023-08-20T20:52:11.827Z"
   },
   {
    "duration": 111,
    "start_time": "2023-08-20T20:52:12.358Z"
   },
   {
    "duration": 4,
    "start_time": "2023-08-20T20:52:12.471Z"
   },
   {
    "duration": 48,
    "start_time": "2023-08-20T20:52:12.481Z"
   },
   {
    "duration": 1985,
    "start_time": "2023-08-20T20:52:12.530Z"
   },
   {
    "duration": 2,
    "start_time": "2023-08-20T20:52:14.517Z"
   },
   {
    "duration": 1419,
    "start_time": "2023-08-20T20:52:14.521Z"
   },
   {
    "duration": 14,
    "start_time": "2023-08-20T20:52:15.942Z"
   },
   {
    "duration": 4,
    "start_time": "2023-08-20T20:52:15.958Z"
   },
   {
    "duration": 143,
    "start_time": "2023-08-20T20:52:15.964Z"
   },
   {
    "duration": 11,
    "start_time": "2023-08-20T20:52:16.109Z"
   },
   {
    "duration": 116,
    "start_time": "2023-08-20T20:52:16.122Z"
   },
   {
    "duration": 7,
    "start_time": "2023-08-20T20:52:16.240Z"
   },
   {
    "duration": 309,
    "start_time": "2023-08-20T20:52:16.249Z"
   },
   {
    "duration": 251,
    "start_time": "2023-08-20T20:52:16.559Z"
   },
   {
    "duration": 10,
    "start_time": "2023-08-20T20:52:16.811Z"
   },
   {
    "duration": 323,
    "start_time": "2023-08-20T20:52:16.822Z"
   },
   {
    "duration": 155,
    "start_time": "2023-08-20T20:52:17.147Z"
   },
   {
    "duration": 4,
    "start_time": "2023-08-20T20:52:17.304Z"
   },
   {
    "duration": 87,
    "start_time": "2023-08-20T20:52:17.310Z"
   },
   {
    "duration": 68,
    "start_time": "2023-08-20T20:52:17.399Z"
   },
   {
    "duration": 137,
    "start_time": "2023-08-20T20:52:17.469Z"
   },
   {
    "duration": 188,
    "start_time": "2023-08-20T20:52:17.608Z"
   },
   {
    "duration": 11,
    "start_time": "2023-08-20T20:52:17.797Z"
   },
   {
    "duration": 13,
    "start_time": "2023-08-20T20:52:17.810Z"
   },
   {
    "duration": 26,
    "start_time": "2023-08-20T20:52:17.825Z"
   },
   {
    "duration": 52,
    "start_time": "2023-08-20T20:52:17.853Z"
   },
   {
    "duration": 14,
    "start_time": "2023-08-20T20:52:17.907Z"
   },
   {
    "duration": 6,
    "start_time": "2023-08-20T20:52:17.922Z"
   },
   {
    "duration": 53,
    "start_time": "2023-08-20T20:52:17.930Z"
   },
   {
    "duration": 11,
    "start_time": "2023-08-20T20:52:17.988Z"
   },
   {
    "duration": 407,
    "start_time": "2023-08-20T20:52:18.000Z"
   },
   {
    "duration": 11,
    "start_time": "2023-08-20T20:52:18.409Z"
   },
   {
    "duration": 13,
    "start_time": "2023-08-20T20:52:18.422Z"
   },
   {
    "duration": 5,
    "start_time": "2023-08-20T20:52:18.436Z"
   },
   {
    "duration": 55,
    "start_time": "2023-08-20T20:52:18.442Z"
   },
   {
    "duration": 795,
    "start_time": "2023-08-20T20:52:18.503Z"
   },
   {
    "duration": 21,
    "start_time": "2023-08-20T20:52:19.300Z"
   },
   {
    "duration": 40,
    "start_time": "2023-08-20T20:52:19.323Z"
   },
   {
    "duration": 25,
    "start_time": "2023-08-20T20:52:19.382Z"
   },
   {
    "duration": 6,
    "start_time": "2023-08-20T20:52:19.409Z"
   },
   {
    "duration": 360,
    "start_time": "2023-08-20T20:52:19.416Z"
   },
   {
    "duration": 22,
    "start_time": "2023-08-20T20:52:19.780Z"
   },
   {
    "duration": 573,
    "start_time": "2023-08-20T20:52:19.804Z"
   },
   {
    "duration": 18,
    "start_time": "2023-08-20T20:52:20.379Z"
   },
   {
    "duration": 203,
    "start_time": "2023-08-20T20:52:20.398Z"
   },
   {
    "duration": 4,
    "start_time": "2023-08-20T20:52:20.602Z"
   },
   {
    "duration": 11,
    "start_time": "2023-08-20T20:52:20.608Z"
   },
   {
    "duration": 13,
    "start_time": "2023-08-20T20:52:20.620Z"
   },
   {
    "duration": 5,
    "start_time": "2023-08-20T20:52:20.635Z"
   },
   {
    "duration": 74,
    "start_time": "2023-08-20T20:52:20.641Z"
   },
   {
    "duration": 83,
    "start_time": "2023-08-20T20:52:20.717Z"
   },
   {
    "duration": 4,
    "start_time": "2023-08-20T20:52:20.801Z"
   },
   {
    "duration": 7,
    "start_time": "2023-08-20T20:52:20.807Z"
   },
   {
    "duration": 24,
    "start_time": "2023-08-20T20:52:20.815Z"
   },
   {
    "duration": 4,
    "start_time": "2023-08-20T20:52:20.841Z"
   },
   {
    "duration": 26,
    "start_time": "2023-08-20T20:53:38.653Z"
   },
   {
    "duration": 9,
    "start_time": "2023-08-20T20:53:49.607Z"
   },
   {
    "duration": 136,
    "start_time": "2023-08-20T20:54:07.875Z"
   },
   {
    "duration": 12,
    "start_time": "2023-08-20T20:54:21.841Z"
   },
   {
    "duration": 5,
    "start_time": "2023-08-20T20:59:43.040Z"
   },
   {
    "duration": 1576,
    "start_time": "2023-08-20T22:10:30.137Z"
   },
   {
    "duration": 204,
    "start_time": "2023-08-20T22:10:31.716Z"
   },
   {
    "duration": 16,
    "start_time": "2023-08-20T22:10:31.923Z"
   },
   {
    "duration": 137,
    "start_time": "2023-08-20T22:10:31.942Z"
   },
   {
    "duration": 12,
    "start_time": "2023-08-20T22:10:32.081Z"
   },
   {
    "duration": 23,
    "start_time": "2023-08-20T22:10:32.096Z"
   },
   {
    "duration": 13,
    "start_time": "2023-08-20T22:10:32.121Z"
   },
   {
    "duration": 113,
    "start_time": "2023-08-20T22:10:32.135Z"
   },
   {
    "duration": 20,
    "start_time": "2023-08-20T22:10:32.250Z"
   },
   {
    "duration": 42,
    "start_time": "2023-08-20T22:10:32.273Z"
   },
   {
    "duration": 14,
    "start_time": "2023-08-20T22:10:32.317Z"
   },
   {
    "duration": 58,
    "start_time": "2023-08-20T22:10:32.333Z"
   },
   {
    "duration": 41,
    "start_time": "2023-08-20T22:10:32.393Z"
   },
   {
    "duration": 53,
    "start_time": "2023-08-20T22:10:32.436Z"
   },
   {
    "duration": 12,
    "start_time": "2023-08-20T22:10:32.492Z"
   },
   {
    "duration": 19,
    "start_time": "2023-08-20T22:10:32.505Z"
   },
   {
    "duration": 12,
    "start_time": "2023-08-20T22:10:32.526Z"
   },
   {
    "duration": 16,
    "start_time": "2023-08-20T22:10:32.539Z"
   },
   {
    "duration": 15,
    "start_time": "2023-08-20T22:10:32.556Z"
   },
   {
    "duration": 97,
    "start_time": "2023-08-20T22:10:32.572Z"
   },
   {
    "duration": 11,
    "start_time": "2023-08-20T22:10:32.680Z"
   },
   {
    "duration": 19,
    "start_time": "2023-08-20T22:10:32.693Z"
   },
   {
    "duration": 15,
    "start_time": "2023-08-20T22:10:32.714Z"
   },
   {
    "duration": 64,
    "start_time": "2023-08-20T22:10:32.730Z"
   },
   {
    "duration": 819,
    "start_time": "2023-08-20T22:10:32.796Z"
   },
   {
    "duration": 16,
    "start_time": "2023-08-20T22:10:33.617Z"
   },
   {
    "duration": 2,
    "start_time": "2023-08-20T22:10:33.635Z"
   },
   {
    "duration": 896,
    "start_time": "2023-08-20T22:10:33.642Z"
   },
   {
    "duration": 40,
    "start_time": "2023-08-20T22:10:34.540Z"
   },
   {
    "duration": 33,
    "start_time": "2023-08-20T22:10:34.584Z"
   },
   {
    "duration": 52,
    "start_time": "2023-08-20T22:10:34.620Z"
   },
   {
    "duration": 153,
    "start_time": "2023-08-20T22:10:34.674Z"
   },
   {
    "duration": 103,
    "start_time": "2023-08-20T22:10:34.829Z"
   },
   {
    "duration": 74,
    "start_time": "2023-08-20T22:10:34.934Z"
   },
   {
    "duration": 16,
    "start_time": "2023-08-20T22:10:35.010Z"
   },
   {
    "duration": 20,
    "start_time": "2023-08-20T22:10:35.028Z"
   },
   {
    "duration": 63,
    "start_time": "2023-08-20T22:10:35.050Z"
   },
   {
    "duration": 20,
    "start_time": "2023-08-20T22:10:35.115Z"
   },
   {
    "duration": 1764,
    "start_time": "2023-08-20T22:10:35.137Z"
   },
   {
    "duration": 1521,
    "start_time": "2023-08-20T22:10:36.903Z"
   },
   {
    "duration": 5,
    "start_time": "2023-08-20T22:10:38.426Z"
   },
   {
    "duration": 16,
    "start_time": "2023-08-20T22:10:38.432Z"
   },
   {
    "duration": 40,
    "start_time": "2023-08-20T22:10:38.461Z"
   },
   {
    "duration": 214,
    "start_time": "2023-08-20T22:10:38.503Z"
   },
   {
    "duration": 326,
    "start_time": "2023-08-20T22:10:38.720Z"
   },
   {
    "duration": 568,
    "start_time": "2023-08-20T22:10:39.048Z"
   },
   {
    "duration": 115,
    "start_time": "2023-08-20T22:10:39.618Z"
   },
   {
    "duration": 6,
    "start_time": "2023-08-20T22:10:39.735Z"
   },
   {
    "duration": 56,
    "start_time": "2023-08-20T22:10:39.742Z"
   },
   {
    "duration": 2181,
    "start_time": "2023-08-20T22:10:39.800Z"
   },
   {
    "duration": 3,
    "start_time": "2023-08-20T22:10:41.983Z"
   },
   {
    "duration": 1486,
    "start_time": "2023-08-20T22:10:41.990Z"
   },
   {
    "duration": 17,
    "start_time": "2023-08-20T22:10:43.481Z"
   },
   {
    "duration": 128,
    "start_time": "2023-08-20T22:10:43.500Z"
   },
   {
    "duration": 165,
    "start_time": "2023-08-20T22:10:43.630Z"
   },
   {
    "duration": 11,
    "start_time": "2023-08-20T22:10:43.796Z"
   },
   {
    "duration": 133,
    "start_time": "2023-08-20T22:10:43.809Z"
   },
   {
    "duration": 17,
    "start_time": "2023-08-20T22:10:43.944Z"
   },
   {
    "duration": 352,
    "start_time": "2023-08-20T22:10:43.962Z"
   },
   {
    "duration": 280,
    "start_time": "2023-08-20T22:10:44.317Z"
   },
   {
    "duration": 12,
    "start_time": "2023-08-20T22:10:44.599Z"
   },
   {
    "duration": 338,
    "start_time": "2023-08-20T22:10:44.612Z"
   },
   {
    "duration": 122,
    "start_time": "2023-08-20T22:10:44.951Z"
   },
   {
    "duration": 7,
    "start_time": "2023-08-20T22:10:45.074Z"
   },
   {
    "duration": 4,
    "start_time": "2023-08-20T22:10:45.084Z"
   },
   {
    "duration": 68,
    "start_time": "2023-08-20T22:10:45.089Z"
   },
   {
    "duration": 90,
    "start_time": "2023-08-20T22:10:45.161Z"
   },
   {
    "duration": 196,
    "start_time": "2023-08-20T22:10:45.253Z"
   },
   {
    "duration": 28,
    "start_time": "2023-08-20T22:10:45.451Z"
   },
   {
    "duration": 23,
    "start_time": "2023-08-20T22:10:45.486Z"
   },
   {
    "duration": 36,
    "start_time": "2023-08-20T22:10:45.511Z"
   },
   {
    "duration": 46,
    "start_time": "2023-08-20T22:10:45.549Z"
   },
   {
    "duration": 17,
    "start_time": "2023-08-20T22:10:45.598Z"
   },
   {
    "duration": 4,
    "start_time": "2023-08-20T22:10:45.617Z"
   },
   {
    "duration": 74,
    "start_time": "2023-08-20T22:10:45.623Z"
   },
   {
    "duration": 8,
    "start_time": "2023-08-20T22:10:45.699Z"
   },
   {
    "duration": 455,
    "start_time": "2023-08-20T22:10:45.709Z"
   },
   {
    "duration": 21,
    "start_time": "2023-08-20T22:10:46.167Z"
   },
   {
    "duration": 17,
    "start_time": "2023-08-20T22:10:46.190Z"
   },
   {
    "duration": 10,
    "start_time": "2023-08-20T22:10:46.209Z"
   },
   {
    "duration": 36,
    "start_time": "2023-08-20T22:10:46.221Z"
   },
   {
    "duration": 787,
    "start_time": "2023-08-20T22:10:46.268Z"
   },
   {
    "duration": 30,
    "start_time": "2023-08-20T22:10:47.067Z"
   },
   {
    "duration": 30,
    "start_time": "2023-08-20T22:10:47.098Z"
   },
   {
    "duration": 43,
    "start_time": "2023-08-20T22:10:47.130Z"
   },
   {
    "duration": 11,
    "start_time": "2023-08-20T22:10:47.178Z"
   },
   {
    "duration": 326,
    "start_time": "2023-08-20T22:10:47.193Z"
   },
   {
    "duration": 21,
    "start_time": "2023-08-20T22:10:47.521Z"
   },
   {
    "duration": 612,
    "start_time": "2023-08-20T22:10:47.544Z"
   },
   {
    "duration": 32,
    "start_time": "2023-08-20T22:10:48.159Z"
   },
   {
    "duration": 219,
    "start_time": "2023-08-20T22:10:48.193Z"
   },
   {
    "duration": 4,
    "start_time": "2023-08-20T22:10:48.414Z"
   },
   {
    "duration": 10,
    "start_time": "2023-08-20T22:10:48.419Z"
   },
   {
    "duration": 32,
    "start_time": "2023-08-20T22:10:48.430Z"
   },
   {
    "duration": 15,
    "start_time": "2023-08-20T22:10:48.464Z"
   },
   {
    "duration": 52,
    "start_time": "2023-08-20T22:10:48.488Z"
   },
   {
    "duration": 90,
    "start_time": "2023-08-20T22:10:48.542Z"
   },
   {
    "duration": 4,
    "start_time": "2023-08-20T22:10:48.634Z"
   },
   {
    "duration": 10,
    "start_time": "2023-08-20T22:10:48.639Z"
   },
   {
    "duration": 60,
    "start_time": "2023-08-20T22:10:48.651Z"
   },
   {
    "duration": 4,
    "start_time": "2023-08-20T22:10:48.713Z"
   },
   {
    "duration": 10,
    "start_time": "2023-08-20T22:14:07.783Z"
   },
   {
    "duration": 23,
    "start_time": "2023-08-20T22:18:50.052Z"
   },
   {
    "duration": 11,
    "start_time": "2023-08-20T22:18:58.183Z"
   },
   {
    "duration": 12,
    "start_time": "2023-08-20T22:19:11.800Z"
   },
   {
    "duration": 6,
    "start_time": "2023-08-20T22:20:44.244Z"
   },
   {
    "duration": 1543,
    "start_time": "2023-08-20T22:22:14.989Z"
   },
   {
    "duration": 19,
    "start_time": "2023-08-20T22:22:33.589Z"
   },
   {
    "duration": 35,
    "start_time": "2023-08-20T22:23:10.057Z"
   },
   {
    "duration": 1472,
    "start_time": "2023-08-20T22:23:26.211Z"
   },
   {
    "duration": 4,
    "start_time": "2023-08-20T22:24:32.753Z"
   },
   {
    "duration": 25,
    "start_time": "2023-08-20T22:25:53.899Z"
   },
   {
    "duration": 4,
    "start_time": "2023-08-20T22:27:11.396Z"
   },
   {
    "duration": 14,
    "start_time": "2023-08-20T22:27:39.359Z"
   },
   {
    "duration": 24,
    "start_time": "2023-08-20T22:29:14.087Z"
   },
   {
    "duration": 21,
    "start_time": "2023-08-20T22:29:28.882Z"
   },
   {
    "duration": 3,
    "start_time": "2023-08-20T22:32:26.734Z"
   },
   {
    "duration": 7,
    "start_time": "2023-08-20T22:32:27.825Z"
   },
   {
    "duration": 6,
    "start_time": "2023-08-20T22:32:50.526Z"
   },
   {
    "duration": 3,
    "start_time": "2023-08-20T22:32:51.719Z"
   },
   {
    "duration": 6,
    "start_time": "2023-08-20T22:32:52.232Z"
   },
   {
    "duration": 8,
    "start_time": "2023-08-20T22:32:58.754Z"
   },
   {
    "duration": 3,
    "start_time": "2023-08-20T22:32:59.244Z"
   },
   {
    "duration": 8,
    "start_time": "2023-08-20T22:32:59.713Z"
   },
   {
    "duration": 5,
    "start_time": "2023-08-20T22:33:13.598Z"
   },
   {
    "duration": 5,
    "start_time": "2023-08-20T22:35:36.647Z"
   },
   {
    "duration": 5,
    "start_time": "2023-08-20T22:35:49.487Z"
   },
   {
    "duration": 10,
    "start_time": "2023-08-20T22:38:20.758Z"
   },
   {
    "duration": 3,
    "start_time": "2023-08-20T22:38:50.724Z"
   },
   {
    "duration": 6,
    "start_time": "2023-08-20T22:39:11.880Z"
   },
   {
    "duration": 7,
    "start_time": "2023-08-20T22:39:28.224Z"
   },
   {
    "duration": 6,
    "start_time": "2023-08-20T22:40:37.617Z"
   },
   {
    "duration": 2,
    "start_time": "2023-08-20T22:42:36.452Z"
   },
   {
    "duration": 6,
    "start_time": "2023-08-20T22:42:37.036Z"
   },
   {
    "duration": 6,
    "start_time": "2023-08-20T22:42:38.306Z"
   },
   {
    "duration": 6,
    "start_time": "2023-08-20T22:46:26.313Z"
   },
   {
    "duration": 45,
    "start_time": "2023-08-20T22:46:39.388Z"
   },
   {
    "duration": 29,
    "start_time": "2023-08-20T22:51:27.819Z"
   },
   {
    "duration": 23,
    "start_time": "2023-08-20T22:52:07.525Z"
   },
   {
    "duration": 29,
    "start_time": "2023-08-20T22:52:17.893Z"
   },
   {
    "duration": 29,
    "start_time": "2023-08-20T22:52:27.431Z"
   },
   {
    "duration": 5,
    "start_time": "2023-08-20T22:53:21.813Z"
   },
   {
    "duration": 59,
    "start_time": "2023-08-20T22:53:28.863Z"
   },
   {
    "duration": 9,
    "start_time": "2023-08-20T22:53:29.618Z"
   },
   {
    "duration": 3,
    "start_time": "2023-08-20T22:54:05.234Z"
   },
   {
    "duration": 4,
    "start_time": "2023-08-20T22:54:10.538Z"
   },
   {
    "duration": 4,
    "start_time": "2023-08-20T22:55:59.929Z"
   },
   {
    "duration": 6,
    "start_time": "2023-08-20T22:58:44.835Z"
   },
   {
    "duration": 25,
    "start_time": "2023-08-20T23:00:42.309Z"
   },
   {
    "duration": 80,
    "start_time": "2023-08-20T23:01:13.319Z"
   },
   {
    "duration": 8,
    "start_time": "2023-08-20T23:02:28.057Z"
   },
   {
    "duration": 7,
    "start_time": "2023-08-20T23:03:40.877Z"
   },
   {
    "duration": 4,
    "start_time": "2023-08-20T23:04:20.974Z"
   },
   {
    "duration": 5,
    "start_time": "2023-08-20T23:04:34.388Z"
   },
   {
    "duration": 7,
    "start_time": "2023-08-20T23:04:43.489Z"
   },
   {
    "duration": 8,
    "start_time": "2023-08-20T23:04:49.168Z"
   },
   {
    "duration": 6,
    "start_time": "2023-08-20T23:09:15.691Z"
   },
   {
    "duration": 1185,
    "start_time": "2023-08-20T23:19:48.319Z"
   },
   {
    "duration": 345,
    "start_time": "2023-08-20T23:19:49.506Z"
   },
   {
    "duration": 13,
    "start_time": "2023-08-20T23:19:49.853Z"
   },
   {
    "duration": 79,
    "start_time": "2023-08-20T23:19:49.868Z"
   },
   {
    "duration": 6,
    "start_time": "2023-08-20T23:19:49.949Z"
   },
   {
    "duration": 9,
    "start_time": "2023-08-20T23:19:49.957Z"
   },
   {
    "duration": 10,
    "start_time": "2023-08-20T23:19:49.968Z"
   },
   {
    "duration": 80,
    "start_time": "2023-08-20T23:19:49.980Z"
   },
   {
    "duration": 17,
    "start_time": "2023-08-20T23:19:50.063Z"
   },
   {
    "duration": 27,
    "start_time": "2023-08-20T23:19:50.084Z"
   },
   {
    "duration": 4,
    "start_time": "2023-08-20T23:19:50.113Z"
   },
   {
    "duration": 15,
    "start_time": "2023-08-20T23:19:50.119Z"
   },
   {
    "duration": 43,
    "start_time": "2023-08-20T23:19:50.135Z"
   },
   {
    "duration": 24,
    "start_time": "2023-08-20T23:19:50.180Z"
   },
   {
    "duration": 5,
    "start_time": "2023-08-20T23:19:50.206Z"
   },
   {
    "duration": 19,
    "start_time": "2023-08-20T23:19:50.213Z"
   },
   {
    "duration": 24,
    "start_time": "2023-08-20T23:19:50.234Z"
   },
   {
    "duration": 10,
    "start_time": "2023-08-20T23:19:50.260Z"
   },
   {
    "duration": 9,
    "start_time": "2023-08-20T23:19:50.272Z"
   },
   {
    "duration": 88,
    "start_time": "2023-08-20T23:19:50.282Z"
   },
   {
    "duration": 7,
    "start_time": "2023-08-20T23:19:50.372Z"
   },
   {
    "duration": 15,
    "start_time": "2023-08-20T23:19:50.380Z"
   },
   {
    "duration": 11,
    "start_time": "2023-08-20T23:19:50.397Z"
   },
   {
    "duration": 56,
    "start_time": "2023-08-20T23:19:50.409Z"
   },
   {
    "duration": 740,
    "start_time": "2023-08-20T23:19:50.467Z"
   },
   {
    "duration": 14,
    "start_time": "2023-08-20T23:19:51.209Z"
   },
   {
    "duration": 14,
    "start_time": "2023-08-20T23:19:51.224Z"
   },
   {
    "duration": 714,
    "start_time": "2023-08-20T23:19:51.242Z"
   },
   {
    "duration": 21,
    "start_time": "2023-08-20T23:19:51.958Z"
   },
   {
    "duration": 17,
    "start_time": "2023-08-20T23:19:51.981Z"
   },
   {
    "duration": 31,
    "start_time": "2023-08-20T23:19:52.000Z"
   },
   {
    "duration": 129,
    "start_time": "2023-08-20T23:19:52.033Z"
   },
   {
    "duration": 99,
    "start_time": "2023-08-20T23:19:52.164Z"
   },
   {
    "duration": 48,
    "start_time": "2023-08-20T23:19:52.265Z"
   },
   {
    "duration": 4,
    "start_time": "2023-08-20T23:19:52.314Z"
   },
   {
    "duration": 37,
    "start_time": "2023-08-20T23:19:52.320Z"
   },
   {
    "duration": 57,
    "start_time": "2023-08-20T23:19:52.359Z"
   },
   {
    "duration": 14,
    "start_time": "2023-08-20T23:19:52.418Z"
   },
   {
    "duration": 1563,
    "start_time": "2023-08-20T23:19:52.434Z"
   },
   {
    "duration": 1444,
    "start_time": "2023-08-20T23:19:53.999Z"
   },
   {
    "duration": 6,
    "start_time": "2023-08-20T23:19:55.444Z"
   },
   {
    "duration": 20,
    "start_time": "2023-08-20T23:19:55.459Z"
   },
   {
    "duration": 28,
    "start_time": "2023-08-20T23:19:55.482Z"
   },
   {
    "duration": 196,
    "start_time": "2023-08-20T23:19:55.512Z"
   },
   {
    "duration": 283,
    "start_time": "2023-08-20T23:19:55.710Z"
   },
   {
    "duration": 512,
    "start_time": "2023-08-20T23:19:55.995Z"
   },
   {
    "duration": 109,
    "start_time": "2023-08-20T23:19:56.508Z"
   },
   {
    "duration": 5,
    "start_time": "2023-08-20T23:19:56.618Z"
   },
   {
    "duration": 34,
    "start_time": "2023-08-20T23:19:56.625Z"
   },
   {
    "duration": 2104,
    "start_time": "2023-08-20T23:19:56.661Z"
   },
   {
    "duration": 3,
    "start_time": "2023-08-20T23:19:58.767Z"
   },
   {
    "duration": 1315,
    "start_time": "2023-08-20T23:19:58.771Z"
   },
   {
    "duration": 14,
    "start_time": "2023-08-20T23:20:00.088Z"
   },
   {
    "duration": 41,
    "start_time": "2023-08-20T23:20:00.104Z"
   },
   {
    "duration": 159,
    "start_time": "2023-08-20T23:20:00.146Z"
   },
   {
    "duration": 36,
    "start_time": "2023-08-20T23:20:00.307Z"
   },
   {
    "duration": 132,
    "start_time": "2023-08-20T23:20:00.345Z"
   },
   {
    "duration": 10,
    "start_time": "2023-08-20T23:20:00.478Z"
   },
   {
    "duration": 369,
    "start_time": "2023-08-20T23:20:00.490Z"
   },
   {
    "duration": 295,
    "start_time": "2023-08-20T23:20:00.861Z"
   },
   {
    "duration": 11,
    "start_time": "2023-08-20T23:20:01.158Z"
   },
   {
    "duration": 731,
    "start_time": "2023-08-20T23:20:01.171Z"
   },
   {
    "duration": 120,
    "start_time": "2023-08-20T23:20:01.904Z"
   },
   {
    "duration": 5,
    "start_time": "2023-08-20T23:20:02.026Z"
   },
   {
    "duration": 40,
    "start_time": "2023-08-20T23:20:02.033Z"
   },
   {
    "duration": 47,
    "start_time": "2023-08-20T23:20:02.075Z"
   },
   {
    "duration": 100,
    "start_time": "2023-08-20T23:20:02.124Z"
   },
   {
    "duration": 178,
    "start_time": "2023-08-20T23:20:02.226Z"
   },
   {
    "duration": 12,
    "start_time": "2023-08-20T23:20:02.405Z"
   },
   {
    "duration": 197,
    "start_time": "2023-08-20T23:20:02.419Z"
   },
   {
    "duration": 78,
    "start_time": "2023-08-20T23:20:02.618Z"
   },
   {
    "duration": 42,
    "start_time": "2023-08-20T23:20:02.697Z"
   },
   {
    "duration": 25,
    "start_time": "2023-08-20T23:20:02.741Z"
   },
   {
    "duration": 10,
    "start_time": "2023-08-20T23:20:02.767Z"
   },
   {
    "duration": 80,
    "start_time": "2023-08-20T23:20:02.779Z"
   },
   {
    "duration": 8,
    "start_time": "2023-08-20T23:20:02.860Z"
   },
   {
    "duration": 406,
    "start_time": "2023-08-20T23:20:02.869Z"
   },
   {
    "duration": 10,
    "start_time": "2023-08-20T23:20:03.277Z"
   },
   {
    "duration": 28,
    "start_time": "2023-08-20T23:20:03.289Z"
   },
   {
    "duration": 29,
    "start_time": "2023-08-20T23:20:03.318Z"
   },
   {
    "duration": 50,
    "start_time": "2023-08-20T23:20:03.349Z"
   },
   {
    "duration": 789,
    "start_time": "2023-08-20T23:20:03.404Z"
   },
   {
    "duration": 28,
    "start_time": "2023-08-20T23:20:04.195Z"
   },
   {
    "duration": 56,
    "start_time": "2023-08-20T23:20:04.225Z"
   },
   {
    "duration": 22,
    "start_time": "2023-08-20T23:20:04.283Z"
   },
   {
    "duration": 15,
    "start_time": "2023-08-20T23:20:04.306Z"
   },
   {
    "duration": 363,
    "start_time": "2023-08-20T23:20:04.323Z"
   },
   {
    "duration": 16,
    "start_time": "2023-08-20T23:20:04.688Z"
   },
   {
    "duration": 537,
    "start_time": "2023-08-20T23:20:04.706Z"
   },
   {
    "duration": 16,
    "start_time": "2023-08-20T23:20:05.245Z"
   },
   {
    "duration": 201,
    "start_time": "2023-08-20T23:20:05.262Z"
   },
   {
    "duration": 4,
    "start_time": "2023-08-20T23:20:05.465Z"
   },
   {
    "duration": 15,
    "start_time": "2023-08-20T23:20:05.471Z"
   },
   {
    "duration": 42,
    "start_time": "2023-08-20T23:20:05.487Z"
   },
   {
    "duration": 19,
    "start_time": "2023-08-20T23:20:05.530Z"
   },
   {
    "duration": 22,
    "start_time": "2023-08-20T23:20:05.551Z"
   },
   {
    "duration": 76,
    "start_time": "2023-08-20T23:20:05.575Z"
   },
   {
    "duration": 99,
    "start_time": "2023-08-20T23:20:05.653Z"
   },
   {
    "duration": 0,
    "start_time": "2023-08-20T23:20:05.753Z"
   },
   {
    "duration": 0,
    "start_time": "2023-08-20T23:20:05.754Z"
   },
   {
    "duration": 0,
    "start_time": "2023-08-20T23:20:05.758Z"
   },
   {
    "duration": 0,
    "start_time": "2023-08-20T23:20:05.759Z"
   },
   {
    "duration": 0,
    "start_time": "2023-08-20T23:20:05.760Z"
   },
   {
    "duration": 1253,
    "start_time": "2023-08-21T10:49:56.561Z"
   },
   {
    "duration": 363,
    "start_time": "2023-08-21T10:49:57.816Z"
   },
   {
    "duration": 11,
    "start_time": "2023-08-21T10:49:58.181Z"
   },
   {
    "duration": 58,
    "start_time": "2023-08-21T10:49:58.194Z"
   },
   {
    "duration": 7,
    "start_time": "2023-08-21T10:49:58.254Z"
   },
   {
    "duration": 12,
    "start_time": "2023-08-21T10:49:58.263Z"
   },
   {
    "duration": 12,
    "start_time": "2023-08-21T10:49:58.277Z"
   },
   {
    "duration": 91,
    "start_time": "2023-08-21T10:49:58.291Z"
   },
   {
    "duration": 15,
    "start_time": "2023-08-21T10:49:58.384Z"
   },
   {
    "duration": 26,
    "start_time": "2023-08-21T10:49:58.401Z"
   },
   {
    "duration": 5,
    "start_time": "2023-08-21T10:49:58.429Z"
   },
   {
    "duration": 6,
    "start_time": "2023-08-21T10:49:58.435Z"
   },
   {
    "duration": 55,
    "start_time": "2023-08-21T10:49:58.442Z"
   },
   {
    "duration": 24,
    "start_time": "2023-08-21T10:49:58.499Z"
   },
   {
    "duration": 6,
    "start_time": "2023-08-21T10:49:58.525Z"
   },
   {
    "duration": 27,
    "start_time": "2023-08-21T10:49:58.533Z"
   },
   {
    "duration": 6,
    "start_time": "2023-08-21T10:49:58.566Z"
   },
   {
    "duration": 13,
    "start_time": "2023-08-21T10:49:58.573Z"
   },
   {
    "duration": 8,
    "start_time": "2023-08-21T10:49:58.588Z"
   },
   {
    "duration": 94,
    "start_time": "2023-08-21T10:49:58.598Z"
   },
   {
    "duration": 6,
    "start_time": "2023-08-21T10:49:58.693Z"
   },
   {
    "duration": 10,
    "start_time": "2023-08-21T10:49:58.701Z"
   },
   {
    "duration": 12,
    "start_time": "2023-08-21T10:49:58.712Z"
   },
   {
    "duration": 58,
    "start_time": "2023-08-21T10:49:58.725Z"
   },
   {
    "duration": 841,
    "start_time": "2023-08-21T10:49:58.785Z"
   },
   {
    "duration": 16,
    "start_time": "2023-08-21T10:49:59.628Z"
   },
   {
    "duration": 3,
    "start_time": "2023-08-21T10:49:59.645Z"
   },
   {
    "duration": 736,
    "start_time": "2023-08-21T10:49:59.666Z"
   },
   {
    "duration": 24,
    "start_time": "2023-08-21T10:50:00.405Z"
   },
   {
    "duration": 61,
    "start_time": "2023-08-21T10:50:00.431Z"
   },
   {
    "duration": 77,
    "start_time": "2023-08-21T10:50:00.494Z"
   },
   {
    "duration": 189,
    "start_time": "2023-08-21T10:50:00.572Z"
   },
   {
    "duration": 176,
    "start_time": "2023-08-21T10:50:00.768Z"
   },
   {
    "duration": 57,
    "start_time": "2023-08-21T10:50:00.946Z"
   },
   {
    "duration": 6,
    "start_time": "2023-08-21T10:50:01.005Z"
   },
   {
    "duration": 71,
    "start_time": "2023-08-21T10:50:01.012Z"
   },
   {
    "duration": 95,
    "start_time": "2023-08-21T10:50:01.085Z"
   },
   {
    "duration": 41,
    "start_time": "2023-08-21T10:50:01.181Z"
   },
   {
    "duration": 1833,
    "start_time": "2023-08-21T10:50:01.224Z"
   },
   {
    "duration": 1628,
    "start_time": "2023-08-21T10:50:03.059Z"
   },
   {
    "duration": 5,
    "start_time": "2023-08-21T10:50:04.689Z"
   },
   {
    "duration": 17,
    "start_time": "2023-08-21T10:50:04.696Z"
   },
   {
    "duration": 32,
    "start_time": "2023-08-21T10:50:04.715Z"
   },
   {
    "duration": 230,
    "start_time": "2023-08-21T10:50:04.748Z"
   },
   {
    "duration": 347,
    "start_time": "2023-08-21T10:50:04.980Z"
   },
   {
    "duration": 565,
    "start_time": "2023-08-21T10:50:05.329Z"
   },
   {
    "duration": 115,
    "start_time": "2023-08-21T10:50:05.896Z"
   },
   {
    "duration": 19,
    "start_time": "2023-08-21T10:50:06.013Z"
   },
   {
    "duration": 194,
    "start_time": "2023-08-21T10:50:06.034Z"
   },
   {
    "duration": 2122,
    "start_time": "2023-08-21T10:50:06.231Z"
   },
   {
    "duration": 2,
    "start_time": "2023-08-21T10:50:08.355Z"
   },
   {
    "duration": 1410,
    "start_time": "2023-08-21T10:50:08.359Z"
   },
   {
    "duration": 14,
    "start_time": "2023-08-21T10:50:09.771Z"
   },
   {
    "duration": 5,
    "start_time": "2023-08-21T10:50:09.787Z"
   },
   {
    "duration": 141,
    "start_time": "2023-08-21T10:50:09.794Z"
   },
   {
    "duration": 10,
    "start_time": "2023-08-21T10:50:09.937Z"
   },
   {
    "duration": 122,
    "start_time": "2023-08-21T10:50:09.949Z"
   },
   {
    "duration": 8,
    "start_time": "2023-08-21T10:50:10.073Z"
   },
   {
    "duration": 323,
    "start_time": "2023-08-21T10:50:10.082Z"
   },
   {
    "duration": 405,
    "start_time": "2023-08-21T10:50:10.407Z"
   },
   {
    "duration": 12,
    "start_time": "2023-08-21T10:50:10.814Z"
   },
   {
    "duration": 321,
    "start_time": "2023-08-21T10:50:10.828Z"
   },
   {
    "duration": 118,
    "start_time": "2023-08-21T10:50:11.150Z"
   },
   {
    "duration": 5,
    "start_time": "2023-08-21T10:50:11.269Z"
   },
   {
    "duration": 5,
    "start_time": "2023-08-21T10:50:11.275Z"
   },
   {
    "duration": 5,
    "start_time": "2023-08-21T10:50:11.282Z"
   },
   {
    "duration": 30,
    "start_time": "2023-08-21T10:50:11.288Z"
   },
   {
    "duration": 173,
    "start_time": "2023-08-21T10:50:11.320Z"
   },
   {
    "duration": 10,
    "start_time": "2023-08-21T10:50:11.495Z"
   },
   {
    "duration": 30,
    "start_time": "2023-08-21T10:50:11.507Z"
   },
   {
    "duration": 37,
    "start_time": "2023-08-21T10:50:11.539Z"
   },
   {
    "duration": 36,
    "start_time": "2023-08-21T10:50:11.579Z"
   },
   {
    "duration": 16,
    "start_time": "2023-08-21T10:50:11.617Z"
   },
   {
    "duration": 4,
    "start_time": "2023-08-21T10:50:11.634Z"
   },
   {
    "duration": 53,
    "start_time": "2023-08-21T10:50:11.640Z"
   },
   {
    "duration": 7,
    "start_time": "2023-08-21T10:50:11.695Z"
   },
   {
    "duration": 482,
    "start_time": "2023-08-21T10:50:11.704Z"
   },
   {
    "duration": 12,
    "start_time": "2023-08-21T10:50:12.187Z"
   },
   {
    "duration": 37,
    "start_time": "2023-08-21T10:50:12.200Z"
   },
   {
    "duration": 41,
    "start_time": "2023-08-21T10:50:12.238Z"
   },
   {
    "duration": 60,
    "start_time": "2023-08-21T10:50:12.281Z"
   },
   {
    "duration": 774,
    "start_time": "2023-08-21T10:50:12.350Z"
   },
   {
    "duration": 23,
    "start_time": "2023-08-21T10:50:13.126Z"
   },
   {
    "duration": 59,
    "start_time": "2023-08-21T10:50:13.151Z"
   },
   {
    "duration": 27,
    "start_time": "2023-08-21T10:50:13.212Z"
   },
   {
    "duration": 27,
    "start_time": "2023-08-21T10:50:13.242Z"
   },
   {
    "duration": 327,
    "start_time": "2023-08-21T10:50:13.272Z"
   },
   {
    "duration": 15,
    "start_time": "2023-08-21T10:50:13.600Z"
   },
   {
    "duration": 640,
    "start_time": "2023-08-21T10:50:13.617Z"
   },
   {
    "duration": 16,
    "start_time": "2023-08-21T10:50:14.259Z"
   },
   {
    "duration": 204,
    "start_time": "2023-08-21T10:50:14.277Z"
   },
   {
    "duration": 4,
    "start_time": "2023-08-21T10:50:14.483Z"
   },
   {
    "duration": 23,
    "start_time": "2023-08-21T10:50:14.489Z"
   },
   {
    "duration": 22,
    "start_time": "2023-08-21T10:50:14.513Z"
   },
   {
    "duration": 27,
    "start_time": "2023-08-21T10:50:14.537Z"
   },
   {
    "duration": 7,
    "start_time": "2023-08-21T10:50:14.566Z"
   },
   {
    "duration": 72,
    "start_time": "2023-08-21T10:50:14.575Z"
   },
   {
    "duration": 107,
    "start_time": "2023-08-21T10:50:14.649Z"
   },
   {
    "duration": 0,
    "start_time": "2023-08-21T10:50:14.758Z"
   },
   {
    "duration": 0,
    "start_time": "2023-08-21T10:50:14.759Z"
   },
   {
    "duration": 0,
    "start_time": "2023-08-21T10:50:14.760Z"
   },
   {
    "duration": 0,
    "start_time": "2023-08-21T10:50:14.767Z"
   },
   {
    "duration": 0,
    "start_time": "2023-08-21T10:50:14.768Z"
   },
   {
    "duration": 8,
    "start_time": "2023-08-21T10:50:54.384Z"
   },
   {
    "duration": 19,
    "start_time": "2023-08-21T10:51:06.534Z"
   },
   {
    "duration": 93,
    "start_time": "2023-08-21T10:51:11.285Z"
   },
   {
    "duration": 15,
    "start_time": "2023-08-21T10:51:13.075Z"
   },
   {
    "duration": 9,
    "start_time": "2023-08-21T10:51:28.818Z"
   },
   {
    "duration": 26,
    "start_time": "2023-08-21T10:51:28.829Z"
   },
   {
    "duration": 8,
    "start_time": "2023-08-21T10:51:28.982Z"
   },
   {
    "duration": 7,
    "start_time": "2023-08-21T10:51:29.149Z"
   },
   {
    "duration": 3,
    "start_time": "2023-08-21T10:51:44.511Z"
   },
   {
    "duration": 1501,
    "start_time": "2023-08-21T16:35:38.079Z"
   },
   {
    "duration": 350,
    "start_time": "2023-08-21T16:35:39.600Z"
   },
   {
    "duration": 14,
    "start_time": "2023-08-21T16:35:39.952Z"
   },
   {
    "duration": 84,
    "start_time": "2023-08-21T16:35:39.969Z"
   },
   {
    "duration": 7,
    "start_time": "2023-08-21T16:35:40.055Z"
   },
   {
    "duration": 10,
    "start_time": "2023-08-21T16:35:40.064Z"
   },
   {
    "duration": 10,
    "start_time": "2023-08-21T16:35:40.076Z"
   },
   {
    "duration": 86,
    "start_time": "2023-08-21T16:35:40.088Z"
   },
   {
    "duration": 39,
    "start_time": "2023-08-21T16:35:40.176Z"
   },
   {
    "duration": 27,
    "start_time": "2023-08-21T16:35:40.223Z"
   },
   {
    "duration": 5,
    "start_time": "2023-08-21T16:35:40.252Z"
   },
   {
    "duration": 8,
    "start_time": "2023-08-21T16:35:40.259Z"
   },
   {
    "duration": 47,
    "start_time": "2023-08-21T16:35:40.269Z"
   },
   {
    "duration": 23,
    "start_time": "2023-08-21T16:35:40.318Z"
   },
   {
    "duration": 7,
    "start_time": "2023-08-21T16:35:40.343Z"
   },
   {
    "duration": 47,
    "start_time": "2023-08-21T16:35:40.352Z"
   },
   {
    "duration": 11,
    "start_time": "2023-08-21T16:35:40.401Z"
   },
   {
    "duration": 18,
    "start_time": "2023-08-21T16:35:40.414Z"
   },
   {
    "duration": 7,
    "start_time": "2023-08-21T16:35:40.434Z"
   },
   {
    "duration": 114,
    "start_time": "2023-08-21T16:35:40.442Z"
   },
   {
    "duration": 7,
    "start_time": "2023-08-21T16:35:40.559Z"
   },
   {
    "duration": 16,
    "start_time": "2023-08-21T16:35:40.568Z"
   },
   {
    "duration": 9,
    "start_time": "2023-08-21T16:35:40.586Z"
   },
   {
    "duration": 59,
    "start_time": "2023-08-21T16:35:40.600Z"
   },
   {
    "duration": 868,
    "start_time": "2023-08-21T16:35:40.661Z"
   },
   {
    "duration": 17,
    "start_time": "2023-08-21T16:35:41.531Z"
   },
   {
    "duration": 3,
    "start_time": "2023-08-21T16:35:41.550Z"
   },
   {
    "duration": 772,
    "start_time": "2023-08-21T16:35:41.557Z"
   },
   {
    "duration": 23,
    "start_time": "2023-08-21T16:35:42.331Z"
   },
   {
    "duration": 58,
    "start_time": "2023-08-21T16:35:42.356Z"
   },
   {
    "duration": 32,
    "start_time": "2023-08-21T16:35:42.416Z"
   },
   {
    "duration": 175,
    "start_time": "2023-08-21T16:35:42.450Z"
   },
   {
    "duration": 114,
    "start_time": "2023-08-21T16:35:42.627Z"
   },
   {
    "duration": 81,
    "start_time": "2023-08-21T16:35:42.743Z"
   },
   {
    "duration": 5,
    "start_time": "2023-08-21T16:35:42.826Z"
   },
   {
    "duration": 22,
    "start_time": "2023-08-21T16:35:42.832Z"
   },
   {
    "duration": 68,
    "start_time": "2023-08-21T16:35:42.856Z"
   },
   {
    "duration": 14,
    "start_time": "2023-08-21T16:35:42.926Z"
   },
   {
    "duration": 1999,
    "start_time": "2023-08-21T16:35:42.941Z"
   },
   {
    "duration": 1777,
    "start_time": "2023-08-21T16:35:44.943Z"
   },
   {
    "duration": 5,
    "start_time": "2023-08-21T16:35:46.722Z"
   },
   {
    "duration": 16,
    "start_time": "2023-08-21T16:35:46.729Z"
   },
   {
    "duration": 40,
    "start_time": "2023-08-21T16:35:46.747Z"
   },
   {
    "duration": 240,
    "start_time": "2023-08-21T16:35:46.790Z"
   },
   {
    "duration": 421,
    "start_time": "2023-08-21T16:35:47.032Z"
   },
   {
    "duration": 679,
    "start_time": "2023-08-21T16:35:47.456Z"
   },
   {
    "duration": 136,
    "start_time": "2023-08-21T16:35:48.138Z"
   },
   {
    "duration": 10,
    "start_time": "2023-08-21T16:35:48.276Z"
   },
   {
    "duration": 39,
    "start_time": "2023-08-21T16:35:48.287Z"
   },
   {
    "duration": 2278,
    "start_time": "2023-08-21T16:35:48.329Z"
   },
   {
    "duration": 5,
    "start_time": "2023-08-21T16:35:50.608Z"
   },
   {
    "duration": 1472,
    "start_time": "2023-08-21T16:35:50.619Z"
   },
   {
    "duration": 18,
    "start_time": "2023-08-21T16:35:52.093Z"
   },
   {
    "duration": 21,
    "start_time": "2023-08-21T16:35:52.114Z"
   },
   {
    "duration": 130,
    "start_time": "2023-08-21T16:35:52.137Z"
   },
   {
    "duration": 32,
    "start_time": "2023-08-21T16:35:52.269Z"
   },
   {
    "duration": 123,
    "start_time": "2023-08-21T16:35:52.306Z"
   },
   {
    "duration": 9,
    "start_time": "2023-08-21T16:35:52.431Z"
   },
   {
    "duration": 318,
    "start_time": "2023-08-21T16:35:52.442Z"
   },
   {
    "duration": 311,
    "start_time": "2023-08-21T16:35:52.762Z"
   },
   {
    "duration": 32,
    "start_time": "2023-08-21T16:35:53.075Z"
   },
   {
    "duration": 329,
    "start_time": "2023-08-21T16:35:53.113Z"
   },
   {
    "duration": 125,
    "start_time": "2023-08-21T16:35:53.444Z"
   },
   {
    "duration": 41,
    "start_time": "2023-08-21T16:35:53.570Z"
   },
   {
    "duration": 3,
    "start_time": "2023-08-21T16:35:53.616Z"
   },
   {
    "duration": 5,
    "start_time": "2023-08-21T16:35:53.621Z"
   },
   {
    "duration": 37,
    "start_time": "2023-08-21T16:35:53.627Z"
   },
   {
    "duration": 164,
    "start_time": "2023-08-21T16:35:53.667Z"
   },
   {
    "duration": 14,
    "start_time": "2023-08-21T16:35:53.834Z"
   },
   {
    "duration": 36,
    "start_time": "2023-08-21T16:35:53.850Z"
   },
   {
    "duration": 35,
    "start_time": "2023-08-21T16:35:53.890Z"
   },
   {
    "duration": 38,
    "start_time": "2023-08-21T16:35:53.927Z"
   },
   {
    "duration": 36,
    "start_time": "2023-08-21T16:35:53.967Z"
   },
   {
    "duration": 8,
    "start_time": "2023-08-21T16:35:54.005Z"
   },
   {
    "duration": 38,
    "start_time": "2023-08-21T16:35:54.016Z"
   },
   {
    "duration": 28,
    "start_time": "2023-08-21T16:35:54.056Z"
   },
   {
    "duration": 488,
    "start_time": "2023-08-21T16:35:54.086Z"
   },
   {
    "duration": 17,
    "start_time": "2023-08-21T16:35:54.576Z"
   },
   {
    "duration": 16,
    "start_time": "2023-08-21T16:35:54.595Z"
   },
   {
    "duration": 5,
    "start_time": "2023-08-21T16:35:54.612Z"
   },
   {
    "duration": 42,
    "start_time": "2023-08-21T16:35:54.619Z"
   },
   {
    "duration": 886,
    "start_time": "2023-08-21T16:35:54.667Z"
   },
   {
    "duration": 28,
    "start_time": "2023-08-21T16:35:55.555Z"
   },
   {
    "duration": 43,
    "start_time": "2023-08-21T16:35:55.595Z"
   },
   {
    "duration": 21,
    "start_time": "2023-08-21T16:35:55.640Z"
   },
   {
    "duration": 33,
    "start_time": "2023-08-21T16:35:55.663Z"
   },
   {
    "duration": 347,
    "start_time": "2023-08-21T16:35:55.698Z"
   },
   {
    "duration": 14,
    "start_time": "2023-08-21T16:35:56.047Z"
   },
   {
    "duration": 646,
    "start_time": "2023-08-21T16:35:56.063Z"
   },
   {
    "duration": 22,
    "start_time": "2023-08-21T16:35:56.711Z"
   },
   {
    "duration": 233,
    "start_time": "2023-08-21T16:35:56.736Z"
   },
   {
    "duration": 14,
    "start_time": "2023-08-21T16:35:56.972Z"
   },
   {
    "duration": 18,
    "start_time": "2023-08-21T16:35:56.995Z"
   },
   {
    "duration": 18,
    "start_time": "2023-08-21T16:35:57.017Z"
   },
   {
    "duration": 26,
    "start_time": "2023-08-21T16:35:57.037Z"
   },
   {
    "duration": 8,
    "start_time": "2023-08-21T16:35:57.065Z"
   },
   {
    "duration": 59,
    "start_time": "2023-08-21T16:35:57.075Z"
   },
   {
    "duration": 3,
    "start_time": "2023-08-21T16:35:57.136Z"
   },
   {
    "duration": 121,
    "start_time": "2023-08-21T16:35:57.141Z"
   },
   {
    "duration": 8,
    "start_time": "2023-08-21T16:35:57.263Z"
   },
   {
    "duration": 7,
    "start_time": "2023-08-21T16:35:57.283Z"
   },
   {
    "duration": 22,
    "start_time": "2023-08-21T16:35:57.292Z"
   },
   {
    "duration": 16,
    "start_time": "2023-08-21T16:35:57.318Z"
   },
   {
    "duration": 1798,
    "start_time": "2023-08-22T21:04:23.212Z"
   },
   {
    "duration": 351,
    "start_time": "2023-08-22T21:04:25.013Z"
   },
   {
    "duration": 35,
    "start_time": "2023-08-22T21:04:25.366Z"
   },
   {
    "duration": 130,
    "start_time": "2023-08-22T21:04:25.406Z"
   },
   {
    "duration": 9,
    "start_time": "2023-08-22T21:04:25.538Z"
   },
   {
    "duration": 10,
    "start_time": "2023-08-22T21:04:25.549Z"
   },
   {
    "duration": 9,
    "start_time": "2023-08-22T21:04:25.561Z"
   },
   {
    "duration": 146,
    "start_time": "2023-08-22T21:04:25.575Z"
   },
   {
    "duration": 17,
    "start_time": "2023-08-22T21:04:25.723Z"
   },
   {
    "duration": 52,
    "start_time": "2023-08-22T21:04:25.744Z"
   },
   {
    "duration": 13,
    "start_time": "2023-08-22T21:04:25.808Z"
   },
   {
    "duration": 6,
    "start_time": "2023-08-22T21:04:25.824Z"
   },
   {
    "duration": 33,
    "start_time": "2023-08-22T21:04:25.832Z"
   },
   {
    "duration": 35,
    "start_time": "2023-08-22T21:04:25.868Z"
   },
   {
    "duration": 15,
    "start_time": "2023-08-22T21:04:25.904Z"
   },
   {
    "duration": 15,
    "start_time": "2023-08-22T21:04:25.921Z"
   },
   {
    "duration": 6,
    "start_time": "2023-08-22T21:04:25.939Z"
   },
   {
    "duration": 41,
    "start_time": "2023-08-22T21:04:25.947Z"
   },
   {
    "duration": 14,
    "start_time": "2023-08-22T21:04:25.990Z"
   },
   {
    "duration": 89,
    "start_time": "2023-08-22T21:04:26.006Z"
   },
   {
    "duration": 16,
    "start_time": "2023-08-22T21:04:26.098Z"
   },
   {
    "duration": 14,
    "start_time": "2023-08-22T21:04:26.116Z"
   },
   {
    "duration": 6,
    "start_time": "2023-08-22T21:04:26.132Z"
   },
   {
    "duration": 81,
    "start_time": "2023-08-22T21:04:26.140Z"
   },
   {
    "duration": 1031,
    "start_time": "2023-08-22T21:04:26.223Z"
   },
   {
    "duration": 28,
    "start_time": "2023-08-22T21:04:27.256Z"
   },
   {
    "duration": 6,
    "start_time": "2023-08-22T21:04:27.287Z"
   },
   {
    "duration": 766,
    "start_time": "2023-08-22T21:04:27.299Z"
   },
   {
    "duration": 37,
    "start_time": "2023-08-22T21:04:28.067Z"
   },
   {
    "duration": 24,
    "start_time": "2023-08-22T21:04:28.108Z"
   },
   {
    "duration": 49,
    "start_time": "2023-08-22T21:04:28.134Z"
   },
   {
    "duration": 161,
    "start_time": "2023-08-22T21:04:28.186Z"
   },
   {
    "duration": 113,
    "start_time": "2023-08-22T21:04:28.349Z"
   },
   {
    "duration": 74,
    "start_time": "2023-08-22T21:04:28.464Z"
   },
   {
    "duration": 5,
    "start_time": "2023-08-22T21:04:28.540Z"
   },
   {
    "duration": 39,
    "start_time": "2023-08-22T21:04:28.547Z"
   },
   {
    "duration": 85,
    "start_time": "2023-08-22T21:04:28.588Z"
   },
   {
    "duration": 28,
    "start_time": "2023-08-22T21:04:28.675Z"
   },
   {
    "duration": 2394,
    "start_time": "2023-08-22T21:04:28.710Z"
   },
   {
    "duration": 1735,
    "start_time": "2023-08-22T21:04:31.106Z"
   },
   {
    "duration": 6,
    "start_time": "2023-08-22T21:04:32.843Z"
   },
   {
    "duration": 70,
    "start_time": "2023-08-22T21:04:32.851Z"
   },
   {
    "duration": 52,
    "start_time": "2023-08-22T21:04:32.923Z"
   },
   {
    "duration": 255,
    "start_time": "2023-08-22T21:04:32.977Z"
   },
   {
    "duration": 341,
    "start_time": "2023-08-22T21:04:33.235Z"
   },
   {
    "duration": 557,
    "start_time": "2023-08-22T21:04:33.578Z"
   },
   {
    "duration": 134,
    "start_time": "2023-08-22T21:04:34.137Z"
   },
   {
    "duration": 17,
    "start_time": "2023-08-22T21:04:34.273Z"
   },
   {
    "duration": 38,
    "start_time": "2023-08-22T21:04:34.292Z"
   },
   {
    "duration": 2195,
    "start_time": "2023-08-22T21:04:34.333Z"
   },
   {
    "duration": 3,
    "start_time": "2023-08-22T21:04:36.530Z"
   },
   {
    "duration": 1802,
    "start_time": "2023-08-22T21:04:36.535Z"
   },
   {
    "duration": 22,
    "start_time": "2023-08-22T21:04:38.340Z"
   },
   {
    "duration": 37,
    "start_time": "2023-08-22T21:04:38.365Z"
   },
   {
    "duration": 202,
    "start_time": "2023-08-22T21:04:38.404Z"
   },
   {
    "duration": 15,
    "start_time": "2023-08-22T21:04:38.608Z"
   },
   {
    "duration": 183,
    "start_time": "2023-08-22T21:04:38.626Z"
   },
   {
    "duration": 8,
    "start_time": "2023-08-22T21:04:38.811Z"
   },
   {
    "duration": 447,
    "start_time": "2023-08-22T21:04:38.820Z"
   },
   {
    "duration": 298,
    "start_time": "2023-08-22T21:04:39.269Z"
   },
   {
    "duration": 19,
    "start_time": "2023-08-22T21:04:39.569Z"
   },
   {
    "duration": 336,
    "start_time": "2023-08-22T21:04:39.590Z"
   },
   {
    "duration": 154,
    "start_time": "2023-08-22T21:04:39.930Z"
   },
   {
    "duration": 5,
    "start_time": "2023-08-22T21:04:40.088Z"
   },
   {
    "duration": 166,
    "start_time": "2023-08-22T21:04:40.094Z"
   },
   {
    "duration": 16,
    "start_time": "2023-08-22T21:04:40.262Z"
   },
   {
    "duration": 43,
    "start_time": "2023-08-22T21:04:40.280Z"
   },
   {
    "duration": 178,
    "start_time": "2023-08-22T21:04:40.325Z"
   },
   {
    "duration": 11,
    "start_time": "2023-08-22T21:04:40.505Z"
   },
   {
    "duration": 40,
    "start_time": "2023-08-22T21:04:40.519Z"
   },
   {
    "duration": 57,
    "start_time": "2023-08-22T21:04:40.561Z"
   },
   {
    "duration": 37,
    "start_time": "2023-08-22T21:04:40.620Z"
   },
   {
    "duration": 42,
    "start_time": "2023-08-22T21:04:40.659Z"
   },
   {
    "duration": 9,
    "start_time": "2023-08-22T21:04:40.708Z"
   },
   {
    "duration": 41,
    "start_time": "2023-08-22T21:04:40.719Z"
   },
   {
    "duration": 11,
    "start_time": "2023-08-22T21:04:40.761Z"
   },
   {
    "duration": 505,
    "start_time": "2023-08-22T21:04:40.773Z"
   },
   {
    "duration": 19,
    "start_time": "2023-08-22T21:04:41.280Z"
   },
   {
    "duration": 17,
    "start_time": "2023-08-22T21:04:41.301Z"
   },
   {
    "duration": 7,
    "start_time": "2023-08-22T21:04:41.320Z"
   },
   {
    "duration": 65,
    "start_time": "2023-08-22T21:04:41.329Z"
   },
   {
    "duration": 828,
    "start_time": "2023-08-22T21:04:41.401Z"
   },
   {
    "duration": 27,
    "start_time": "2023-08-22T21:04:42.231Z"
   },
   {
    "duration": 66,
    "start_time": "2023-08-22T21:04:42.260Z"
   },
   {
    "duration": 32,
    "start_time": "2023-08-22T21:04:42.328Z"
   },
   {
    "duration": 26,
    "start_time": "2023-08-22T21:04:42.362Z"
   },
   {
    "duration": 389,
    "start_time": "2023-08-22T21:04:42.390Z"
   },
   {
    "duration": 26,
    "start_time": "2023-08-22T21:04:42.780Z"
   },
   {
    "duration": 635,
    "start_time": "2023-08-22T21:04:42.808Z"
   },
   {
    "duration": 12,
    "start_time": "2023-08-22T21:04:43.445Z"
   },
   {
    "duration": 208,
    "start_time": "2023-08-22T21:04:43.459Z"
   },
   {
    "duration": 18,
    "start_time": "2023-08-22T21:04:43.669Z"
   },
   {
    "duration": 16,
    "start_time": "2023-08-22T21:04:43.692Z"
   },
   {
    "duration": 14,
    "start_time": "2023-08-22T21:04:43.710Z"
   },
   {
    "duration": 31,
    "start_time": "2023-08-22T21:04:43.726Z"
   },
   {
    "duration": 7,
    "start_time": "2023-08-22T21:04:43.760Z"
   },
   {
    "duration": 59,
    "start_time": "2023-08-22T21:04:43.769Z"
   },
   {
    "duration": 3,
    "start_time": "2023-08-22T21:04:43.830Z"
   },
   {
    "duration": 111,
    "start_time": "2023-08-22T21:04:43.834Z"
   },
   {
    "duration": 9,
    "start_time": "2023-08-22T21:04:43.946Z"
   },
   {
    "duration": 6,
    "start_time": "2023-08-22T21:04:43.957Z"
   },
   {
    "duration": 39,
    "start_time": "2023-08-22T21:04:43.964Z"
   },
   {
    "duration": 7,
    "start_time": "2023-08-22T21:04:44.005Z"
   }
  ],
  "kernelspec": {
   "display_name": "Python 3 (ipykernel)",
   "language": "python",
   "name": "python3"
  },
  "language_info": {
   "codemirror_mode": {
    "name": "ipython",
    "version": 3
   },
   "file_extension": ".py",
   "mimetype": "text/x-python",
   "name": "python",
   "nbconvert_exporter": "python",
   "pygments_lexer": "ipython3",
   "version": "3.9.13"
  },
  "toc": {
   "base_numbering": 1,
   "nav_menu": {},
   "number_sections": true,
   "sideBar": true,
   "skip_h1_title": true,
   "title_cell": "Table of Contents",
   "title_sidebar": "Contents",
   "toc_cell": false,
   "toc_position": {
    "height": "calc(100% - 180px)",
    "left": "10px",
    "top": "150px",
    "width": "165px"
   },
   "toc_section_display": true,
   "toc_window_display": true
  }
 },
 "nbformat": 4,
 "nbformat_minor": 5
}
