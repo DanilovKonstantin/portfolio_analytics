{
 "cells": [
  {
   "cell_type": "markdown",
   "id": "9a8365c4",
   "metadata": {},
   "source": [
    "# Analysis of the SQL database of a subscription book reading service"
   ]
  },
  {
   "cell_type": "markdown",
   "id": "b3084093",
   "metadata": {},
   "source": [
    "## Goal: formulate a value proposition for a new product"
   ]
  },
  {
   "cell_type": "markdown",
   "id": "7803cbd5",
   "metadata": {},
   "source": [
    "Tasks: \n",
    "1. Count how many books were published after January 1, 2000;\n",
    "2. For each book, count the number of reviews and the average rating;\n",
    "3. Identify the publishing house that published the largest number of books thicker than 50 pages - this way you will exclude brochures from the analysis;\n",
    "4. Determine the author with the highest average book rating - only consider books with 50 or more ratings;\n",
    "5. Calculate the average number of reviews from users who gave more than 48 ratings."
   ]
  },
  {
   "cell_type": "code",
   "execution_count": 1,
   "id": "2ad0ccc7",
   "metadata": {},
   "outputs": [
    {
     "data": {
      "text/html": [
       "<div>\n",
       "<style scoped>\n",
       "    .dataframe tbody tr th:only-of-type {\n",
       "        vertical-align: middle;\n",
       "    }\n",
       "\n",
       "    .dataframe tbody tr th {\n",
       "        vertical-align: top;\n",
       "    }\n",
       "\n",
       "    .dataframe thead th {\n",
       "        text-align: right;\n",
       "    }\n",
       "</style>\n",
       "<table border=\"1\" class=\"dataframe\">\n",
       "  <thead>\n",
       "    <tr style=\"text-align: right;\">\n",
       "      <th></th>\n",
       "      <th>book_id</th>\n",
       "      <th>author_id</th>\n",
       "      <th>title</th>\n",
       "      <th>num_pages</th>\n",
       "      <th>publication_date</th>\n",
       "      <th>publisher_id</th>\n",
       "    </tr>\n",
       "  </thead>\n",
       "  <tbody>\n",
       "    <tr>\n",
       "      <th>0</th>\n",
       "      <td>1</td>\n",
       "      <td>546</td>\n",
       "      <td>'Salem's Lot</td>\n",
       "      <td>594</td>\n",
       "      <td>2005-11-01</td>\n",
       "      <td>93</td>\n",
       "    </tr>\n",
       "    <tr>\n",
       "      <th>1</th>\n",
       "      <td>2</td>\n",
       "      <td>465</td>\n",
       "      <td>1 000 Places to See Before You Die</td>\n",
       "      <td>992</td>\n",
       "      <td>2003-05-22</td>\n",
       "      <td>336</td>\n",
       "    </tr>\n",
       "    <tr>\n",
       "      <th>2</th>\n",
       "      <td>3</td>\n",
       "      <td>407</td>\n",
       "      <td>13 Little Blue Envelopes (Little Blue Envelope...</td>\n",
       "      <td>322</td>\n",
       "      <td>2010-12-21</td>\n",
       "      <td>135</td>\n",
       "    </tr>\n",
       "    <tr>\n",
       "      <th>3</th>\n",
       "      <td>4</td>\n",
       "      <td>82</td>\n",
       "      <td>1491: New Revelations of the Americas Before C...</td>\n",
       "      <td>541</td>\n",
       "      <td>2006-10-10</td>\n",
       "      <td>309</td>\n",
       "    </tr>\n",
       "    <tr>\n",
       "      <th>4</th>\n",
       "      <td>5</td>\n",
       "      <td>125</td>\n",
       "      <td>1776</td>\n",
       "      <td>386</td>\n",
       "      <td>2006-07-04</td>\n",
       "      <td>268</td>\n",
       "    </tr>\n",
       "  </tbody>\n",
       "</table>\n",
       "</div>"
      ],
      "text/plain": [
       "   book_id  author_id                                              title  \\\n",
       "0        1        546                                       'Salem's Lot   \n",
       "1        2        465                 1 000 Places to See Before You Die   \n",
       "2        3        407  13 Little Blue Envelopes (Little Blue Envelope...   \n",
       "3        4         82  1491: New Revelations of the Americas Before C...   \n",
       "4        5        125                                               1776   \n",
       "\n",
       "   num_pages publication_date  publisher_id  \n",
       "0        594       2005-11-01            93  \n",
       "1        992       2003-05-22           336  \n",
       "2        322       2010-12-21           135  \n",
       "3        541       2006-10-10           309  \n",
       "4        386       2006-07-04           268  "
      ]
     },
     "execution_count": 1,
     "metadata": {},
     "output_type": "execute_result"
    }
   ],
   "source": [
    "# import libraries\n",
    "import pandas as pd\n",
    "from sqlalchemy import text, create_engine\n",
    "# set parameters\n",
    "db_config = {'user': '.....', # username\n",
    "'pwd': '.....', # pasword\n",
    "'host': '....',\n",
    "'port': ..., # connection port\n",
    "'db': '......'} # название базы данных\n",
    "connection_string = '...'.format(**db_config)\n",
    "# save the connector\n",
    "engine = create_engine(connection_string, connect_args={'....'})\n",
    "# to execute an SQL query, we use Pandas\n",
    "#select first five line from all table\n",
    "query = '''SELECT * FROM books LIMIT 5'''\n",
    "con=engine.connect()\n",
    "pd.io.sql.read_sql(sql=text(query), con = con)"
   ]
  },
  {
   "cell_type": "code",
   "execution_count": 2,
   "id": "cfc04cbd",
   "metadata": {},
   "outputs": [
    {
     "data": {
      "text/html": [
       "<div>\n",
       "<style scoped>\n",
       "    .dataframe tbody tr th:only-of-type {\n",
       "        vertical-align: middle;\n",
       "    }\n",
       "\n",
       "    .dataframe tbody tr th {\n",
       "        vertical-align: top;\n",
       "    }\n",
       "\n",
       "    .dataframe thead th {\n",
       "        text-align: right;\n",
       "    }\n",
       "</style>\n",
       "<table border=\"1\" class=\"dataframe\">\n",
       "  <thead>\n",
       "    <tr style=\"text-align: right;\">\n",
       "      <th></th>\n",
       "      <th>author_id</th>\n",
       "      <th>author</th>\n",
       "    </tr>\n",
       "  </thead>\n",
       "  <tbody>\n",
       "    <tr>\n",
       "      <th>0</th>\n",
       "      <td>1</td>\n",
       "      <td>A.S. Byatt</td>\n",
       "    </tr>\n",
       "    <tr>\n",
       "      <th>1</th>\n",
       "      <td>2</td>\n",
       "      <td>Aesop/Laura Harris/Laura Gibbs</td>\n",
       "    </tr>\n",
       "    <tr>\n",
       "      <th>2</th>\n",
       "      <td>3</td>\n",
       "      <td>Agatha Christie</td>\n",
       "    </tr>\n",
       "    <tr>\n",
       "      <th>3</th>\n",
       "      <td>4</td>\n",
       "      <td>Alan Brennert</td>\n",
       "    </tr>\n",
       "    <tr>\n",
       "      <th>4</th>\n",
       "      <td>5</td>\n",
       "      <td>Alan Moore/David   Lloyd</td>\n",
       "    </tr>\n",
       "  </tbody>\n",
       "</table>\n",
       "</div>"
      ],
      "text/plain": [
       "   author_id                          author\n",
       "0          1                      A.S. Byatt\n",
       "1          2  Aesop/Laura Harris/Laura Gibbs\n",
       "2          3                 Agatha Christie\n",
       "3          4                   Alan Brennert\n",
       "4          5        Alan Moore/David   Lloyd"
      ]
     },
     "execution_count": 2,
     "metadata": {},
     "output_type": "execute_result"
    }
   ],
   "source": [
    "query = '''SELECT * FROM authors LIMIT 5'''\n",
    "con=engine.connect()\n",
    "pd.io.sql.read_sql(sql=text(query), con = con)"
   ]
  },
  {
   "cell_type": "code",
   "execution_count": 3,
   "id": "5ed6f185",
   "metadata": {},
   "outputs": [
    {
     "data": {
      "text/html": [
       "<div>\n",
       "<style scoped>\n",
       "    .dataframe tbody tr th:only-of-type {\n",
       "        vertical-align: middle;\n",
       "    }\n",
       "\n",
       "    .dataframe tbody tr th {\n",
       "        vertical-align: top;\n",
       "    }\n",
       "\n",
       "    .dataframe thead th {\n",
       "        text-align: right;\n",
       "    }\n",
       "</style>\n",
       "<table border=\"1\" class=\"dataframe\">\n",
       "  <thead>\n",
       "    <tr style=\"text-align: right;\">\n",
       "      <th></th>\n",
       "      <th>rating_id</th>\n",
       "      <th>book_id</th>\n",
       "      <th>username</th>\n",
       "      <th>rating</th>\n",
       "    </tr>\n",
       "  </thead>\n",
       "  <tbody>\n",
       "    <tr>\n",
       "      <th>0</th>\n",
       "      <td>1</td>\n",
       "      <td>1</td>\n",
       "      <td>ryanfranco</td>\n",
       "      <td>4</td>\n",
       "    </tr>\n",
       "    <tr>\n",
       "      <th>1</th>\n",
       "      <td>2</td>\n",
       "      <td>1</td>\n",
       "      <td>grantpatricia</td>\n",
       "      <td>2</td>\n",
       "    </tr>\n",
       "    <tr>\n",
       "      <th>2</th>\n",
       "      <td>3</td>\n",
       "      <td>1</td>\n",
       "      <td>brandtandrea</td>\n",
       "      <td>5</td>\n",
       "    </tr>\n",
       "    <tr>\n",
       "      <th>3</th>\n",
       "      <td>4</td>\n",
       "      <td>2</td>\n",
       "      <td>lorichen</td>\n",
       "      <td>3</td>\n",
       "    </tr>\n",
       "    <tr>\n",
       "      <th>4</th>\n",
       "      <td>5</td>\n",
       "      <td>2</td>\n",
       "      <td>mariokeller</td>\n",
       "      <td>2</td>\n",
       "    </tr>\n",
       "  </tbody>\n",
       "</table>\n",
       "</div>"
      ],
      "text/plain": [
       "   rating_id  book_id       username  rating\n",
       "0          1        1     ryanfranco       4\n",
       "1          2        1  grantpatricia       2\n",
       "2          3        1   brandtandrea       5\n",
       "3          4        2       lorichen       3\n",
       "4          5        2    mariokeller       2"
      ]
     },
     "execution_count": 3,
     "metadata": {},
     "output_type": "execute_result"
    }
   ],
   "source": [
    "query = '''SELECT * FROM ratings LIMIT 5'''\n",
    "con=engine.connect()\n",
    "pd.io.sql.read_sql(sql=text(query), con = con)"
   ]
  },
  {
   "cell_type": "code",
   "execution_count": 4,
   "id": "b59142c6",
   "metadata": {},
   "outputs": [
    {
     "data": {
      "text/html": [
       "<div>\n",
       "<style scoped>\n",
       "    .dataframe tbody tr th:only-of-type {\n",
       "        vertical-align: middle;\n",
       "    }\n",
       "\n",
       "    .dataframe tbody tr th {\n",
       "        vertical-align: top;\n",
       "    }\n",
       "\n",
       "    .dataframe thead th {\n",
       "        text-align: right;\n",
       "    }\n",
       "</style>\n",
       "<table border=\"1\" class=\"dataframe\">\n",
       "  <thead>\n",
       "    <tr style=\"text-align: right;\">\n",
       "      <th></th>\n",
       "      <th>review_id</th>\n",
       "      <th>book_id</th>\n",
       "      <th>username</th>\n",
       "      <th>text</th>\n",
       "    </tr>\n",
       "  </thead>\n",
       "  <tbody>\n",
       "    <tr>\n",
       "      <th>0</th>\n",
       "      <td>1</td>\n",
       "      <td>1</td>\n",
       "      <td>brandtandrea</td>\n",
       "      <td>Mention society tell send professor analysis. ...</td>\n",
       "    </tr>\n",
       "    <tr>\n",
       "      <th>1</th>\n",
       "      <td>2</td>\n",
       "      <td>1</td>\n",
       "      <td>ryanfranco</td>\n",
       "      <td>Foot glass pretty audience hit themselves. Amo...</td>\n",
       "    </tr>\n",
       "    <tr>\n",
       "      <th>2</th>\n",
       "      <td>3</td>\n",
       "      <td>2</td>\n",
       "      <td>lorichen</td>\n",
       "      <td>Listen treat keep worry. Miss husband tax but ...</td>\n",
       "    </tr>\n",
       "    <tr>\n",
       "      <th>3</th>\n",
       "      <td>4</td>\n",
       "      <td>3</td>\n",
       "      <td>johnsonamanda</td>\n",
       "      <td>Finally month interesting blue could nature cu...</td>\n",
       "    </tr>\n",
       "    <tr>\n",
       "      <th>4</th>\n",
       "      <td>5</td>\n",
       "      <td>3</td>\n",
       "      <td>scotttamara</td>\n",
       "      <td>Nation purpose heavy give wait song will. List...</td>\n",
       "    </tr>\n",
       "  </tbody>\n",
       "</table>\n",
       "</div>"
      ],
      "text/plain": [
       "   review_id  book_id       username  \\\n",
       "0          1        1   brandtandrea   \n",
       "1          2        1     ryanfranco   \n",
       "2          3        2       lorichen   \n",
       "3          4        3  johnsonamanda   \n",
       "4          5        3    scotttamara   \n",
       "\n",
       "                                                text  \n",
       "0  Mention society tell send professor analysis. ...  \n",
       "1  Foot glass pretty audience hit themselves. Amo...  \n",
       "2  Listen treat keep worry. Miss husband tax but ...  \n",
       "3  Finally month interesting blue could nature cu...  \n",
       "4  Nation purpose heavy give wait song will. List...  "
      ]
     },
     "execution_count": 4,
     "metadata": {},
     "output_type": "execute_result"
    }
   ],
   "source": [
    "query = '''SELECT * FROM reviews LIMIT 5'''\n",
    "con=engine.connect()\n",
    "pd.io.sql.read_sql(sql=text(query), con = con)"
   ]
  },
  {
   "cell_type": "code",
   "execution_count": 5,
   "id": "8a536edb",
   "metadata": {},
   "outputs": [
    {
     "data": {
      "text/html": [
       "<div>\n",
       "<style scoped>\n",
       "    .dataframe tbody tr th:only-of-type {\n",
       "        vertical-align: middle;\n",
       "    }\n",
       "\n",
       "    .dataframe tbody tr th {\n",
       "        vertical-align: top;\n",
       "    }\n",
       "\n",
       "    .dataframe thead th {\n",
       "        text-align: right;\n",
       "    }\n",
       "</style>\n",
       "<table border=\"1\" class=\"dataframe\">\n",
       "  <thead>\n",
       "    <tr style=\"text-align: right;\">\n",
       "      <th></th>\n",
       "      <th>publisher_id</th>\n",
       "      <th>publisher</th>\n",
       "    </tr>\n",
       "  </thead>\n",
       "  <tbody>\n",
       "    <tr>\n",
       "      <th>0</th>\n",
       "      <td>1</td>\n",
       "      <td>Ace</td>\n",
       "    </tr>\n",
       "    <tr>\n",
       "      <th>1</th>\n",
       "      <td>2</td>\n",
       "      <td>Ace Book</td>\n",
       "    </tr>\n",
       "    <tr>\n",
       "      <th>2</th>\n",
       "      <td>3</td>\n",
       "      <td>Ace Books</td>\n",
       "    </tr>\n",
       "    <tr>\n",
       "      <th>3</th>\n",
       "      <td>4</td>\n",
       "      <td>Ace Hardcover</td>\n",
       "    </tr>\n",
       "    <tr>\n",
       "      <th>4</th>\n",
       "      <td>5</td>\n",
       "      <td>Addison Wesley Publishing Company</td>\n",
       "    </tr>\n",
       "  </tbody>\n",
       "</table>\n",
       "</div>"
      ],
      "text/plain": [
       "   publisher_id                          publisher\n",
       "0             1                                Ace\n",
       "1             2                           Ace Book\n",
       "2             3                          Ace Books\n",
       "3             4                      Ace Hardcover\n",
       "4             5  Addison Wesley Publishing Company"
      ]
     },
     "execution_count": 5,
     "metadata": {},
     "output_type": "execute_result"
    }
   ],
   "source": [
    "query = '''SELECT * FROM publishers LIMIT 5'''\n",
    "con=engine.connect()\n",
    "pd.io.sql.read_sql(sql=text(query), con = con)"
   ]
  },
  {
   "cell_type": "markdown",
   "id": "5b3a1a0d",
   "metadata": {},
   "source": [
    "The data is well structured. The existing description of the database corresponds to reality"
   ]
  },
  {
   "cell_type": "code",
   "execution_count": 6,
   "id": "fb87a665",
   "metadata": {
    "scrolled": true
   },
   "outputs": [
    {
     "data": {
      "text/html": [
       "<div>\n",
       "<style scoped>\n",
       "    .dataframe tbody tr th:only-of-type {\n",
       "        vertical-align: middle;\n",
       "    }\n",
       "\n",
       "    .dataframe tbody tr th {\n",
       "        vertical-align: top;\n",
       "    }\n",
       "\n",
       "    .dataframe thead th {\n",
       "        text-align: right;\n",
       "    }\n",
       "</style>\n",
       "<table border=\"1\" class=\"dataframe\">\n",
       "  <thead>\n",
       "    <tr style=\"text-align: right;\">\n",
       "      <th></th>\n",
       "      <th>book_id</th>\n",
       "      <th>author_id</th>\n",
       "      <th>title</th>\n",
       "      <th>num_pages</th>\n",
       "      <th>publication_date</th>\n",
       "      <th>publisher_id</th>\n",
       "    </tr>\n",
       "  </thead>\n",
       "  <tbody>\n",
       "    <tr>\n",
       "      <th>0</th>\n",
       "      <td>1</td>\n",
       "      <td>546</td>\n",
       "      <td>'Salem's Lot</td>\n",
       "      <td>594</td>\n",
       "      <td>2005-11-01</td>\n",
       "      <td>93</td>\n",
       "    </tr>\n",
       "    <tr>\n",
       "      <th>1</th>\n",
       "      <td>2</td>\n",
       "      <td>465</td>\n",
       "      <td>1 000 Places to See Before You Die</td>\n",
       "      <td>992</td>\n",
       "      <td>2003-05-22</td>\n",
       "      <td>336</td>\n",
       "    </tr>\n",
       "    <tr>\n",
       "      <th>2</th>\n",
       "      <td>3</td>\n",
       "      <td>407</td>\n",
       "      <td>13 Little Blue Envelopes (Little Blue Envelope...</td>\n",
       "      <td>322</td>\n",
       "      <td>2010-12-21</td>\n",
       "      <td>135</td>\n",
       "    </tr>\n",
       "    <tr>\n",
       "      <th>3</th>\n",
       "      <td>4</td>\n",
       "      <td>82</td>\n",
       "      <td>1491: New Revelations of the Americas Before C...</td>\n",
       "      <td>541</td>\n",
       "      <td>2006-10-10</td>\n",
       "      <td>309</td>\n",
       "    </tr>\n",
       "    <tr>\n",
       "      <th>4</th>\n",
       "      <td>5</td>\n",
       "      <td>125</td>\n",
       "      <td>1776</td>\n",
       "      <td>386</td>\n",
       "      <td>2006-07-04</td>\n",
       "      <td>268</td>\n",
       "    </tr>\n",
       "  </tbody>\n",
       "</table>\n",
       "</div>"
      ],
      "text/plain": [
       "   book_id  author_id                                              title  \\\n",
       "0        1        546                                       'Salem's Lot   \n",
       "1        2        465                 1 000 Places to See Before You Die   \n",
       "2        3        407  13 Little Blue Envelopes (Little Blue Envelope...   \n",
       "3        4         82  1491: New Revelations of the Americas Before C...   \n",
       "4        5        125                                               1776   \n",
       "\n",
       "   num_pages publication_date  publisher_id  \n",
       "0        594       2005-11-01            93  \n",
       "1        992       2003-05-22           336  \n",
       "2        322       2010-12-21           135  \n",
       "3        541       2006-10-10           309  \n",
       "4        386       2006-07-04           268  "
      ]
     },
     "execution_count": 6,
     "metadata": {},
     "output_type": "execute_result"
    }
   ],
   "source": [
    "query = '''SELECT * FROM books LIMIT 5'''\n",
    "con=engine.connect()\n",
    "pd.io.sql.read_sql(sql=text(query), con = con)"
   ]
  },
  {
   "cell_type": "code",
   "execution_count": 7,
   "id": "69b8151d",
   "metadata": {},
   "outputs": [
    {
     "data": {
      "text/html": [
       "<div>\n",
       "<style scoped>\n",
       "    .dataframe tbody tr th:only-of-type {\n",
       "        vertical-align: middle;\n",
       "    }\n",
       "\n",
       "    .dataframe tbody tr th {\n",
       "        vertical-align: top;\n",
       "    }\n",
       "\n",
       "    .dataframe thead th {\n",
       "        text-align: right;\n",
       "    }\n",
       "</style>\n",
       "<table border=\"1\" class=\"dataframe\">\n",
       "  <thead>\n",
       "    <tr style=\"text-align: right;\">\n",
       "      <th></th>\n",
       "      <th>count</th>\n",
       "    </tr>\n",
       "  </thead>\n",
       "  <tbody>\n",
       "    <tr>\n",
       "      <th>0</th>\n",
       "      <td>819</td>\n",
       "    </tr>\n",
       "  </tbody>\n",
       "</table>\n",
       "</div>"
      ],
      "text/plain": [
       "   count\n",
       "0    819"
      ]
     },
     "execution_count": 7,
     "metadata": {},
     "output_type": "execute_result"
    }
   ],
   "source": [
    "# Task 1\n",
    "# Number of books published after January 1, 2000\n",
    "query = '''SELECT COUNT(*) \n",
    "FROM books AS b\n",
    "WHERE publication_date>'2000-01-01'\n",
    "                                       '''\n",
    "con=engine.connect()\n",
    "pd.io.sql.read_sql(sql=text(query), con = con)"
   ]
  },
  {
   "cell_type": "markdown",
   "id": "e3a265d2",
   "metadata": {},
   "source": [
    "Not much. I hope they are worth it for users to pay for them."
   ]
  },
  {
   "cell_type": "code",
   "execution_count": 8,
   "id": "08759ac0",
   "metadata": {},
   "outputs": [
    {
     "data": {
      "text/html": [
       "<div>\n",
       "<style scoped>\n",
       "    .dataframe tbody tr th:only-of-type {\n",
       "        vertical-align: middle;\n",
       "    }\n",
       "\n",
       "    .dataframe tbody tr th {\n",
       "        vertical-align: top;\n",
       "    }\n",
       "\n",
       "    .dataframe thead th {\n",
       "        text-align: right;\n",
       "    }\n",
       "</style>\n",
       "<table border=\"1\" class=\"dataframe\">\n",
       "  <thead>\n",
       "    <tr style=\"text-align: right;\">\n",
       "      <th></th>\n",
       "      <th>book</th>\n",
       "      <th>title</th>\n",
       "      <th>count_reviews</th>\n",
       "      <th>mean_rating</th>\n",
       "    </tr>\n",
       "  </thead>\n",
       "  <tbody>\n",
       "    <tr>\n",
       "      <th>0</th>\n",
       "      <td>1</td>\n",
       "      <td>'Salem's Lot</td>\n",
       "      <td>2</td>\n",
       "      <td>3.666667</td>\n",
       "    </tr>\n",
       "    <tr>\n",
       "      <th>1</th>\n",
       "      <td>2</td>\n",
       "      <td>1 000 Places to See Before You Die</td>\n",
       "      <td>1</td>\n",
       "      <td>2.500000</td>\n",
       "    </tr>\n",
       "    <tr>\n",
       "      <th>2</th>\n",
       "      <td>3</td>\n",
       "      <td>13 Little Blue Envelopes (Little Blue Envelope...</td>\n",
       "      <td>3</td>\n",
       "      <td>4.666667</td>\n",
       "    </tr>\n",
       "    <tr>\n",
       "      <th>3</th>\n",
       "      <td>4</td>\n",
       "      <td>1491: New Revelations of the Americas Before C...</td>\n",
       "      <td>2</td>\n",
       "      <td>4.500000</td>\n",
       "    </tr>\n",
       "    <tr>\n",
       "      <th>4</th>\n",
       "      <td>5</td>\n",
       "      <td>1776</td>\n",
       "      <td>4</td>\n",
       "      <td>4.000000</td>\n",
       "    </tr>\n",
       "    <tr>\n",
       "      <th>...</th>\n",
       "      <td>...</td>\n",
       "      <td>...</td>\n",
       "      <td>...</td>\n",
       "      <td>...</td>\n",
       "    </tr>\n",
       "    <tr>\n",
       "      <th>995</th>\n",
       "      <td>996</td>\n",
       "      <td>Wyrd Sisters (Discworld  #6; Witches #2)</td>\n",
       "      <td>3</td>\n",
       "      <td>3.666667</td>\n",
       "    </tr>\n",
       "    <tr>\n",
       "      <th>996</th>\n",
       "      <td>997</td>\n",
       "      <td>Xenocide (Ender's Saga  #3)</td>\n",
       "      <td>3</td>\n",
       "      <td>3.400000</td>\n",
       "    </tr>\n",
       "    <tr>\n",
       "      <th>997</th>\n",
       "      <td>998</td>\n",
       "      <td>Year of Wonders</td>\n",
       "      <td>4</td>\n",
       "      <td>3.200000</td>\n",
       "    </tr>\n",
       "    <tr>\n",
       "      <th>998</th>\n",
       "      <td>999</td>\n",
       "      <td>You Suck (A Love Story  #2)</td>\n",
       "      <td>2</td>\n",
       "      <td>4.500000</td>\n",
       "    </tr>\n",
       "    <tr>\n",
       "      <th>999</th>\n",
       "      <td>1000</td>\n",
       "      <td>Zen and the Art of Motorcycle Maintenance: An ...</td>\n",
       "      <td>4</td>\n",
       "      <td>3.833333</td>\n",
       "    </tr>\n",
       "  </tbody>\n",
       "</table>\n",
       "<p>1000 rows × 4 columns</p>\n",
       "</div>"
      ],
      "text/plain": [
       "     book                                              title  count_reviews  \\\n",
       "0       1                                       'Salem's Lot              2   \n",
       "1       2                 1 000 Places to See Before You Die              1   \n",
       "2       3  13 Little Blue Envelopes (Little Blue Envelope...              3   \n",
       "3       4  1491: New Revelations of the Americas Before C...              2   \n",
       "4       5                                               1776              4   \n",
       "..    ...                                                ...            ...   \n",
       "995   996           Wyrd Sisters (Discworld  #6; Witches #2)              3   \n",
       "996   997                        Xenocide (Ender's Saga  #3)              3   \n",
       "997   998                                    Year of Wonders              4   \n",
       "998   999                        You Suck (A Love Story  #2)              2   \n",
       "999  1000  Zen and the Art of Motorcycle Maintenance: An ...              4   \n",
       "\n",
       "     mean_rating  \n",
       "0       3.666667  \n",
       "1       2.500000  \n",
       "2       4.666667  \n",
       "3       4.500000  \n",
       "4       4.000000  \n",
       "..           ...  \n",
       "995     3.666667  \n",
       "996     3.400000  \n",
       "997     3.200000  \n",
       "998     4.500000  \n",
       "999     3.833333  \n",
       "\n",
       "[1000 rows x 4 columns]"
      ]
     },
     "execution_count": 8,
     "metadata": {},
     "output_type": "execute_result"
    }
   ],
   "source": [
    "#Task 2\n",
    "# For each book, determine the number of reviews and the average rating\n",
    "query = '''SELECT b.book_id AS book,\n",
    "                  b.title AS title,\n",
    "                 COUNT(DISTINCT rew.review_id) as count_reviews,\n",
    "                 AVG(r.rating) AS mean_rating\n",
    "           FROM books AS b LEFT JOIN ratings AS r ON b.book_id = r.book_id \n",
    "                LEFT JOIN reviews AS rew ON b.book_id = rew.book_id\n",
    "           GROUP BY b.book_id;\n",
    "                                       '''\n",
    "con=engine.connect()\n",
    "pd.io.sql.read_sql(sql=text(query), con = con)\n",
    "\n",
    "\n"
   ]
  },
  {
   "cell_type": "markdown",
   "id": "feb55b0e",
   "metadata": {},
   "source": [
    "Looks like the books are interesting to someone."
   ]
  },
  {
   "cell_type": "code",
   "execution_count": 9,
   "id": "76a39f2a",
   "metadata": {},
   "outputs": [
    {
     "data": {
      "text/html": [
       "<div>\n",
       "<style scoped>\n",
       "    .dataframe tbody tr th:only-of-type {\n",
       "        vertical-align: middle;\n",
       "    }\n",
       "\n",
       "    .dataframe tbody tr th {\n",
       "        vertical-align: top;\n",
       "    }\n",
       "\n",
       "    .dataframe thead th {\n",
       "        text-align: right;\n",
       "    }\n",
       "</style>\n",
       "<table border=\"1\" class=\"dataframe\">\n",
       "  <thead>\n",
       "    <tr style=\"text-align: right;\">\n",
       "      <th></th>\n",
       "      <th>publisher</th>\n",
       "      <th>number_books</th>\n",
       "    </tr>\n",
       "  </thead>\n",
       "  <tbody>\n",
       "    <tr>\n",
       "      <th>0</th>\n",
       "      <td>Penguin Books</td>\n",
       "      <td>42</td>\n",
       "    </tr>\n",
       "  </tbody>\n",
       "</table>\n",
       "</div>"
      ],
      "text/plain": [
       "       publisher  number_books\n",
       "0  Penguin Books            42"
      ]
     },
     "execution_count": 9,
     "metadata": {},
     "output_type": "execute_result"
    }
   ],
   "source": [
    "#Nask 3\n",
    "#publishing house that has published the largest number of books thicker than 50 pages\n",
    "query = '''SELECT  p.publisher,\n",
    "                   COUNT(b.book_id) as number_books\n",
    "           FROM books AS b \n",
    "                LEFT JOIN publishers AS p ON b.publisher_id = p.publisher_id \n",
    "           WHERE b.num_pages>50\n",
    "           GROUP BY p.publisher_id\n",
    "           ORDER BY number_books DESC\n",
    "           LIMIT 1;\n",
    "                                       '''\n",
    "con=engine.connect()\n",
    "pd.io.sql.read_sql(sql=text(query), con = con)"
   ]
  },
  {
   "cell_type": "markdown",
   "id": "07d163c0",
   "metadata": {},
   "source": [
    "Penguin Books is the leader. The number of books is not huge. But I hope they are interesting."
   ]
  },
  {
   "cell_type": "code",
   "execution_count": 10,
   "id": "4ce979b5",
   "metadata": {},
   "outputs": [
    {
     "data": {
      "text/html": [
       "<div>\n",
       "<style scoped>\n",
       "    .dataframe tbody tr th:only-of-type {\n",
       "        vertical-align: middle;\n",
       "    }\n",
       "\n",
       "    .dataframe tbody tr th {\n",
       "        vertical-align: top;\n",
       "    }\n",
       "\n",
       "    .dataframe thead th {\n",
       "        text-align: right;\n",
       "    }\n",
       "</style>\n",
       "<table border=\"1\" class=\"dataframe\">\n",
       "  <thead>\n",
       "    <tr style=\"text-align: right;\">\n",
       "      <th></th>\n",
       "      <th>author_id</th>\n",
       "      <th>author</th>\n",
       "      <th>auth_avg_ratings</th>\n",
       "    </tr>\n",
       "  </thead>\n",
       "  <tbody>\n",
       "    <tr>\n",
       "      <th>0</th>\n",
       "      <td>236</td>\n",
       "      <td>J.K. Rowling/Mary GrandPré</td>\n",
       "      <td>4.283844</td>\n",
       "    </tr>\n",
       "  </tbody>\n",
       "</table>\n",
       "</div>"
      ],
      "text/plain": [
       "   author_id                      author  auth_avg_ratings\n",
       "0        236  J.K. Rowling/Mary GrandPré          4.283844"
      ]
     },
     "execution_count": 10,
     "metadata": {},
     "output_type": "execute_result"
    }
   ],
   "source": [
    "#Task 4\n",
    "query = '''SELECT a.author_id,\n",
    "                  a.author,\n",
    "                  AVG(r.avg_ratings) as auth_avg_ratings\n",
    "           FROM authors AS a INNER JOIN books AS b ON a.author_id = b.author_id\n",
    "                             INNER JOIN  (\n",
    "                                          SELECT r.book_id AS book_id, AVG(r.rating) as avg_ratings\n",
    "                                          FROM ratings AS r \n",
    "                                          GROUP BY r.book_id\n",
    "                                          HAVING COUNT(r.rating_id)>50\n",
    "                                          ) AS r ON r.book_id=b.book_id\n",
    "           GROUP BY a.author_id\n",
    "           ORDER BY auth_avg_ratings DESC\n",
    "           LIMIT 1;\n",
    "                                       '''\n",
    "con=engine.connect()\n",
    "pd.io.sql.read_sql(sql=text(query), con = con)\n"
   ]
  },
  {
   "cell_type": "code",
   "execution_count": 11,
   "id": "6d705ec0",
   "metadata": {},
   "outputs": [
    {
     "data": {
      "text/html": [
       "<div>\n",
       "<style scoped>\n",
       "    .dataframe tbody tr th:only-of-type {\n",
       "        vertical-align: middle;\n",
       "    }\n",
       "\n",
       "    .dataframe tbody tr th {\n",
       "        vertical-align: top;\n",
       "    }\n",
       "\n",
       "    .dataframe thead th {\n",
       "        text-align: right;\n",
       "    }\n",
       "</style>\n",
       "<table border=\"1\" class=\"dataframe\">\n",
       "  <thead>\n",
       "    <tr style=\"text-align: right;\">\n",
       "      <th></th>\n",
       "      <th>avg_count_rev</th>\n",
       "    </tr>\n",
       "  </thead>\n",
       "  <tbody>\n",
       "    <tr>\n",
       "      <th>0</th>\n",
       "      <td>24.0</td>\n",
       "    </tr>\n",
       "  </tbody>\n",
       "</table>\n",
       "</div>"
      ],
      "text/plain": [
       "   avg_count_rev\n",
       "0           24.0"
      ]
     },
     "execution_count": 11,
     "metadata": {},
     "output_type": "execute_result"
    }
   ],
   "source": [
    "#Task 5\n",
    "#average number of reviews from users who gave more than 48 ratings\n",
    "query = '''\n",
    "\n",
    "           SELECT AVG(count_rev) AS avg_count_rev\n",
    "           FROM(\n",
    "           SELECT COUNT(rev.review_id) AS count_rev\n",
    "           FROM reviews AS rev\n",
    "           WHERE rev.username in (                \n",
    "                                      SELECT r.username AS username \n",
    "                                      FROM ratings AS r \n",
    "                                      GROUP BY r.username\n",
    "                                      HAVING COUNT(rating_id)>48\n",
    "                                                       \n",
    "           \n",
    "                                     )\n",
    "           \n",
    "          GROUP BY rev.username) AS count_rev;\n",
    "                                       '''\n",
    "con=engine.connect()\n",
    "pd.io.sql.read_sql(sql=text(query), con = con)"
   ]
  },
  {
   "cell_type": "markdown",
   "id": "f882a8a5",
   "metadata": {},
   "source": [
    "The users seem to be quite active."
   ]
  },
  {
   "cell_type": "markdown",
   "id": "8eb40baf",
   "metadata": {},
   "source": [
    "## Concluions."
   ]
  },
  {
   "cell_type": "markdown",
   "id": "bb60ed3a",
   "metadata": {},
   "source": [
    "The data in the tables is well structured and reflects a lot of important information about the books. First of all, you need to appreciate users for their dedicated work in writing reviews. With a modest number of books, Users read, rate and write reviews. The resulting assessment can be relied upon for further development. Moreover, there are a lot of books in the world, we can probably work on increasing the number of books in the service. To do this, it is worth exploring the assortment of the Penguin Books publishing house. The most favorite author is J.K. Rowling. Readers love the classics."
   ]
  }
 ],
 "metadata": {
  "ExecuteTimeLog": [
   {
    "duration": 15297,
    "start_time": "2023-08-25T22:15:32.771Z"
   },
   {
    "duration": 122,
    "start_time": "2023-08-25T22:15:48.070Z"
   },
   {
    "duration": 52,
    "start_time": "2023-08-25T22:15:48.194Z"
   },
   {
    "duration": 53,
    "start_time": "2023-08-25T22:15:48.248Z"
   },
   {
    "duration": 53,
    "start_time": "2023-08-25T22:15:48.303Z"
   },
   {
    "duration": 53,
    "start_time": "2023-08-25T22:15:48.358Z"
   },
   {
    "duration": 52,
    "start_time": "2023-08-25T22:15:48.412Z"
   },
   {
    "duration": 89,
    "start_time": "2023-08-25T22:15:48.466Z"
   },
   {
    "duration": 53,
    "start_time": "2023-08-25T22:15:48.557Z"
   },
   {
    "duration": 57,
    "start_time": "2023-08-25T22:15:48.612Z"
   },
   {
    "duration": 61,
    "start_time": "2023-08-25T22:15:48.671Z"
   },
   {
    "duration": 9490,
    "start_time": "2023-08-26T05:57:31.150Z"
   },
   {
    "duration": 124,
    "start_time": "2023-08-26T05:57:40.643Z"
   },
   {
    "duration": 53,
    "start_time": "2023-08-26T05:57:40.769Z"
   },
   {
    "duration": 53,
    "start_time": "2023-08-26T05:57:40.824Z"
   },
   {
    "duration": 52,
    "start_time": "2023-08-26T05:57:40.878Z"
   },
   {
    "duration": 57,
    "start_time": "2023-08-26T05:57:40.932Z"
   },
   {
    "duration": 55,
    "start_time": "2023-08-26T05:57:40.991Z"
   },
   {
    "duration": 96,
    "start_time": "2023-08-26T05:57:41.047Z"
   },
   {
    "duration": 56,
    "start_time": "2023-08-26T05:57:41.145Z"
   },
   {
    "duration": 60,
    "start_time": "2023-08-26T05:57:41.204Z"
   },
   {
    "duration": 60,
    "start_time": "2023-08-26T05:57:41.266Z"
   },
   {
    "duration": 63,
    "start_time": "2023-08-26T06:06:42.304Z"
   },
   {
    "duration": 60,
    "start_time": "2023-08-26T06:07:00.997Z"
   },
   {
    "duration": 57,
    "start_time": "2023-08-26T06:07:55.851Z"
   },
   {
    "duration": 55,
    "start_time": "2023-08-26T06:08:21.334Z"
   },
   {
    "duration": 90,
    "start_time": "2023-08-26T06:09:04.749Z"
   },
   {
    "duration": 58,
    "start_time": "2023-08-26T06:14:01.317Z"
   },
   {
    "duration": 137,
    "start_time": "2023-08-26T06:14:42.037Z"
   },
   {
    "duration": 41,
    "start_time": "2023-08-26T06:14:50.725Z"
   },
   {
    "duration": 138,
    "start_time": "2023-08-26T06:16:56.820Z"
   },
   {
    "duration": 57,
    "start_time": "2023-08-26T06:18:00.278Z"
   },
   {
    "duration": 63,
    "start_time": "2023-08-26T06:18:36.735Z"
   },
   {
    "duration": 57,
    "start_time": "2023-08-26T06:18:45.765Z"
   },
   {
    "duration": 60,
    "start_time": "2023-08-26T06:19:53.166Z"
   },
   {
    "duration": 59,
    "start_time": "2023-08-26T06:20:50.231Z"
   },
   {
    "duration": 89,
    "start_time": "2023-08-26T06:23:13.708Z"
   },
   {
    "duration": 96,
    "start_time": "2023-08-26T06:23:33.059Z"
   },
   {
    "duration": 67,
    "start_time": "2023-08-26T06:29:14.901Z"
   },
   {
    "duration": 57,
    "start_time": "2023-08-26T06:31:50.221Z"
   },
   {
    "duration": 58,
    "start_time": "2023-08-26T06:36:26.568Z"
   },
   {
    "duration": 67,
    "start_time": "2023-08-26T06:46:08.499Z"
   },
   {
    "duration": 61,
    "start_time": "2023-08-26T06:46:21.120Z"
   },
   {
    "duration": 64,
    "start_time": "2023-08-26T06:48:42.467Z"
   },
   {
    "duration": 79,
    "start_time": "2023-08-26T06:50:15.599Z"
   },
   {
    "duration": 42,
    "start_time": "2023-08-26T06:50:21.065Z"
   },
   {
    "duration": 170,
    "start_time": "2023-08-26T06:50:47.313Z"
   },
   {
    "duration": 69,
    "start_time": "2023-08-26T06:56:35.405Z"
   },
   {
    "duration": 71,
    "start_time": "2023-08-26T07:15:37.064Z"
   },
   {
    "duration": 64,
    "start_time": "2023-08-26T07:16:20.688Z"
   },
   {
    "duration": 148,
    "start_time": "2023-08-26T07:17:31.364Z"
   },
   {
    "duration": 146,
    "start_time": "2023-08-26T07:17:44.820Z"
   },
   {
    "duration": 65,
    "start_time": "2023-08-26T07:18:24.239Z"
   },
   {
    "duration": 67,
    "start_time": "2023-08-26T07:18:46.496Z"
   },
   {
    "duration": 58,
    "start_time": "2023-08-26T07:20:06.944Z"
   },
   {
    "duration": 56,
    "start_time": "2023-08-26T07:20:59.664Z"
   },
   {
    "duration": 71,
    "start_time": "2023-08-26T07:21:30.212Z"
   },
   {
    "duration": 60,
    "start_time": "2023-08-26T07:27:34.798Z"
   },
   {
    "duration": 84,
    "start_time": "2023-08-26T07:51:16.421Z"
   },
   {
    "duration": 70,
    "start_time": "2023-08-26T07:52:00.193Z"
   },
   {
    "duration": 66,
    "start_time": "2023-08-26T07:54:22.195Z"
   },
   {
    "duration": 70,
    "start_time": "2023-08-26T07:54:54.291Z"
   },
   {
    "duration": 152,
    "start_time": "2023-08-26T08:13:22.308Z"
   },
   {
    "duration": 186,
    "start_time": "2023-08-26T08:14:30.948Z"
   },
   {
    "duration": 153,
    "start_time": "2023-08-26T08:15:02.885Z"
   },
   {
    "duration": 149,
    "start_time": "2023-08-26T08:15:40.268Z"
   },
   {
    "duration": 156,
    "start_time": "2023-08-26T08:16:23.382Z"
   },
   {
    "duration": 49,
    "start_time": "2023-08-26T08:16:41.741Z"
   },
   {
    "duration": 80,
    "start_time": "2023-08-26T08:19:34.602Z"
   },
   {
    "duration": 46,
    "start_time": "2023-08-26T08:20:37.198Z"
   },
   {
    "duration": 59,
    "start_time": "2023-08-26T08:21:54.168Z"
   },
   {
    "duration": 62,
    "start_time": "2023-08-26T08:25:23.319Z"
   },
   {
    "duration": 59,
    "start_time": "2023-08-26T08:26:08.228Z"
   },
   {
    "duration": 65,
    "start_time": "2023-08-26T08:30:37.730Z"
   },
   {
    "duration": 54,
    "start_time": "2023-08-26T13:17:07.417Z"
   },
   {
    "duration": 28786,
    "start_time": "2023-08-26T13:17:36.429Z"
   },
   {
    "duration": 49,
    "start_time": "2023-08-26T13:18:05.218Z"
   },
   {
    "duration": 15,
    "start_time": "2023-08-26T13:18:05.269Z"
   },
   {
    "duration": 19,
    "start_time": "2023-08-26T13:18:05.286Z"
   },
   {
    "duration": 14,
    "start_time": "2023-08-26T13:18:05.308Z"
   },
   {
    "duration": 35,
    "start_time": "2023-08-26T13:18:05.323Z"
   },
   {
    "duration": 22,
    "start_time": "2023-08-26T13:18:05.364Z"
   },
   {
    "duration": 50,
    "start_time": "2023-08-26T13:18:05.388Z"
   },
   {
    "duration": 12,
    "start_time": "2023-08-26T13:18:05.440Z"
   },
   {
    "duration": 35,
    "start_time": "2023-08-26T13:18:05.454Z"
   },
   {
    "duration": 25,
    "start_time": "2023-08-26T13:18:05.491Z"
   },
   {
    "duration": 32,
    "start_time": "2023-08-26T13:18:05.517Z"
   },
   {
    "duration": 23,
    "start_time": "2023-08-26T13:18:05.551Z"
   },
   {
    "duration": 8291,
    "start_time": "2023-08-26T15:18:31.855Z"
   },
   {
    "duration": 36,
    "start_time": "2023-08-26T15:18:40.149Z"
   },
   {
    "duration": 13,
    "start_time": "2023-08-26T15:18:40.187Z"
   },
   {
    "duration": 11,
    "start_time": "2023-08-26T15:18:40.201Z"
   },
   {
    "duration": 10,
    "start_time": "2023-08-26T15:18:40.215Z"
   },
   {
    "duration": 14,
    "start_time": "2023-08-26T15:18:40.227Z"
   },
   {
    "duration": 16,
    "start_time": "2023-08-26T15:18:40.242Z"
   },
   {
    "duration": 30,
    "start_time": "2023-08-26T15:18:40.259Z"
   },
   {
    "duration": 13,
    "start_time": "2023-08-26T15:18:40.291Z"
   },
   {
    "duration": 15,
    "start_time": "2023-08-26T15:18:40.305Z"
   },
   {
    "duration": 14,
    "start_time": "2023-08-26T15:18:40.321Z"
   },
   {
    "duration": 19,
    "start_time": "2023-08-26T15:18:40.337Z"
   },
   {
    "duration": 17,
    "start_time": "2023-08-26T15:23:49.005Z"
   },
   {
    "duration": 97,
    "start_time": "2023-08-26T15:32:39.501Z"
   },
   {
    "duration": 14,
    "start_time": "2023-08-26T15:35:04.015Z"
   },
   {
    "duration": 55,
    "start_time": "2023-08-26T15:54:46.167Z"
   },
   {
    "duration": 22,
    "start_time": "2023-08-26T15:55:36.800Z"
   },
   {
    "duration": 14,
    "start_time": "2023-08-26T15:56:01.359Z"
   },
   {
    "duration": 58,
    "start_time": "2023-08-26T15:58:55.169Z"
   },
   {
    "duration": 12,
    "start_time": "2023-08-26T15:59:16.550Z"
   },
   {
    "duration": 56,
    "start_time": "2023-08-26T16:03:23.945Z"
   },
   {
    "duration": 15,
    "start_time": "2023-08-26T16:08:16.084Z"
   },
   {
    "duration": 11257,
    "start_time": "2023-08-27T10:26:43.639Z"
   },
   {
    "duration": 141,
    "start_time": "2023-08-27T10:26:54.898Z"
   },
   {
    "duration": 59,
    "start_time": "2023-08-27T10:26:55.042Z"
   },
   {
    "duration": 62,
    "start_time": "2023-08-27T10:26:55.103Z"
   },
   {
    "duration": 57,
    "start_time": "2023-08-27T10:26:55.167Z"
   },
   {
    "duration": 72,
    "start_time": "2023-08-27T10:26:55.226Z"
   },
   {
    "duration": 76,
    "start_time": "2023-08-27T10:26:55.300Z"
   },
   {
    "duration": 113,
    "start_time": "2023-08-27T10:26:55.378Z"
   },
   {
    "duration": 60,
    "start_time": "2023-08-27T10:26:55.494Z"
   },
   {
    "duration": 60,
    "start_time": "2023-08-27T10:26:55.556Z"
   },
   {
    "duration": 69,
    "start_time": "2023-08-27T10:26:55.618Z"
   }
  ],
  "kernelspec": {
   "display_name": "Python 3 (ipykernel)",
   "language": "python",
   "name": "python3"
  },
  "language_info": {
   "codemirror_mode": {
    "name": "ipython",
    "version": 3
   },
   "file_extension": ".py",
   "mimetype": "text/x-python",
   "name": "python",
   "nbconvert_exporter": "python",
   "pygments_lexer": "ipython3",
   "version": "3.9.13"
  },
  "toc": {
   "base_numbering": 1,
   "nav_menu": {},
   "number_sections": true,
   "sideBar": true,
   "skip_h1_title": true,
   "title_cell": "Table of Contents",
   "title_sidebar": "Contents",
   "toc_cell": false,
   "toc_position": {
    "height": "calc(100% - 180px)",
    "left": "10px",
    "top": "150px",
    "width": "165px"
   },
   "toc_section_display": true,
   "toc_window_display": true
  }
 },
 "nbformat": 4,
 "nbformat_minor": 5
}
